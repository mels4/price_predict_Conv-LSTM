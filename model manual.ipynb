{
  "cells": [
    {
      "cell_type": "markdown",
      "metadata": {
        "id": "view-in-github",
        "colab_type": "text"
      },
      "source": [
        "<a href=\"https://colab.research.google.com/github/melinadwisafitri/skripsi_price_predict/blob/main/model%20manual.ipynb\" target=\"_parent\"><img src=\"https://colab.research.google.com/assets/colab-badge.svg\" alt=\"Open In Colab\"/></a>"
      ]
    },
    {
      "cell_type": "code",
      "execution_count": 1,
      "metadata": {
        "id": "5avHL2YoxRz5"
      },
      "outputs": [],
      "source": [
        "import urllib.request\n",
        "import numpy as np\n",
        "import pandas as pd\n",
        "import tensorflow as tf\n",
        "import seaborn as sns\n",
        "import matplotlib.pyplot as plt\n",
        "\n",
        "from tensorflow.data import Dataset\n",
        "from keras.losses import Huber\n",
        "from keras.models import Sequential\n",
        "from sklearn.preprocessing import MinMaxScaler\n",
        "from sklearn.model_selection import train_test_split\n",
        "from keras.layers import Conv1D, LSTM, Dense, Dropout\n",
        "from keras.metrics import mean_absolute_percentage_error, mean_absolute_error, mean_squared_error, RootMeanSquaredError\n",
        "\n",
        "def time_step_generator(data, time_size, batch_size, shuffle_data):\n",
        "  generate_data = Dataset.from_tensor_slices(data) # generate data series menjadi tensor\n",
        "  add_window_time_step = generate_data.window(time_size+1, shift=1, drop_remainder=True) # membuat data kedalam kolom window yang baru\n",
        "  print(add_window_time_step)\n",
        "  flatten_window = add_window_time_step.flat_map(lambda window : window.batch(time_size+1)) # hasil pertambahan step data akan digabung menjadi satu array\n",
        "  tuple_feature_label = flatten_window.map(lambda window: (window[:-1], window[-1]))# data akan dirubah menjadi feature dan label dengan ketentuan 1 data terakhir sabagai label\n",
        "  shuffle_data = tuple_feature_label.shuffle(shuffle_data) # data yang sudah jadi akan di random sesuai dengan ukuran random data\n",
        "  batch_window = shuffle_data.batch(batch_size).prefetch(1) # data akan disusun menjadi batch-batch tertentu sesuai dengan kebutuhan\n",
        "  \n",
        "  return batch_window\n",
        "\n",
        "def forecast_predict(model, data, time_size, batch_size, shuffle_data):\n",
        "  generate_data = Dataset.from_tensor_slices(data)\n",
        "  add_window_step = generate_data.window(time_size, shift=1, drop_remainder=True)\n",
        "  flatten_window = add_window_step.flat_map(lambda window: window.batch(time_size))\n",
        "  batch_window = flatten_window.batch(batch_size).prefetch(1)\n",
        "  model_predict = model.predict(batch_window)\n",
        "  return model_predict"
      ]
    },
    {
      "cell_type": "code",
      "execution_count": 2,
      "metadata": {
        "id": "FCY4-cQyxxBM"
      },
      "outputs": [],
      "source": [
        "data_url = 'https://github.com/melinadwisafitri/skripsi_price_predict/blob/main/data_pangan/data_fixs/data_harga_bahan_pangan_indonesia.csv?raw=true'\n",
        "urllib.request.urlretrieve(data_url, 'data_pangan_indonesia.csv')\n",
        "\n",
        "data_pangan = pd.read_csv('data_pangan_indonesia.csv')\n",
        "data_pangan.columns = data_pangan.columns.str.replace(' (kg)', '', regex=False).str.replace('(kg)', '', regex=False).str.replace(' ', '_').str.lower()\n",
        "data_pangan['date'] = pd.to_datetime(data_pangan.date)\n",
        "data_pangan = data_pangan.set_index('date')"
      ]
    },
    {
      "cell_type": "code",
      "source": [
        "data_pangan = data_pangan.sort_index()\n",
        "plt.figure(figsize=(10, 5))\n",
        "plt.plot(data_pangan.index.values, data_pangan.beras.values)\n",
        "plt.show"
      ],
      "metadata": {
        "colab": {
          "base_uri": "https://localhost:8080/",
          "height": 337
        },
        "id": "xUfIiW-4vWpw",
        "outputId": "980fba4b-09ba-4543-8a0b-77fa82611526"
      },
      "execution_count": 3,
      "outputs": [
        {
          "output_type": "execute_result",
          "data": {
            "text/plain": [
              "<function matplotlib.pyplot.show(*args, **kw)>"
            ]
          },
          "metadata": {},
          "execution_count": 3
        },
        {
          "output_type": "display_data",
          "data": {
            "text/plain": [
              "<Figure size 720x360 with 1 Axes>"
            ],
            "image/png": "[encoded data removed]"
          },
          "metadata": {
            "needs_background": "light"
          }
        }
      ]
    },
    {
      "cell_type": "code",
      "execution_count": 4,
      "metadata": {
        "id": "HbyaIEgAB7Z5"
      },
      "outputs": [],
      "source": [
        "from os import initgroups\n",
        "import scipy.stats as stats\n",
        "Q1 = data_pangan.quantile(q=.25)\n",
        "Q3 = data_pangan.quantile(q=.75)\n",
        "IQR = Q3-Q1\n",
        "\n",
        "low = Q1-1.5*IQR\n",
        "high = Q3+1.5*IQR\n",
        "\n",
        "IQRs = data_pangan.apply(stats.iqr)\n",
        "\n",
        "lows = Q1-1.5*IQRs\n",
        "highs = Q3+1.5*IQRs\n",
        "# up = data_pangan['minyak_goreng'] >= (highs)\n",
        "# low = data_pangan['minyak_goreng'] <= (lows)\n",
        "\n",
        "# lower = np.where(low)\n",
        "# uper = np.where(up)\n",
        "\n",
        "# data_pangan['minyak_goreng']\n",
        "clean = data_pangan[~((data_pangan < lows) | (data_pangan > highs)).any(axis=1)]\n",
        "\n",
        "# out_bawang_putih = data_pangan.bawang_putih.loc[(data_pangan['bawang_putih'] > low) & (data_pangan['bawang_putih'] < high)]"
      ]
    },
    {
      "cell_type": "code",
      "execution_count": 5,
      "metadata": {
        "colab": {
          "base_uri": "https://localhost:8080/",
          "height": 560
        },
        "id": "X63W2gTXMrt6",
        "outputId": "b0b7f305-73b9-4475-9240-fcad959e5d05"
      },
      "outputs": [
        {
          "output_type": "execute_result",
          "data": {
            "text/plain": [
              "<matplotlib.axes._subplots.AxesSubplot at 0x7f6371376a50>"
            ]
          },
          "metadata": {},
          "execution_count": 5
        },
        {
          "output_type": "display_data",
          "data": {
            "text/plain": [
              "<Figure size 2520x1080 with 1 Axes>"
            ],
            "image/png": "[encoded data removed]"
          },
          "metadata": {
            "needs_background": "light"
          }
        }
      ],
      "source": [
        "clean.iloc[:, 7:9].boxplot(figsize=(35, 15))"
      ]
    },
    {
      "cell_type": "code",
      "execution_count": 6,
      "metadata": {
        "id": "z3ZLLXhlx4q8",
        "colab": {
          "base_uri": "https://localhost:8080/"
        },
        "outputId": "eb9111e6-2128-4855-cbad-09b7701f0e61"
      },
      "outputs": [
        {
          "output_type": "stream",
          "name": "stdout",
          "text": [
            "<WindowDataset element_spec=DatasetSpec(TensorSpec(shape=(1,), dtype=tf.float64, name=None), TensorShape([]))>\n",
            "<WindowDataset element_spec=DatasetSpec(TensorSpec(shape=(1,), dtype=tf.float64, name=None), TensorShape([]))>\n",
            "<WindowDataset element_spec=DatasetSpec(TensorSpec(shape=(1,), dtype=tf.float64, name=None), TensorShape([]))>\n"
          ]
        },
        {
          "output_type": "execute_result",
          "data": {
            "text/plain": [
              "1174"
            ]
          },
          "metadata": {},
          "execution_count": 6
        }
      ],
      "source": [
        "beras = data_pangan['beras'].values\n",
        "date = data_pangan.index.values\n",
        "x_train, x_test, y_train, y_test = train_test_split(beras, date, test_size=0.2, random_state=False, shuffle=False)\n",
        "x_train, x_val, y_train, y_val = train_test_split(x_train, y_train, test_size=0.1, random_state=False, shuffle=False)\n",
        "scaller = MinMaxScaler(feature_range=(0, 1))\n",
        "scal_beras = scaller.fit_transform(x_train.reshape(-1, 1))\n",
        "train_beras = time_step_generator(scal_beras, time_size=300, batch_size=10, shuffle_data=1000)\n",
        "test_beras = time_step_generator(scaller.fit_transform(x_test.reshape(-1, 1)), time_size=150, batch_size=5, shuffle_data=100)\n",
        "val_beras = time_step_generator(scaller.fit_transform(x_val.reshape(-1, 1)), time_size=80, batch_size=5, shuffle_data=1000)\n",
        "len(beras)"
      ]
    },
    {
      "cell_type": "code",
      "execution_count": 7,
      "metadata": {
        "id": "-8fC8mySMTIq",
        "colab": {
          "base_uri": "https://localhost:8080/"
        },
        "outputId": "6e9cbaf2-98b0-4b69-a2b0-7541e0d5c6c4"
      },
      "outputs": [
        {
          "output_type": "stream",
          "name": "stdout",
          "text": [
            "<WindowDataset element_spec=DatasetSpec(TensorSpec(shape=(1,), dtype=tf.float64, name=None), TensorShape([]))>\n",
            "<WindowDataset element_spec=DatasetSpec(TensorSpec(shape=(1,), dtype=tf.float64, name=None), TensorShape([]))>\n",
            "<WindowDataset element_spec=DatasetSpec(TensorSpec(shape=(1,), dtype=tf.float64, name=None), TensorShape([]))>\n"
          ]
        },
        {
          "output_type": "execute_result",
          "data": {
            "text/plain": [
              "235"
            ]
          },
          "metadata": {},
          "execution_count": 7
        }
      ],
      "source": [
        "bamer = data_pangan.bawang_merah.values\n",
        "datess = data_pangan.index.values\n",
        "x_trains, x_tests, y_train, y_tests = train_test_split(bamer, datess, test_size=0.2, random_state=False, shuffle=False)\n",
        "x_trains, x_vals, y_trains, y_vals = train_test_split(x_trains, y_train, test_size=0.1, random_state=False, shuffle=False)\n",
        "scaler = MinMaxScaler(feature_range=(0, 1))\n",
        "scal_train_bamer = scaller.fit_transform(x_trains.reshape(-1, 1))\n",
        "scal_test_bamer = scaller.fit_transform(x_tests.reshape(-1, 1))\n",
        "scal_val_bamer = scaller.fit_transform(x_vals.reshape(-1, 1))\n",
        "train_bamer = time_step_generator(scal_train_bamer, time_size=500, batch_size=5, shuffle_data=100)\n",
        "test_bamer= time_step_generator(scal_test_bamer, time_size=150, batch_size=5, shuffle_data=100)\n",
        "val_bamer = time_step_generator(scal_val_bamer, time_size=80, batch_size=5, shuffle_data=100)\n",
        "len(x_tests)"
      ]
    },
    {
      "cell_type": "code",
      "execution_count": 8,
      "metadata": {
        "colab": {
          "base_uri": "https://localhost:8080/"
        },
        "id": "3XrDFG7Mx32c",
        "outputId": "86b5d0f8-9ce9-4ae4-d4b4-c172eeec1adf"
      },
      "outputs": [
        {
          "output_type": "stream",
          "name": "stdout",
          "text": [
            "Model: \"sequential\"\n",
            "_________________________________________________________________\n",
            " Layer (type)                Output Shape              Param #   \n",
            "=================================================================\n",
            " inputcnn (Conv1D)           (None, None, 3)           9         \n",
            "                                                                 \n",
            " lstm (LSTM)                 (None, None, 4)           128       \n",
            "                                                                 \n",
            " lstm_1 (LSTM)               (None, 14)                1064      \n",
            "                                                                 \n",
            " dense (Dense)               (None, 30)                450       \n",
            "                                                                 \n",
            " dropout (Dropout)           (None, 30)                0         \n",
            "                                                                 \n",
            " output (Dense)              (None, 1)                 31        \n",
            "                                                                 \n",
            "=================================================================\n",
            "Total params: 1,682\n",
            "Trainable params: 1,682\n",
            "Non-trainable params: 0\n",
            "_________________________________________________________________\n"
          ]
        }
      ],
      "source": [
        "model= Sequential([\n",
        "    Conv1D(filters=3, kernel_size=2, activation='relu', strides=1, padding='causal', input_shape=[None, 1], name='inputcnn'),\n",
        "    LSTM(4, return_sequences=True),\n",
        "    LSTM(14),\n",
        "    Dense(30, activation='relu'),\n",
        "    Dropout(0.25),\n",
        "    Dense(1, name=\"output\")\n",
        "    # tf.keras.layers.Lambda(lambda x: x * 100.0)\n",
        "])\n",
        "\n",
        "model.summary()"
      ]
    },
    {
      "cell_type": "code",
      "execution_count": 9,
      "metadata": {
        "id": "3lKAHd-NyyqM"
      },
      "outputs": [],
      "source": [
        "from sklearn.metrics import mean_absolute_error, mean_absolute_percentage_error\n",
        "model.compile(optimizer=tf.keras.optimizers.Adam(learning_rate=1e-3), loss='mse', metrics=['mae', 'mape',])"
      ]
    },
    {
      "cell_type": "code",
      "source": [
        "a = [11200, 11200, 11300, 11200, 11200, 11200, 11200, 11250, 11150, 11200, 11250]\n",
        "data = pd.DataFrame(a, columns=['data'])"
      ],
      "metadata": {
        "id": "kfnMfKES78a4"
      },
      "execution_count": 10,
      "outputs": []
    },
    {
      "cell_type": "code",
      "source": [
        "s_train = scaller.fit_transform(data.values.reshape(-1, 1))\n",
        "traindata = time_step_generator(s_train, time_size=5, batch_size=1, shuffle_data=5)\n",
        "his = model.fit(traindata, epochs=10)"
      ],
      "metadata": {
        "id": "0w5WYzR_9FEQ",
        "colab": {
          "base_uri": "https://localhost:8080/"
        },
        "outputId": "0d906720-5bd0-4349-ead1-52e23348ddcc"
      },
      "execution_count": 11,
      "outputs": [
        {
          "output_type": "stream",
          "name": "stdout",
          "text": [
            "<WindowDataset element_spec=DatasetSpec(TensorSpec(shape=(1,), dtype=tf.float64, name=None), TensorShape([]))>\n",
            "Epoch 1/10\n",
            "6/6 [==============================] - 10s 171ms/step - loss: 0.2022 - mae: 0.3879 - mape: 442699.6250\n",
            "Epoch 2/10\n",
            "6/6 [==============================] - 0s 12ms/step - loss: 0.1905 - mae: 0.3774 - mape: 1337817.1250\n",
            "Epoch 3/10\n",
            "6/6 [==============================] - 0s 11ms/step - loss: 0.1743 - mae: 0.3638 - mape: 6491322.0000\n",
            "Epoch 4/10\n",
            "6/6 [==============================] - 0s 14ms/step - loss: 0.1593 - mae: 0.3522 - mape: 13386545.0000\n",
            "Epoch 5/10\n",
            "6/6 [==============================] - 0s 16ms/step - loss: 0.1389 - mae: 0.3188 - mape: 8408891.0000\n",
            "Epoch 6/10\n",
            "6/6 [==============================] - 0s 12ms/step - loss: 0.1168 - mae: 0.3026 - mape: 17983714.0000\n",
            "Epoch 7/10\n",
            "6/6 [==============================] - 0s 17ms/step - loss: 0.1185 - mae: 0.2987 - mape: 29191074.0000\n",
            "Epoch 8/10\n",
            "6/6 [==============================] - 0s 16ms/step - loss: 0.1139 - mae: 0.2931 - mape: 33815272.0000\n",
            "Epoch 9/10\n",
            "6/6 [==============================] - 0s 15ms/step - loss: 0.0894 - mae: 0.2507 - mape: 28846934.0000\n",
            "Epoch 10/10\n",
            "6/6 [==============================] - 0s 17ms/step - loss: 0.0505 - mae: 0.1797 - mape: 41291820.0000\n"
          ]
        }
      ]
    },
    {
      "cell_type": "code",
      "execution_count": 12,
      "metadata": {
        "colab": {
          "base_uri": "https://localhost:8080/"
        },
        "id": "Pa5s42KVy0LU",
        "outputId": "066d4ec9-eedf-4b8e-d882-32d927dc790a"
      },
      "outputs": [
        {
          "output_type": "stream",
          "name": "stdout",
          "text": [
            "Epoch 1/15\n",
            "69/69 [==============================] - 33s 480ms/step - loss: 0.0507 - mae: 0.1736 - mape: 80.2305 - val_loss: 0.0871 - val_mae: 0.2656 - val_mape: 44.0562\n",
            "Epoch 2/15\n",
            "69/69 [==============================] - 22s 313ms/step - loss: 0.0416 - mae: 0.1561 - mape: 68.0456 - val_loss: 0.0618 - val_mae: 0.2202 - val_mape: 40.3110\n",
            "Epoch 3/15\n",
            "69/69 [==============================] - 22s 316ms/step - loss: 0.0381 - mae: 0.1534 - mape: 65.3053 - val_loss: 0.0510 - val_mae: 0.1954 - val_mape: 38.7893\n",
            "Epoch 4/15\n",
            "69/69 [==============================] - 22s 319ms/step - loss: 0.0382 - mae: 0.1482 - mape: 65.3133 - val_loss: 0.0426 - val_mae: 0.1712 - val_mape: 38.3268\n",
            "Epoch 5/15\n",
            "69/69 [==============================] - 20s 287ms/step - loss: 0.0351 - mae: 0.1430 - mape: 62.6903 - val_loss: 0.0418 - val_mae: 0.1665 - val_mape: 38.2684\n",
            "Epoch 6/15\n",
            "69/69 [==============================] - 20s 283ms/step - loss: 0.0371 - mae: 0.1446 - mape: 59.8504 - val_loss: 0.0530 - val_mae: 0.2008 - val_mape: 39.2189\n",
            "Epoch 7/15\n",
            "69/69 [==============================] - 21s 298ms/step - loss: 0.0314 - mae: 0.1298 - mape: 53.7791 - val_loss: 0.0412 - val_mae: 0.1619 - val_mape: 38.2310\n",
            "Epoch 8/15\n",
            "69/69 [==============================] - 20s 286ms/step - loss: 0.0341 - mae: 0.1407 - mape: 56.6576 - val_loss: 0.0489 - val_mae: 0.1525 - val_mape: 43.3300\n",
            "Epoch 9/15\n",
            "69/69 [==============================] - 20s 288ms/step - loss: 0.0337 - mae: 0.1364 - mape: 58.1557 - val_loss: 0.0415 - val_mae: 0.1647 - val_mape: 38.2541\n",
            "Epoch 10/15\n",
            "69/69 [==============================] - 21s 308ms/step - loss: 0.0313 - mae: 0.1320 - mape: 51.9594 - val_loss: 0.0428 - val_mae: 0.1720 - val_mape: 38.4198\n",
            "Epoch 11/15\n",
            "69/69 [==============================] - 29s 420ms/step - loss: 0.0307 - mae: 0.1331 - mape: 54.6266 - val_loss: 0.0428 - val_mae: 0.1718 - val_mape: 38.3839\n",
            "Epoch 12/15\n",
            "69/69 [==============================] - 22s 317ms/step - loss: 0.0322 - mae: 0.1362 - mape: 55.5983 - val_loss: 0.0417 - val_mae: 0.1446 - val_mape: 38.8202\n",
            "Epoch 13/15\n",
            "69/69 [==============================] - 22s 315ms/step - loss: 0.0317 - mae: 0.1316 - mape: 55.3166 - val_loss: 0.0462 - val_mae: 0.1837 - val_mape: 38.6252\n",
            "Epoch 14/15\n",
            "69/69 [==============================] - 23s 339ms/step - loss: 0.0314 - mae: 0.1307 - mape: 53.3998 - val_loss: 0.0432 - val_mae: 0.1736 - val_mape: 38.4294\n",
            "Epoch 15/15\n",
            "69/69 [==============================] - 22s 312ms/step - loss: 0.0312 - mae: 0.1320 - mape: 53.6856 - val_loss: 0.0408 - val_mae: 0.1473 - val_mape: 37.9736\n"
          ]
        }
      ],
      "source": [
        "history = model.fit(train_bamer, epochs=15, validation_data=val_bamer)"
      ]
    },
    {
      "cell_type": "code",
      "execution_count": 13,
      "metadata": {
        "id": "If03i0V6Spb0",
        "colab": {
          "base_uri": "https://localhost:8080/"
        },
        "outputId": "913a0b99-e432-44b9-d27c-34bcf3119a17"
      },
      "outputs": [
        {
          "output_type": "stream",
          "name": "stdout",
          "text": [
            "17/17 [==============================] - 0s 19ms/step - loss: 0.0288 - mae: 0.1467 - mape: 19.8322\n"
          ]
        },
        {
          "output_type": "execute_result",
          "data": {
            "text/plain": [
              "[0.02876623161137104, 0.14673221111297607, 19.832162857055664]"
            ]
          },
          "metadata": {},
          "execution_count": 13
        }
      ],
      "source": [
        "model.evaluate(test_beras)"
      ]
    },
    {
      "cell_type": "code",
      "source": [
        "model.layers[0].trainable_weights[0]\n",
        "w =  model.layers[0].get_weights()[0]\n",
        "w"
      ],
      "metadata": {
        "colab": {
          "base_uri": "https://localhost:8080/"
        },
        "id": "YIKGgDEGn-IC",
        "outputId": "e49d29bc-f82a-4750-86d1-b3eee1ddb225"
      },
      "execution_count": 14,
      "outputs": [
        {
          "output_type": "execute_result",
          "data": {
            "text/plain": [
              "array([[[-0.17298669, -0.62184376,  0.78596735]],\n",
              "\n",
              "       [[-0.17038941, -0.36430287, -0.1691055 ]]], dtype=float32)"
            ]
          },
          "metadata": {},
          "execution_count": 14
        }
      ]
    },
    {
      "cell_type": "code",
      "source": [
        "# print(model.layers[1].trainable_weights)\n",
        "units = int(int(model.layers[1].trainable_weights[0].shape[1])/4)\n",
        "\n",
        "w = model.layers[1].get_weights()[0]\n",
        "u = model.layers[1].get_weights()[1]\n",
        "b = model.layers[1].get_weights()[2]\n",
        "\n",
        "w_i = w[:, units]\n",
        "w_f = w[:, units: units * 2]\n",
        "w_c = w[:, units * 2: units * 3]\n",
        "w_o = w[:, units*3]\n",
        "\n",
        "U_i = u[:, :units]\n",
        "U_f = u[:, units: units * 2]\n",
        "U_c = u[:, units * 2: units * 3]\n",
        "U_o = u[:, units * 3:]\n",
        "\n",
        "b_i = b[:units]\n",
        "b_f = b[units: units * 2]\n",
        "b_c = b[units * 2: units * 3]\n",
        "b_o = b[units * 3:]\n",
        "\n",
        "print((int(model.layers[0].trainable_weights[0].shape[1])/4)*2)\n",
        "print((int(model.layers[0].trainable_weights[0].shape[1])/4)*3)\n",
        "print(model.layers[1].get_weights()[0].shape)\n",
        "print(units)\n",
        "\n",
        "print(f'wi= {w_i}\\n wf = {w_f}\\n wc= {w_c}\\n wo= {w_o}')\n",
        "print(f'ui= {U_i}\\n uf = {U_f}\\n uc= {U_c}\\n uo= {U_o}')\n",
        "print(f'bi= {b_i}\\n bf = {b_f}\\n bc= {b_c}\\n bo= {b_o}')"
      ],
      "metadata": {
        "colab": {
          "base_uri": "https://localhost:8080/"
        },
        "id": "XUAzq_p_voC0",
        "outputId": "007ba22d-fc2a-4681-e02f-d83b05732f5c"
      },
      "execution_count": 15,
      "outputs": [
        {
          "output_type": "stream",
          "name": "stdout",
          "text": [
            "0.5\n",
            "0.75\n",
            "(3, 16)\n",
            "4\n",
            "wi= [-0.51644313  0.49953192 -0.05151647]\n",
            " wf = [[-0.51644313  0.48678523 -0.24229538  0.35304618]\n",
            " [ 0.49953192 -0.21433517  0.07588381 -0.38434252]\n",
            " [-0.05151647 -0.4004726   0.27104217  0.21568328]]\n",
            " wc= [[-0.4179741   0.43473482 -0.17114696  0.3637064 ]\n",
            " [ 0.19193697  0.4327104   0.18310642  0.42792863]\n",
            " [ 0.5840498  -0.47578284 -0.00545636  0.51920503]]\n",
            " wo= [0.29653543 0.25088537 0.34028867]\n",
            "ui= [[ 0.03416362 -0.37206432 -0.1595724   0.45960626]\n",
            " [ 0.26880231 -0.03288318  0.01935077 -0.5612814 ]\n",
            " [ 0.16024128  0.1315533   0.08657385  0.03816709]\n",
            " [ 0.02940691 -0.22599164  0.27932402 -0.09097397]]\n",
            " uf = [[ 0.10717289 -0.05981723 -0.10997795  0.11292464]\n",
            " [ 0.19272867 -0.05353089 -0.11597243  0.26547375]\n",
            " [ 0.23853077  0.4743575  -0.56898457 -0.13221353]\n",
            " [ 0.16562542  0.1863105   0.29561436  0.35178587]]\n",
            " uc= [[-0.2437538  -0.23761006  0.08961084  0.42072457]\n",
            " [-0.08598022 -0.16712548  0.05186037  0.45870003]\n",
            " [-0.21713415 -0.15200284 -0.04141995 -0.33712304]\n",
            " [ 0.17258336  0.2800963   0.0152916  -0.2545768 ]]\n",
            " uo= [[-0.04090486  0.58360654  0.00706537 -0.06735665]\n",
            " [-0.3636795  -0.13741174 -0.0574039   0.16433063]\n",
            " [ 0.0328972   0.31284603 -0.43336907  0.1106621 ]\n",
            " [-0.24862413  0.42927778 -0.06745344  0.305563  ]]\n",
            "bi= [0.06460535 0.05085349 0.00609063 0.06313691]\n",
            " bf = [1.0683627 1.0443394 1.0102752 1.0842205]\n",
            " bc= [-0.01516585  0.01218313  0.02735051 -0.0497126 ]\n",
            " bo= [0.06255172 0.04732993 0.00690863 0.05990108]\n"
          ]
        }
      ]
    },
    {
      "cell_type": "code",
      "source": [
        "from keras import models \n",
        "from keras import layers\n",
        "\n",
        "def define_model(len_ts,\n",
        "                 hidden_neurons = 1,\n",
        "                 nfeature=1,\n",
        "                 batch_size=None,\n",
        "                 stateful=False):\n",
        "    in_out_neurons = 1\n",
        "    \n",
        "    inp = layers.Input(batch_shape= (batch_size, len_ts, nfeature),\n",
        "                       name=\"input\")  \n",
        "\n",
        "    rnn = layers.LSTM(hidden_neurons, \n",
        "                    return_sequences=True,\n",
        "                    stateful=stateful,\n",
        "                    name=\"RNN\")(inp)\n",
        "\n",
        "    dens = layers.TimeDistributed(layers.Dense(in_out_neurons,name=\"dense\"))(rnn)\n",
        "    model = models.Model(inputs=[inp],outputs=[dens])\n",
        "    \n",
        "    model.compile(loss=\"mean_squared_error\",\n",
        "                  sample_weight_mode=\"temporal\",\n",
        "                  optimizer=\"rmsprop\")\n",
        "    return(model,(inp,rnn,dens))"
      ],
      "metadata": {
        "id": "gVncxwSaS_R0"
      },
      "execution_count": 16,
      "outputs": []
    },
    {
      "cell_type": "code",
      "source": [],
      "metadata": {
        "id": "poxvBq6GTBRj"
      },
      "execution_count": 16,
      "outputs": []
    },
    {
      "cell_type": "code",
      "execution_count": 17,
      "metadata": {
        "id": "j_9q00B5xLUU"
      },
      "outputs": [],
      "source": [
        "# mae = history.history['mae']\n",
        "# val_mae = history.history['val_mae']\n",
        "# epoch = range(len(mae))\n",
        "\n",
        "# plt.plot(epoch, mae)\n",
        "# plt.plot(epoch, val_mae)\n",
        "# plt.show"
      ]
    },
    {
      "cell_type": "code",
      "execution_count": 18,
      "metadata": {
        "id": "OgoZAt5rdDPB"
      },
      "outputs": [],
      "source": [
        "# from sklearn.metrics import mean_absolute_error, mean_absolute_percentage_error\n",
        "# # from keras.metrics import mean_absolute_percentage_error, mean_absolute_error, mean_squared_error, RootMeanSquaredError\n",
        "\n",
        "# test_beras_1 = x_vals\n",
        "# prediction = forecast_predict(model, test_beras_1, time_size=10, batch_size=10, shuffle_data=2)\n",
        "# result = prediction.squeeze()\n",
        "# results = result.reshape(-1, 1)\n",
        "# results = scaller.inverse_transform(results)\n",
        "# results = results.reshape(-1)\n",
        "# data_test = x_vals[:-9]\n",
        "# data_test = data_test.reshape(-1)\n",
        "\n",
        "# data_new = pd.DataFrame()\n",
        "# data_new['actual'] = data_test\n",
        "# data_new['prediction'] = results.round()\n",
        "# mae = mean_absolute_error(data_test, results)\n",
        "# mape = mean_absolute_percentage_error(data_test, results)\n",
        "# print(f\"mae= {mae}\\nmape= {mape}\")\n",
        "# data_new"
      ]
    },
    {
      "cell_type": "code",
      "source": [
        "# data_new.to_csv(r'data_frame.csv', index=False, header=True)"
      ],
      "metadata": {
        "id": "WPUNmxAu1aLs"
      },
      "execution_count": 19,
      "outputs": []
    },
    {
      "cell_type": "code",
      "source": [
        "# dates = y_test[:-9]\n",
        "# plt.figure(figsize=(10, 5))\n",
        "# plt.plot(dates, data_test)\n",
        "# plt.plot(dates, results)\n",
        "# plt.show"
      ],
      "metadata": {
        "id": "3dGDfyKbuCuo"
      },
      "execution_count": 20,
      "outputs": []
    },
    {
      "cell_type": "code",
      "execution_count": 21,
      "metadata": {
        "id": "N5DY_ZRZTxBB"
      },
      "outputs": [],
      "source": [
        "# tested = pd.read_excel('tested.xlsx', skiprows=8)\n",
        "# tested = tested.drop('No.', axis=1)\n",
        "# tested = tested.T.reset_index()\n",
        "# tested.columns = tested.loc[0]\n",
        "# tested = tested.drop(0)\n",
        "\n",
        "# tested = tested.rename(columns={'Komoditas(Rp)': 'Date'})\n",
        "# test_beras = tested['Beras'].values\n",
        "# minmaxtest = scaller.fit_transform(test_beras.reshape(-1, 1))\n",
        "# prediction_1 = forecast_predict(model, minmaxtest, time_size=3, batch_size=1, shuffle_data=1000)\n",
        "# result_1 = prediction_1.squeeze()\n",
        "# results_1 = result_1.reshape(-1, 1)\n",
        "# results_1 = scaller.inverse_transform(results_1).round(1)\n",
        "# results_1 = results_1.reshape(-1)\n",
        "# test_berass = test_beras[:-2]\n",
        "# date = tested['Date']\n",
        "# date = date[:-2]\n",
        "# new = pd.DataFrame()\n",
        "# new['date'] = date\n",
        "# new['actual'] = test_berass\n",
        "# new['prediction'] = results_1\n",
        "# minn = minmaxtest.reshape(-1)\n",
        "# minn = minn[:-2]\n",
        "# mae = mean_absolute_error(test_berass, results_1)\n",
        "# mape = mean_absolute_percentage_error(test_berass, results_1)\n",
        "# mae, mape"
      ]
    },
    {
      "cell_type": "code",
      "execution_count": 22,
      "metadata": {
        "id": "U1HW35jAPX-3"
      },
      "outputs": [],
      "source": [
        "# data = scal_test_bamer.reshape(1, -1)\n",
        "# data_series = list(data)\n",
        "# data_series = data_series[0].tolist()\n",
        "\n",
        "# output = []\n",
        "# step = len(scal_test_bamer) - 1\n",
        "# i = 1\n",
        "# while(i<=100):\n",
        "#   if(len(data_series)>100):\n",
        "#     input = np.array(data_series[1:])\n",
        "#     print(f'{i} day with input {input}')\n",
        "#     input = input.reshape(1, -1)\n",
        "#     input = input.reshape((1, step, 1))\n",
        "#     print(input)\n",
        "#     y = model.predict(input, verbose=0)\n",
        "#     print(f'{i} day output {y}')\n",
        "#     data_series.extend(y[0].tolist())\n",
        "#     data_series = data_series[1:]\n",
        "#     output.extend(y.tolist())\n",
        "#     i = i+1\n",
        "#   else:\n",
        "#     input = np.array(data_series)\n",
        "#     input = input.reshape(1, step, 1)\n",
        "#     y = model.predict(input, verbose=0)\n",
        "#     print(y[0])\n",
        "#     data_series.extend(y[0].tolist())\n",
        "#     output.extend(y.tolist())\n",
        "#     i = i+1\n",
        "\n",
        "# np.array(scaller.inverse_transform(output)).round()"
      ]
    },
    {
      "cell_type": "code",
      "execution_count": 23,
      "metadata": {
        "id": "0EXFo3m-z_vV"
      },
      "outputs": [],
      "source": [
        "# from numpy import array\n",
        "# from keras.models import Sequential\n",
        "# from keras.layers import LSTM\n",
        "# from keras.layers import Dense\n",
        "# from keras.layers import Flatten\n",
        "# from keras.layers import TimeDistributed\n",
        "# from keras.layers.convolutional import Conv1D\n",
        "# from keras.layers.convolutional import MaxPooling1D\n",
        " \n",
        "# # split a univariate sequence into samples\n",
        "# def split_sequence(sequence, n_steps):\n",
        "# \tX, y = list(), list()\n",
        "# \tfor i in range(len(sequence)):\n",
        "# \t\t# find the end of this pattern\n",
        "# \t\tend_ix = i + n_steps\n",
        "# \t\t# check if we are beyond the sequence\n",
        "# \t\tif end_ix > len(sequence)-1:\n",
        "# \t\t\tbreak\n",
        "# \t\t# gather input and output parts of the pattern\n",
        "# \t\tseq_x, seq_y = sequence[i:end_ix], sequence[end_ix]\n",
        "# \t\tX.append(seq_x)\n",
        "# \t\ty.append(seq_y)\n",
        "# \treturn array(X), array(y)\n",
        " \n",
        "# # define input sequence\n",
        "# raw_seq = [10, 20, 30, 40, 50, 60, 70, 80, 90]\n",
        "# # choose a number of time steps\n",
        "# n_steps = 4\n",
        "# # split into samples\n",
        "# X, y = split_sequence(raw_seq, n_steps)\n",
        "# # reshape from [samples, timesteps] into [samples, subsequences, timesteps, features]\n",
        "# n_features = 1\n",
        "# n_seq = 2\n",
        "# n_steps = 2\n",
        "# X = X.reshape((X.shape[0], n_seq, n_steps, n_features))\n",
        "# print(X)\n",
        "# # define model\n",
        "# model = Sequential()\n",
        "# model.add(TimeDistributed(Conv1D(filters=64, kernel_size=1, activation='relu'), input_shape=(None, n_steps, n_features)))\n",
        "# model.add(TimeDistributed(MaxPooling1D(pool_size=2)))\n",
        "# model.add(TimeDistributed(Flatten()))\n",
        "# model.add(LSTM(50, activation='relu'))\n",
        "# model.add(Dense(1))\n",
        "# model.compile(optimizer='adam', loss='mse')\n",
        "# # fit model\n",
        "# model.fit(X, y, epochs=500, verbose=0)\n",
        "# # demonstrate prediction\n",
        "# x_input = array([60, 70, 80, 90])\n",
        "# x_input = x_input.reshape((1, n_seq, n_steps, n_features))\n",
        "# yhat = model.predict(x_input, verbose=0)\n",
        "# print(yhat)"
      ]
    },
    {
      "cell_type": "code",
      "execution_count": 23,
      "metadata": {
        "id": "EvqrilflxLbh"
      },
      "outputs": [],
      "source": []
    },
    {
      "cell_type": "code",
      "execution_count": 23,
      "metadata": {
        "id": "SJVnxNqTVGzI"
      },
      "outputs": [],
      "source": []
    }
  ],
  "metadata": {
    "colab": {
      "collapsed_sections": [],
      "provenance": [],
      "authorship_tag": "ABX9TyMuWBpcoCy40NeS/jR6io9E",
      "include_colab_link": true
    },
    "kernelspec": {
      "display_name": "Python 3",
      "name": "python3"
    },
    "language_info": {
      "name": "python"
    }
  },
  "nbformat": 4,
  "nbformat_minor": 0
}
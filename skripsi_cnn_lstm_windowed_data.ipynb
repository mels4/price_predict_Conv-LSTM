{
  "cells": [
    {
      "cell_type": "markdown",
      "metadata": {
        "id": "view-in-github",
        "colab_type": "text"
      },
      "source": [
        "<a href=\"https://colab.research.google.com/github/melinadwisafitri/skripsi_price_predict/blob/main/skripsi_cnn_lstm_windowed_data.ipynb\" target=\"_parent\"><img src=\"https://colab.research.google.com/assets/colab-badge.svg\" alt=\"Open In Colab\"/></a>"
      ]
    },
    {
      "cell_type": "markdown",
      "metadata": {
        "id": "XLiMzEFmrqvB"
      },
      "source": [
        "# Sistem Prediksi Harga Bahan Pangan di Indonesia\n",
        "import semua library yang dibutuhkan pada awal project, berfungsi untuk mempermudah dalam organisir kode, library yang akan digunakan adalah:\n",
        "\n",
        "*   `urllib` untuk mengambil data dari url dan menyimpan kembali menjadi format data tertentu\n",
        "*   `numpy`\n",
        "*   `pandas` digunakan untuk membaca data dari file ekstention csv dan untuk memnganalisis data\n",
        "*   `seaborn`\n",
        "*   `tensorflow` digunakan dalam proses pembuatan model deep learning\n",
        "*   `matplotlib`merupakan library untuk menamilkan plot dari data \n",
        "*   `sklearn` merupakan library untuk modeling data supervised learning dan unsupervised learning, dalam project ini digunakan untuk split data"
      ]
    },
    {
      "cell_type": "code",
      "execution_count": null,
      "metadata": {
        "id": "ydmzDbxfqP7g"
      },
      "outputs": [],
      "source": [
        "import urllib.request\n",
        "import numpy as np\n",
        "import pandas as pd\n",
        "import tensorflow as tf\n",
        "import matplotlib.pyplot as plt\n",
        "\n",
        "from tensorflow.data import Dataset\n",
        "from tensorflow.keras.losses import Huber\n",
        "from tensorflow.keras.models import Sequential\n",
        "from sklearn.preprocessing import MinMaxScaler\n",
        "from sklearn.model_selection import train_test_split\n",
        "from tensorflow.keras.layers import Conv1D, LSTM, Dense, Dropout\n",
        "from tensorflow.keras.metrics import mean_absolute_percentage_error, mean_absolute_error, mean_squared_error, RootMeanSquaredError"
      ]
    },
    {
      "cell_type": "markdown",
      "metadata": {
        "id": "moZBxhIr2IwR"
      },
      "source": [
        "## data **generator**"
      ]
    },
    {
      "cell_type": "code",
      "execution_count": null,
      "metadata": {
        "id": "CV55InLxr6vO"
      },
      "outputs": [],
      "source": [
        "def time_step_generator(data, time_size, batch_size, shuffle_data):\n",
        "  generate_data = Dataset.from_tensor_slices(data) # generate data series menjadi tensor\n",
        "  add_window_time_step = generate_data.window(time_size+1, shift=1, drop_remainder=True) # membuat data kedalam kolom window yang baru\n",
        "  flatten_window = add_window_time_step.flat_map(lambda window : window.batch(time_size+1)) # hasil pertambahan step data akan digabung menjadi satu array\n",
        "  tuple_feature_label = flatten_window.map(lambda window: (window[:-1], window[-1])) # data akan dirubah menjadi feature dan label dengan ketentuan 1 data terakhir sabagai label\n",
        "  shuffle_data = tuple_feature_label.shuffle(shuffle_data) # data yang sudah jadi akan di random sesuai dengan ukuran random data\n",
        "  batch_window = shuffle_data.batch(batch_size).prefetch(1) # data akan disusun menjadi batch-batch tertentu sesuai dengan kebutuhan\n",
        "  \n",
        "  return batch_window"
      ]
    },
    {
      "cell_type": "markdown",
      "metadata": {
        "id": "sMOnIrtDcv8h"
      },
      "source": []
    },
    {
      "cell_type": "code",
      "execution_count": null,
      "metadata": {
        "id": "mvrbdgWl46ss"
      },
      "outputs": [],
      "source": [
        "def forecast_predict(model, data, time_size, batch_size, shuffle_data):\n",
        "  generate_data = Dataset.from_tensor_slices(data)\n",
        "  add_window_step = generate_data.window(time_size, shift=1, drop_remainder=True)\n",
        "  flatten_window = add_window_step.flat_map(lambda window: window.batch(time_size))\n",
        "  batch_window = flatten_window.batch(batch_size).prefetch(1)\n",
        "  model_predict = model.predict(batch_window)\n",
        "  return model_predict"
      ]
    },
    {
      "cell_type": "markdown",
      "metadata": {
        "id": "QyPHpbWJcwxt"
      },
      "source": [
        "functions *plot value* digunakan untuk menampilkan grafik hasil training model terhadap data, value yang ingin ditampilkan yaitu nilai loss, mape dan mae (disuaikan dengan *metrics *yang digunakan)"
      ]
    },
    {
      "cell_type": "code",
      "execution_count": null,
      "metadata": {
        "id": "BZi3QLdROMmn"
      },
      "outputs": [],
      "source": [
        "def plot_value(history):\n",
        "  loss = history.history['loss']\n",
        "  mape = history.history['mape']\n",
        "  mae = history.history['mae']\n",
        "  epoch = range(len(loss))\n",
        "\n",
        "  plt.plot(epoch, loss, 'r', label='loss')\n",
        "  plt.plot(epoch, mae, 'y', label='mae')\n",
        "  plt.legend()\n",
        "  plt.show()"
      ]
    },
    {
      "cell_type": "markdown",
      "metadata": {
        "id": "utdRwksJcxqK"
      },
      "source": [
        "Function model_evaluate digunakan untuk melihat nilai evaluasi dari model yang telah dibuat berdasarkan data prediksi, model akan dievaluasi berdasarkan nilai mae, mape, dan rmse"
      ]
    },
    {
      "cell_type": "code",
      "execution_count": null,
      "metadata": {
        "id": "nZrah9V953MG"
      },
      "outputs": [],
      "source": [
        "def model_evaluate(data_actual, value_prediction):\n",
        "  mae = mean_absolute_error(data_actual, value_prediction).numpy()\n",
        "  mape = mean_absolute_percentage_error(data_actual, value_prediction).numpy()\n",
        "  mse = mean_squared_error(data_actual, value_prediction).numpy()\n",
        "  rmse = RootMeanSquaredError(data_actual, value_prediction).numpy()\n",
        "\n",
        "  print(f\"Nilai mae yang didapatkan untuk memprediksi {len(data_actual)} adalah = {mae}\\nNilai mape yang diperoleh adalah = {mape}\")"
      ]
    },
    {
      "cell_type": "markdown",
      "metadata": {
        "id": "qvUKvsxes0Kb"
      },
      "source": [
        "## Load Data\n",
        "Data diambil dari "
      ]
    },
    {
      "cell_type": "code",
      "execution_count": null,
      "metadata": {
        "colab": {
          "base_uri": "https://localhost:8080/"
        },
        "id": "cWA8wqtMsggw",
        "outputId": "5a7f84f1-eaf5-466e-af0f-144f5d2994bd"
      },
      "outputs": [
        {
          "output_type": "execute_result",
          "data": {
            "text/plain": [
              "('data_pangan_indonesia.csv', <http.client.HTTPMessage at 0x7fedd18d7ad0>)"
            ]
          },
          "metadata": {},
          "execution_count": 7
        }
      ],
      "source": [
        "data_url = 'https://github.com/melinadwisafitri/skripsi_price_predict/blob/main/data_pangan/data_fixs/data_harga_bahan_pangan_indonesia.csv?raw=true'\n",
        "urllib.request.urlretrieve(data_url, 'data_pangan_indonesia.csv')"
      ]
    },
    {
      "cell_type": "markdown",
      "metadata": {
        "id": "0r0robg4s5Wb"
      },
      "source": [
        "Read data csv dengan pandas "
      ]
    },
    {
      "cell_type": "code",
      "execution_count": null,
      "metadata": {
        "colab": {
          "base_uri": "https://localhost:8080/",
          "height": 557
        },
        "id": "FmgzlVEUr6Yb",
        "outputId": "b55cefa2-b3a4-418c-af2f-4f6c95740f39"
      },
      "outputs": [
        {
          "output_type": "execute_result",
          "data": {
            "text/plain": [
              "            Date  Beras  Beras Kualitas Bawah I (kg)  \\\n",
              "0     01/08/2017  11200                        10150   \n",
              "1     02/08/2017  11200                        10150   \n",
              "2     03/08/2017  11200                        10150   \n",
              "3     04/08/2017  11300                        10150   \n",
              "4     07/08/2017  11200                        10150   \n",
              "...          ...    ...                          ...   \n",
              "1169  25/04/2022  11750                        10700   \n",
              "1170  26/04/2022  11750                        10700   \n",
              "1171  27/04/2022  11850                        10700   \n",
              "1172  28/04/2022  11850                        10700   \n",
              "1173  29/04/2022  11850                        10700   \n",
              "\n",
              "      Beras Kualitas Bawah II (kg)  Beras Kualitas Medium I (kg)  \\\n",
              "0                             9650                         11250   \n",
              "1                             9650                         11250   \n",
              "2                             9650                         11250   \n",
              "3                            10300                         11250   \n",
              "4                             9650                         11250   \n",
              "...                            ...                           ...   \n",
              "1169                         10450                         11800   \n",
              "1170                         10450                         11800   \n",
              "1171                         10450                         11800   \n",
              "1172                         10400                         11800   \n",
              "1173                         10400                         11800   \n",
              "\n",
              "      Beras Kualitas Medium II (kg)  Beras Kualitas Super I (kg)  \\\n",
              "0                             11150                        12750   \n",
              "1                             11150                        12750   \n",
              "2                             11150                        12700   \n",
              "3                             11150                        12750   \n",
              "4                             11150                        12750   \n",
              "...                             ...                          ...   \n",
              "1169                          11600                        13100   \n",
              "1170                          11550                        13100   \n",
              "1171                          11550                        13100   \n",
              "1172                          11600                        13100   \n",
              "1173                          11600                        13100   \n",
              "\n",
              "      Beras Kualitas Super II (kg)  Daging Ayam  Daging Ayam Ras Segar (kg)  \\\n",
              "0                            12250        34100                       34100   \n",
              "1                            12250        34150                       34150   \n",
              "2                            12250        34250                       34250   \n",
              "3                            12250        34300                       34300   \n",
              "4                            12250        34350                       34350   \n",
              "...                            ...          ...                         ...   \n",
              "1169                         12650        38750                       38750   \n",
              "1170                         12650        39100                       39100   \n",
              "1171                         13000        39600                       39600   \n",
              "1172                         13000        40350                       40350   \n",
              "1173                         13000        40350                       40350   \n",
              "\n",
              "      ...  Cabai Rawit  Cabai Rawit Hijau (kg)  Cabai Rawit Merah (kg)  \\\n",
              "0     ...        41050                   34800                   47550   \n",
              "1     ...        40600                   34600                   46650   \n",
              "2     ...        40350                   34650                   46050   \n",
              "3     ...        40500                   34600                   46550   \n",
              "4     ...        39500                   34300                   44900   \n",
              "...   ...          ...                     ...                     ...   \n",
              "1169  ...        45500                   42750                   46900   \n",
              "1170  ...        45500                   42550                   47100   \n",
              "1171  ...        45750                   42800                   47750   \n",
              "1172  ...        46050                   42500                   48250   \n",
              "1173  ...        46050                   42500                   48250   \n",
              "\n",
              "      Minyak Goreng  Minyak Goreng Curah (kg)  \\\n",
              "0             13950                     12250   \n",
              "1             13950                     12250   \n",
              "2             13950                     12250   \n",
              "3             13950                     12200   \n",
              "4             13950                     12200   \n",
              "...             ...                       ...   \n",
              "1169          24600                     19700   \n",
              "1170          24600                     19600   \n",
              "1171          24650                     19700   \n",
              "1172          24600                     19650   \n",
              "1173          24600                     19650   \n",
              "\n",
              "      Minyak Goreng Kemasan Bermerk 1 (kg)  \\\n",
              "0                                    15050   \n",
              "1                                    15050   \n",
              "2                                    15050   \n",
              "3                                    15050   \n",
              "4                                    15050   \n",
              "...                                    ...   \n",
              "1169                                 26950   \n",
              "1170                                 26950   \n",
              "1171                                 27050   \n",
              "1172                                 27050   \n",
              "1173                                 27050   \n",
              "\n",
              "      Minyak Goreng Kemasan Bermerk 2 (kg)  Gula Pasir  \\\n",
              "0                                    14350       14900   \n",
              "1                                    14350       14900   \n",
              "2                                    14350       14900   \n",
              "3                                    14350       14900   \n",
              "4                                    14350       14900   \n",
              "...                                    ...         ...   \n",
              "1169                                 25950       15350   \n",
              "1170                                 25900       15350   \n",
              "1171                                 26000       15350   \n",
              "1172                                 26000       15350   \n",
              "1173                                 26000       15350   \n",
              "\n",
              "      Gula Pasir Kualitas Premium (kg)  Gula Pasir Lokal (kg)  \n",
              "0                                16800                  13250  \n",
              "1                                16800                  13250  \n",
              "2                                16800                  13250  \n",
              "3                                16800                  13250  \n",
              "4                                16800                  13250  \n",
              "...                                ...                    ...  \n",
              "1169                             16000                  14800  \n",
              "1170                             16000                  14850  \n",
              "1171                             16000                  14850  \n",
              "1172                             16000                  14850  \n",
              "1173                             16000                  14850  \n",
              "\n",
              "[1174 rows x 32 columns]"
            ],
            "text/html": [
              "\n",
              "  <div id=\"df-138ab773-6bb6-44e2-ab73-4542efd9670b\">\n",
              "    <div class=\"colab-df-container\">\n",
              "      <div>\n",
              "<style scoped>\n",
              "    .dataframe tbody tr th:only-of-type {\n",
              "        vertical-align: middle;\n",
              "    }\n",
              "\n",
              "    .dataframe tbody tr th {\n",
              "        vertical-align: top;\n",
              "    }\n",
              "\n",
              "    .dataframe thead th {\n",
              "        text-align: right;\n",
              "    }\n",
              "</style>\n",
              "<table border=\"1\" class=\"dataframe\">\n",
              "  <thead>\n",
              "    <tr style=\"text-align: right;\">\n",
              "      <th></th>\n",
              "      <th>Date</th>\n",
              "      <th>Beras</th>\n",
              "      <th>Beras Kualitas Bawah I (kg)</th>\n",
              "      <th>Beras Kualitas Bawah II (kg)</th>\n",
              "      <th>Beras Kualitas Medium I (kg)</th>\n",
              "      <th>Beras Kualitas Medium II (kg)</th>\n",
              "      <th>Beras Kualitas Super I (kg)</th>\n",
              "      <th>Beras Kualitas Super II (kg)</th>\n",
              "      <th>Daging Ayam</th>\n",
              "      <th>Daging Ayam Ras Segar (kg)</th>\n",
              "      <th>...</th>\n",
              "      <th>Cabai Rawit</th>\n",
              "      <th>Cabai Rawit Hijau (kg)</th>\n",
              "      <th>Cabai Rawit Merah (kg)</th>\n",
              "      <th>Minyak Goreng</th>\n",
              "      <th>Minyak Goreng Curah (kg)</th>\n",
              "      <th>Minyak Goreng Kemasan Bermerk 1 (kg)</th>\n",
              "      <th>Minyak Goreng Kemasan Bermerk 2 (kg)</th>\n",
              "      <th>Gula Pasir</th>\n",
              "      <th>Gula Pasir Kualitas Premium (kg)</th>\n",
              "      <th>Gula Pasir Lokal (kg)</th>\n",
              "    </tr>\n",
              "  </thead>\n",
              "  <tbody>\n",
              "    <tr>\n",
              "      <th>0</th>\n",
              "      <td>01/08/2017</td>\n",
              "      <td>11200</td>\n",
              "      <td>10150</td>\n",
              "      <td>9650</td>\n",
              "      <td>11250</td>\n",
              "      <td>11150</td>\n",
              "      <td>12750</td>\n",
              "      <td>12250</td>\n",
              "      <td>34100</td>\n",
              "      <td>34100</td>\n",
              "      <td>...</td>\n",
              "      <td>41050</td>\n",
              "      <td>34800</td>\n",
              "      <td>47550</td>\n",
              "      <td>13950</td>\n",
              "      <td>12250</td>\n",
              "      <td>15050</td>\n",
              "      <td>14350</td>\n",
              "      <td>14900</td>\n",
              "      <td>16800</td>\n",
              "      <td>13250</td>\n",
              "    </tr>\n",
              "    <tr>\n",
              "      <th>1</th>\n",
              "      <td>02/08/2017</td>\n",
              "      <td>11200</td>\n",
              "      <td>10150</td>\n",
              "      <td>9650</td>\n",
              "      <td>11250</td>\n",
              "      <td>11150</td>\n",
              "      <td>12750</td>\n",
              "      <td>12250</td>\n",
              "      <td>34150</td>\n",
              "      <td>34150</td>\n",
              "      <td>...</td>\n",
              "      <td>40600</td>\n",
              "      <td>34600</td>\n",
              "      <td>46650</td>\n",
              "      <td>13950</td>\n",
              "      <td>12250</td>\n",
              "      <td>15050</td>\n",
              "      <td>14350</td>\n",
              "      <td>14900</td>\n",
              "      <td>16800</td>\n",
              "      <td>13250</td>\n",
              "    </tr>\n",
              "    <tr>\n",
              "      <th>2</th>\n",
              "      <td>03/08/2017</td>\n",
              "      <td>11200</td>\n",
              "      <td>10150</td>\n",
              "      <td>9650</td>\n",
              "      <td>11250</td>\n",
              "      <td>11150</td>\n",
              "      <td>12700</td>\n",
              "      <td>12250</td>\n",
              "      <td>34250</td>\n",
              "      <td>34250</td>\n",
              "      <td>...</td>\n",
              "      <td>40350</td>\n",
              "      <td>34650</td>\n",
              "      <td>46050</td>\n",
              "      <td>13950</td>\n",
              "      <td>12250</td>\n",
              "      <td>15050</td>\n",
              "      <td>14350</td>\n",
              "      <td>14900</td>\n",
              "      <td>16800</td>\n",
              "      <td>13250</td>\n",
              "    </tr>\n",
              "    <tr>\n",
              "      <th>3</th>\n",
              "      <td>04/08/2017</td>\n",
              "      <td>11300</td>\n",
              "      <td>10150</td>\n",
              "      <td>10300</td>\n",
              "      <td>11250</td>\n",
              "      <td>11150</td>\n",
              "      <td>12750</td>\n",
              "      <td>12250</td>\n",
              "      <td>34300</td>\n",
              "      <td>34300</td>\n",
              "      <td>...</td>\n",
              "      <td>40500</td>\n",
              "      <td>34600</td>\n",
              "      <td>46550</td>\n",
              "      <td>13950</td>\n",
              "      <td>12200</td>\n",
              "      <td>15050</td>\n",
              "      <td>14350</td>\n",
              "      <td>14900</td>\n",
              "      <td>16800</td>\n",
              "      <td>13250</td>\n",
              "    </tr>\n",
              "    <tr>\n",
              "      <th>4</th>\n",
              "      <td>07/08/2017</td>\n",
              "      <td>11200</td>\n",
              "      <td>10150</td>\n",
              "      <td>9650</td>\n",
              "      <td>11250</td>\n",
              "      <td>11150</td>\n",
              "      <td>12750</td>\n",
              "      <td>12250</td>\n",
              "      <td>34350</td>\n",
              "      <td>34350</td>\n",
              "      <td>...</td>\n",
              "      <td>39500</td>\n",
              "      <td>34300</td>\n",
              "      <td>44900</td>\n",
              "      <td>13950</td>\n",
              "      <td>12200</td>\n",
              "      <td>15050</td>\n",
              "      <td>14350</td>\n",
              "      <td>14900</td>\n",
              "      <td>16800</td>\n",
              "      <td>13250</td>\n",
              "    </tr>\n",
              "    <tr>\n",
              "      <th>...</th>\n",
              "      <td>...</td>\n",
              "      <td>...</td>\n",
              "      <td>...</td>\n",
              "      <td>...</td>\n",
              "      <td>...</td>\n",
              "      <td>...</td>\n",
              "      <td>...</td>\n",
              "      <td>...</td>\n",
              "      <td>...</td>\n",
              "      <td>...</td>\n",
              "      <td>...</td>\n",
              "      <td>...</td>\n",
              "      <td>...</td>\n",
              "      <td>...</td>\n",
              "      <td>...</td>\n",
              "      <td>...</td>\n",
              "      <td>...</td>\n",
              "      <td>...</td>\n",
              "      <td>...</td>\n",
              "      <td>...</td>\n",
              "      <td>...</td>\n",
              "    </tr>\n",
              "    <tr>\n",
              "      <th>1169</th>\n",
              "      <td>25/04/2022</td>\n",
              "      <td>11750</td>\n",
              "      <td>10700</td>\n",
              "      <td>10450</td>\n",
              "      <td>11800</td>\n",
              "      <td>11600</td>\n",
              "      <td>13100</td>\n",
              "      <td>12650</td>\n",
              "      <td>38750</td>\n",
              "      <td>38750</td>\n",
              "      <td>...</td>\n",
              "      <td>45500</td>\n",
              "      <td>42750</td>\n",
              "      <td>46900</td>\n",
              "      <td>24600</td>\n",
              "      <td>19700</td>\n",
              "      <td>26950</td>\n",
              "      <td>25950</td>\n",
              "      <td>15350</td>\n",
              "      <td>16000</td>\n",
              "      <td>14800</td>\n",
              "    </tr>\n",
              "    <tr>\n",
              "      <th>1170</th>\n",
              "      <td>26/04/2022</td>\n",
              "      <td>11750</td>\n",
              "      <td>10700</td>\n",
              "      <td>10450</td>\n",
              "      <td>11800</td>\n",
              "      <td>11550</td>\n",
              "      <td>13100</td>\n",
              "      <td>12650</td>\n",
              "      <td>39100</td>\n",
              "      <td>39100</td>\n",
              "      <td>...</td>\n",
              "      <td>45500</td>\n",
              "      <td>42550</td>\n",
              "      <td>47100</td>\n",
              "      <td>24600</td>\n",
              "      <td>19600</td>\n",
              "      <td>26950</td>\n",
              "      <td>25900</td>\n",
              "      <td>15350</td>\n",
              "      <td>16000</td>\n",
              "      <td>14850</td>\n",
              "    </tr>\n",
              "    <tr>\n",
              "      <th>1171</th>\n",
              "      <td>27/04/2022</td>\n",
              "      <td>11850</td>\n",
              "      <td>10700</td>\n",
              "      <td>10450</td>\n",
              "      <td>11800</td>\n",
              "      <td>11550</td>\n",
              "      <td>13100</td>\n",
              "      <td>13000</td>\n",
              "      <td>39600</td>\n",
              "      <td>39600</td>\n",
              "      <td>...</td>\n",
              "      <td>45750</td>\n",
              "      <td>42800</td>\n",
              "      <td>47750</td>\n",
              "      <td>24650</td>\n",
              "      <td>19700</td>\n",
              "      <td>27050</td>\n",
              "      <td>26000</td>\n",
              "      <td>15350</td>\n",
              "      <td>16000</td>\n",
              "      <td>14850</td>\n",
              "    </tr>\n",
              "    <tr>\n",
              "      <th>1172</th>\n",
              "      <td>28/04/2022</td>\n",
              "      <td>11850</td>\n",
              "      <td>10700</td>\n",
              "      <td>10400</td>\n",
              "      <td>11800</td>\n",
              "      <td>11600</td>\n",
              "      <td>13100</td>\n",
              "      <td>13000</td>\n",
              "      <td>40350</td>\n",
              "      <td>40350</td>\n",
              "      <td>...</td>\n",
              "      <td>46050</td>\n",
              "      <td>42500</td>\n",
              "      <td>48250</td>\n",
              "      <td>24600</td>\n",
              "      <td>19650</td>\n",
              "      <td>27050</td>\n",
              "      <td>26000</td>\n",
              "      <td>15350</td>\n",
              "      <td>16000</td>\n",
              "      <td>14850</td>\n",
              "    </tr>\n",
              "    <tr>\n",
              "      <th>1173</th>\n",
              "      <td>29/04/2022</td>\n",
              "      <td>11850</td>\n",
              "      <td>10700</td>\n",
              "      <td>10400</td>\n",
              "      <td>11800</td>\n",
              "      <td>11600</td>\n",
              "      <td>13100</td>\n",
              "      <td>13000</td>\n",
              "      <td>40350</td>\n",
              "      <td>40350</td>\n",
              "      <td>...</td>\n",
              "      <td>46050</td>\n",
              "      <td>42500</td>\n",
              "      <td>48250</td>\n",
              "      <td>24600</td>\n",
              "      <td>19650</td>\n",
              "      <td>27050</td>\n",
              "      <td>26000</td>\n",
              "      <td>15350</td>\n",
              "      <td>16000</td>\n",
              "      <td>14850</td>\n",
              "    </tr>\n",
              "  </tbody>\n",
              "</table>\n",
              "<p>1174 rows × 32 columns</p>\n",
              "</div>\n",
              "      <button class=\"colab-df-convert\" onclick=\"convertToInteractive('df-138ab773-6bb6-44e2-ab73-4542efd9670b')\"\n",
              "              title=\"Convert this dataframe to an interactive table.\"\n",
              "              style=\"display:none;\">\n",
              "        \n",
              "  <svg xmlns=\"http://www.w3.org/2000/svg\" height=\"24px\"viewBox=\"0 0 24 24\"\n",
              "       width=\"24px\">\n",
              "    <path d=\"M0 0h24v24H0V0z\" fill=\"none\"/>\n",
              "    <path d=\"M18.56 5.44l.94 2.06.94-2.06 2.06-.94-2.06-.94-.94-2.06-.94 2.06-2.06.94zm-11 1L8.5 8.5l.94-2.06 2.06-.94-2.06-.94L8.5 2.5l-.94 2.06-2.06.94zm10 10l.94 2.06.94-2.06 2.06-.94-2.06-.94-.94-2.06-.94 2.06-2.06.94z\"/><path d=\"M17.41 7.96l-1.37-1.37c-.4-.4-.92-.59-1.43-.59-.52 0-1.04.2-1.43.59L10.3 9.45l-7.72 7.72c-.78.78-.78 2.05 0 2.83L4 21.41c.39.39.9.59 1.41.59.51 0 1.02-.2 1.41-.59l7.78-7.78 2.81-2.81c.8-.78.8-2.07 0-2.86zM5.41 20L4 18.59l7.72-7.72 1.47 1.35L5.41 20z\"/>\n",
              "  </svg>\n",
              "      </button>\n",
              "      \n",
              "  <style>\n",
              "    .colab-df-container {\n",
              "      display:flex;\n",
              "      flex-wrap:wrap;\n",
              "      gap: 12px;\n",
              "    }\n",
              "\n",
              "    .colab-df-convert {\n",
              "      background-color: #E8F0FE;\n",
              "      border: none;\n",
              "      border-radius: 50%;\n",
              "      cursor: pointer;\n",
              "      display: none;\n",
              "      fill: #1967D2;\n",
              "      height: 32px;\n",
              "      padding: 0 0 0 0;\n",
              "      width: 32px;\n",
              "    }\n",
              "\n",
              "    .colab-df-convert:hover {\n",
              "      background-color: #E2EBFA;\n",
              "      box-shadow: 0px 1px 2px rgba(60, 64, 67, 0.3), 0px 1px 3px 1px rgba(60, 64, 67, 0.15);\n",
              "      fill: #174EA6;\n",
              "    }\n",
              "\n",
              "    [theme=dark] .colab-df-convert {\n",
              "      background-color: #3B4455;\n",
              "      fill: #D2E3FC;\n",
              "    }\n",
              "\n",
              "    [theme=dark] .colab-df-convert:hover {\n",
              "      background-color: #434B5C;\n",
              "      box-shadow: 0px 1px 3px 1px rgba(0, 0, 0, 0.15);\n",
              "      filter: drop-shadow(0px 1px 2px rgba(0, 0, 0, 0.3));\n",
              "      fill: #FFFFFF;\n",
              "    }\n",
              "  </style>\n",
              "\n",
              "      <script>\n",
              "        const buttonEl =\n",
              "          document.querySelector('#df-138ab773-6bb6-44e2-ab73-4542efd9670b button.colab-df-convert');\n",
              "        buttonEl.style.display =\n",
              "          google.colab.kernel.accessAllowed ? 'block' : 'none';\n",
              "\n",
              "        async function convertToInteractive(key) {\n",
              "          const element = document.querySelector('#df-138ab773-6bb6-44e2-ab73-4542efd9670b');\n",
              "          const dataTable =\n",
              "            await google.colab.kernel.invokeFunction('convertToInteractive',\n",
              "                                                     [key], {});\n",
              "          if (!dataTable) return;\n",
              "\n",
              "          const docLinkHtml = 'Like what you see? Visit the ' +\n",
              "            '<a target=\"_blank\" href=https://colab.research.google.com/notebooks/data_table.ipynb>data table notebook</a>'\n",
              "            + ' to learn more about interactive tables.';\n",
              "          element.innerHTML = '';\n",
              "          dataTable['output_type'] = 'display_data';\n",
              "          await google.colab.output.renderOutput(dataTable, element);\n",
              "          const docLink = document.createElement('div');\n",
              "          docLink.innerHTML = docLinkHtml;\n",
              "          element.appendChild(docLink);\n",
              "        }\n",
              "      </script>\n",
              "    </div>\n",
              "  </div>\n",
              "  "
            ]
          },
          "metadata": {},
          "execution_count": 8
        }
      ],
      "source": [
        "data_pangan = pd.read_csv('data_pangan_indonesia.csv')\n",
        "data_pangan"
      ]
    },
    {
      "cell_type": "markdown",
      "metadata": {
        "id": "1_VaCob4tG_k"
      },
      "source": [
        "## Data Understanding\n",
        "Data yang akan digunakan berjumlah 1174 dengan 32 kolom dengan keterangan:\n",
        "1. Date : merupakan tanggal proses pengambilan data/sampel data\n",
        "2. Beras: harga beras secara kumulatif\n",
        "2. Beras Kualitas Bawah I : data harga beras dengan kualitas bawah 1/pengambilan data berdasarkan harga per-kilogram\n",
        "3. Beras Kualitas Bawah II : data harga beras dengan kualitas bawah 2/pengambilan data berdasarkan harga per-kilogram\n",
        "4. Beras Kualitas Medium I (kg) : \n",
        "5. Beras Kualitas Medium II \n",
        "1. Beras Kualitas Super II (kg)\n",
        "2. Daging Ayam\n",
        "3. Daging Ayam Ras Segar\n",
        "4. Daging Sapi\n",
        "5. Daging Sapi Kualitas 1\n",
        "6. Daging Sapi Kualitas 2,\n",
        "7. Telur Ayam\n",
        "8. Telur Ayam Ras Segar\n",
        "9. Bawang Merah\n",
        "10. Bawang Merah Ukuran Sedang\n",
        "11. Bawang Putih,\n",
        "12. Bawang Putih Ukuran Sedang (kg)\n",
        "13. Cabai Merah\n",
        "14. Cabai Merah Besar\n",
        "15. Cabai Merah Keriting\n",
        "16. Cabai Rawit\n",
        "17. Cabai Rawit Hijau\n",
        "18. Cabai Rawit Merah\n",
        "19. Minyak Goreng\n",
        "20. Minyak Goreng Curah\n",
        "21. Minyak Goreng Kemasan Bermerk 1\n",
        "22. Minyak Goreng Kemasan Bermerk 2\n",
        "23. Gula Pasir\n",
        "24. Gula Pasir Kualitas Premium\n",
        "26. Gula Pasir Lokal\n",
        "\n"
      ]
    },
    {
      "cell_type": "code",
      "execution_count": null,
      "metadata": {
        "colab": {
          "base_uri": "https://localhost:8080/"
        },
        "id": "P_r449zJr6ge",
        "outputId": "073f6265-9503-4e02-e656-f1457ead1061"
      },
      "outputs": [
        {
          "output_type": "stream",
          "name": "stdout",
          "text": [
            "<class 'pandas.core.frame.DataFrame'>\n",
            "RangeIndex: 1174 entries, 0 to 1173\n",
            "Data columns (total 32 columns):\n",
            " #   Column                                Non-Null Count  Dtype \n",
            "---  ------                                --------------  ----- \n",
            " 0   Date                                  1174 non-null   object\n",
            " 1   Beras                                 1174 non-null   int64 \n",
            " 2   Beras Kualitas Bawah I (kg)           1174 non-null   int64 \n",
            " 3   Beras Kualitas Bawah II (kg)          1174 non-null   int64 \n",
            " 4   Beras Kualitas Medium I (kg)          1174 non-null   int64 \n",
            " 5   Beras Kualitas Medium II (kg)         1174 non-null   int64 \n",
            " 6   Beras Kualitas Super I (kg)           1174 non-null   int64 \n",
            " 7   Beras Kualitas Super II (kg)          1174 non-null   int64 \n",
            " 8   Daging Ayam                           1174 non-null   int64 \n",
            " 9   Daging Ayam Ras Segar (kg)            1174 non-null   int64 \n",
            " 10  Daging Sapi                           1174 non-null   int64 \n",
            " 11  Daging Sapi Kualitas 1 (kg)           1174 non-null   int64 \n",
            " 12  Daging Sapi Kualitas 2 (kg)           1174 non-null   int64 \n",
            " 13  Telur Ayam                            1174 non-null   int64 \n",
            " 14  Telur Ayam Ras Segar(kg)              1174 non-null   int64 \n",
            " 15  Bawang Merah                          1174 non-null   int64 \n",
            " 16  Bawang Merah Ukuran Sedang (kg)       1174 non-null   int64 \n",
            " 17  Bawang Putih                          1174 non-null   int64 \n",
            " 18  Bawang Putih Ukuran Sedang (kg)       1174 non-null   int64 \n",
            " 19  Cabai Merah                           1174 non-null   int64 \n",
            " 20  Cabai Merah Besar (kg)                1174 non-null   int64 \n",
            " 21  Cabai Merah Keriting  (kg)            1174 non-null   int64 \n",
            " 22  Cabai Rawit                           1174 non-null   int64 \n",
            " 23  Cabai Rawit Hijau (kg)                1174 non-null   int64 \n",
            " 24  Cabai Rawit Merah (kg)                1174 non-null   int64 \n",
            " 25  Minyak Goreng                         1174 non-null   int64 \n",
            " 26  Minyak Goreng Curah (kg)              1174 non-null   int64 \n",
            " 27  Minyak Goreng Kemasan Bermerk 1 (kg)  1174 non-null   int64 \n",
            " 28  Minyak Goreng Kemasan Bermerk 2 (kg)  1174 non-null   int64 \n",
            " 29  Gula Pasir                            1174 non-null   int64 \n",
            " 30  Gula Pasir Kualitas Premium (kg)      1174 non-null   int64 \n",
            " 31  Gula Pasir Lokal (kg)                 1174 non-null   int64 \n",
            "dtypes: int64(31), object(1)\n",
            "memory usage: 293.6+ KB\n"
          ]
        }
      ],
      "source": [
        "data_pangan.info()"
      ]
    },
    {
      "cell_type": "code",
      "execution_count": null,
      "metadata": {
        "colab": {
          "base_uri": "https://localhost:8080/"
        },
        "id": "QrQugD4jr6pC",
        "outputId": "b7d1bec0-4c44-4ad4-a097-3c8932cbeb12"
      },
      "outputs": [
        {
          "output_type": "stream",
          "name": "stdout",
          "text": [
            "jumlah data 1174\n",
            "ukuran dari data (1174, 32)\n"
          ]
        },
        {
          "output_type": "execute_result",
          "data": {
            "text/plain": [
              "Index(['Date', 'Beras', 'Beras Kualitas Bawah I (kg)',\n",
              "       'Beras Kualitas Bawah II (kg)', 'Beras Kualitas Medium I (kg)',\n",
              "       'Beras Kualitas Medium II (kg)', 'Beras Kualitas Super I (kg)',\n",
              "       'Beras Kualitas Super II (kg)', 'Daging Ayam',\n",
              "       'Daging Ayam Ras Segar (kg)', 'Daging Sapi',\n",
              "       'Daging Sapi Kualitas 1 (kg)', 'Daging Sapi Kualitas 2 (kg)',\n",
              "       'Telur Ayam', 'Telur Ayam Ras Segar(kg)', 'Bawang Merah',\n",
              "       'Bawang Merah Ukuran Sedang (kg)', 'Bawang Putih',\n",
              "       'Bawang Putih Ukuran Sedang (kg)', 'Cabai Merah',\n",
              "       'Cabai Merah Besar (kg)', 'Cabai Merah Keriting  (kg)', 'Cabai Rawit',\n",
              "       'Cabai Rawit Hijau (kg)', 'Cabai Rawit Merah (kg)', 'Minyak Goreng',\n",
              "       'Minyak Goreng Curah (kg)', 'Minyak Goreng Kemasan Bermerk 1 (kg)',\n",
              "       'Minyak Goreng Kemasan Bermerk 2 (kg)', 'Gula Pasir',\n",
              "       'Gula Pasir Kualitas Premium (kg)', 'Gula Pasir Lokal (kg)'],\n",
              "      dtype='object')"
            ]
          },
          "metadata": {},
          "execution_count": 10
        }
      ],
      "source": [
        "print(f'jumlah data {len(data_pangan)}')\n",
        "print(f'ukuran dari data {data_pangan.shape}')\n",
        "data_pangan.columns"
      ]
    },
    {
      "cell_type": "markdown",
      "metadata": {
        "id": "NNBCaku3WWVV"
      },
      "source": [
        "## EDA"
      ]
    },
    {
      "cell_type": "code",
      "execution_count": null,
      "metadata": {
        "id": "uZ-NpmD0RzuO"
      },
      "outputs": [],
      "source": []
    },
    {
      "cell_type": "code",
      "execution_count": null,
      "metadata": {
        "id": "Wdm_QR1wRz62"
      },
      "outputs": [],
      "source": []
    },
    {
      "cell_type": "markdown",
      "metadata": {
        "id": "yeCW2w4n4TmR"
      },
      "source": [
        "## Data Processing\n",
        "setelah di pahami dan di visualisasi ternyata data memiliki nama kolom yang sulit dimengerti maka diperlukan, pergantian nama kolom seperti (kg) dihapus, huruf upper(besar/kapital) diganti lower(kecil) supaya lebih seragam, spasi diganti dengan underscore(_), bertujuan untuk memudahkan pemanggilan kolom untuk langkah selanjutnya"
      ]
    },
    {
      "cell_type": "code",
      "execution_count": null,
      "metadata": {
        "colab": {
          "base_uri": "https://localhost:8080/",
          "height": 488
        },
        "id": "1zF_ntpkb7Yr",
        "outputId": "fdfd999e-5443-4264-8ae2-833435730402"
      },
      "outputs": [
        {
          "output_type": "execute_result",
          "data": {
            "text/plain": [
              "            date  beras  beras_kualitas_bawah_i  beras_kualitas_bawah_ii  \\\n",
              "0     01/08/2017  11200                   10150                     9650   \n",
              "1     02/08/2017  11200                   10150                     9650   \n",
              "2     03/08/2017  11200                   10150                     9650   \n",
              "3     04/08/2017  11300                   10150                    10300   \n",
              "4     07/08/2017  11200                   10150                     9650   \n",
              "...          ...    ...                     ...                      ...   \n",
              "1169  25/04/2022  11750                   10700                    10450   \n",
              "1170  26/04/2022  11750                   10700                    10450   \n",
              "1171  27/04/2022  11850                   10700                    10450   \n",
              "1172  28/04/2022  11850                   10700                    10400   \n",
              "1173  29/04/2022  11850                   10700                    10400   \n",
              "\n",
              "      beras_kualitas_medium_i  beras_kualitas_medium_ii  \\\n",
              "0                       11250                     11150   \n",
              "1                       11250                     11150   \n",
              "2                       11250                     11150   \n",
              "3                       11250                     11150   \n",
              "4                       11250                     11150   \n",
              "...                       ...                       ...   \n",
              "1169                    11800                     11600   \n",
              "1170                    11800                     11550   \n",
              "1171                    11800                     11550   \n",
              "1172                    11800                     11600   \n",
              "1173                    11800                     11600   \n",
              "\n",
              "      beras_kualitas_super_i  beras_kualitas_super_ii  daging_ayam  \\\n",
              "0                      12750                    12250        34100   \n",
              "1                      12750                    12250        34150   \n",
              "2                      12700                    12250        34250   \n",
              "3                      12750                    12250        34300   \n",
              "4                      12750                    12250        34350   \n",
              "...                      ...                      ...          ...   \n",
              "1169                   13100                    12650        38750   \n",
              "1170                   13100                    12650        39100   \n",
              "1171                   13100                    13000        39600   \n",
              "1172                   13100                    13000        40350   \n",
              "1173                   13100                    13000        40350   \n",
              "\n",
              "      daging_ayam_ras_segar  ...  cabai_rawit  cabai_rawit_hijau  \\\n",
              "0                     34100  ...        41050              34800   \n",
              "1                     34150  ...        40600              34600   \n",
              "2                     34250  ...        40350              34650   \n",
              "3                     34300  ...        40500              34600   \n",
              "4                     34350  ...        39500              34300   \n",
              "...                     ...  ...          ...                ...   \n",
              "1169                  38750  ...        45500              42750   \n",
              "1170                  39100  ...        45500              42550   \n",
              "1171                  39600  ...        45750              42800   \n",
              "1172                  40350  ...        46050              42500   \n",
              "1173                  40350  ...        46050              42500   \n",
              "\n",
              "      cabai_rawit_merah  minyak_goreng  minyak_goreng_curah  \\\n",
              "0                 47550          13950                12250   \n",
              "1                 46650          13950                12250   \n",
              "2                 46050          13950                12250   \n",
              "3                 46550          13950                12200   \n",
              "4                 44900          13950                12200   \n",
              "...                 ...            ...                  ...   \n",
              "1169              46900          24600                19700   \n",
              "1170              47100          24600                19600   \n",
              "1171              47750          24650                19700   \n",
              "1172              48250          24600                19650   \n",
              "1173              48250          24600                19650   \n",
              "\n",
              "      minyak_goreng_kemasan_bermerk_1  minyak_goreng_kemasan_bermerk_2  \\\n",
              "0                               15050                            14350   \n",
              "1                               15050                            14350   \n",
              "2                               15050                            14350   \n",
              "3                               15050                            14350   \n",
              "4                               15050                            14350   \n",
              "...                               ...                              ...   \n",
              "1169                            26950                            25950   \n",
              "1170                            26950                            25900   \n",
              "1171                            27050                            26000   \n",
              "1172                            27050                            26000   \n",
              "1173                            27050                            26000   \n",
              "\n",
              "      gula_pasir  gula_pasir_kualitas_premium  gula_pasir_lokal  \n",
              "0          14900                        16800             13250  \n",
              "1          14900                        16800             13250  \n",
              "2          14900                        16800             13250  \n",
              "3          14900                        16800             13250  \n",
              "4          14900                        16800             13250  \n",
              "...          ...                          ...               ...  \n",
              "1169       15350                        16000             14800  \n",
              "1170       15350                        16000             14850  \n",
              "1171       15350                        16000             14850  \n",
              "1172       15350                        16000             14850  \n",
              "1173       15350                        16000             14850  \n",
              "\n",
              "[1174 rows x 32 columns]"
            ],
            "text/html": [
              "\n",
              "  <div id=\"df-f538e9c1-5ed8-4b24-93f8-050a788ce4d7\">\n",
              "    <div class=\"colab-df-container\">\n",
              "      <div>\n",
              "<style scoped>\n",
              "    .dataframe tbody tr th:only-of-type {\n",
              "        vertical-align: middle;\n",
              "    }\n",
              "\n",
              "    .dataframe tbody tr th {\n",
              "        vertical-align: top;\n",
              "    }\n",
              "\n",
              "    .dataframe thead th {\n",
              "        text-align: right;\n",
              "    }\n",
              "</style>\n",
              "<table border=\"1\" class=\"dataframe\">\n",
              "  <thead>\n",
              "    <tr style=\"text-align: right;\">\n",
              "      <th></th>\n",
              "      <th>date</th>\n",
              "      <th>beras</th>\n",
              "      <th>beras_kualitas_bawah_i</th>\n",
              "      <th>beras_kualitas_bawah_ii</th>\n",
              "      <th>beras_kualitas_medium_i</th>\n",
              "      <th>beras_kualitas_medium_ii</th>\n",
              "      <th>beras_kualitas_super_i</th>\n",
              "      <th>beras_kualitas_super_ii</th>\n",
              "      <th>daging_ayam</th>\n",
              "      <th>daging_ayam_ras_segar</th>\n",
              "      <th>...</th>\n",
              "      <th>cabai_rawit</th>\n",
              "      <th>cabai_rawit_hijau</th>\n",
              "      <th>cabai_rawit_merah</th>\n",
              "      <th>minyak_goreng</th>\n",
              "      <th>minyak_goreng_curah</th>\n",
              "      <th>minyak_goreng_kemasan_bermerk_1</th>\n",
              "      <th>minyak_goreng_kemasan_bermerk_2</th>\n",
              "      <th>gula_pasir</th>\n",
              "      <th>gula_pasir_kualitas_premium</th>\n",
              "      <th>gula_pasir_lokal</th>\n",
              "    </tr>\n",
              "  </thead>\n",
              "  <tbody>\n",
              "    <tr>\n",
              "      <th>0</th>\n",
              "      <td>01/08/2017</td>\n",
              "      <td>11200</td>\n",
              "      <td>10150</td>\n",
              "      <td>9650</td>\n",
              "      <td>11250</td>\n",
              "      <td>11150</td>\n",
              "      <td>12750</td>\n",
              "      <td>12250</td>\n",
              "      <td>34100</td>\n",
              "      <td>34100</td>\n",
              "      <td>...</td>\n",
              "      <td>41050</td>\n",
              "      <td>34800</td>\n",
              "      <td>47550</td>\n",
              "      <td>13950</td>\n",
              "      <td>12250</td>\n",
              "      <td>15050</td>\n",
              "      <td>14350</td>\n",
              "      <td>14900</td>\n",
              "      <td>16800</td>\n",
              "      <td>13250</td>\n",
              "    </tr>\n",
              "    <tr>\n",
              "      <th>1</th>\n",
              "      <td>02/08/2017</td>\n",
              "      <td>11200</td>\n",
              "      <td>10150</td>\n",
              "      <td>9650</td>\n",
              "      <td>11250</td>\n",
              "      <td>11150</td>\n",
              "      <td>12750</td>\n",
              "      <td>12250</td>\n",
              "      <td>34150</td>\n",
              "      <td>34150</td>\n",
              "      <td>...</td>\n",
              "      <td>40600</td>\n",
              "      <td>34600</td>\n",
              "      <td>46650</td>\n",
              "      <td>13950</td>\n",
              "      <td>12250</td>\n",
              "      <td>15050</td>\n",
              "      <td>14350</td>\n",
              "      <td>14900</td>\n",
              "      <td>16800</td>\n",
              "      <td>13250</td>\n",
              "    </tr>\n",
              "    <tr>\n",
              "      <th>2</th>\n",
              "      <td>03/08/2017</td>\n",
              "      <td>11200</td>\n",
              "      <td>10150</td>\n",
              "      <td>9650</td>\n",
              "      <td>11250</td>\n",
              "      <td>11150</td>\n",
              "      <td>12700</td>\n",
              "      <td>12250</td>\n",
              "      <td>34250</td>\n",
              "      <td>34250</td>\n",
              "      <td>...</td>\n",
              "      <td>40350</td>\n",
              "      <td>34650</td>\n",
              "      <td>46050</td>\n",
              "      <td>13950</td>\n",
              "      <td>12250</td>\n",
              "      <td>15050</td>\n",
              "      <td>14350</td>\n",
              "      <td>14900</td>\n",
              "      <td>16800</td>\n",
              "      <td>13250</td>\n",
              "    </tr>\n",
              "    <tr>\n",
              "      <th>3</th>\n",
              "      <td>04/08/2017</td>\n",
              "      <td>11300</td>\n",
              "      <td>10150</td>\n",
              "      <td>10300</td>\n",
              "      <td>11250</td>\n",
              "      <td>11150</td>\n",
              "      <td>12750</td>\n",
              "      <td>12250</td>\n",
              "      <td>34300</td>\n",
              "      <td>34300</td>\n",
              "      <td>...</td>\n",
              "      <td>40500</td>\n",
              "      <td>34600</td>\n",
              "      <td>46550</td>\n",
              "      <td>13950</td>\n",
              "      <td>12200</td>\n",
              "      <td>15050</td>\n",
              "      <td>14350</td>\n",
              "      <td>14900</td>\n",
              "      <td>16800</td>\n",
              "      <td>13250</td>\n",
              "    </tr>\n",
              "    <tr>\n",
              "      <th>4</th>\n",
              "      <td>07/08/2017</td>\n",
              "      <td>11200</td>\n",
              "      <td>10150</td>\n",
              "      <td>9650</td>\n",
              "      <td>11250</td>\n",
              "      <td>11150</td>\n",
              "      <td>12750</td>\n",
              "      <td>12250</td>\n",
              "      <td>34350</td>\n",
              "      <td>34350</td>\n",
              "      <td>...</td>\n",
              "      <td>39500</td>\n",
              "      <td>34300</td>\n",
              "      <td>44900</td>\n",
              "      <td>13950</td>\n",
              "      <td>12200</td>\n",
              "      <td>15050</td>\n",
              "      <td>14350</td>\n",
              "      <td>14900</td>\n",
              "      <td>16800</td>\n",
              "      <td>13250</td>\n",
              "    </tr>\n",
              "    <tr>\n",
              "      <th>...</th>\n",
              "      <td>...</td>\n",
              "      <td>...</td>\n",
              "      <td>...</td>\n",
              "      <td>...</td>\n",
              "      <td>...</td>\n",
              "      <td>...</td>\n",
              "      <td>...</td>\n",
              "      <td>...</td>\n",
              "      <td>...</td>\n",
              "      <td>...</td>\n",
              "      <td>...</td>\n",
              "      <td>...</td>\n",
              "      <td>...</td>\n",
              "      <td>...</td>\n",
              "      <td>...</td>\n",
              "      <td>...</td>\n",
              "      <td>...</td>\n",
              "      <td>...</td>\n",
              "      <td>...</td>\n",
              "      <td>...</td>\n",
              "      <td>...</td>\n",
              "    </tr>\n",
              "    <tr>\n",
              "      <th>1169</th>\n",
              "      <td>25/04/2022</td>\n",
              "      <td>11750</td>\n",
              "      <td>10700</td>\n",
              "      <td>10450</td>\n",
              "      <td>11800</td>\n",
              "      <td>11600</td>\n",
              "      <td>13100</td>\n",
              "      <td>12650</td>\n",
              "      <td>38750</td>\n",
              "      <td>38750</td>\n",
              "      <td>...</td>\n",
              "      <td>45500</td>\n",
              "      <td>42750</td>\n",
              "      <td>46900</td>\n",
              "      <td>24600</td>\n",
              "      <td>19700</td>\n",
              "      <td>26950</td>\n",
              "      <td>25950</td>\n",
              "      <td>15350</td>\n",
              "      <td>16000</td>\n",
              "      <td>14800</td>\n",
              "    </tr>\n",
              "    <tr>\n",
              "      <th>1170</th>\n",
              "      <td>26/04/2022</td>\n",
              "      <td>11750</td>\n",
              "      <td>10700</td>\n",
              "      <td>10450</td>\n",
              "      <td>11800</td>\n",
              "      <td>11550</td>\n",
              "      <td>13100</td>\n",
              "      <td>12650</td>\n",
              "      <td>39100</td>\n",
              "      <td>39100</td>\n",
              "      <td>...</td>\n",
              "      <td>45500</td>\n",
              "      <td>42550</td>\n",
              "      <td>47100</td>\n",
              "      <td>24600</td>\n",
              "      <td>19600</td>\n",
              "      <td>26950</td>\n",
              "      <td>25900</td>\n",
              "      <td>15350</td>\n",
              "      <td>16000</td>\n",
              "      <td>14850</td>\n",
              "    </tr>\n",
              "    <tr>\n",
              "      <th>1171</th>\n",
              "      <td>27/04/2022</td>\n",
              "      <td>11850</td>\n",
              "      <td>10700</td>\n",
              "      <td>10450</td>\n",
              "      <td>11800</td>\n",
              "      <td>11550</td>\n",
              "      <td>13100</td>\n",
              "      <td>13000</td>\n",
              "      <td>39600</td>\n",
              "      <td>39600</td>\n",
              "      <td>...</td>\n",
              "      <td>45750</td>\n",
              "      <td>42800</td>\n",
              "      <td>47750</td>\n",
              "      <td>24650</td>\n",
              "      <td>19700</td>\n",
              "      <td>27050</td>\n",
              "      <td>26000</td>\n",
              "      <td>15350</td>\n",
              "      <td>16000</td>\n",
              "      <td>14850</td>\n",
              "    </tr>\n",
              "    <tr>\n",
              "      <th>1172</th>\n",
              "      <td>28/04/2022</td>\n",
              "      <td>11850</td>\n",
              "      <td>10700</td>\n",
              "      <td>10400</td>\n",
              "      <td>11800</td>\n",
              "      <td>11600</td>\n",
              "      <td>13100</td>\n",
              "      <td>13000</td>\n",
              "      <td>40350</td>\n",
              "      <td>40350</td>\n",
              "      <td>...</td>\n",
              "      <td>46050</td>\n",
              "      <td>42500</td>\n",
              "      <td>48250</td>\n",
              "      <td>24600</td>\n",
              "      <td>19650</td>\n",
              "      <td>27050</td>\n",
              "      <td>26000</td>\n",
              "      <td>15350</td>\n",
              "      <td>16000</td>\n",
              "      <td>14850</td>\n",
              "    </tr>\n",
              "    <tr>\n",
              "      <th>1173</th>\n",
              "      <td>29/04/2022</td>\n",
              "      <td>11850</td>\n",
              "      <td>10700</td>\n",
              "      <td>10400</td>\n",
              "      <td>11800</td>\n",
              "      <td>11600</td>\n",
              "      <td>13100</td>\n",
              "      <td>13000</td>\n",
              "      <td>40350</td>\n",
              "      <td>40350</td>\n",
              "      <td>...</td>\n",
              "      <td>46050</td>\n",
              "      <td>42500</td>\n",
              "      <td>48250</td>\n",
              "      <td>24600</td>\n",
              "      <td>19650</td>\n",
              "      <td>27050</td>\n",
              "      <td>26000</td>\n",
              "      <td>15350</td>\n",
              "      <td>16000</td>\n",
              "      <td>14850</td>\n",
              "    </tr>\n",
              "  </tbody>\n",
              "</table>\n",
              "<p>1174 rows × 32 columns</p>\n",
              "</div>\n",
              "      <button class=\"colab-df-convert\" onclick=\"convertToInteractive('df-f538e9c1-5ed8-4b24-93f8-050a788ce4d7')\"\n",
              "              title=\"Convert this dataframe to an interactive table.\"\n",
              "              style=\"display:none;\">\n",
              "        \n",
              "  <svg xmlns=\"http://www.w3.org/2000/svg\" height=\"24px\"viewBox=\"0 0 24 24\"\n",
              "       width=\"24px\">\n",
              "    <path d=\"M0 0h24v24H0V0z\" fill=\"none\"/>\n",
              "    <path d=\"M18.56 5.44l.94 2.06.94-2.06 2.06-.94-2.06-.94-.94-2.06-.94 2.06-2.06.94zm-11 1L8.5 8.5l.94-2.06 2.06-.94-2.06-.94L8.5 2.5l-.94 2.06-2.06.94zm10 10l.94 2.06.94-2.06 2.06-.94-2.06-.94-.94-2.06-.94 2.06-2.06.94z\"/><path d=\"M17.41 7.96l-1.37-1.37c-.4-.4-.92-.59-1.43-.59-.52 0-1.04.2-1.43.59L10.3 9.45l-7.72 7.72c-.78.78-.78 2.05 0 2.83L4 21.41c.39.39.9.59 1.41.59.51 0 1.02-.2 1.41-.59l7.78-7.78 2.81-2.81c.8-.78.8-2.07 0-2.86zM5.41 20L4 18.59l7.72-7.72 1.47 1.35L5.41 20z\"/>\n",
              "  </svg>\n",
              "      </button>\n",
              "      \n",
              "  <style>\n",
              "    .colab-df-container {\n",
              "      display:flex;\n",
              "      flex-wrap:wrap;\n",
              "      gap: 12px;\n",
              "    }\n",
              "\n",
              "    .colab-df-convert {\n",
              "      background-color: #E8F0FE;\n",
              "      border: none;\n",
              "      border-radius: 50%;\n",
              "      cursor: pointer;\n",
              "      display: none;\n",
              "      fill: #1967D2;\n",
              "      height: 32px;\n",
              "      padding: 0 0 0 0;\n",
              "      width: 32px;\n",
              "    }\n",
              "\n",
              "    .colab-df-convert:hover {\n",
              "      background-color: #E2EBFA;\n",
              "      box-shadow: 0px 1px 2px rgba(60, 64, 67, 0.3), 0px 1px 3px 1px rgba(60, 64, 67, 0.15);\n",
              "      fill: #174EA6;\n",
              "    }\n",
              "\n",
              "    [theme=dark] .colab-df-convert {\n",
              "      background-color: #3B4455;\n",
              "      fill: #D2E3FC;\n",
              "    }\n",
              "\n",
              "    [theme=dark] .colab-df-convert:hover {\n",
              "      background-color: #434B5C;\n",
              "      box-shadow: 0px 1px 3px 1px rgba(0, 0, 0, 0.15);\n",
              "      filter: drop-shadow(0px 1px 2px rgba(0, 0, 0, 0.3));\n",
              "      fill: #FFFFFF;\n",
              "    }\n",
              "  </style>\n",
              "\n",
              "      <script>\n",
              "        const buttonEl =\n",
              "          document.querySelector('#df-f538e9c1-5ed8-4b24-93f8-050a788ce4d7 button.colab-df-convert');\n",
              "        buttonEl.style.display =\n",
              "          google.colab.kernel.accessAllowed ? 'block' : 'none';\n",
              "\n",
              "        async function convertToInteractive(key) {\n",
              "          const element = document.querySelector('#df-f538e9c1-5ed8-4b24-93f8-050a788ce4d7');\n",
              "          const dataTable =\n",
              "            await google.colab.kernel.invokeFunction('convertToInteractive',\n",
              "                                                     [key], {});\n",
              "          if (!dataTable) return;\n",
              "\n",
              "          const docLinkHtml = 'Like what you see? Visit the ' +\n",
              "            '<a target=\"_blank\" href=https://colab.research.google.com/notebooks/data_table.ipynb>data table notebook</a>'\n",
              "            + ' to learn more about interactive tables.';\n",
              "          element.innerHTML = '';\n",
              "          dataTable['output_type'] = 'display_data';\n",
              "          await google.colab.output.renderOutput(dataTable, element);\n",
              "          const docLink = document.createElement('div');\n",
              "          docLink.innerHTML = docLinkHtml;\n",
              "          element.appendChild(docLink);\n",
              "        }\n",
              "      </script>\n",
              "    </div>\n",
              "  </div>\n",
              "  "
            ]
          },
          "metadata": {},
          "execution_count": 11
        }
      ],
      "source": [
        "data_pangan.columns = data_pangan.columns.str.replace(' (kg)', '', regex=False).str.replace('(kg)', '', regex=False).str.replace(' ', '_').str.lower()\n",
        "data_pangan"
      ]
    },
    {
      "cell_type": "code",
      "execution_count": null,
      "metadata": {
        "colab": {
          "base_uri": "https://localhost:8080/"
        },
        "id": "LsLMJ-NZkADY",
        "outputId": "7e092936-05d1-4d42-81ea-90da5046d4e0"
      },
      "outputs": [
        {
          "output_type": "stream",
          "name": "stdout",
          "text": [
            "<class 'pandas.core.frame.DataFrame'>\n",
            "RangeIndex: 1174 entries, 0 to 1173\n",
            "Data columns (total 32 columns):\n",
            " #   Column                           Non-Null Count  Dtype \n",
            "---  ------                           --------------  ----- \n",
            " 0   date                             1174 non-null   object\n",
            " 1   beras                            1174 non-null   int64 \n",
            " 2   beras_kualitas_bawah_i           1174 non-null   int64 \n",
            " 3   beras_kualitas_bawah_ii          1174 non-null   int64 \n",
            " 4   beras_kualitas_medium_i          1174 non-null   int64 \n",
            " 5   beras_kualitas_medium_ii         1174 non-null   int64 \n",
            " 6   beras_kualitas_super_i           1174 non-null   int64 \n",
            " 7   beras_kualitas_super_ii          1174 non-null   int64 \n",
            " 8   daging_ayam                      1174 non-null   int64 \n",
            " 9   daging_ayam_ras_segar            1174 non-null   int64 \n",
            " 10  daging_sapi                      1174 non-null   int64 \n",
            " 11  daging_sapi_kualitas_1           1174 non-null   int64 \n",
            " 12  daging_sapi_kualitas_2           1174 non-null   int64 \n",
            " 13  telur_ayam                       1174 non-null   int64 \n",
            " 14  telur_ayam_ras_segar             1174 non-null   int64 \n",
            " 15  bawang_merah                     1174 non-null   int64 \n",
            " 16  bawang_merah_ukuran_sedang       1174 non-null   int64 \n",
            " 17  bawang_putih                     1174 non-null   int64 \n",
            " 18  bawang_putih_ukuran_sedang       1174 non-null   int64 \n",
            " 19  cabai_merah                      1174 non-null   int64 \n",
            " 20  cabai_merah_besar                1174 non-null   int64 \n",
            " 21  cabai_merah_keriting_            1174 non-null   int64 \n",
            " 22  cabai_rawit                      1174 non-null   int64 \n",
            " 23  cabai_rawit_hijau                1174 non-null   int64 \n",
            " 24  cabai_rawit_merah                1174 non-null   int64 \n",
            " 25  minyak_goreng                    1174 non-null   int64 \n",
            " 26  minyak_goreng_curah              1174 non-null   int64 \n",
            " 27  minyak_goreng_kemasan_bermerk_1  1174 non-null   int64 \n",
            " 28  minyak_goreng_kemasan_bermerk_2  1174 non-null   int64 \n",
            " 29  gula_pasir                       1174 non-null   int64 \n",
            " 30  gula_pasir_kualitas_premium      1174 non-null   int64 \n",
            " 31  gula_pasir_lokal                 1174 non-null   int64 \n",
            "dtypes: int64(31), object(1)\n",
            "memory usage: 293.6+ KB\n"
          ]
        }
      ],
      "source": [
        "data_pangan.info()"
      ]
    },
    {
      "cell_type": "code",
      "execution_count": null,
      "metadata": {
        "id": "5bjsW1UebyyR"
      },
      "outputs": [],
      "source": [
        "beras = data_pangan['beras'].values\n",
        "beras_kualitas_bawah_i = data_pangan.beras_kualitas_bawah_i.values\n",
        "beras_kualitas_bawah_ii = data_pangan.beras_kualitas_bawah_ii.values\n",
        "beras_kualitas_medium_i = data_pangan.beras_kualitas_medium_i.values\n",
        "beras_kualitas_medium_ii = data_pangan.beras_kualitas_medium_ii.values\n",
        "beras_kualitas_super_i = data_pangan.beras_kualitas_super_i.values\n",
        "beras_kualitas_super_ii = data_pangan.beras_kualitas_super_ii.values\n",
        "\n",
        "daging_ayam = data_pangan.daging_ayam.values\n",
        "daging_ayam_ras_segar = data_pangan.daging_ayam_ras_segar.values\n",
        "\n",
        "daging_sapi = data_pangan.daging_sapi.values\n",
        "daging_sapi_kualitas_1 = data_pangan.daging_sapi_kualitas_1.values\n",
        "daging_sapi_kualitas_2 = data_pangan.daging_sapi_kualitas_2.values\n",
        "\n",
        "telur_ayam = data_pangan.telur_ayam.values\n",
        "telur_ayam_ras_segar = data_pangan.telur_ayam_ras_segar.values\n",
        "\n",
        "bawang_merah = data_pangan.bawang_merah.values\n",
        "bawang_merah_ukuran_sedang = data_pangan.bawang_merah_ukuran_sedang.values\n",
        "\n",
        "bawang_putih = data_pangan.bawang_putih.values\n",
        "bawang_putih_ukuran_sedang = data_pangan.bawang_putih_ukuran_sedang.values\n",
        "\n",
        "cabai_merah = data_pangan.cabai_merah.values\n",
        "cabai_merah_besar = data_pangan.cabai_merah_besar.values\n",
        "cabai_merah_keriting = data_pangan.cabai_merah_keriting_.values\n",
        "\n",
        "cabai_rawit = data_pangan.cabai_rawit.values\n",
        "cabai_rawit_hijau = data_pangan.cabai_rawit_hijau.values\n",
        "cabai_rawit_merah = data_pangan.cabai_rawit_merah.values\n",
        "\n",
        "minyak_goreng = data_pangan.minyak_goreng.values\n",
        "minyak_goreng_curah = data_pangan.minyak_goreng_curah.values\n",
        "minyak_goreng_kemasan_bermerk_1 = data_pangan.minyak_goreng_kemasan_bermerk_1.values\n",
        "minyak_goreng_kemasan_bermerk_2 = data_pangan.minyak_goreng_kemasan_bermerk_2.values\n",
        "\n",
        "gula_pasir = data_pangan.gula_pasir.values\n",
        "gula_pasir_kualitas_premium = data_pangan.gula_pasir_kualitas_premium.values\n",
        "gula_pasir_lokal = data_pangan.gula_pasir_lokal.values\n",
        "date = data_pangan['date'].values"
      ]
    },
    {
      "cell_type": "markdown",
      "metadata": {
        "id": "PHhIGa8maRjt"
      },
      "source": [
        "### MinMaxScaller"
      ]
    },
    {
      "cell_type": "code",
      "execution_count": null,
      "metadata": {
        "id": "gh2yIAn_aQyV"
      },
      "outputs": [],
      "source": [
        "scaller = MinMaxScaler(feature_range=(0, 1))\n",
        "\n",
        "data_beras = scaller.fit_transform(beras.reshape(-1, 1))\n",
        "data_beras_kualitas_bawah_i = scaller.fit_transform(beras_kualitas_bawah_i.reshape(-1, 1))\n",
        "data_beras_kualitas_bawah_ii = scaller.fit_transform(beras_kualitas_bawah_ii.reshape(-1, 1))\n",
        "data_beras_kualitas_medium_i = scaller.fit_transform(beras_kualitas_medium_i.reshape(-1, 1))\n",
        "data_beras_kualitas_medium_ii = scaller.fit_transform(beras_kualitas_medium_ii.reshape(-1, 1))\n",
        "data_beras_kualitas_super_i = scaller.fit_transform(beras_kualitas_super_i.reshape(-1, 1))\n",
        "data_beras_kualitas_super_ii = scaller.fit_transform(beras_kualitas_super_ii.reshape(-1, 1))\n",
        "\n",
        "data_daging_ayam = scaller.fit_transform(daging_ayam.reshape(-1, 1))\n",
        "data_daging_ayam_ras_segar = scaller.fit_transform(daging_ayam_ras_segar.reshape(-1, 1))\n",
        "\n",
        "data_daging_sapi= scaller.fit_transform(daging_sapi.reshape(-1, 1))\n",
        "data_daging_sapi_kualitas_1 = scaller.fit_transform(daging_sapi_kualitas_1.reshape(-1, 1))\n",
        "data_daging_sapi_kualitas_2 = scaller.fit_transform(daging_sapi_kualitas_2.reshape(-1, 1))\n",
        "\n",
        "data_telur_ayam = scaller.fit_transform(beras_kualitas_bawah_i.reshape(-1, 1))\n",
        "data_telur_ayam_ras_segar = scaller.fit_transform(beras_kualitas_bawah_i.reshape(-1, 1))\n",
        "\n",
        "data_bawang_merah = scaller.fit_transform(bawang_merah.reshape(-1, 1))\n",
        "data_bawang_merah_ukuran_sedang = scaller.fit_transform(bawang_merah_ukuran_sedang.reshape(-1, 1))\n",
        "\n",
        "data_bawang_putih = scaller.fit_transform(bawang_putih.reshape(-1, 1))\n",
        "data_bawang_putih_ukuran_sedang= scaller.fit_transform(bawang_putih_ukuran_sedang.reshape(-1, 1))\n",
        "\n",
        "data_cabai_merah = scaller.fit_transform(cabai_merah.reshape(-1, 1))\n",
        "data_cabai_merah_besar = scaller.fit_transform(cabai_merah_besar.reshape(-1, 1))\n",
        "data_cabai_merah_keriting = scaller.fit_transform(cabai_merah_keriting.reshape(-1, 1))\n",
        "\n",
        "data_cabai_rawit = scaller.fit_transform(cabai_rawit.reshape(-1, 1))\n",
        "data_cabai_rawit_hijau = scaller.fit_transform(cabai_rawit_hijau.reshape(-1, 1))\n",
        "data_cabai_rawit_merah= scaller.fit_transform(cabai_rawit_merah.reshape(-1, 1))\n",
        "\n",
        "data_minyak_goreng = scaller.fit_transform(minyak_goreng.reshape(-1, 1))\n",
        "data_minyak_goreng_curah = scaller.fit_transform(minyak_goreng_curah.reshape(-1, 1))\n",
        "data_minyak_goreng_kemasan_bermerk_1 = scaller.fit_transform(minyak_goreng_kemasan_bermerk_1.reshape(-1, 1))\n",
        "data_minyak_goreng_kemasan_bermerk_2 = scaller.fit_transform(minyak_goreng_kemasan_bermerk_2.reshape(-1, 1))\n",
        "\n",
        "data_gula_pasir = scaller.fit_transform(gula_pasir.reshape(-1, 1))\n",
        "data_gula_pasir_kualitas_premium = scaller.fit_transform(gula_pasir_kualitas_premium.reshape(-1, 1))\n",
        "data_gula_pasir_lokal = scaller.fit_transform(gula_pasir_lokal.reshape(-1, 1))"
      ]
    },
    {
      "cell_type": "markdown",
      "metadata": {
        "id": "lbjReWZhZ26v"
      },
      "source": [
        "## Data Preparation"
      ]
    },
    {
      "cell_type": "markdown",
      "metadata": {
        "id": "cgut-olOaTze"
      },
      "source": [
        "### Split data"
      ]
    },
    {
      "cell_type": "code",
      "execution_count": null,
      "metadata": {
        "id": "ax3Jc87zZ3MD"
      },
      "outputs": [],
      "source": [
        "x_train_beras, x_test_beras, y_train_beras, y_test_beras= train_test_split(\n",
        "    data_beras, date, test_size=0.2, random_state=False, shuffle=False)\n",
        "x_train_beras, x_val_beras, y_train_beras, y_val_beras = train_test_split(\n",
        "    x_train_beras, y_train_beras, test_size=0.1, random_state=False, shuffle=False)\n",
        "\n",
        "x_train_cabai_rawit, x_test_cabai_rawit, y_train_cabai_rawit, y_test_cabai_rawit = train_test_split(\n",
        "    data_cabai_rawit, date, test_size=0.2, random_state=False, shuffle=False)\n",
        "x_train_cabai_rawit, x_val_cabai_rawit, y_train_cabai_rawit, y_val_cabai_rawit = train_test_split(\n",
        "    x_train_cabai_rawit, y_train_cabai_rawit, test_size=0.2, random_state=False, shuffle=False)\n",
        "\n",
        "x_train_beras_kualitas_bawah_i, x_test_beras_kualitas_bawah_i, y_train_beras_kualitas_bawah_i, y_beras_kualitas_bawah_i = train_test_split(\n",
        "    data_beras_kualitas_bawah_i, date, test_size=0.2, random_state=False, shuffle=False)\n",
        "x_train_beras_kualitas_bawah_i, x_val_beras_kualitas_bawah_i, y_train_beras_kualitas_bawah_i, y_val_beras_kualitas_bawah_i = train_test_split(\n",
        "    x_train_beras_kualitas_bawah_i, y_train_beras_kualitas_bawah_i, test_size=0.1, random_state=False, shuffle=False)\n",
        "\n",
        "x_train_beras_kualitas_bawah_ii, x_test_beras_kualitas_bawah_ii, y_train_beras_kualitas_bawah_i, y_test_beras_kualitas_bawah_i= train_test_split(\n",
        "    data_beras_kualitas_bawah_ii, date, test_size=0.2, random_state=False, shuffle=False)\n",
        "x_train_beras_kualitas_bawah_ii, x_val_beras_kualitas_bawah_ii, y_train_beras_kualitas_bawah_i, y_val_beras_kualitas_bawah_i = train_test_split(\n",
        "    x_train_beras, y_train_beras, test_size=0.1, random_state=False, shuffle=False)\n",
        "\n",
        "x_train_beras_kualitas_medium_i, x_test_beras_kualitas_medium_i, y_train_beras_kualitas_medium_i, y_test_beras_kualitas_medium_i = train_test_split(\n",
        "    data_beras_kualitas_medium_i, date, test_size=0.2, random_state=False, shuffle=False)\n",
        "x_train_beras_kualitas_medium_i, x_val_beras_kualitas_medium_i, y_train_beras_kualitas_medium_i, y_val_beras_kualitas_medium_i  = train_test_split(\n",
        "    x_train_beras_kualitas_medium_i, y_train_beras_kualitas_medium_i, test_size=0.1, random_state=False, shuffle=False)\n",
        "\n",
        "x_train_beras_kualitas_medium_ii, x_test_beras_kualitas_medium_ii, y_train_beras_kualitas_medium_ii, y_test_beras_kualitas_medium_ii = train_test_split(\n",
        "    data_beras_kualitas_medium_i, date, test_size=0.2, random_state=False, shuffle=False)\n",
        "x_train_beras_kualitas_medium_ii, x_val_beras_kualitas_medium_ii, y_train_beras_kualitas_medium_ii, y_val_beras_kualitas_medium_ii = train_test_split(\n",
        "    x_train_beras_kualitas_medium_ii, y_train_beras_kualitas_medium_ii, test_size=0.1, random_state=False, shuffle=False)\n",
        "\n",
        "x_train_beras_kualitas_super_i, x_test_beras_kualitas_super_i, y_train_beras_kualitas_super_i, y_test_beras_kualitas_super_i= train_test_split(\n",
        "    data_beras_kualitas_super_i, date, test_size=0.2, random_state=False, shuffle=False)\n",
        "x_train_beras_kualitas_super_i, x_val_beras_kualitas_super_i, y_train_bberas_kualitas_super_i, y_val_beras_kualitas_super_i = train_test_split(\n",
        "    x_train_beras_kualitas_super_i, y_train_beras_kualitas_super_i, test_size=0.1, random_state=False, shuffle=False)\n",
        "\n",
        "x_train_beras_kualitas_super_ii, x_test_beras_kualitas_super_ii, y_train_beras_kualitas_super_ii, y_test_beras_kualitas_super_ii= train_test_split(\n",
        "    data_beras_kualitas_super_i, date, test_size=0.2, random_state=False, shuffle=False)\n",
        "x_train_beras_kualitas_super_ii, x_val_beras_kualitas_super_ii, y_train_beras_kualitas_super_ii, y_val_beras_kualitas_super_ii = train_test_split(\n",
        "    x_train_beras_kualitas_super_ii, y_train_beras_kualitas_super_ii, test_size=0.1, random_state=False, shuffle=False)\n",
        "\n",
        "x_train_daging_ayam, x_test_daging_ayam, y_train_daging_ayam, y_test_daging_ayam= train_test_split(\n",
        "    data_daging_ayam, date, test_size=0.2, random_state=False, shuffle=False)\n",
        "x_train_daging_ayam, x_val_daging_ayam, y_train_daging_ayam, y_val_daging_ayam = train_test_split(\n",
        "    x_train_daging_ayam, y_train_daging_ayam, test_size=0.1, random_state=False, shuffle=False)\n",
        "\n",
        "x_train_daging_ayam_ras_segar, x_test_daging_ayam_ras_segar, y_train_daging_ayam_ras_segar, y_test_daging_ayam_ras_segar= train_test_split(\n",
        "    data_daging_ayam_ras_segar, date, test_size=0.2, random_state=False, shuffle=False)\n",
        "x_train_daging_ayam_ras_segar, x_val_daging_ayam_ras_segar, y_train_daging_ayam_ras_segar, y_val_daging_ayam_ras_segar = train_test_split(\n",
        "    x_train_daging_ayam_ras_segar, y_train_daging_ayam_ras_segar, test_size=0.1, random_state=False, shuffle=False)\n",
        "\n",
        "x_train_bawang_merah, x_test_bawang_merah, y_train_bawang_merah, y_test_bawang_merah= train_test_split(\n",
        "    data_bawang_merah, date, test_size=0.2, random_state=False, shuffle=False)\n",
        "x_train_bawang_merah, x_val_bawang_merah, y_train_bawang_merah, y_val_bawang_merah = train_test_split(\n",
        "    x_train_bawang_merah, y_train_bawang_merah, test_size=0.1, random_state=False, shuffle=False)\n",
        "\n",
        "x_train_bawang_merah_ukuran_sedang, x_test_bawang_merah_ukuran_sedang, y_train_bawang_merah_ukuran_sedang, y_test_bawang_merah_ukuran_sedang= train_test_split(\n",
        "    data_bawang_merah_ukuran_sedang, date, test_size=0.2, random_state=False, shuffle=False)\n",
        "x_train_bawang_merah_ukuran_sedang, x_val_bawang_merah_ukuran_sedang, y_train_bawang_merah_ukuran_sedang, y_val_bawang_merah_ukuran_sedang = train_test_split(\n",
        "    x_train_bawang_merah_ukuran_sedang, y_train_bawang_merah_ukuran_sedang, test_size=0.1, random_state=False, shuffle=False)\n",
        "\n",
        "x_train_bawang_putih, x_test_bawang_putih, y_train_bawang_putih, y_test_bawang_putih= train_test_split(\n",
        "    data_bawang_putih, date, test_size=0.2, random_state=False, shuffle=False)\n",
        "x_train_bawang_putih, x_val_bawang_putih, y_train_bawang_putih, y_val_bawang_putih= train_test_split(\n",
        "    x_train_bawang_putih, y_train_bawang_putih, test_size=0.1, random_state=False, shuffle=False)\n",
        "\n",
        "x_train_bawang_putih_ukuran_sedang, x_test_bawang_putih_ukuran_sedang, y_train_bawang_putih_ukuran_sedang, y_test_bawang_putih_ukuran_sedang = train_test_split(\n",
        "    data_bawang_putih_ukuran_sedang, date, test_size=0.2, random_state=False, shuffle=False)\n",
        "x_train_bawang_putih_ukuran_sedang, x_val_bawang_putih_ukuran_sedang, y_train_bawang_putih_ukuran_sedang, y_val_bawang_putih_ukuran_sedang = train_test_split(\n",
        "    x_train_bawang_putih_ukuran_sedang, y_train_bawang_putih_ukuran_sedang, test_size=0.1, random_state=False, shuffle=False)\n",
        "\n",
        "x_train_daging_sapi, x_test_daging_sapi, y_train_daging_sapi, y_test_daging_sapi= train_test_split(\n",
        "    data_daging_sapi, date, test_size=0.2, random_state=False, shuffle=False)\n",
        "x_train_daging_sapi, x_val_daging_sapi, y_train_daging_sapi, y_val_daging_sapi = train_test_split(\n",
        "    x_train_daging_sapi, y_train_daging_sapi, test_size=0.1, random_state=False, shuffle=False)\n",
        "\n",
        "x_train_daging_sapi_kualitas_1, x_test_daging_sapi_kualitas_1, y_train_daging_sapi_kualitas_1, y_test_daging_sapi_kualitas_1 = train_test_split(\n",
        "    data_daging_sapi_kualitas_1, date, test_size=0.2, random_state=False, shuffle=False)\n",
        "x_train_daging_sapi_kualitas_1, x_val_daging_sapi_kualitas_1, y_train_daging_sapi_kualitas_1, y_val_daging_sapi_kualitas_1 = train_test_split(\n",
        "    x_train_daging_sapi_kualitas_1, y_train_daging_sapi_kualitas_1, test_size=0.1, random_state=False, shuffle=False)\n",
        "\n",
        "x_train_daging_sapi_kualitas_2, x_test_daging_sapi_kualitas_2, y_train_daging_sapi_kualitas_2, y_test_daging_sapi_kualitas_2 = train_test_split(\n",
        "    data_daging_sapi_kualitas_2, date, test_size=0.2, random_state=False, shuffle=False)\n",
        "x_train_daging_sapi_kualitas_2, x_val_daging_sapi_kualitas_2, y_train_daging_sapi_kualitas_2, y_val_daging_sapi_kualitas_2 = train_test_split(\n",
        "    x_train_daging_sapi_kualitas_2, y_train_daging_sapi_kualitas_2, test_size=0.1, random_state=False, shuffle=False)\n",
        "\n",
        "x_train_telur_ayam, x_test_telur_ayam, y_train_telur_ayam, y_test_telur_ayam= train_test_split(\n",
        "    data_telur_ayam, date, test_size=0.2, random_state=False, shuffle=False)\n",
        "x_train_telur_ayam, x_val_telur_ayam, y_train_telur_ayam, y_val_telur_ayam = train_test_split(\n",
        "    x_train_telur_ayam, y_train_telur_ayam, test_size=0.1, random_state=False, shuffle=False)\n",
        "\n",
        "x_train_telur_ayam_ras_segar, x_test_telur_ayam_ras_segar, y_train_telur_ayam_ras_segar, y_test_telur_ayam_ras_segar= train_test_split(\n",
        "    data_telur_ayam_ras_segar, date, test_size=0.2, random_state=False, shuffle=False)\n",
        "x_train_telur_ayam_ras_segar, x_val_telur_ayam_ras_segar, y_train_telur_ayam_ras_segar, y_val_telur_ayam_ras_segar = train_test_split(\n",
        "    x_train_telur_ayam_ras_segar, y_train_telur_ayam_ras_segar, test_size=0.1, random_state=False, shuffle=False)\n",
        "\n",
        "x_train_cabai_merah, x_test_cabai_merah, y_train_cabai_merah, y_test_cabai_merah= train_test_split(\n",
        "    data_cabai_merah, date, test_size=0.2, random_state=False, shuffle=False)\n",
        "x_train_cabai_merah, x_val_cabai_merah, y_train_cabai_merah, y_val_cabai_merah = train_test_split(\n",
        "    x_train_cabai_merah, y_train_cabai_merah, test_size=0.1, random_state=False, shuffle=False)\n",
        "\n",
        "x_train_cabai_merah_besar, x_test_cabai_merah_besar, y_train_cabai_merah_besar, y_test_cabai_merah_besar= train_test_split(\n",
        "    data_cabai_merah_besar, date, test_size=0.2, random_state=False, shuffle=False)\n",
        "x_train_cabai_merah_besar, x_val_cabai_merah_besar, y_train_cabai_merah_besar, y_val_cabai_merah_besar = train_test_split(\n",
        "    x_train_cabai_merah_besar, y_train_cabai_merah_besar, test_size=0.1, random_state=False, shuffle=False)\n",
        "\n",
        "x_train_cabai_merah_keriting, x_test_cabai_merah_keriting, y_train_cabai_merah_keriting, y_test_cabai_merah_keriting= train_test_split(\n",
        "    data_cabai_merah_keriting, date, test_size=0.2, random_state=False, shuffle=False)\n",
        "x_train_cabai_merah_keriting, x_val_cabai_merah_keriting, y_train_cabai_merah_keriting, y_val_cabai_merah_keriting= train_test_split(\n",
        "    x_train_cabai_merah_keriting, y_train_cabai_merah_keriting, test_size=0.1, random_state=False, shuffle=False)\n",
        "\n",
        "x_train_minyak_goreng, x_test_minyak_goreng, y_train_minyak_goreng, y_test_minyak_goreng= train_test_split(\n",
        "    data_minyak_goreng, date, test_size=0.2, random_state=False, shuffle=False)\n",
        "x_train_minyak_goreng, x_val_minyak_goreng, y_train_minyak_goreng, y_val_minyak_goreng = train_test_split(\n",
        "    x_train_minyak_goreng, y_train_minyak_goreng, test_size=0.1, random_state=False, shuffle=False)\n",
        "\n",
        "x_train_minyak_goreng_curah, x_test_minyak_goreng_curah, y_train_minyak_goreng_curah, y_test_minyak_goreng_curah= train_test_split(\n",
        "    data_minyak_goreng_curah, date, test_size=0.2, random_state=False, shuffle=False)\n",
        "x_train_minyak_goreng_curah, x_val_minyak_goreng_curah, y_train_minyak_goreng_curah, y_val_minyak_goreng_curah = train_test_split(\n",
        "    x_train_minyak_goreng_curah, y_train_minyak_goreng_curah, test_size=0.1, random_state=False, shuffle=False)\n",
        "\n",
        "x_train_minyak_goreng_kemasan_bermerk_1, x_test_minyak_goreng_kemasan_bermerk_1, y_train_minyak_goreng_kemasan_bermerk_1, y_test_minyak_goreng_kemasan_bermerk_1= train_test_split(\n",
        "    data_minyak_goreng_kemasan_bermerk_1, date, test_size=0.2, random_state=False, shuffle=False)\n",
        "x_train_minyak_goreng_kemasan_bermerk_1, x_val_minyak_goreng_kemasan_bermerk_1, y_train_minyak_goreng_kemasan_bermerk_1, y_val_minyak_goreng_bermerek_1 = train_test_split(\n",
        "    x_train_minyak_goreng_kemasan_bermerk_1, y_train_minyak_goreng_kemasan_bermerk_1, test_size=0.1, random_state=False, shuffle=False)\n",
        "\n",
        "x_train_minyak_goreng_kemasan_bermerk_2, x_test_minyak_goreng_kemasan_bermerk_2, y_train_minyak_goreng_kemasan_bermerk_2, y_test_minyak_goreng_kemasan_bermerk_2= train_test_split(\n",
        "    data_minyak_goreng_kemasan_bermerk_2, date, test_size=0.2, random_state=False, shuffle=False)\n",
        "x_train_minyak_goreng_kemasan_bermerk_2, x_val_minyak_goreng_kemasan_bermerk_2, y_train_minyak_goreng_kemasan_bermerk_2, y_val_minyak_goreng_kemasan_bermerk_2 = train_test_split(\n",
        "    x_train_minyak_goreng_kemasan_bermerk_2, y_train_minyak_goreng_kemasan_bermerk_2, test_size=0.1, random_state=False, shuffle=False)\n",
        "\n",
        "x_train_gula_pasir, x_test_gula_pasir, y_train_gula_pasir, y_test_gula_pasir= train_test_split(\n",
        "    data_gula_pasir, date, test_size=0.2, random_state=False, shuffle=False)\n",
        "x_train_gula_pasir, x_val_gula_pasir, y_train_gula_pasir, y_val_gula_pasir = train_test_split(\n",
        "    x_train_gula_pasir, y_train_gula_pasir, test_size=0.1, random_state=False, shuffle=False)\n",
        "\n",
        "x_train_gula_pasir_kualitas_premium , x_test_gula_pasir_kualitas_premium, y_train_gula_pasir_kualitas_premium, y_test_gula_pasir_kualitas_premium= train_test_split(\n",
        "    data_gula_pasir_kualitas_premium, date, test_size=0.2, random_state=False, shuffle=False)\n",
        "x_train_gula_pasir_kualitas_premium, x_val_gula_pasir_kualitas_premium, y_train_gula_pasir_kualitas_premium, y_val_gula_pasir_kualitas_premium = train_test_split(\n",
        "    x_train_gula_pasir_kualitas_premium, y_train_gula_pasir_kualitas_premium, test_size=0.1, random_state=False, shuffle=False)\n",
        "\n",
        "x_train_gula_pasir_lokal, x_test_gula_pasir_lokal, y_train_gula_pasir_lokal, y_test_gula_pasir_lokal= train_test_split(\n",
        "    data_gula_pasir_lokal, date, test_size=0.2, random_state=False, shuffle=False)\n",
        "x_train_gula_pasir_lokal, x_val_gula_pasir_lokal, y_train_gula_pasir_lokal, y_val_gula_pasir_lokal = train_test_split(\n",
        "    x_train_gula_pasir_lokal, y_train_gula_pasir_lokal, test_size=0.1, random_state=False, shuffle=False)\n",
        "\n",
        "x_train_cabai_rawit_hijau, x_test_cabai_rawit_hijau, y_train_cabai_rawit_hijau, y_test_cabai_rawit_hijau= train_test_split(\n",
        "    data_cabai_rawit_hijau, date, test_size=0.2, random_state=False, shuffle=False)\n",
        "x_train_cabai_rawit_hijau, x_val_cabai_rawit_hijau, y_train_cabai_rawit_hijau, y_val_cabai_rawit_hijau = train_test_split(\n",
        "    x_train_cabai_rawit_hijau, y_train_cabai_rawit_hijau, test_size=0.1, random_state=False, shuffle=False)\n",
        "\n",
        "x_train_cabai_rawit_merah, x_test_cabai_rawit_merah, y_train_cabai_rawit_merah, y_test_cabai_rawit_merah= train_test_split(\n",
        "    data_cabai_rawit_merah, date, test_size=0.2, random_state=False, shuffle=False)\n",
        "x_train_cabai_rawit_merah, x_val_cabai_rawit_merah, y_train_cabai_rawit_merah, y_val_cabai_rawit_merah = train_test_split(\n",
        "    x_train_cabai_rawit_merah, y_train_cabai_rawit_merah, test_size=0.1, random_state=False, shuffle=False)"
      ]
    },
    {
      "cell_type": "code",
      "execution_count": null,
      "metadata": {
        "id": "MhVJ8aBdpEY1"
      },
      "outputs": [],
      "source": [
        "train_beras = time_step_generator(x_train_beras, time_size=100, batch_size=1, shuffle_data=200)\n",
        "train_beras_kualitas_bawah_i = time_step_generator(x_train_beras_kualitas_bawah_i, time_size=100, batch_size=1, shuffle_data=200)\n",
        "train_beras_kualitas_bawah_ii = time_step_generator(x_train_beras_kualitas_bawah_ii, time_size=100, batch_size=1, shuffle_data=200)\n",
        "train_beras_kualitas_medium_i = time_step_generator(x_train_beras_kualitas_medium_i, time_size=100, batch_size=1, shuffle_data=200)\n",
        "train_beras_kualitas_medium_ii = time_step_generator(x_train_beras_kualitas_medium_ii, time_size=100, batch_size=1, shuffle_data=200)\n",
        "train_beras_kualitas_super_i = time_step_generator(x_train_beras_kualitas_super_i, time_size=100, batch_size=1, shuffle_data=200)\n",
        "train_beras_kualitas_super_ii = time_step_generator(x_train_beras_kualitas_super_ii, time_size=100, batch_size=1, shuffle_data=200)\n",
        "\n",
        "train_daging_ayam = time_step_generator(x_train_daging_ayam, time_size=50, batch_size=1, shuffle_data=200)\n",
        "train_daging_ayam_ras_segar = time_step_generator(x_train_daging_ayam_ras_segar, time_size=100, batch_size=1, shuffle_data=200)\n",
        "\n",
        "train_daging_sapi = time_step_generator(x_train_daging_sapi, time_size=100, batch_size=1, shuffle_data=200)\n",
        "train_daging_sapi_kualitas_1 = time_step_generator(x_train_daging_sapi_kualitas_1, time_size=100, batch_size=1, shuffle_data=200)\n",
        "train_daging_sapi_kualitas_2 = time_step_generator(x_train_daging_sapi_kualitas_2, time_size=100, batch_size=1, shuffle_data=200)\n",
        "\n",
        "train_telur_ayam = time_step_generator(x_train_beras, time_size=100, batch_size=1, shuffle_data=200)\n",
        "train_telur_ayam_ras_segar = time_step_generator(x_train_beras, time_size=100, batch_size=1, shuffle_data=200)\n",
        "\n",
        "train_bawang_merah = time_step_generator(x_train_bawang_merah, time_size=100, batch_size=1, shuffle_data=200)\n",
        "train_bawang_merah_ukuran_sedang = time_step_generator(x_train_bawang_merah, time_size=100, batch_size=1, shuffle_data=200)\n",
        "\n",
        "train_bawang_putih = time_step_generator(x_train_bawang_putih, time_size=100, batch_size=1, shuffle_data=200)\n",
        "train_bawang_putih_ukuran_sedang = time_step_generator(x_train_bawang_putih_ukuran_sedang, time_size=100, batch_size=1, shuffle_data=200)\n",
        "\n",
        "train_cabai_merah = time_step_generator(x_train_cabai_merah, time_size=100, batch_size=1, shuffle_data=200)\n",
        "train_cabai_merah_keriting = time_step_generator(x_train_cabai_merah_keriting, time_size=100, batch_size=1, shuffle_data=200)\n",
        "train_cabai_merah_besar = time_step_generator(x_train_cabai_merah_besar, time_size=100, batch_size=1, shuffle_data=200)\n",
        "\n",
        "train_cabai_rawit = time_step_generator(x_train_cabai_rawit, time_size=200, batch_size=1, shuffle_data=200)\n",
        "train_cabai_rawit_hijau = time_step_generator(x_train_cabai_rawit_hijau, time_size=100, batch_size=1, shuffle_data=200)\n",
        "train_cabai_rawit_merah = time_step_generator(x_train_cabai_rawit_merah, time_size=100, batch_size=1, shuffle_data=200)\n",
        "\n",
        "train_minyak_goreng = time_step_generator(x_train_minyak_goreng, time_size=100, batch_size=1, shuffle_data=200)\n",
        "train_minyak_goreng_curah = time_step_generator(x_train_minyak_goreng_curah, time_size=100, batch_size=1, shuffle_data=200)\n",
        "train_minyak_goreng_kemasan_bermerek_1 = time_step_generator(x_train_minyak_goreng_kemasan_bermerk_1, time_size=100, batch_size=1, shuffle_data=200)\n",
        "train_minyak_goreng_kemasan_bermerek_2 = time_step_generator(x_train_minyak_goreng_kemasan_bermerk_2, time_size=100, batch_size=1, shuffle_data=200)\n",
        "\n",
        "train_gula_pasir = time_step_generator(x_train_gula_pasir, time_size=100, batch_size=1, shuffle_data=200)\n",
        "train_gula_pasir_kualitas_premium = time_step_generator(x_train_gula_pasir_kualitas_premium, time_size=100, batch_size=1, shuffle_data=200)\n",
        "train_gula_pasir_lokal = time_step_generator(x_train_gula_pasir_lokal, time_size=100, batch_size=1, shuffle_data=200)"
      ]
    },
    {
      "cell_type": "markdown",
      "metadata": {
        "id": "Uf87HYbsZ3d4"
      },
      "source": [
        "## Modeling"
      ]
    },
    {
      "cell_type": "code",
      "execution_count": null,
      "metadata": {
        "colab": {
          "base_uri": "https://localhost:8080/"
        },
        "id": "uF1x_dB-Z8kW",
        "outputId": "3ee734dd-c3f7-4aab-ff5f-9eb2f8002428"
      },
      "outputs": [
        {
          "output_type": "stream",
          "name": "stdout",
          "text": [
            "Model: \"sequential\"\n",
            "_________________________________________________________________\n",
            " Layer (type)                Output Shape              Param #   \n",
            "=================================================================\n",
            " conv1d (Conv1D)             (None, None, 4)           12        \n",
            "                                                                 \n",
            " lstm (LSTM)                 (None, None, 24)          2784      \n",
            "                                                                 \n",
            " lstm_1 (LSTM)               (None, 16)                2624      \n",
            "                                                                 \n",
            " dense (Dense)               (None, 64)                1088      \n",
            "                                                                 \n",
            " dense_1 (Dense)             (None, 1)                 65        \n",
            "                                                                 \n",
            "=================================================================\n",
            "Total params: 6,573\n",
            "Trainable params: 6,573\n",
            "Non-trainable params: 0\n",
            "_________________________________________________________________\n"
          ]
        }
      ],
      "source": [
        "model= Sequential([\n",
        "    Conv1D(4, kernel_size=2, activation='relu', strides=2, input_shape=[None, 1]),\n",
        "    LSTM(24, return_sequences=True),\n",
        "    LSTM(16),\n",
        "    Dense(64, activation='relu'),\n",
        "    Dense(1)\n",
        "])\n",
        "\n",
        "model.summary()"
      ]
    },
    {
      "cell_type": "code",
      "execution_count": null,
      "metadata": {
        "id": "nBpAgy8caz9r"
      },
      "outputs": [],
      "source": [
        "model.compile(optimizer=tf.keras.optimizers.Adam(learning_rate=1e-3), loss=tf.keras.losses.Huber(), metrics=['mae', 'mape'])"
      ]
    },
    {
      "cell_type": "code",
      "execution_count": null,
      "metadata": {
        "id": "x2OEklxLa8b8",
        "colab": {
          "base_uri": "https://localhost:8080/"
        },
        "outputId": "da428366-75a0-4b83-a2f2-9336b9262cff"
      },
      "outputs": [
        {
          "output_type": "stream",
          "name": "stdout",
          "text": [
            "Epoch 1/10\n",
            "745/745 [==============================] - 6s 8ms/step - loss: 6.4146e-04 - mae: 0.0148 - mape: 3.1514\n",
            "Epoch 2/10\n",
            "745/745 [==============================] - 6s 8ms/step - loss: 4.5159e-04 - mae: 0.0110 - mape: 2.2953\n",
            "Epoch 3/10\n",
            "745/745 [==============================] - 6s 8ms/step - loss: 4.5908e-04 - mae: 0.0115 - mape: 2.4035\n",
            "Epoch 4/10\n",
            "745/745 [==============================] - 10s 13ms/step - loss: 4.4265e-04 - mae: 0.0108 - mape: 2.2718\n",
            "Epoch 5/10\n",
            "745/745 [==============================] - 6s 8ms/step - loss: 4.3673e-04 - mae: 0.0108 - mape: 2.2460\n",
            "Epoch 6/10\n",
            "745/745 [==============================] - 6s 8ms/step - loss: 4.2726e-04 - mae: 0.0100 - mape: 2.0786\n",
            "Epoch 7/10\n",
            "745/745 [==============================] - 6s 8ms/step - loss: 4.7603e-04 - mae: 0.0127 - mape: 2.6676\n",
            "Epoch 8/10\n",
            "745/745 [==============================] - 6s 8ms/step - loss: 4.2462e-04 - mae: 0.0101 - mape: 2.0994\n",
            "Epoch 9/10\n",
            "745/745 [==============================] - 6s 8ms/step - loss: 4.3260e-04 - mae: 0.0110 - mape: 2.2947\n",
            "Epoch 10/10\n",
            "745/745 [==============================] - 6s 8ms/step - loss: 4.3788e-04 - mae: 0.0108 - mape: 2.2597\n"
          ]
        }
      ],
      "source": [
        "history_beras = model.fit(train_beras, epochs=10)"
      ]
    },
    {
      "cell_type": "code",
      "source": [
        "history_daging_ayam = model.fit(train_daging_ayam, epochs=10)"
      ],
      "metadata": {
        "colab": {
          "base_uri": "https://localhost:8080/"
        },
        "id": "rcpPRe9Cs4IR",
        "outputId": "17243da4-67dc-48e3-ab1e-9b36808b5449"
      },
      "execution_count": null,
      "outputs": [
        {
          "output_type": "stream",
          "name": "stdout",
          "text": [
            "Epoch 1/10\n",
            "795/795 [==============================] - 5s 7ms/step - loss: 0.0015 - mae: 0.0392 - mape: 85691.8906\n",
            "Epoch 2/10\n",
            "795/795 [==============================] - 5s 7ms/step - loss: 5.7808e-04 - mae: 0.0237 - mape: 84373.9688\n",
            "Epoch 3/10\n",
            "795/795 [==============================] - 5s 7ms/step - loss: 5.4178e-04 - mae: 0.0233 - mape: 56203.3555\n",
            "Epoch 4/10\n",
            "795/795 [==============================] - 5s 7ms/step - loss: 5.1708e-04 - mae: 0.0223 - mape: 36447.8945\n",
            "Epoch 5/10\n",
            "795/795 [==============================] - 5s 7ms/step - loss: 5.3670e-04 - mae: 0.0223 - mape: 40590.8359\n",
            "Epoch 6/10\n",
            "795/795 [==============================] - 5s 7ms/step - loss: 5.0150e-04 - mae: 0.0221 - mape: 61684.6797\n",
            "Epoch 7/10\n",
            "795/795 [==============================] - 5s 7ms/step - loss: 5.2937e-04 - mae: 0.0226 - mape: 37572.4219\n",
            "Epoch 8/10\n",
            "795/795 [==============================] - 5s 7ms/step - loss: 4.8662e-04 - mae: 0.0209 - mape: 53768.7383\n",
            "Epoch 9/10\n",
            "795/795 [==============================] - 5s 7ms/step - loss: 5.0238e-04 - mae: 0.0215 - mape: 58264.3164\n",
            "Epoch 10/10\n",
            "795/795 [==============================] - 5s 7ms/step - loss: 5.0994e-04 - mae: 0.0214 - mape: 56091.6914\n"
          ]
        }
      ]
    },
    {
      "cell_type": "code",
      "source": [
        "history_daging_sapi = model.fit(train_daging_sapi, epochs=10)"
      ],
      "metadata": {
        "colab": {
          "base_uri": "https://localhost:8080/"
        },
        "id": "bD3kJOFqtD-e",
        "outputId": "8b60fdb0-baf5-4b90-a932-47d0678a8972"
      },
      "execution_count": null,
      "outputs": [
        {
          "output_type": "stream",
          "name": "stdout",
          "text": [
            "Epoch 1/10\n",
            "745/745 [==============================] - 6s 8ms/step - loss: 5.6281e-04 - mae: 0.0157 - mape: 10.5495\n",
            "Epoch 2/10\n",
            "745/745 [==============================] - 6s 8ms/step - loss: 4.1533e-04 - mae: 0.0137 - mape: 8.3434\n",
            "Epoch 3/10\n",
            "745/745 [==============================] - 6s 8ms/step - loss: 3.9637e-04 - mae: 0.0142 - mape: 9.3108\n",
            "Epoch 4/10\n",
            "745/745 [==============================] - 6s 8ms/step - loss: 3.9196e-04 - mae: 0.0136 - mape: 8.9294\n",
            "Epoch 5/10\n",
            "745/745 [==============================] - 6s 8ms/step - loss: 3.3490e-04 - mae: 0.0126 - mape: 7.6255\n",
            "Epoch 6/10\n",
            "745/745 [==============================] - 6s 8ms/step - loss: 3.7604e-04 - mae: 0.0132 - mape: 8.1447\n",
            "Epoch 7/10\n",
            "745/745 [==============================] - 6s 8ms/step - loss: 3.7135e-04 - mae: 0.0125 - mape: 7.9212\n",
            "Epoch 8/10\n",
            "745/745 [==============================] - 6s 8ms/step - loss: 3.6687e-04 - mae: 0.0136 - mape: 8.2814\n",
            "Epoch 9/10\n",
            "745/745 [==============================] - 6s 8ms/step - loss: 3.3761e-04 - mae: 0.0128 - mape: 8.0174\n",
            "Epoch 10/10\n",
            "745/745 [==============================] - 6s 8ms/step - loss: 3.5776e-04 - mae: 0.0129 - mape: 7.9088\n"
          ]
        }
      ]
    },
    {
      "cell_type": "code",
      "source": [
        "history_telur_ayam = model.fit(train_telur_ayam, epochs=10)"
      ],
      "metadata": {
        "colab": {
          "base_uri": "https://localhost:8080/"
        },
        "id": "nrETfcG1tEEc",
        "outputId": "bbf2e682-67c3-4b34-b205-7b5674c7cc50"
      },
      "execution_count": null,
      "outputs": [
        {
          "output_type": "stream",
          "name": "stdout",
          "text": [
            "Epoch 1/10\n",
            "745/745 [==============================] - 6s 8ms/step - loss: 6.1157e-04 - mae: 0.0151 - mape: 3.1981\n",
            "Epoch 2/10\n",
            "745/745 [==============================] - 6s 8ms/step - loss: 5.3605e-04 - mae: 0.0140 - mape: 2.9672\n",
            "Epoch 3/10\n",
            "745/745 [==============================] - 6s 8ms/step - loss: 5.3211e-04 - mae: 0.0140 - mape: 2.9577\n",
            "Epoch 4/10\n",
            "745/745 [==============================] - 6s 8ms/step - loss: 5.2694e-04 - mae: 0.0143 - mape: 3.0280\n",
            "Epoch 5/10\n",
            "745/745 [==============================] - 6s 8ms/step - loss: 5.1833e-04 - mae: 0.0130 - mape: 2.7527\n",
            "Epoch 6/10\n",
            "745/745 [==============================] - 6s 8ms/step - loss: 4.8089e-04 - mae: 0.0122 - mape: 2.5702\n",
            "Epoch 7/10\n",
            "745/745 [==============================] - 6s 8ms/step - loss: 4.7695e-04 - mae: 0.0122 - mape: 2.5603\n",
            "Epoch 8/10\n",
            "745/745 [==============================] - 6s 8ms/step - loss: 4.9965e-04 - mae: 0.0131 - mape: 2.7770\n",
            "Epoch 9/10\n",
            "745/745 [==============================] - 6s 8ms/step - loss: 5.1272e-04 - mae: 0.0129 - mape: 2.7230\n",
            "Epoch 10/10\n",
            "745/745 [==============================] - 6s 8ms/step - loss: 4.7742e-04 - mae: 0.0126 - mape: 2.6599\n"
          ]
        }
      ]
    },
    {
      "cell_type": "code",
      "source": [
        "history_bawang_putih = model.fit(train_bawang_putih, epochs=10)"
      ],
      "metadata": {
        "colab": {
          "base_uri": "https://localhost:8080/"
        },
        "id": "ziIIX1nBtELR",
        "outputId": "08078a05-8e31-4649-834a-95d521f3122a"
      },
      "execution_count": null,
      "outputs": [
        {
          "output_type": "stream",
          "name": "stdout",
          "text": [
            "Epoch 1/10\n",
            "745/745 [==============================] - 6s 8ms/step - loss: 7.2852e-04 - mae: 0.0188 - mape: 80896.7734\n",
            "Epoch 2/10\n",
            "745/745 [==============================] - 6s 8ms/step - loss: 5.0724e-04 - mae: 0.0133 - mape: 60600.3164\n",
            "Epoch 3/10\n",
            "745/745 [==============================] - 6s 8ms/step - loss: 4.6244e-04 - mae: 0.0123 - mape: 43259.7109\n",
            "Epoch 4/10\n",
            "745/745 [==============================] - 6s 8ms/step - loss: 4.6910e-04 - mae: 0.0131 - mape: 29901.4473\n",
            "Epoch 5/10\n",
            "745/745 [==============================] - 6s 8ms/step - loss: 5.0018e-04 - mae: 0.0129 - mape: 38472.6445\n",
            "Epoch 6/10\n",
            "745/745 [==============================] - 6s 8ms/step - loss: 4.5809e-04 - mae: 0.0118 - mape: 68325.0156\n",
            "Epoch 7/10\n",
            "745/745 [==============================] - 6s 8ms/step - loss: 5.0188e-04 - mae: 0.0128 - mape: 73456.7109\n",
            "Epoch 8/10\n",
            "745/745 [==============================] - 6s 8ms/step - loss: 4.4792e-04 - mae: 0.0114 - mape: 30136.5605\n",
            "Epoch 9/10\n",
            "745/745 [==============================] - 6s 8ms/step - loss: 4.8136e-04 - mae: 0.0129 - mape: 37891.4258\n",
            "Epoch 10/10\n",
            "745/745 [==============================] - 6s 8ms/step - loss: 4.5984e-04 - mae: 0.0128 - mape: 29625.9648\n"
          ]
        }
      ]
    },
    {
      "cell_type": "code",
      "source": [
        "history_bawang_merah = model.fit(train_bawang_merah, epochs=10)"
      ],
      "metadata": {
        "colab": {
          "base_uri": "https://localhost:8080/"
        },
        "id": "5Q-fpOvetMoC",
        "outputId": "cf4ef5ea-4eba-4310-ac19-9045337446b3"
      },
      "execution_count": null,
      "outputs": [
        {
          "output_type": "stream",
          "name": "stdout",
          "text": [
            "Epoch 1/10\n",
            "745/745 [==============================] - 6s 8ms/step - loss: 2.9445e-04 - mae: 0.0124 - mape: 49095.2930\n",
            "Epoch 2/10\n",
            "745/745 [==============================] - 6s 8ms/step - loss: 2.7738e-04 - mae: 0.0122 - mape: 106985.7422\n",
            "Epoch 3/10\n",
            "745/745 [==============================] - 6s 8ms/step - loss: 2.4183e-04 - mae: 0.0117 - mape: 69098.5938\n",
            "Epoch 4/10\n",
            "745/745 [==============================] - 6s 8ms/step - loss: 2.3056e-04 - mae: 0.0105 - mape: 74773.6562\n",
            "Epoch 5/10\n",
            "745/745 [==============================] - 6s 8ms/step - loss: 2.1068e-04 - mae: 0.0101 - mape: 32245.1348\n",
            "Epoch 6/10\n",
            "745/745 [==============================] - 6s 8ms/step - loss: 2.5509e-04 - mae: 0.0117 - mape: 45689.9023\n",
            "Epoch 7/10\n",
            "745/745 [==============================] - 6s 9ms/step - loss: 2.2085e-04 - mae: 0.0105 - mape: 75887.6484\n",
            "Epoch 8/10\n",
            "745/745 [==============================] - 6s 8ms/step - loss: 2.1542e-04 - mae: 0.0108 - mape: 48853.9688\n",
            "Epoch 9/10\n",
            "745/745 [==============================] - 6s 8ms/step - loss: 2.0703e-04 - mae: 0.0100 - mape: 43184.2539\n",
            "Epoch 10/10\n",
            "745/745 [==============================] - 6s 8ms/step - loss: 2.0335e-04 - mae: 0.0104 - mape: 76600.8828\n"
          ]
        }
      ]
    },
    {
      "cell_type": "code",
      "source": [
        "history_cabai_merah = model.fit(train_cabai_merah, epochs=10)"
      ],
      "metadata": {
        "colab": {
          "base_uri": "https://localhost:8080/"
        },
        "id": "xP2pSNmUs4Nd",
        "outputId": "84731a33-ec64-4335-da21-32040e555b1b"
      },
      "execution_count": null,
      "outputs": [
        {
          "output_type": "stream",
          "name": "stdout",
          "text": [
            "Epoch 1/10\n",
            "745/745 [==============================] - 6s 8ms/step - loss: 9.6858e-04 - mae: 0.0221 - mape: 155590.0000\n",
            "Epoch 2/10\n",
            "745/745 [==============================] - 6s 8ms/step - loss: 8.6877e-04 - mae: 0.0209 - mape: 176190.5625\n",
            "Epoch 3/10\n",
            "745/745 [==============================] - 6s 8ms/step - loss: 6.9456e-04 - mae: 0.0186 - mape: 201790.5781\n",
            "Epoch 4/10\n",
            "745/745 [==============================] - 6s 8ms/step - loss: 6.4431e-04 - mae: 0.0184 - mape: 177031.0156\n",
            "Epoch 5/10\n",
            "745/745 [==============================] - 6s 8ms/step - loss: 6.5001e-04 - mae: 0.0180 - mape: 174380.5469\n",
            "Epoch 6/10\n",
            "745/745 [==============================] - 6s 8ms/step - loss: 6.8648e-04 - mae: 0.0187 - mape: 275251.1875\n",
            "Epoch 7/10\n",
            "745/745 [==============================] - 6s 8ms/step - loss: 5.7020e-04 - mae: 0.0179 - mape: 184162.1406\n",
            "Epoch 8/10\n",
            "745/745 [==============================] - 6s 8ms/step - loss: 5.6083e-04 - mae: 0.0180 - mape: 194546.0000\n",
            "Epoch 9/10\n",
            "745/745 [==============================] - 6s 8ms/step - loss: 5.6763e-04 - mae: 0.0181 - mape: 189358.6719\n",
            "Epoch 10/10\n",
            "745/745 [==============================] - 6s 8ms/step - loss: 4.8551e-04 - mae: 0.0169 - mape: 172853.1094\n"
          ]
        }
      ]
    },
    {
      "cell_type": "code",
      "source": [
        "history_cabai_rawit = model.fit(train_cabai_rawit, epochs=10)"
      ],
      "metadata": {
        "colab": {
          "base_uri": "https://localhost:8080/"
        },
        "id": "_z3AV3X7s4TT",
        "outputId": "9f583b3e-a1b0-4377-c6cb-1e5042f93a17"
      },
      "execution_count": null,
      "outputs": [
        {
          "output_type": "stream",
          "name": "stdout",
          "text": [
            "Epoch 1/10\n",
            "551/551 [==============================] - 6s 10ms/step - loss: 4.6516e-04 - mae: 0.0167 - mape: 7.7595\n",
            "Epoch 2/10\n",
            "551/551 [==============================] - 6s 10ms/step - loss: 4.1474e-04 - mae: 0.0167 - mape: 7.8539\n",
            "Epoch 3/10\n",
            "551/551 [==============================] - 6s 10ms/step - loss: 3.7521e-04 - mae: 0.0164 - mape: 7.8466\n",
            "Epoch 4/10\n",
            "551/551 [==============================] - 6s 10ms/step - loss: 3.7164e-04 - mae: 0.0171 - mape: 8.0311\n",
            "Epoch 5/10\n",
            "551/551 [==============================] - 6s 10ms/step - loss: 3.4168e-04 - mae: 0.0165 - mape: 8.1650\n",
            "Epoch 6/10\n",
            "551/551 [==============================] - 6s 10ms/step - loss: 3.3706e-04 - mae: 0.0166 - mape: 8.5706\n",
            "Epoch 7/10\n",
            "551/551 [==============================] - 6s 11ms/step - loss: 3.3698e-04 - mae: 0.0166 - mape: 8.2627\n",
            "Epoch 8/10\n",
            "551/551 [==============================] - 6s 10ms/step - loss: 3.2779e-04 - mae: 0.0158 - mape: 7.8236\n",
            "Epoch 9/10\n",
            "551/551 [==============================] - 6s 10ms/step - loss: 2.9405e-04 - mae: 0.0151 - mape: 7.2663\n",
            "Epoch 10/10\n",
            "551/551 [==============================] - 6s 10ms/step - loss: 2.9994e-04 - mae: 0.0158 - mape: 7.6818\n"
          ]
        }
      ]
    },
    {
      "cell_type": "code",
      "source": [
        "history_gula_pasir = model.fit(train_gula_pasir, epochs=10)"
      ],
      "metadata": {
        "colab": {
          "base_uri": "https://localhost:8080/"
        },
        "id": "6YSF2yIwlLTV",
        "outputId": "5eced9e9-5255-4c23-b8c1-1d96443e25f5"
      },
      "execution_count": null,
      "outputs": [
        {
          "output_type": "stream",
          "name": "stdout",
          "text": [
            "Epoch 1/10\n",
            "745/745 [==============================] - 6s 8ms/step - loss: 1.3883e-04 - mae: 0.0096 - mape: 284368.9375\n",
            "Epoch 2/10\n",
            "745/745 [==============================] - 6s 8ms/step - loss: 1.2002e-04 - mae: 0.0090 - mape: 201987.0781\n",
            "Epoch 3/10\n",
            "745/745 [==============================] - 6s 8ms/step - loss: 1.2931e-04 - mae: 0.0090 - mape: 127219.9531\n",
            "Epoch 4/10\n",
            "745/745 [==============================] - 6s 8ms/step - loss: 1.3855e-04 - mae: 0.0093 - mape: 174994.0625\n",
            "Epoch 5/10\n",
            "745/745 [==============================] - 6s 8ms/step - loss: 9.8924e-05 - mae: 0.0080 - mape: 131047.7500\n",
            "Epoch 6/10\n",
            "745/745 [==============================] - 6s 8ms/step - loss: 1.2676e-04 - mae: 0.0094 - mape: 114752.4531\n",
            "Epoch 7/10\n",
            "745/745 [==============================] - 6s 8ms/step - loss: 8.2102e-05 - mae: 0.0075 - mape: 143047.1406\n",
            "Epoch 8/10\n",
            "745/745 [==============================] - 6s 8ms/step - loss: 1.1530e-04 - mae: 0.0084 - mape: 71079.4453\n",
            "Epoch 9/10\n",
            "745/745 [==============================] - 6s 8ms/step - loss: 9.0183e-05 - mae: 0.0082 - mape: 148077.7812\n",
            "Epoch 10/10\n",
            "745/745 [==============================] - 6s 8ms/step - loss: 9.2794e-05 - mae: 0.0084 - mape: 102699.6719\n"
          ]
        }
      ]
    },
    {
      "cell_type": "code",
      "source": [
        "history_minyak_goreng = model.fit(train_minyak_goreng, epochs=10)"
      ],
      "metadata": {
        "colab": {
          "base_uri": "https://localhost:8080/"
        },
        "id": "TuS2DIgVs4Yl",
        "outputId": "d2087db5-7a72-4ace-9e17-c7c5862dcafd"
      },
      "execution_count": null,
      "outputs": [
        {
          "output_type": "stream",
          "name": "stdout",
          "text": [
            "Epoch 1/10\n",
            "745/745 [==============================] - 6s 8ms/step - loss: 6.0570e-05 - mae: 0.0055 - mape: 45755.7383\n",
            "Epoch 2/10\n",
            "745/745 [==============================] - 6s 8ms/step - loss: 5.1501e-05 - mae: 0.0055 - mape: 42408.1406\n",
            "Epoch 3/10\n",
            "745/745 [==============================] - 6s 8ms/step - loss: 4.6182e-05 - mae: 0.0052 - mape: 38336.4688\n",
            "Epoch 4/10\n",
            "745/745 [==============================] - 6s 8ms/step - loss: 5.1715e-05 - mae: 0.0056 - mape: 38648.5781\n",
            "Epoch 5/10\n",
            "745/745 [==============================] - 6s 8ms/step - loss: 4.4937e-05 - mae: 0.0048 - mape: 20399.0371\n",
            "Epoch 6/10\n",
            "745/745 [==============================] - 6s 8ms/step - loss: 4.3003e-05 - mae: 0.0047 - mape: 39476.3906\n",
            "Epoch 7/10\n",
            "745/745 [==============================] - 6s 8ms/step - loss: 3.9157e-05 - mae: 0.0043 - mape: 47929.1367\n",
            "Epoch 8/10\n",
            "745/745 [==============================] - 6s 9ms/step - loss: 4.1331e-05 - mae: 0.0044 - mape: 45372.6445\n",
            "Epoch 9/10\n",
            "745/745 [==============================] - 6s 8ms/step - loss: 3.8992e-05 - mae: 0.0044 - mape: 40029.7539\n",
            "Epoch 10/10\n",
            "745/745 [==============================] - 6s 8ms/step - loss: 3.8098e-05 - mae: 0.0041 - mape: 42989.4844\n"
          ]
        }
      ]
    },
    {
      "cell_type": "code",
      "execution_count": null,
      "metadata": {
        "colab": {
          "base_uri": "https://localhost:8080/",
          "height": 265
        },
        "id": "gF1u6lB7vs_l",
        "outputId": "c4bb4d8a-40b9-4987-e501-e9bf3c40b102"
      },
      "outputs": [
        {
          "output_type": "display_data",
          "data": {
            "text/plain": [
              "<Figure size 432x288 with 1 Axes>"
            ],
            "image/png": "[encoded data removed]"
          },
          "metadata": {
            "needs_background": "light"
          }
        }
      ],
      "source": [
        "plot_value(history_beras)"
      ]
    },
    {
      "cell_type": "markdown",
      "metadata": {
        "id": "UxPGFG41Z80O"
      },
      "source": [
        "## Evaluation"
      ]
    },
    {
      "cell_type": "code",
      "execution_count": null,
      "metadata": {
        "colab": {
          "base_uri": "https://localhost:8080/"
        },
        "id": "3P1lFlX7Z89l",
        "outputId": "7a2f227a-872c-443b-f4af-c0f7cd8d11fc"
      },
      "outputs": [
        {
          "output_type": "execute_result",
          "data": {
            "text/plain": [
              "(231, 1)"
            ]
          },
          "metadata": {},
          "execution_count": 30
        }
      ],
      "source": [
        "prediction = forecast_predict(model, x_test_daging_ayam, time_size=5, batch_size=1, shuffle_data=100)\n",
        "prediction.shape"
      ]
    },
    {
      "cell_type": "code",
      "execution_count": null,
      "metadata": {
        "colab": {
          "base_uri": "https://localhost:8080/"
        },
        "id": "T2YSnrlDxUo0",
        "outputId": "4bdccf59-2bc1-45c9-a62f-834be6715f05"
      },
      "outputs": [
        {
          "output_type": "execute_result",
          "data": {
            "text/plain": [
              "(231,)"
            ]
          },
          "metadata": {},
          "execution_count": 31
        }
      ],
      "source": [
        "result = prediction.squeeze()\n",
        "results = result.reshape(-1, 1)\n",
        "results = scaller.inverse_transform(results)\n",
        "results = results.reshape(-1)\n",
        "results.shape"
      ]
    },
    {
      "cell_type": "code",
      "execution_count": null,
      "metadata": {
        "id": "YFe3hbvxxc8d"
      },
      "outputs": [],
      "source": [
        "data_test = x_test_daging_ayam[:-4]\n",
        "data_test = data_test.reshape(-1)\n",
        "# data_test"
      ]
    },
    {
      "cell_type": "code",
      "execution_count": null,
      "metadata": {
        "colab": {
          "base_uri": "https://localhost:8080/",
          "height": 424
        },
        "id": "ajufIh5ryAgg",
        "outputId": "7734d92d-6e72-4edf-8bc0-2d29ad53eaa7"
      },
      "outputs": [
        {
          "output_type": "execute_result",
          "data": {
            "text/plain": [
              "       actual  prediction\n",
              "0    0.698842    0.401957\n",
              "1    0.691120    0.406603\n",
              "2    0.679537    0.409144\n",
              "3    0.667954    0.412330\n",
              "4    0.667954    0.410830\n",
              "..        ...         ...\n",
              "226  0.706564    0.363781\n",
              "227  0.714286    0.329893\n",
              "228  0.714286    0.296443\n",
              "229  0.733591    0.266016\n",
              "230  0.803089    0.225198\n",
              "\n",
              "[231 rows x 2 columns]"
            ],
            "text/html": [
              "\n",
              "  <div id=\"df-4ed7ae41-54ce-4a4d-9fe8-9ad9750c89f0\">\n",
              "    <div class=\"colab-df-container\">\n",
              "      <div>\n",
              "<style scoped>\n",
              "    .dataframe tbody tr th:only-of-type {\n",
              "        vertical-align: middle;\n",
              "    }\n",
              "\n",
              "    .dataframe tbody tr th {\n",
              "        vertical-align: top;\n",
              "    }\n",
              "\n",
              "    .dataframe thead th {\n",
              "        text-align: right;\n",
              "    }\n",
              "</style>\n",
              "<table border=\"1\" class=\"dataframe\">\n",
              "  <thead>\n",
              "    <tr style=\"text-align: right;\">\n",
              "      <th></th>\n",
              "      <th>actual</th>\n",
              "      <th>prediction</th>\n",
              "    </tr>\n",
              "  </thead>\n",
              "  <tbody>\n",
              "    <tr>\n",
              "      <th>0</th>\n",
              "      <td>0.698842</td>\n",
              "      <td>0.401957</td>\n",
              "    </tr>\n",
              "    <tr>\n",
              "      <th>1</th>\n",
              "      <td>0.691120</td>\n",
              "      <td>0.406603</td>\n",
              "    </tr>\n",
              "    <tr>\n",
              "      <th>2</th>\n",
              "      <td>0.679537</td>\n",
              "      <td>0.409144</td>\n",
              "    </tr>\n",
              "    <tr>\n",
              "      <th>3</th>\n",
              "      <td>0.667954</td>\n",
              "      <td>0.412330</td>\n",
              "    </tr>\n",
              "    <tr>\n",
              "      <th>4</th>\n",
              "      <td>0.667954</td>\n",
              "      <td>0.410830</td>\n",
              "    </tr>\n",
              "    <tr>\n",
              "      <th>...</th>\n",
              "      <td>...</td>\n",
              "      <td>...</td>\n",
              "    </tr>\n",
              "    <tr>\n",
              "      <th>226</th>\n",
              "      <td>0.706564</td>\n",
              "      <td>0.363781</td>\n",
              "    </tr>\n",
              "    <tr>\n",
              "      <th>227</th>\n",
              "      <td>0.714286</td>\n",
              "      <td>0.329893</td>\n",
              "    </tr>\n",
              "    <tr>\n",
              "      <th>228</th>\n",
              "      <td>0.714286</td>\n",
              "      <td>0.296443</td>\n",
              "    </tr>\n",
              "    <tr>\n",
              "      <th>229</th>\n",
              "      <td>0.733591</td>\n",
              "      <td>0.266016</td>\n",
              "    </tr>\n",
              "    <tr>\n",
              "      <th>230</th>\n",
              "      <td>0.803089</td>\n",
              "      <td>0.225198</td>\n",
              "    </tr>\n",
              "  </tbody>\n",
              "</table>\n",
              "<p>231 rows × 2 columns</p>\n",
              "</div>\n",
              "      <button class=\"colab-df-convert\" onclick=\"convertToInteractive('df-4ed7ae41-54ce-4a4d-9fe8-9ad9750c89f0')\"\n",
              "              title=\"Convert this dataframe to an interactive table.\"\n",
              "              style=\"display:none;\">\n",
              "        \n",
              "  <svg xmlns=\"http://www.w3.org/2000/svg\" height=\"24px\"viewBox=\"0 0 24 24\"\n",
              "       width=\"24px\">\n",
              "    <path d=\"M0 0h24v24H0V0z\" fill=\"none\"/>\n",
              "    <path d=\"M18.56 5.44l.94 2.06.94-2.06 2.06-.94-2.06-.94-.94-2.06-.94 2.06-2.06.94zm-11 1L8.5 8.5l.94-2.06 2.06-.94-2.06-.94L8.5 2.5l-.94 2.06-2.06.94zm10 10l.94 2.06.94-2.06 2.06-.94-2.06-.94-.94-2.06-.94 2.06-2.06.94z\"/><path d=\"M17.41 7.96l-1.37-1.37c-.4-.4-.92-.59-1.43-.59-.52 0-1.04.2-1.43.59L10.3 9.45l-7.72 7.72c-.78.78-.78 2.05 0 2.83L4 21.41c.39.39.9.59 1.41.59.51 0 1.02-.2 1.41-.59l7.78-7.78 2.81-2.81c.8-.78.8-2.07 0-2.86zM5.41 20L4 18.59l7.72-7.72 1.47 1.35L5.41 20z\"/>\n",
              "  </svg>\n",
              "      </button>\n",
              "      \n",
              "  <style>\n",
              "    .colab-df-container {\n",
              "      display:flex;\n",
              "      flex-wrap:wrap;\n",
              "      gap: 12px;\n",
              "    }\n",
              "\n",
              "    .colab-df-convert {\n",
              "      background-color: #E8F0FE;\n",
              "      border: none;\n",
              "      border-radius: 50%;\n",
              "      cursor: pointer;\n",
              "      display: none;\n",
              "      fill: #1967D2;\n",
              "      height: 32px;\n",
              "      padding: 0 0 0 0;\n",
              "      width: 32px;\n",
              "    }\n",
              "\n",
              "    .colab-df-convert:hover {\n",
              "      background-color: #E2EBFA;\n",
              "      box-shadow: 0px 1px 2px rgba(60, 64, 67, 0.3), 0px 1px 3px 1px rgba(60, 64, 67, 0.15);\n",
              "      fill: #174EA6;\n",
              "    }\n",
              "\n",
              "    [theme=dark] .colab-df-convert {\n",
              "      background-color: #3B4455;\n",
              "      fill: #D2E3FC;\n",
              "    }\n",
              "\n",
              "    [theme=dark] .colab-df-convert:hover {\n",
              "      background-color: #434B5C;\n",
              "      box-shadow: 0px 1px 3px 1px rgba(0, 0, 0, 0.15);\n",
              "      filter: drop-shadow(0px 1px 2px rgba(0, 0, 0, 0.3));\n",
              "      fill: #FFFFFF;\n",
              "    }\n",
              "  </style>\n",
              "\n",
              "      <script>\n",
              "        const buttonEl =\n",
              "          document.querySelector('#df-4ed7ae41-54ce-4a4d-9fe8-9ad9750c89f0 button.colab-df-convert');\n",
              "        buttonEl.style.display =\n",
              "          google.colab.kernel.accessAllowed ? 'block' : 'none';\n",
              "\n",
              "        async function convertToInteractive(key) {\n",
              "          const element = document.querySelector('#df-4ed7ae41-54ce-4a4d-9fe8-9ad9750c89f0');\n",
              "          const dataTable =\n",
              "            await google.colab.kernel.invokeFunction('convertToInteractive',\n",
              "                                                     [key], {});\n",
              "          if (!dataTable) return;\n",
              "\n",
              "          const docLinkHtml = 'Like what you see? Visit the ' +\n",
              "            '<a target=\"_blank\" href=https://colab.research.google.com/notebooks/data_table.ipynb>data table notebook</a>'\n",
              "            + ' to learn more about interactive tables.';\n",
              "          element.innerHTML = '';\n",
              "          dataTable['output_type'] = 'display_data';\n",
              "          await google.colab.output.renderOutput(dataTable, element);\n",
              "          const docLink = document.createElement('div');\n",
              "          docLink.innerHTML = docLinkHtml;\n",
              "          element.appendChild(docLink);\n",
              "        }\n",
              "      </script>\n",
              "    </div>\n",
              "  </div>\n",
              "  "
            ]
          },
          "metadata": {},
          "execution_count": 33
        }
      ],
      "source": [
        "data_new = pd.DataFrame()\n",
        "data_new['actual'] = data_test\n",
        "data_new['prediction'] = result\n",
        "data_new"
      ]
    },
    {
      "cell_type": "code",
      "execution_count": null,
      "metadata": {
        "colab": {
          "base_uri": "https://localhost:8080/"
        },
        "id": "OeLgmG4tIDjG",
        "outputId": "01811d55-0165-4173-a402-bd5413377a0d"
      },
      "outputs": [
        {
          "output_type": "execute_result",
          "data": {
            "text/plain": [
              "(0.29561451391549276, 0.17774647833885393)"
            ]
          },
          "metadata": {},
          "execution_count": 34
        }
      ],
      "source": [
        "from sklearn.metrics import mean_absolute_error, mean_absolute_percentage_error\n",
        "mean_absolute_percentage_error(data_test, result), mean_absolute_error(data_test, result)"
      ]
    },
    {
      "cell_type": "code",
      "execution_count": null,
      "metadata": {
        "colab": {
          "base_uri": "https://localhost:8080/"
        },
        "id": "Jz6nPZYZyTBU",
        "outputId": "47c4359a-ff0f-4ed2-9d01-ef1335a287f7"
      },
      "outputs": [
        {
          "output_type": "execute_result",
          "data": {
            "text/plain": [
              "(0.17774647833885393, 0.29561451391549276)"
            ]
          },
          "metadata": {},
          "execution_count": 35
        }
      ],
      "source": [
        "mae = mean_absolute_error(data_test, result)\n",
        "mape = mean_absolute_percentage_error(data_test, result)\n",
        "mae, mape"
      ]
    },
    {
      "cell_type": "code",
      "execution_count": null,
      "metadata": {
        "colab": {
          "base_uri": "https://localhost:8080/"
        },
        "id": "o7uhRuxSPt60",
        "outputId": "823d9b56-c0db-4fe4-e6ba-96845c0e1e4a"
      },
      "outputs": [
        {
          "output_type": "stream",
          "name": "stdout",
          "text": [
            "Looking in indexes: https://pypi.org/simple, https://us-python.pkg.dev/colab-wheels/public/simple/\n",
            "Requirement already satisfied: xlrd in /usr/local/lib/python3.7/dist-packages (1.1.0)\n",
            "Collecting xlrd\n",
            "  Downloading xlrd-2.0.1-py2.py3-none-any.whl (96 kB)\n",
            "\u001b[K     |████████████████████████████████| 96 kB 5.4 MB/s \n",
            "\u001b[?25hInstalling collected packages: xlrd\n",
            "  Attempting uninstall: xlrd\n",
            "    Found existing installation: xlrd 1.1.0\n",
            "    Uninstalling xlrd-1.1.0:\n",
            "      Successfully uninstalled xlrd-1.1.0\n",
            "Successfully installed xlrd-2.0.1\n"
          ]
        }
      ],
      "source": [
        "!pip install --upgrade xlrd"
      ]
    },
    {
      "cell_type": "code",
      "execution_count": null,
      "metadata": {
        "colab": {
          "base_uri": "https://localhost:8080/",
          "height": 380
        },
        "id": "6BI402bkQQ7M",
        "outputId": "e065e193-556c-421a-c0f1-ed8f8a890436"
      },
      "outputs": [
        {
          "output_type": "error",
          "ename": "FileNotFoundError",
          "evalue": "ignored",
          "traceback": [
            "\u001b[0;31m---------------------------------------------------------------------------\u001b[0m",
            "\u001b[0;31mFileNotFoundError\u001b[0m                         Traceback (most recent call last)",
            "\u001b[0;32m<ipython-input-37-d9bd4a401403>\u001b[0m in \u001b[0;36m<module>\u001b[0;34m\u001b[0m\n\u001b[0;32m----> 1\u001b[0;31m \u001b[0mtested\u001b[0m \u001b[0;34m=\u001b[0m \u001b[0mpd\u001b[0m\u001b[0;34m.\u001b[0m\u001b[0mread_excel\u001b[0m\u001b[0;34m(\u001b[0m\u001b[0;34m'tested.xlsx'\u001b[0m\u001b[0;34m,\u001b[0m \u001b[0mskiprows\u001b[0m\u001b[0;34m=\u001b[0m\u001b[0;36m8\u001b[0m\u001b[0;34m)\u001b[0m\u001b[0;34m\u001b[0m\u001b[0;34m\u001b[0m\u001b[0m\n\u001b[0m\u001b[1;32m      2\u001b[0m \u001b[0mtested\u001b[0m \u001b[0;34m=\u001b[0m \u001b[0mtested\u001b[0m\u001b[0;34m.\u001b[0m\u001b[0mdrop\u001b[0m\u001b[0;34m(\u001b[0m\u001b[0;34m'No.'\u001b[0m\u001b[0;34m,\u001b[0m \u001b[0maxis\u001b[0m\u001b[0;34m=\u001b[0m\u001b[0;36m1\u001b[0m\u001b[0;34m)\u001b[0m\u001b[0;34m\u001b[0m\u001b[0;34m\u001b[0m\u001b[0m\n\u001b[1;32m      3\u001b[0m \u001b[0mtested\u001b[0m \u001b[0;34m=\u001b[0m \u001b[0mtested\u001b[0m\u001b[0;34m.\u001b[0m\u001b[0mT\u001b[0m\u001b[0;34m.\u001b[0m\u001b[0mreset_index\u001b[0m\u001b[0;34m(\u001b[0m\u001b[0;34m)\u001b[0m\u001b[0;34m\u001b[0m\u001b[0;34m\u001b[0m\u001b[0m\n\u001b[1;32m      4\u001b[0m \u001b[0mtested\u001b[0m\u001b[0;34m.\u001b[0m\u001b[0mcolumns\u001b[0m \u001b[0;34m=\u001b[0m \u001b[0mtested\u001b[0m\u001b[0;34m.\u001b[0m\u001b[0mloc\u001b[0m\u001b[0;34m[\u001b[0m\u001b[0;36m0\u001b[0m\u001b[0;34m]\u001b[0m\u001b[0;34m\u001b[0m\u001b[0;34m\u001b[0m\u001b[0m\n\u001b[1;32m      5\u001b[0m \u001b[0mtested\u001b[0m \u001b[0;34m=\u001b[0m \u001b[0mtested\u001b[0m\u001b[0;34m.\u001b[0m\u001b[0mdrop\u001b[0m\u001b[0;34m(\u001b[0m\u001b[0;36m0\u001b[0m\u001b[0;34m)\u001b[0m\u001b[0;34m\u001b[0m\u001b[0;34m\u001b[0m\u001b[0m\n",
            "\u001b[0;32m/usr/local/lib/python3.7/dist-packages/pandas/util/_decorators.py\u001b[0m in \u001b[0;36mwrapper\u001b[0;34m(*args, **kwargs)\u001b[0m\n\u001b[1;32m    309\u001b[0m                     \u001b[0mstacklevel\u001b[0m\u001b[0;34m=\u001b[0m\u001b[0mstacklevel\u001b[0m\u001b[0;34m,\u001b[0m\u001b[0;34m\u001b[0m\u001b[0;34m\u001b[0m\u001b[0m\n\u001b[1;32m    310\u001b[0m                 )\n\u001b[0;32m--> 311\u001b[0;31m             \u001b[0;32mreturn\u001b[0m \u001b[0mfunc\u001b[0m\u001b[0;34m(\u001b[0m\u001b[0;34m*\u001b[0m\u001b[0margs\u001b[0m\u001b[0;34m,\u001b[0m \u001b[0;34m**\u001b[0m\u001b[0mkwargs\u001b[0m\u001b[0;34m)\u001b[0m\u001b[0;34m\u001b[0m\u001b[0;34m\u001b[0m\u001b[0m\n\u001b[0m\u001b[1;32m    312\u001b[0m \u001b[0;34m\u001b[0m\u001b[0m\n\u001b[1;32m    313\u001b[0m         \u001b[0;32mreturn\u001b[0m \u001b[0mwrapper\u001b[0m\u001b[0;34m\u001b[0m\u001b[0;34m\u001b[0m\u001b[0m\n",
            "\u001b[0;32m/usr/local/lib/python3.7/dist-packages/pandas/io/excel/_base.py\u001b[0m in \u001b[0;36mread_excel\u001b[0;34m(io, sheet_name, header, names, index_col, usecols, squeeze, dtype, engine, converters, true_values, false_values, skiprows, nrows, na_values, keep_default_na, na_filter, verbose, parse_dates, date_parser, thousands, comment, skipfooter, convert_float, mangle_dupe_cols, storage_options)\u001b[0m\n\u001b[1;32m    362\u001b[0m     \u001b[0;32mif\u001b[0m \u001b[0;32mnot\u001b[0m \u001b[0misinstance\u001b[0m\u001b[0;34m(\u001b[0m\u001b[0mio\u001b[0m\u001b[0;34m,\u001b[0m \u001b[0mExcelFile\u001b[0m\u001b[0;34m)\u001b[0m\u001b[0;34m:\u001b[0m\u001b[0;34m\u001b[0m\u001b[0;34m\u001b[0m\u001b[0m\n\u001b[1;32m    363\u001b[0m         \u001b[0mshould_close\u001b[0m \u001b[0;34m=\u001b[0m \u001b[0;32mTrue\u001b[0m\u001b[0;34m\u001b[0m\u001b[0;34m\u001b[0m\u001b[0m\n\u001b[0;32m--> 364\u001b[0;31m         \u001b[0mio\u001b[0m \u001b[0;34m=\u001b[0m \u001b[0mExcelFile\u001b[0m\u001b[0;34m(\u001b[0m\u001b[0mio\u001b[0m\u001b[0;34m,\u001b[0m \u001b[0mstorage_options\u001b[0m\u001b[0;34m=\u001b[0m\u001b[0mstorage_options\u001b[0m\u001b[0;34m,\u001b[0m \u001b[0mengine\u001b[0m\u001b[0;34m=\u001b[0m\u001b[0mengine\u001b[0m\u001b[0;34m)\u001b[0m\u001b[0;34m\u001b[0m\u001b[0;34m\u001b[0m\u001b[0m\n\u001b[0m\u001b[1;32m    365\u001b[0m     \u001b[0;32melif\u001b[0m \u001b[0mengine\u001b[0m \u001b[0;32mand\u001b[0m \u001b[0mengine\u001b[0m \u001b[0;34m!=\u001b[0m \u001b[0mio\u001b[0m\u001b[0;34m.\u001b[0m\u001b[0mengine\u001b[0m\u001b[0;34m:\u001b[0m\u001b[0;34m\u001b[0m\u001b[0;34m\u001b[0m\u001b[0m\n\u001b[1;32m    366\u001b[0m         raise ValueError(\n",
            "\u001b[0;32m/usr/local/lib/python3.7/dist-packages/pandas/io/excel/_base.py\u001b[0m in \u001b[0;36m__init__\u001b[0;34m(self, path_or_buffer, engine, storage_options)\u001b[0m\n\u001b[1;32m   1190\u001b[0m             \u001b[0;32melse\u001b[0m\u001b[0;34m:\u001b[0m\u001b[0;34m\u001b[0m\u001b[0;34m\u001b[0m\u001b[0m\n\u001b[1;32m   1191\u001b[0m                 ext = inspect_excel_format(\n\u001b[0;32m-> 1192\u001b[0;31m                     \u001b[0mcontent_or_path\u001b[0m\u001b[0;34m=\u001b[0m\u001b[0mpath_or_buffer\u001b[0m\u001b[0;34m,\u001b[0m \u001b[0mstorage_options\u001b[0m\u001b[0;34m=\u001b[0m\u001b[0mstorage_options\u001b[0m\u001b[0;34m\u001b[0m\u001b[0;34m\u001b[0m\u001b[0m\n\u001b[0m\u001b[1;32m   1193\u001b[0m                 )\n\u001b[1;32m   1194\u001b[0m                 \u001b[0;32mif\u001b[0m \u001b[0mext\u001b[0m \u001b[0;32mis\u001b[0m \u001b[0;32mNone\u001b[0m\u001b[0;34m:\u001b[0m\u001b[0;34m\u001b[0m\u001b[0;34m\u001b[0m\u001b[0m\n",
            "\u001b[0;32m/usr/local/lib/python3.7/dist-packages/pandas/io/excel/_base.py\u001b[0m in \u001b[0;36minspect_excel_format\u001b[0;34m(content_or_path, storage_options)\u001b[0m\n\u001b[1;32m   1069\u001b[0m \u001b[0;34m\u001b[0m\u001b[0m\n\u001b[1;32m   1070\u001b[0m     with get_handle(\n\u001b[0;32m-> 1071\u001b[0;31m         \u001b[0mcontent_or_path\u001b[0m\u001b[0;34m,\u001b[0m \u001b[0;34m\"rb\"\u001b[0m\u001b[0;34m,\u001b[0m \u001b[0mstorage_options\u001b[0m\u001b[0;34m=\u001b[0m\u001b[0mstorage_options\u001b[0m\u001b[0;34m,\u001b[0m \u001b[0mis_text\u001b[0m\u001b[0;34m=\u001b[0m\u001b[0;32mFalse\u001b[0m\u001b[0;34m\u001b[0m\u001b[0;34m\u001b[0m\u001b[0m\n\u001b[0m\u001b[1;32m   1072\u001b[0m     ) as handle:\n\u001b[1;32m   1073\u001b[0m         \u001b[0mstream\u001b[0m \u001b[0;34m=\u001b[0m \u001b[0mhandle\u001b[0m\u001b[0;34m.\u001b[0m\u001b[0mhandle\u001b[0m\u001b[0;34m\u001b[0m\u001b[0;34m\u001b[0m\u001b[0m\n",
            "\u001b[0;32m/usr/local/lib/python3.7/dist-packages/pandas/io/common.py\u001b[0m in \u001b[0;36mget_handle\u001b[0;34m(path_or_buf, mode, encoding, compression, memory_map, is_text, errors, storage_options)\u001b[0m\n\u001b[1;32m    709\u001b[0m         \u001b[0;32melse\u001b[0m\u001b[0;34m:\u001b[0m\u001b[0;34m\u001b[0m\u001b[0;34m\u001b[0m\u001b[0m\n\u001b[1;32m    710\u001b[0m             \u001b[0;31m# Binary mode\u001b[0m\u001b[0;34m\u001b[0m\u001b[0;34m\u001b[0m\u001b[0;34m\u001b[0m\u001b[0m\n\u001b[0;32m--> 711\u001b[0;31m             \u001b[0mhandle\u001b[0m \u001b[0;34m=\u001b[0m \u001b[0mopen\u001b[0m\u001b[0;34m(\u001b[0m\u001b[0mhandle\u001b[0m\u001b[0;34m,\u001b[0m \u001b[0mioargs\u001b[0m\u001b[0;34m.\u001b[0m\u001b[0mmode\u001b[0m\u001b[0;34m)\u001b[0m\u001b[0;34m\u001b[0m\u001b[0;34m\u001b[0m\u001b[0m\n\u001b[0m\u001b[1;32m    712\u001b[0m         \u001b[0mhandles\u001b[0m\u001b[0;34m.\u001b[0m\u001b[0mappend\u001b[0m\u001b[0;34m(\u001b[0m\u001b[0mhandle\u001b[0m\u001b[0;34m)\u001b[0m\u001b[0;34m\u001b[0m\u001b[0;34m\u001b[0m\u001b[0m\n\u001b[1;32m    713\u001b[0m \u001b[0;34m\u001b[0m\u001b[0m\n",
            "\u001b[0;31mFileNotFoundError\u001b[0m: [Errno 2] No such file or directory: 'tested.xlsx'"
          ]
        }
      ],
      "source": [
        "tested = pd.read_excel('tested.xlsx', skiprows=8)\n",
        "tested = tested.drop('No.', axis=1)\n",
        "tested = tested.T.reset_index()\n",
        "tested.columns = tested.loc[0]\n",
        "tested = tested.drop(0)\n",
        "tested = tested.rename(columns={'Komoditas(Rp)': 'Date'})\n",
        "tested"
      ]
    },
    {
      "cell_type": "code",
      "execution_count": null,
      "metadata": {
        "id": "4Qrap0USVldK"
      },
      "outputs": [],
      "source": [
        "test_beras = tested['Daging Ayam'].values\n",
        "minmaxtest = scaller.fit_transform(test_beras.reshape(-1, 1))\n",
        "prediction_1 = forecast_predict(model, minmaxtest, time_size=2, batch_size=1, shuffle_data=1000)\n",
        "result_1 = prediction_1.squeeze()\n",
        "result_1.shape"
      ]
    },
    {
      "cell_type": "code",
      "execution_count": null,
      "metadata": {
        "id": "obBhImFWnB7f"
      },
      "outputs": [],
      "source": [
        "result_1, minmaxtest"
      ]
    },
    {
      "cell_type": "code",
      "execution_count": null,
      "metadata": {
        "id": "hWP8xmsdWgNW"
      },
      "outputs": [],
      "source": [
        "results_1 = result_1.reshape(-1, 1)\n",
        "results_1 = scaller.inverse_transform(results_1).round(1)\n",
        "results_1 = results_1.reshape(-1)\n",
        "results_1.shape"
      ]
    },
    {
      "cell_type": "code",
      "execution_count": null,
      "metadata": {
        "id": "qUcun-hVXF1x"
      },
      "outputs": [],
      "source": [
        "test_berass = test_beras[:-1]\n",
        "date = tested['Date']\n",
        "date = date[:-1]\n",
        "new = pd.DataFrame()\n",
        "new['date'] = date\n",
        "new['actual'] = test_berass\n",
        "new['prediction'] = results_1.round()\n",
        "new"
      ]
    },
    {
      "cell_type": "code",
      "execution_count": null,
      "metadata": {
        "id": "ZGs_GQelYSo5"
      },
      "outputs": [],
      "source": [
        "minn = minmaxtest.reshape(-1)\n",
        "minn = minn[:-1]\n",
        "\n",
        "testt = test_beras[:-1]\n",
        "mae = mean_absolute_error(minn, result_1)\n",
        "mape = mean_absolute_percentage_error(testt, results_1)\n",
        "mae, mape"
      ]
    },
    {
      "cell_type": "code",
      "execution_count": null,
      "metadata": {
        "id": "hvs68L-94j-n"
      },
      "outputs": [],
      "source": [
        "tessss = testt.reshape(-1, 1, 1)\n",
        "res = results.reshape(-1, 1, 1)\n",
        "tessss.shape"
      ]
    },
    {
      "cell_type": "code",
      "execution_count": null,
      "metadata": {
        "id": "dp-BZopnXXGE"
      },
      "outputs": [],
      "source": [
        "mae = mean_absolute_error(minn, result_1)\n",
        "# mape = mean_absolute_percentage_error(tessss, res)\n",
        "# mae, mape"
      ]
    },
    {
      "cell_type": "markdown",
      "metadata": {
        "id": "lQap9_LTZ9jG"
      },
      "source": [
        "## Implementation"
      ]
    },
    {
      "cell_type": "code",
      "source": [
        "predict_list = []\n",
        "\n",
        "batch = x_train_beras[-10:].reshape((1, 10, 1))\n",
        "print('ini',batch)\n",
        "for i in range(10):\n",
        "  predict_list.append(model.predict(batch)[0])\n",
        "  batch = np.append(batch[:, 1:, :], [[predict_list[i]]], axis=1)\n",
        "  print('baru', batch)\n",
        "  print(predict_list)\n",
        "\n",
        "add_dates = []\n",
        "\n",
        "predicted = pd.DataFrame(predict_list, \n",
        "                         columns=['prediction'])\n",
        "\n",
        "predicted['date'] = y_train_beras[-10:]\n",
        "predicted['actual'] = x_train_beras[-10:]"
      ],
      "metadata": {
        "id": "6b3sEekPE5-G",
        "colab": {
          "base_uri": "https://localhost:8080/"
        },
        "outputId": "b003eb6f-c51c-473c-b09c-4c8fbfed4bf0"
      },
      "execution_count": null,
      "outputs": [
        {
          "output_type": "stream",
          "name": "stdout",
          "text": [
            "ini [[[0.45833333]\n",
            "  [0.45833333]\n",
            "  [0.45833333]\n",
            "  [0.45833333]\n",
            "  [0.45833333]\n",
            "  [0.45833333]\n",
            "  [0.45833333]\n",
            "  [0.45833333]\n",
            "  [0.45833333]\n",
            "  [0.45833333]]]\n",
            "baru [[[0.45833333]\n",
            "  [0.45833333]\n",
            "  [0.45833333]\n",
            "  [0.45833333]\n",
            "  [0.45833333]\n",
            "  [0.45833333]\n",
            "  [0.45833333]\n",
            "  [0.45833333]\n",
            "  [0.45833333]\n",
            "  [0.47055548]]]\n",
            "[array([0.47055548], dtype=float32)]\n",
            "baru [[[0.45833333]\n",
            "  [0.45833333]\n",
            "  [0.45833333]\n",
            "  [0.45833333]\n",
            "  [0.45833333]\n",
            "  [0.45833333]\n",
            "  [0.45833333]\n",
            "  [0.45833333]\n",
            "  [0.47055548]\n",
            "  [0.4766207 ]]]\n",
            "[array([0.47055548], dtype=float32), array([0.4766207], dtype=float32)]\n",
            "baru [[[0.45833333]\n",
            "  [0.45833333]\n",
            "  [0.45833333]\n",
            "  [0.45833333]\n",
            "  [0.45833333]\n",
            "  [0.45833333]\n",
            "  [0.45833333]\n",
            "  [0.47055548]\n",
            "  [0.4766207 ]\n",
            "  [0.48166379]]]\n",
            "[array([0.47055548], dtype=float32), array([0.4766207], dtype=float32), array([0.4816638], dtype=float32)]\n",
            "baru [[[0.45833333]\n",
            "  [0.45833333]\n",
            "  [0.45833333]\n",
            "  [0.45833333]\n",
            "  [0.45833333]\n",
            "  [0.45833333]\n",
            "  [0.47055548]\n",
            "  [0.4766207 ]\n",
            "  [0.48166379]\n",
            "  [0.48618558]]]\n",
            "[array([0.47055548], dtype=float32), array([0.4766207], dtype=float32), array([0.4816638], dtype=float32), array([0.48618558], dtype=float32)]\n",
            "baru [[[0.45833333]\n",
            "  [0.45833333]\n",
            "  [0.45833333]\n",
            "  [0.45833333]\n",
            "  [0.45833333]\n",
            "  [0.47055548]\n",
            "  [0.4766207 ]\n",
            "  [0.48166379]\n",
            "  [0.48618558]\n",
            "  [0.48987743]]]\n",
            "[array([0.47055548], dtype=float32), array([0.4766207], dtype=float32), array([0.4816638], dtype=float32), array([0.48618558], dtype=float32), array([0.48987743], dtype=float32)]\n",
            "baru [[[0.45833333]\n",
            "  [0.45833333]\n",
            "  [0.45833333]\n",
            "  [0.45833333]\n",
            "  [0.47055548]\n",
            "  [0.4766207 ]\n",
            "  [0.48166379]\n",
            "  [0.48618558]\n",
            "  [0.48987743]\n",
            "  [0.49415833]]]\n",
            "[array([0.47055548], dtype=float32), array([0.4766207], dtype=float32), array([0.4816638], dtype=float32), array([0.48618558], dtype=float32), array([0.48987743], dtype=float32), array([0.49415833], dtype=float32)]\n",
            "baru [[[0.45833333]\n",
            "  [0.45833333]\n",
            "  [0.45833333]\n",
            "  [0.47055548]\n",
            "  [0.4766207 ]\n",
            "  [0.48166379]\n",
            "  [0.48618558]\n",
            "  [0.48987743]\n",
            "  [0.49415833]\n",
            "  [0.49825427]]]\n",
            "[array([0.47055548], dtype=float32), array([0.4766207], dtype=float32), array([0.4816638], dtype=float32), array([0.48618558], dtype=float32), array([0.48987743], dtype=float32), array([0.49415833], dtype=float32), array([0.49825427], dtype=float32)]\n",
            "baru [[[0.45833333]\n",
            "  [0.45833333]\n",
            "  [0.47055548]\n",
            "  [0.4766207 ]\n",
            "  [0.48166379]\n",
            "  [0.48618558]\n",
            "  [0.48987743]\n",
            "  [0.49415833]\n",
            "  [0.49825427]\n",
            "  [0.50294971]]]\n",
            "[array([0.47055548], dtype=float32), array([0.4766207], dtype=float32), array([0.4816638], dtype=float32), array([0.48618558], dtype=float32), array([0.48987743], dtype=float32), array([0.49415833], dtype=float32), array([0.49825427], dtype=float32), array([0.5029497], dtype=float32)]\n",
            "baru [[[0.45833333]\n",
            "  [0.47055548]\n",
            "  [0.4766207 ]\n",
            "  [0.48166379]\n",
            "  [0.48618558]\n",
            "  [0.48987743]\n",
            "  [0.49415833]\n",
            "  [0.49825427]\n",
            "  [0.50294971]\n",
            "  [0.50766343]]]\n",
            "[array([0.47055548], dtype=float32), array([0.4766207], dtype=float32), array([0.4816638], dtype=float32), array([0.48618558], dtype=float32), array([0.48987743], dtype=float32), array([0.49415833], dtype=float32), array([0.49825427], dtype=float32), array([0.5029497], dtype=float32), array([0.5076634], dtype=float32)]\n",
            "baru [[[0.47055548]\n",
            "  [0.4766207 ]\n",
            "  [0.48166379]\n",
            "  [0.48618558]\n",
            "  [0.48987743]\n",
            "  [0.49415833]\n",
            "  [0.49825427]\n",
            "  [0.50294971]\n",
            "  [0.50766343]\n",
            "  [0.51265681]]]\n",
            "[array([0.47055548], dtype=float32), array([0.4766207], dtype=float32), array([0.4816638], dtype=float32), array([0.48618558], dtype=float32), array([0.48987743], dtype=float32), array([0.49415833], dtype=float32), array([0.49825427], dtype=float32), array([0.5029497], dtype=float32), array([0.5076634], dtype=float32), array([0.5126568], dtype=float32)]\n"
          ]
        }
      ]
    },
    {
      "cell_type": "code",
      "source": [
        "predicted"
      ],
      "metadata": {
        "colab": {
          "base_uri": "https://localhost:8080/",
          "height": 363
        },
        "id": "f36AdIYHOMvf",
        "outputId": "5bed5fd1-7750-4d88-c3c0-8d6fe898a8b8"
      },
      "execution_count": null,
      "outputs": [
        {
          "output_type": "execute_result",
          "data": {
            "text/plain": [
              "   prediction        date    actual\n",
              "0    0.470555  15/12/2020  0.458333\n",
              "1    0.476621  16/12/2020  0.458333\n",
              "2    0.481664  17/12/2020  0.458333\n",
              "3    0.486186  18/12/2020  0.458333\n",
              "4    0.489877  21/12/2020  0.458333\n",
              "5    0.494158  22/12/2020  0.458333\n",
              "6    0.498254  23/12/2020  0.458333\n",
              "7    0.502950  28/12/2020  0.458333\n",
              "8    0.507663  29/12/2020  0.458333\n",
              "9    0.512657  30/12/2020  0.458333"
            ],
            "text/html": [
              "\n",
              "  <div id=\"df-7339d15c-1990-4732-85af-486788ebb513\">\n",
              "    <div class=\"colab-df-container\">\n",
              "      <div>\n",
              "<style scoped>\n",
              "    .dataframe tbody tr th:only-of-type {\n",
              "        vertical-align: middle;\n",
              "    }\n",
              "\n",
              "    .dataframe tbody tr th {\n",
              "        vertical-align: top;\n",
              "    }\n",
              "\n",
              "    .dataframe thead th {\n",
              "        text-align: right;\n",
              "    }\n",
              "</style>\n",
              "<table border=\"1\" class=\"dataframe\">\n",
              "  <thead>\n",
              "    <tr style=\"text-align: right;\">\n",
              "      <th></th>\n",
              "      <th>prediction</th>\n",
              "      <th>date</th>\n",
              "      <th>actual</th>\n",
              "    </tr>\n",
              "  </thead>\n",
              "  <tbody>\n",
              "    <tr>\n",
              "      <th>0</th>\n",
              "      <td>0.470555</td>\n",
              "      <td>15/12/2020</td>\n",
              "      <td>0.458333</td>\n",
              "    </tr>\n",
              "    <tr>\n",
              "      <th>1</th>\n",
              "      <td>0.476621</td>\n",
              "      <td>16/12/2020</td>\n",
              "      <td>0.458333</td>\n",
              "    </tr>\n",
              "    <tr>\n",
              "      <th>2</th>\n",
              "      <td>0.481664</td>\n",
              "      <td>17/12/2020</td>\n",
              "      <td>0.458333</td>\n",
              "    </tr>\n",
              "    <tr>\n",
              "      <th>3</th>\n",
              "      <td>0.486186</td>\n",
              "      <td>18/12/2020</td>\n",
              "      <td>0.458333</td>\n",
              "    </tr>\n",
              "    <tr>\n",
              "      <th>4</th>\n",
              "      <td>0.489877</td>\n",
              "      <td>21/12/2020</td>\n",
              "      <td>0.458333</td>\n",
              "    </tr>\n",
              "    <tr>\n",
              "      <th>5</th>\n",
              "      <td>0.494158</td>\n",
              "      <td>22/12/2020</td>\n",
              "      <td>0.458333</td>\n",
              "    </tr>\n",
              "    <tr>\n",
              "      <th>6</th>\n",
              "      <td>0.498254</td>\n",
              "      <td>23/12/2020</td>\n",
              "      <td>0.458333</td>\n",
              "    </tr>\n",
              "    <tr>\n",
              "      <th>7</th>\n",
              "      <td>0.502950</td>\n",
              "      <td>28/12/2020</td>\n",
              "      <td>0.458333</td>\n",
              "    </tr>\n",
              "    <tr>\n",
              "      <th>8</th>\n",
              "      <td>0.507663</td>\n",
              "      <td>29/12/2020</td>\n",
              "      <td>0.458333</td>\n",
              "    </tr>\n",
              "    <tr>\n",
              "      <th>9</th>\n",
              "      <td>0.512657</td>\n",
              "      <td>30/12/2020</td>\n",
              "      <td>0.458333</td>\n",
              "    </tr>\n",
              "  </tbody>\n",
              "</table>\n",
              "</div>\n",
              "      <button class=\"colab-df-convert\" onclick=\"convertToInteractive('df-7339d15c-1990-4732-85af-486788ebb513')\"\n",
              "              title=\"Convert this dataframe to an interactive table.\"\n",
              "              style=\"display:none;\">\n",
              "        \n",
              "  <svg xmlns=\"http://www.w3.org/2000/svg\" height=\"24px\"viewBox=\"0 0 24 24\"\n",
              "       width=\"24px\">\n",
              "    <path d=\"M0 0h24v24H0V0z\" fill=\"none\"/>\n",
              "    <path d=\"M18.56 5.44l.94 2.06.94-2.06 2.06-.94-2.06-.94-.94-2.06-.94 2.06-2.06.94zm-11 1L8.5 8.5l.94-2.06 2.06-.94-2.06-.94L8.5 2.5l-.94 2.06-2.06.94zm10 10l.94 2.06.94-2.06 2.06-.94-2.06-.94-.94-2.06-.94 2.06-2.06.94z\"/><path d=\"M17.41 7.96l-1.37-1.37c-.4-.4-.92-.59-1.43-.59-.52 0-1.04.2-1.43.59L10.3 9.45l-7.72 7.72c-.78.78-.78 2.05 0 2.83L4 21.41c.39.39.9.59 1.41.59.51 0 1.02-.2 1.41-.59l7.78-7.78 2.81-2.81c.8-.78.8-2.07 0-2.86zM5.41 20L4 18.59l7.72-7.72 1.47 1.35L5.41 20z\"/>\n",
              "  </svg>\n",
              "      </button>\n",
              "      \n",
              "  <style>\n",
              "    .colab-df-container {\n",
              "      display:flex;\n",
              "      flex-wrap:wrap;\n",
              "      gap: 12px;\n",
              "    }\n",
              "\n",
              "    .colab-df-convert {\n",
              "      background-color: #E8F0FE;\n",
              "      border: none;\n",
              "      border-radius: 50%;\n",
              "      cursor: pointer;\n",
              "      display: none;\n",
              "      fill: #1967D2;\n",
              "      height: 32px;\n",
              "      padding: 0 0 0 0;\n",
              "      width: 32px;\n",
              "    }\n",
              "\n",
              "    .colab-df-convert:hover {\n",
              "      background-color: #E2EBFA;\n",
              "      box-shadow: 0px 1px 2px rgba(60, 64, 67, 0.3), 0px 1px 3px 1px rgba(60, 64, 67, 0.15);\n",
              "      fill: #174EA6;\n",
              "    }\n",
              "\n",
              "    [theme=dark] .colab-df-convert {\n",
              "      background-color: #3B4455;\n",
              "      fill: #D2E3FC;\n",
              "    }\n",
              "\n",
              "    [theme=dark] .colab-df-convert:hover {\n",
              "      background-color: #434B5C;\n",
              "      box-shadow: 0px 1px 3px 1px rgba(0, 0, 0, 0.15);\n",
              "      filter: drop-shadow(0px 1px 2px rgba(0, 0, 0, 0.3));\n",
              "      fill: #FFFFFF;\n",
              "    }\n",
              "  </style>\n",
              "\n",
              "      <script>\n",
              "        const buttonEl =\n",
              "          document.querySelector('#df-7339d15c-1990-4732-85af-486788ebb513 button.colab-df-convert');\n",
              "        buttonEl.style.display =\n",
              "          google.colab.kernel.accessAllowed ? 'block' : 'none';\n",
              "\n",
              "        async function convertToInteractive(key) {\n",
              "          const element = document.querySelector('#df-7339d15c-1990-4732-85af-486788ebb513');\n",
              "          const dataTable =\n",
              "            await google.colab.kernel.invokeFunction('convertToInteractive',\n",
              "                                                     [key], {});\n",
              "          if (!dataTable) return;\n",
              "\n",
              "          const docLinkHtml = 'Like what you see? Visit the ' +\n",
              "            '<a target=\"_blank\" href=https://colab.research.google.com/notebooks/data_table.ipynb>data table notebook</a>'\n",
              "            + ' to learn more about interactive tables.';\n",
              "          element.innerHTML = '';\n",
              "          dataTable['output_type'] = 'display_data';\n",
              "          await google.colab.output.renderOutput(dataTable, element);\n",
              "          const docLink = document.createElement('div');\n",
              "          docLink.innerHTML = docLinkHtml;\n",
              "          element.appendChild(docLink);\n",
              "        }\n",
              "      </script>\n",
              "    </div>\n",
              "  </div>\n",
              "  "
            ]
          },
          "metadata": {},
          "execution_count": 58
        }
      ]
    },
    {
      "cell_type": "code",
      "source": [
        "mean_absolute_percentage_error(x_train_beras[-10:], predict_list)"
      ],
      "metadata": {
        "colab": {
          "base_uri": "https://localhost:8080/"
        },
        "id": "pMEfqbdsflBa",
        "outputId": "8c1d61df-d6d3-4112-fc1f-3525f4db3687"
      },
      "execution_count": null,
      "outputs": [
        {
          "output_type": "execute_result",
          "data": {
            "text/plain": [
              "0.07358230027285559"
            ]
          },
          "metadata": {},
          "execution_count": 61
        }
      ]
    },
    {
      "cell_type": "markdown",
      "source": [
        "# predicted"
      ],
      "metadata": {
        "id": "wkBf_l-Licyj"
      }
    },
    {
      "cell_type": "code",
      "source": [],
      "metadata": {
        "id": "MAbwwyJoici5"
      },
      "execution_count": null,
      "outputs": []
    }
  ],
  "metadata": {
    "accelerator": "GPU",
    "colab": {
      "collapsed_sections": [],
      "provenance": [],
      "authorship_tag": "ABX9TyN2LIehLFUNfOFeHcGKXsyR",
      "include_colab_link": true
    },
    "kernelspec": {
      "display_name": "Python 3",
      "name": "python3"
    },
    "language_info": {
      "name": "python"
    }
  },
  "nbformat": 4,
  "nbformat_minor": 0
}
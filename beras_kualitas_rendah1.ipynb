{
  "nbformat": 4,
  "nbformat_minor": 0,
  "metadata": {
    "colab": {
      "provenance": [],
      "collapsed_sections": [
        "kfkJFbIcwqUO",
        "kaWKBKIcxDeM"
      ],
      "authorship_tag": "ABX9TyNsPoahP86krZ4f/KwgojIn",
      "include_colab_link": true
    },
    "kernelspec": {
      "name": "python3",
      "display_name": "Python 3"
    },
    "language_info": {
      "name": "python"
    }
  },
  "cells": [
    {
      "cell_type": "markdown",
      "metadata": {
        "id": "view-in-github",
        "colab_type": "text"
      },
      "source": [
        "<a href=\"https://colab.research.google.com/github/melinadwisafitri/skripsi_price_predict/blob/main/beras_kualitas_rendah1.ipynb\" target=\"_parent\"><img src=\"https://colab.research.google.com/assets/colab-badge.svg\" alt=\"Open In Colab\"/></a>"
      ]
    },
    {
      "cell_type": "code",
      "execution_count": 1,
      "metadata": {
        "id": "VtPnq53USm8p"
      },
      "outputs": [],
      "source": [
        "import urllib.request\n",
        "import numpy as np\n",
        "import pandas as pd\n",
        "import tensorflow as tf\n",
        "import seaborn as sns\n",
        "import matplotlib.pyplot as plt\n",
        "\n",
        "from keras.utils.vis_utils import plot_model\n",
        "from tensorflow.data import Dataset\n",
        "from tensorflow.keras.losses import Huber\n",
        "from tensorflow.keras.models import Sequential\n",
        "from sklearn.preprocessing import MinMaxScaler\n",
        "from sklearn.model_selection import train_test_split\n",
        "from tensorflow.keras.layers import Conv1D, LSTM, Dense, Dropout\n",
        "from tensorflow.keras.metrics import mean_absolute_percentage_error, mean_absolute_error, mean_squared_error, RootMeanSquaredError"
      ]
    },
    {
      "cell_type": "code",
      "source": [
        "def time_step_generator(data, time_size, batch_size, shuffle_data):\n",
        "  generate_data = Dataset.from_tensor_slices(data)\n",
        "  add_window_time_step = generate_data.window(time_size+1, shift=1, drop_remainder=True)\n",
        "  flatten_window = add_window_time_step.flat_map(lambda window : window.batch(time_size+1))\n",
        "  tuple_feature_label = flatten_window.map(lambda window: (window[:-1], window[-1]))\n",
        "  shuffle_data = tuple_feature_label.shuffle(shuffle_data)\n",
        "  batch_window = shuffle_data.batch(batch_size).prefetch(1)\n",
        "  \n",
        "  return batch_window\n",
        "\n",
        "def forecast_predict(model, data, time_size, batch_size, shuffle_data):\n",
        "  generate_data = Dataset.from_tensor_slices(data)\n",
        "  add_window_step = generate_data.window(time_size, shift=1, drop_remainder=True)\n",
        "  flatten_window = add_window_step.flat_map(lambda window: window.batch(time_size))\n",
        "  batch_window = flatten_window.batch(batch_size).prefetch(1)\n",
        "  model_predict = model.predict(batch_window)\n",
        "  return model_predict"
      ],
      "metadata": {
        "id": "hQyD2koDlSxd"
      },
      "execution_count": 2,
      "outputs": []
    },
    {
      "cell_type": "code",
      "source": [
        "url ='https://github.com/melinadwisafitri/skripsi_price_predict/blob/main/data_pangan/data_fixs/data_new.csv?raw=true'\n",
        "urllib.request.urlretrieve(url, 'data_pangan.csv')"
      ],
      "metadata": {
        "id": "9I-HLY85lUJW",
        "colab": {
          "base_uri": "https://localhost:8080/"
        },
        "outputId": "a67358cd-d05f-4fc0-a811-6f2a423a64a4"
      },
      "execution_count": 3,
      "outputs": [
        {
          "output_type": "execute_result",
          "data": {
            "text/plain": [
              "('data_pangan.csv', <http.client.HTTPMessage at 0x7f7b5be21550>)"
            ]
          },
          "metadata": {},
          "execution_count": 3
        }
      ]
    },
    {
      "cell_type": "code",
      "source": [
        "dataset = pd.read_csv('data_pangan.csv')\n",
        "dataset.head()"
      ],
      "metadata": {
        "id": "wG-6m4ULlUPd",
        "colab": {
          "base_uri": "https://localhost:8080/",
          "height": 386
        },
        "outputId": "1fd58c9d-0e1d-4629-9b6f-fa5249129f0d"
      },
      "execution_count": 4,
      "outputs": [
        {
          "output_type": "execute_result",
          "data": {
            "text/plain": [
              "         date  beras  beras_kualitas_bawah_i  beras_kualitas_bawah_ii  \\\n",
              "0  2017-01-08  11200                   10150                     9650   \n",
              "1  2017-01-11  11400                   10350                     9900   \n",
              "2  2017-01-12  10700                    9650                     8500   \n",
              "3  2017-02-08  11200                   10150                     9650   \n",
              "4  2017-02-10  11400                   10250                     9850   \n",
              "\n",
              "   beras_kualitas_medium_i  beras_kualitas_medium_ii  beras_kualitas_super_i  \\\n",
              "0                    11250                     11150                   12750   \n",
              "1                    11500                     11300                   12900   \n",
              "2                    11200                     10950                   12250   \n",
              "3                    11250                     11150                   12750   \n",
              "4                    11400                     11250                   12850   \n",
              "\n",
              "   beras_kualitas_super_ii  daging_ayam_ras_segar  daging_sapi_kualitas_1  \\\n",
              "0                    12250                  34100                  118400   \n",
              "1                    12350                  30350                  117000   \n",
              "2                    11850                  29350                  115800   \n",
              "3                    12250                  34150                  118400   \n",
              "4                    12350                  30200                  118400   \n",
              "\n",
              "   ...  cabai_rawit  cabai_rawit_hijau  cabai_rawit_merah  minyak_goreng  \\\n",
              "0  ...        41050              34800              47550          13950   \n",
              "1  ...        30000              30000              30450          13900   \n",
              "2  ...        33300              31500              35050          14000   \n",
              "3  ...        40600              34600              46650          13950   \n",
              "4  ...        31850              32550              31550          14000   \n",
              "\n",
              "   minyak_goreng_curah  minyak_goreng_kemasan_bermerk_1  \\\n",
              "0                12250                            15050   \n",
              "1                12250                            14950   \n",
              "2                12150                            15400   \n",
              "3                12250                            15050   \n",
              "4                12350                            15000   \n",
              "\n",
              "   minyak_goreng_kemasan_bermerk_2  gula_pasir  gula_pasir_kualitas_premium  \\\n",
              "0                            14350       14900                        16800   \n",
              "1                            14300       14500                        16550   \n",
              "2                            14400       14800                        16650   \n",
              "3                            14350       14900                        16800   \n",
              "4                            14350       14700                        16750   \n",
              "\n",
              "   gula_pasir_lokal  \n",
              "0             13250  \n",
              "1             12900  \n",
              "2             12950  \n",
              "3             13250  \n",
              "4             12950  \n",
              "\n",
              "[5 rows x 27 columns]"
            ],
            "text/html": [
              "\n",
              "  <div id=\"df-22ee7127-84c9-40b7-bc8d-ad59fa889079\">\n",
              "    <div class=\"colab-df-container\">\n",
              "      <div>\n",
              "<style scoped>\n",
              "    .dataframe tbody tr th:only-of-type {\n",
              "        vertical-align: middle;\n",
              "    }\n",
              "\n",
              "    .dataframe tbody tr th {\n",
              "        vertical-align: top;\n",
              "    }\n",
              "\n",
              "    .dataframe thead th {\n",
              "        text-align: right;\n",
              "    }\n",
              "</style>\n",
              "<table border=\"1\" class=\"dataframe\">\n",
              "  <thead>\n",
              "    <tr style=\"text-align: right;\">\n",
              "      <th></th>\n",
              "      <th>date</th>\n",
              "      <th>beras</th>\n",
              "      <th>beras_kualitas_bawah_i</th>\n",
              "      <th>beras_kualitas_bawah_ii</th>\n",
              "      <th>beras_kualitas_medium_i</th>\n",
              "      <th>beras_kualitas_medium_ii</th>\n",
              "      <th>beras_kualitas_super_i</th>\n",
              "      <th>beras_kualitas_super_ii</th>\n",
              "      <th>daging_ayam_ras_segar</th>\n",
              "      <th>daging_sapi_kualitas_1</th>\n",
              "      <th>...</th>\n",
              "      <th>cabai_rawit</th>\n",
              "      <th>cabai_rawit_hijau</th>\n",
              "      <th>cabai_rawit_merah</th>\n",
              "      <th>minyak_goreng</th>\n",
              "      <th>minyak_goreng_curah</th>\n",
              "      <th>minyak_goreng_kemasan_bermerk_1</th>\n",
              "      <th>minyak_goreng_kemasan_bermerk_2</th>\n",
              "      <th>gula_pasir</th>\n",
              "      <th>gula_pasir_kualitas_premium</th>\n",
              "      <th>gula_pasir_lokal</th>\n",
              "    </tr>\n",
              "  </thead>\n",
              "  <tbody>\n",
              "    <tr>\n",
              "      <th>0</th>\n",
              "      <td>2017-01-08</td>\n",
              "      <td>11200</td>\n",
              "      <td>10150</td>\n",
              "      <td>9650</td>\n",
              "      <td>11250</td>\n",
              "      <td>11150</td>\n",
              "      <td>12750</td>\n",
              "      <td>12250</td>\n",
              "      <td>34100</td>\n",
              "      <td>118400</td>\n",
              "      <td>...</td>\n",
              "      <td>41050</td>\n",
              "      <td>34800</td>\n",
              "      <td>47550</td>\n",
              "      <td>13950</td>\n",
              "      <td>12250</td>\n",
              "      <td>15050</td>\n",
              "      <td>14350</td>\n",
              "      <td>14900</td>\n",
              "      <td>16800</td>\n",
              "      <td>13250</td>\n",
              "    </tr>\n",
              "    <tr>\n",
              "      <th>1</th>\n",
              "      <td>2017-01-11</td>\n",
              "      <td>11400</td>\n",
              "      <td>10350</td>\n",
              "      <td>9900</td>\n",
              "      <td>11500</td>\n",
              "      <td>11300</td>\n",
              "      <td>12900</td>\n",
              "      <td>12350</td>\n",
              "      <td>30350</td>\n",
              "      <td>117000</td>\n",
              "      <td>...</td>\n",
              "      <td>30000</td>\n",
              "      <td>30000</td>\n",
              "      <td>30450</td>\n",
              "      <td>13900</td>\n",
              "      <td>12250</td>\n",
              "      <td>14950</td>\n",
              "      <td>14300</td>\n",
              "      <td>14500</td>\n",
              "      <td>16550</td>\n",
              "      <td>12900</td>\n",
              "    </tr>\n",
              "    <tr>\n",
              "      <th>2</th>\n",
              "      <td>2017-01-12</td>\n",
              "      <td>10700</td>\n",
              "      <td>9650</td>\n",
              "      <td>8500</td>\n",
              "      <td>11200</td>\n",
              "      <td>10950</td>\n",
              "      <td>12250</td>\n",
              "      <td>11850</td>\n",
              "      <td>29350</td>\n",
              "      <td>115800</td>\n",
              "      <td>...</td>\n",
              "      <td>33300</td>\n",
              "      <td>31500</td>\n",
              "      <td>35050</td>\n",
              "      <td>14000</td>\n",
              "      <td>12150</td>\n",
              "      <td>15400</td>\n",
              "      <td>14400</td>\n",
              "      <td>14800</td>\n",
              "      <td>16650</td>\n",
              "      <td>12950</td>\n",
              "    </tr>\n",
              "    <tr>\n",
              "      <th>3</th>\n",
              "      <td>2017-02-08</td>\n",
              "      <td>11200</td>\n",
              "      <td>10150</td>\n",
              "      <td>9650</td>\n",
              "      <td>11250</td>\n",
              "      <td>11150</td>\n",
              "      <td>12750</td>\n",
              "      <td>12250</td>\n",
              "      <td>34150</td>\n",
              "      <td>118400</td>\n",
              "      <td>...</td>\n",
              "      <td>40600</td>\n",
              "      <td>34600</td>\n",
              "      <td>46650</td>\n",
              "      <td>13950</td>\n",
              "      <td>12250</td>\n",
              "      <td>15050</td>\n",
              "      <td>14350</td>\n",
              "      <td>14900</td>\n",
              "      <td>16800</td>\n",
              "      <td>13250</td>\n",
              "    </tr>\n",
              "    <tr>\n",
              "      <th>4</th>\n",
              "      <td>2017-02-10</td>\n",
              "      <td>11400</td>\n",
              "      <td>10250</td>\n",
              "      <td>9850</td>\n",
              "      <td>11400</td>\n",
              "      <td>11250</td>\n",
              "      <td>12850</td>\n",
              "      <td>12350</td>\n",
              "      <td>30200</td>\n",
              "      <td>118400</td>\n",
              "      <td>...</td>\n",
              "      <td>31850</td>\n",
              "      <td>32550</td>\n",
              "      <td>31550</td>\n",
              "      <td>14000</td>\n",
              "      <td>12350</td>\n",
              "      <td>15000</td>\n",
              "      <td>14350</td>\n",
              "      <td>14700</td>\n",
              "      <td>16750</td>\n",
              "      <td>12950</td>\n",
              "    </tr>\n",
              "  </tbody>\n",
              "</table>\n",
              "<p>5 rows × 27 columns</p>\n",
              "</div>\n",
              "      <button class=\"colab-df-convert\" onclick=\"convertToInteractive('df-22ee7127-84c9-40b7-bc8d-ad59fa889079')\"\n",
              "              title=\"Convert this dataframe to an interactive table.\"\n",
              "              style=\"display:none;\">\n",
              "        \n",
              "  <svg xmlns=\"http://www.w3.org/2000/svg\" height=\"24px\"viewBox=\"0 0 24 24\"\n",
              "       width=\"24px\">\n",
              "    <path d=\"M0 0h24v24H0V0z\" fill=\"none\"/>\n",
              "    <path d=\"M18.56 5.44l.94 2.06.94-2.06 2.06-.94-2.06-.94-.94-2.06-.94 2.06-2.06.94zm-11 1L8.5 8.5l.94-2.06 2.06-.94-2.06-.94L8.5 2.5l-.94 2.06-2.06.94zm10 10l.94 2.06.94-2.06 2.06-.94-2.06-.94-.94-2.06-.94 2.06-2.06.94z\"/><path d=\"M17.41 7.96l-1.37-1.37c-.4-.4-.92-.59-1.43-.59-.52 0-1.04.2-1.43.59L10.3 9.45l-7.72 7.72c-.78.78-.78 2.05 0 2.83L4 21.41c.39.39.9.59 1.41.59.51 0 1.02-.2 1.41-.59l7.78-7.78 2.81-2.81c.8-.78.8-2.07 0-2.86zM5.41 20L4 18.59l7.72-7.72 1.47 1.35L5.41 20z\"/>\n",
              "  </svg>\n",
              "      </button>\n",
              "      \n",
              "  <style>\n",
              "    .colab-df-container {\n",
              "      display:flex;\n",
              "      flex-wrap:wrap;\n",
              "      gap: 12px;\n",
              "    }\n",
              "\n",
              "    .colab-df-convert {\n",
              "      background-color: #E8F0FE;\n",
              "      border: none;\n",
              "      border-radius: 50%;\n",
              "      cursor: pointer;\n",
              "      display: none;\n",
              "      fill: #1967D2;\n",
              "      height: 32px;\n",
              "      padding: 0 0 0 0;\n",
              "      width: 32px;\n",
              "    }\n",
              "\n",
              "    .colab-df-convert:hover {\n",
              "      background-color: #E2EBFA;\n",
              "      box-shadow: 0px 1px 2px rgba(60, 64, 67, 0.3), 0px 1px 3px 1px rgba(60, 64, 67, 0.15);\n",
              "      fill: #174EA6;\n",
              "    }\n",
              "\n",
              "    [theme=dark] .colab-df-convert {\n",
              "      background-color: #3B4455;\n",
              "      fill: #D2E3FC;\n",
              "    }\n",
              "\n",
              "    [theme=dark] .colab-df-convert:hover {\n",
              "      background-color: #434B5C;\n",
              "      box-shadow: 0px 1px 3px 1px rgba(0, 0, 0, 0.15);\n",
              "      filter: drop-shadow(0px 1px 2px rgba(0, 0, 0, 0.3));\n",
              "      fill: #FFFFFF;\n",
              "    }\n",
              "  </style>\n",
              "\n",
              "      <script>\n",
              "        const buttonEl =\n",
              "          document.querySelector('#df-22ee7127-84c9-40b7-bc8d-ad59fa889079 button.colab-df-convert');\n",
              "        buttonEl.style.display =\n",
              "          google.colab.kernel.accessAllowed ? 'block' : 'none';\n",
              "\n",
              "        async function convertToInteractive(key) {\n",
              "          const element = document.querySelector('#df-22ee7127-84c9-40b7-bc8d-ad59fa889079');\n",
              "          const dataTable =\n",
              "            await google.colab.kernel.invokeFunction('convertToInteractive',\n",
              "                                                     [key], {});\n",
              "          if (!dataTable) return;\n",
              "\n",
              "          const docLinkHtml = 'Like what you see? Visit the ' +\n",
              "            '<a target=\"_blank\" href=https://colab.research.google.com/notebooks/data_table.ipynb>data table notebook</a>'\n",
              "            + ' to learn more about interactive tables.';\n",
              "          element.innerHTML = '';\n",
              "          dataTable['output_type'] = 'display_data';\n",
              "          await google.colab.output.renderOutput(dataTable, element);\n",
              "          const docLink = document.createElement('div');\n",
              "          docLink.innerHTML = docLinkHtml;\n",
              "          element.appendChild(docLink);\n",
              "        }\n",
              "      </script>\n",
              "    </div>\n",
              "  </div>\n",
              "  "
            ]
          },
          "metadata": {},
          "execution_count": 4
        }
      ]
    },
    {
      "cell_type": "code",
      "source": [
        "dataset = dataset.set_index('date')\n",
        "dataset = dataset.sort_index()\n",
        "train = dataset.beras_kualitas_bawah_i.values\n",
        "date = dataset.index"
      ],
      "metadata": {
        "id": "07Rwk6IslXw4"
      },
      "execution_count": 5,
      "outputs": []
    },
    {
      "cell_type": "code",
      "source": [
        "x_train, x_test, y_train, y_test = train_test_split(train, date, test_size=0.2, random_state=False, shuffle=False)\n",
        "x_train, x_val, y_train, y_val = train_test_split(x_train, y_train, test_size=0.1, random_state=False, shuffle=False)\n",
        "\n",
        "print(f'{len(x_val)}\\n{len(x_train)}')"
      ],
      "metadata": {
        "id": "TA-1Sk7zlaEq",
        "colab": {
          "base_uri": "https://localhost:8080/"
        },
        "outputId": "519185e4-df11-4bb1-9411-c0ac5371db3a"
      },
      "execution_count": 6,
      "outputs": [
        {
          "output_type": "stream",
          "name": "stdout",
          "text": [
            "94\n",
            "841\n"
          ]
        }
      ]
    },
    {
      "cell_type": "code",
      "source": [
        "scal_range= MinMaxScaler(feature_range=(0,1))\n",
        "train_scal = scal_range.fit_transform(x_train.reshape(-1, 1))\n",
        "test_scal = scal_range.fit_transform(x_test.reshape(-1, 1))\n",
        "val_scal = scal_range.fit_transform(x_val.reshape(-1, 1))\n",
        "train_step = time_step_generator(train_scal, time_size=700, shuffle_data=100, batch_size=10)\n",
        "val_step = time_step_generator(val_scal, time_size=80, shuffle_data=10, batch_size=1)\n",
        "test_step = time_step_generator(test_scal, time_size=150, shuffle_data=1000, batch_size=5)\n",
        "\n",
        "train_step1 = time_step_generator(train_scal, time_size=100, shuffle_data=100, batch_size=1)\n",
        "val_step1 = time_step_generator(val_scal, time_size=1, shuffle_data=10, batch_size=1)\n",
        "test_step1 = time_step_generator(test_scal, time_size=10, shuffle_data=100, batch_size=1)\n",
        "\n",
        "train_step2 = time_step_generator(train_scal, time_size=300, shuffle_data=1000, batch_size=5)\n",
        "val_step2 = time_step_generator(val_scal, time_size=2, shuffle_data=100, batch_size=2)\n",
        "test_step2 = time_step_generator(test_scal, time_size=100, shuffle_data=1000, batch_size=5)"
      ],
      "metadata": {
        "id": "bUB9cl3TlbgQ"
      },
      "execution_count": 7,
      "outputs": []
    },
    {
      "cell_type": "markdown",
      "source": [
        "## model "
      ],
      "metadata": {
        "id": "4CqjOaEfvmfl"
      }
    },
    {
      "cell_type": "markdown",
      "source": [
        "### SGD"
      ],
      "metadata": {
        "id": "iD5G_VEIwccP"
      }
    },
    {
      "cell_type": "code",
      "source": [
        "model= Sequential([\n",
        "    Conv1D(32, kernel_size=1, padding='causal', activation='relu', strides=2, input_shape=[None, 1]),\n",
        "    Dropout(0.2),\n",
        "    LSTM(64, return_sequences=True),\n",
        "    Dropout(0.5),\n",
        "    # LSTM(44, return_sequences=True),\n",
        "    LSTM(109),\n",
        "    Dense(128, activation='relu'),\n",
        "    Dropout(0.5),\n",
        "    Dense(512, activation='relu'),\n",
        "    Dense(1)\n",
        "])\n",
        "\n",
        "model.compile(optimizer=tf.keras.optimizers.SGD(learning_rate=1e-4, momentum=0.8), loss='mse', metrics=['mae', 'mape'])\n",
        "model.summary()"
      ],
      "metadata": {
        "id": "m1wKjfvmlefX",
        "colab": {
          "base_uri": "https://localhost:8080/"
        },
        "outputId": "ea558eb5-b6ce-4458-937e-af566868cd9c"
      },
      "execution_count": 8,
      "outputs": [
        {
          "output_type": "stream",
          "name": "stdout",
          "text": [
            "Model: \"sequential\"\n",
            "_________________________________________________________________\n",
            " Layer (type)                Output Shape              Param #   \n",
            "=================================================================\n",
            " conv1d (Conv1D)             (None, None, 32)          64        \n",
            "                                                                 \n",
            " dropout (Dropout)           (None, None, 32)          0         \n",
            "                                                                 \n",
            " lstm (LSTM)                 (None, None, 64)          24832     \n",
            "                                                                 \n",
            " dropout_1 (Dropout)         (None, None, 64)          0         \n",
            "                                                                 \n",
            " lstm_1 (LSTM)               (None, 109)               75864     \n",
            "                                                                 \n",
            " dense (Dense)               (None, 128)               14080     \n",
            "                                                                 \n",
            " dropout_2 (Dropout)         (None, 128)               0         \n",
            "                                                                 \n",
            " dense_1 (Dense)             (None, 512)               66048     \n",
            "                                                                 \n",
            " dense_2 (Dense)             (None, 1)                 513       \n",
            "                                                                 \n",
            "=================================================================\n",
            "Total params: 181,401\n",
            "Trainable params: 181,401\n",
            "Non-trainable params: 0\n",
            "_________________________________________________________________\n"
          ]
        }
      ]
    },
    {
      "cell_type": "code",
      "source": [
        "plot_model(model, to_file='model1_plot.png', show_shapes=True, show_layer_names=True)"
      ],
      "metadata": {
        "id": "Pqu0EOtuDHNf"
      },
      "execution_count": null,
      "outputs": []
    },
    {
      "cell_type": "markdown",
      "source": [
        "#### type1"
      ],
      "metadata": {
        "id": "vrzQSiCc74XU"
      }
    },
    {
      "cell_type": "code",
      "source": [
        "history = model.fit(train_step, epochs=30, validation_data=val_step)"
      ],
      "metadata": {
        "id": "xr3zZeEDlemj",
        "colab": {
          "base_uri": "https://localhost:8080/"
        },
        "outputId": "ed61cc3a-8178-455d-fd90-29a3c4143cd8"
      },
      "execution_count": 9,
      "outputs": [
        {
          "output_type": "stream",
          "name": "stdout",
          "text": [
            "Epoch 1/30\n",
            "15/15 [==============================] - 17s 851ms/step - loss: 0.1687 - mae: 0.4104 - mape: 102.6979 - val_loss: 0.0261 - val_mae: 0.1297 - val_mape: 711138.8750\n",
            "Epoch 2/30\n",
            "15/15 [==============================] - 9s 537ms/step - loss: 0.1591 - mae: 0.3985 - mape: 99.7004 - val_loss: 0.0232 - val_mae: 0.1230 - val_mape: 3210412.0000\n",
            "Epoch 3/30\n",
            "15/15 [==============================] - 6s 388ms/step - loss: 0.1509 - mae: 0.3882 - mape: 97.1168 - val_loss: 0.0208 - val_mae: 0.1167 - val_mape: 5609100.5000\n",
            "Epoch 4/30\n",
            "15/15 [==============================] - 6s 388ms/step - loss: 0.1429 - mae: 0.3777 - mape: 94.5072 - val_loss: 0.0186 - val_mae: 0.1106 - val_mape: 7916323.0000\n",
            "Epoch 5/30\n",
            "15/15 [==============================] - 6s 391ms/step - loss: 0.1354 - mae: 0.3676 - mape: 91.9601 - val_loss: 0.0168 - val_mae: 0.1047 - val_mape: 10141224.0000\n",
            "Epoch 6/30\n",
            "15/15 [==============================] - 7s 452ms/step - loss: 0.1280 - mae: 0.3574 - mape: 89.4196 - val_loss: 0.0152 - val_mae: 0.0992 - val_mape: 12244544.0000\n",
            "Epoch 7/30\n",
            "15/15 [==============================] - 9s 605ms/step - loss: 0.1203 - mae: 0.3464 - mape: 86.6679 - val_loss: 0.0139 - val_mae: 0.0940 - val_mape: 14224832.0000\n",
            "Epoch 8/30\n",
            "15/15 [==============================] - 6s 388ms/step - loss: 0.1140 - mae: 0.3372 - mape: 84.3520 - val_loss: 0.0129 - val_mae: 0.0890 - val_mape: 16136669.0000\n",
            "Epoch 9/30\n",
            "15/15 [==============================] - 6s 384ms/step - loss: 0.1087 - mae: 0.3293 - mape: 82.3640 - val_loss: 0.0120 - val_mae: 0.0870 - val_mape: 17961694.0000\n",
            "Epoch 10/30\n",
            "15/15 [==============================] - 6s 381ms/step - loss: 0.1018 - mae: 0.3186 - mape: 79.6730 - val_loss: 0.0113 - val_mae: 0.0858 - val_mape: 19742064.0000\n",
            "Epoch 11/30\n",
            "15/15 [==============================] - 6s 377ms/step - loss: 0.0964 - mae: 0.3101 - mape: 77.5536 - val_loss: 0.0107 - val_mae: 0.0846 - val_mape: 21479026.0000\n",
            "Epoch 12/30\n",
            "15/15 [==============================] - 6s 382ms/step - loss: 0.0921 - mae: 0.3030 - mape: 75.7756 - val_loss: 0.0102 - val_mae: 0.0835 - val_mape: 23162784.0000\n",
            "Epoch 13/30\n",
            "15/15 [==============================] - 6s 414ms/step - loss: 0.0862 - mae: 0.2932 - mape: 73.3276 - val_loss: 0.0099 - val_mae: 0.0824 - val_mape: 24826562.0000\n",
            "Epoch 14/30\n",
            "15/15 [==============================] - 6s 383ms/step - loss: 0.0820 - mae: 0.2859 - mape: 71.5012 - val_loss: 0.0097 - val_mae: 0.0813 - val_mape: 26451950.0000\n",
            "Epoch 15/30\n",
            "15/15 [==============================] - 6s 382ms/step - loss: 0.0775 - mae: 0.2779 - mape: 69.4944 - val_loss: 0.0097 - val_mae: 0.0803 - val_mape: 28039744.0000\n",
            "Epoch 16/30\n",
            "15/15 [==============================] - 6s 383ms/step - loss: 0.0730 - mae: 0.2696 - mape: 67.4213 - val_loss: 0.0097 - val_mae: 0.0792 - val_mape: 29587280.0000\n",
            "Epoch 17/30\n",
            "15/15 [==============================] - 6s 386ms/step - loss: 0.0689 - mae: 0.2621 - mape: 65.5255 - val_loss: 0.0098 - val_mae: 0.0782 - val_mape: 31099146.0000\n",
            "Epoch 18/30\n",
            "15/15 [==============================] - 6s 387ms/step - loss: 0.0656 - mae: 0.2556 - mape: 63.9183 - val_loss: 0.0101 - val_mae: 0.0773 - val_mape: 32575302.0000\n",
            "Epoch 19/30\n",
            "15/15 [==============================] - 7s 455ms/step - loss: 0.0618 - mae: 0.2479 - mape: 61.9792 - val_loss: 0.0104 - val_mae: 0.0795 - val_mape: 34027372.0000\n",
            "Epoch 20/30\n",
            "15/15 [==============================] - 6s 387ms/step - loss: 0.0588 - mae: 0.2420 - mape: 60.5015 - val_loss: 0.0108 - val_mae: 0.0833 - val_mape: 35450952.0000\n",
            "Epoch 21/30\n",
            "15/15 [==============================] - 6s 386ms/step - loss: 0.0550 - mae: 0.2340 - mape: 58.4997 - val_loss: 0.0113 - val_mae: 0.0871 - val_mape: 36849468.0000\n",
            "Epoch 22/30\n",
            "15/15 [==============================] - 6s 387ms/step - loss: 0.0524 - mae: 0.2284 - mape: 57.0906 - val_loss: 0.0118 - val_mae: 0.0907 - val_mape: 38224196.0000\n",
            "Epoch 23/30\n",
            "15/15 [==============================] - 6s 383ms/step - loss: 0.0497 - mae: 0.2225 - mape: 55.6110 - val_loss: 0.0124 - val_mae: 0.0944 - val_mape: 39586828.0000\n",
            "Epoch 24/30\n",
            "15/15 [==============================] - 6s 387ms/step - loss: 0.0467 - mae: 0.2154 - mape: 53.8507 - val_loss: 0.0131 - val_mae: 0.0978 - val_mape: 40897820.0000\n",
            "Epoch 25/30\n",
            "15/15 [==============================] - 6s 385ms/step - loss: 0.0435 - mae: 0.2079 - mape: 51.9645 - val_loss: 0.0138 - val_mae: 0.1012 - val_mape: 42174596.0000\n",
            "Epoch 26/30\n",
            "15/15 [==============================] - 6s 378ms/step - loss: 0.0412 - mae: 0.2021 - mape: 50.5079 - val_loss: 0.0146 - val_mae: 0.1046 - val_mape: 43426904.0000\n",
            "Epoch 27/30\n",
            "15/15 [==============================] - 8s 514ms/step - loss: 0.0390 - mae: 0.1970 - mape: 49.2234 - val_loss: 0.0155 - val_mae: 0.1078 - val_mape: 44640952.0000\n",
            "Epoch 28/30\n",
            "15/15 [==============================] - 6s 387ms/step - loss: 0.0367 - mae: 0.1907 - mape: 47.6599 - val_loss: 0.0163 - val_mae: 0.1110 - val_mape: 45838636.0000\n",
            "Epoch 29/30\n",
            "15/15 [==============================] - 6s 387ms/step - loss: 0.0343 - mae: 0.1845 - mape: 46.0807 - val_loss: 0.0173 - val_mae: 0.1141 - val_mape: 46993560.0000\n",
            "Epoch 30/30\n",
            "15/15 [==============================] - 6s 385ms/step - loss: 0.0325 - mae: 0.1796 - mape: 44.8811 - val_loss: 0.0182 - val_mae: 0.1171 - val_mape: 48119384.0000\n"
          ]
        }
      ]
    },
    {
      "cell_type": "code",
      "source": [
        "mae = history.history['mae']\n",
        "val_mae = history.history['val_mae']\n",
        "epoch = range(len(mae))\n",
        "\n",
        "plt.plot(epoch, mae, label='mae')\n",
        "plt.plot(epoch, val_mae, label='val mae')\n",
        "plt.legend()\n",
        "plt.show()"
      ],
      "metadata": {
        "id": "a7PMoCFOlizG",
        "colab": {
          "base_uri": "https://localhost:8080/",
          "height": 0
        },
        "outputId": "61ac80c4-9f51-486e-e1c3-98a2cacbb5a4"
      },
      "execution_count": 10,
      "outputs": [
        {
          "output_type": "display_data",
          "data": {
            "text/plain": [
              "<Figure size 432x288 with 1 Axes>"
            ],
            "image/png": "[encoded data removed]"
          },
          "metadata": {
            "needs_background": "light"
          }
        }
      ]
    },
    {
      "cell_type": "code",
      "source": [
        "from sklearn.metrics import mean_absolute_error, mean_absolute_percentage_error\n",
        "\n",
        "test_beras_1 = scal_range.fit_transform(x_test.reshape(-1, 1))\n",
        "prediction = forecast_predict(model, test_beras_1, time_size=50, batch_size=1, shuffle_data=100)\n",
        "result_b = prediction.squeeze()\n",
        "result_beras = result_b.reshape(-1, 1)\n",
        "result_beras = scal_range.inverse_transform(result_beras)\n",
        "result_beras = result_beras.reshape(-1)\n",
        "data_test_beras = x_test[:-49]\n",
        "data_test_beras = data_test_beras.reshape(-1)\n",
        "\n",
        "data_new_beras = pd.DataFrame()\n",
        "data_new_beras['actual'] = data_test_beras\n",
        "data_new_beras['prediction'] = result_beras\n",
        "mae_beras = mean_absolute_error(data_test_beras, result_beras)\n",
        "mape_beras = mean_absolute_percentage_error(data_test_beras, result_beras)\n",
        "print(f'mae dari data test beras adalah {mae_beras}\\nmape dari data test beras adalah {mape_beras}')\n",
        "data_new_beras"
      ],
      "metadata": {
        "id": "NRTmwwp3lkkA",
        "colab": {
          "base_uri": "https://localhost:8080/",
          "height": 0
        },
        "outputId": "45b3ce24-418e-4ac1-acd0-cd4a4e9abf54"
      },
      "execution_count": 11,
      "outputs": [
        {
          "output_type": "stream",
          "name": "stdout",
          "text": [
            "185/185 [==============================] - 2s 5ms/step\n",
            "mae dari data test beras adalah 46.8857421875\n",
            "mape dari data test beras adalah 0.004363442132147074\n"
          ]
        },
        {
          "output_type": "execute_result",
          "data": {
            "text/plain": [
              "     actual    prediction\n",
              "0     10700  10653.692383\n",
              "1     10700  10653.502930\n",
              "2     10700  10653.658203\n",
              "3     10700  10653.583984\n",
              "4     10700  10653.682617\n",
              "..      ...           ...\n",
              "180   10750  10654.867188\n",
              "181   10750  10654.839844\n",
              "182   10750  10654.899414\n",
              "183   10750  10654.860352\n",
              "184   10750  10654.941406\n",
              "\n",
              "[185 rows x 2 columns]"
            ],
            "text/html": [
              "\n",
              "  <div id=\"df-15f85372-8ea5-49e0-8a2b-c782ab7c2ce9\">\n",
              "    <div class=\"colab-df-container\">\n",
              "      <div>\n",
              "<style scoped>\n",
              "    .dataframe tbody tr th:only-of-type {\n",
              "        vertical-align: middle;\n",
              "    }\n",
              "\n",
              "    .dataframe tbody tr th {\n",
              "        vertical-align: top;\n",
              "    }\n",
              "\n",
              "    .dataframe thead th {\n",
              "        text-align: right;\n",
              "    }\n",
              "</style>\n",
              "<table border=\"1\" class=\"dataframe\">\n",
              "  <thead>\n",
              "    <tr style=\"text-align: right;\">\n",
              "      <th></th>\n",
              "      <th>actual</th>\n",
              "      <th>prediction</th>\n",
              "    </tr>\n",
              "  </thead>\n",
              "  <tbody>\n",
              "    <tr>\n",
              "      <th>0</th>\n",
              "      <td>10700</td>\n",
              "      <td>10653.692383</td>\n",
              "    </tr>\n",
              "    <tr>\n",
              "      <th>1</th>\n",
              "      <td>10700</td>\n",
              "      <td>10653.502930</td>\n",
              "    </tr>\n",
              "    <tr>\n",
              "      <th>2</th>\n",
              "      <td>10700</td>\n",
              "      <td>10653.658203</td>\n",
              "    </tr>\n",
              "    <tr>\n",
              "      <th>3</th>\n",
              "      <td>10700</td>\n",
              "      <td>10653.583984</td>\n",
              "    </tr>\n",
              "    <tr>\n",
              "      <th>4</th>\n",
              "      <td>10700</td>\n",
              "      <td>10653.682617</td>\n",
              "    </tr>\n",
              "    <tr>\n",
              "      <th>...</th>\n",
              "      <td>...</td>\n",
              "      <td>...</td>\n",
              "    </tr>\n",
              "    <tr>\n",
              "      <th>180</th>\n",
              "      <td>10750</td>\n",
              "      <td>10654.867188</td>\n",
              "    </tr>\n",
              "    <tr>\n",
              "      <th>181</th>\n",
              "      <td>10750</td>\n",
              "      <td>10654.839844</td>\n",
              "    </tr>\n",
              "    <tr>\n",
              "      <th>182</th>\n",
              "      <td>10750</td>\n",
              "      <td>10654.899414</td>\n",
              "    </tr>\n",
              "    <tr>\n",
              "      <th>183</th>\n",
              "      <td>10750</td>\n",
              "      <td>10654.860352</td>\n",
              "    </tr>\n",
              "    <tr>\n",
              "      <th>184</th>\n",
              "      <td>10750</td>\n",
              "      <td>10654.941406</td>\n",
              "    </tr>\n",
              "  </tbody>\n",
              "</table>\n",
              "<p>185 rows × 2 columns</p>\n",
              "</div>\n",
              "      <button class=\"colab-df-convert\" onclick=\"convertToInteractive('df-15f85372-8ea5-49e0-8a2b-c782ab7c2ce9')\"\n",
              "              title=\"Convert this dataframe to an interactive table.\"\n",
              "              style=\"display:none;\">\n",
              "        \n",
              "  <svg xmlns=\"http://www.w3.org/2000/svg\" height=\"24px\"viewBox=\"0 0 24 24\"\n",
              "       width=\"24px\">\n",
              "    <path d=\"M0 0h24v24H0V0z\" fill=\"none\"/>\n",
              "    <path d=\"M18.56 5.44l.94 2.06.94-2.06 2.06-.94-2.06-.94-.94-2.06-.94 2.06-2.06.94zm-11 1L8.5 8.5l.94-2.06 2.06-.94-2.06-.94L8.5 2.5l-.94 2.06-2.06.94zm10 10l.94 2.06.94-2.06 2.06-.94-2.06-.94-.94-2.06-.94 2.06-2.06.94z\"/><path d=\"M17.41 7.96l-1.37-1.37c-.4-.4-.92-.59-1.43-.59-.52 0-1.04.2-1.43.59L10.3 9.45l-7.72 7.72c-.78.78-.78 2.05 0 2.83L4 21.41c.39.39.9.59 1.41.59.51 0 1.02-.2 1.41-.59l7.78-7.78 2.81-2.81c.8-.78.8-2.07 0-2.86zM5.41 20L4 18.59l7.72-7.72 1.47 1.35L5.41 20z\"/>\n",
              "  </svg>\n",
              "      </button>\n",
              "      \n",
              "  <style>\n",
              "    .colab-df-container {\n",
              "      display:flex;\n",
              "      flex-wrap:wrap;\n",
              "      gap: 12px;\n",
              "    }\n",
              "\n",
              "    .colab-df-convert {\n",
              "      background-color: #E8F0FE;\n",
              "      border: none;\n",
              "      border-radius: 50%;\n",
              "      cursor: pointer;\n",
              "      display: none;\n",
              "      fill: #1967D2;\n",
              "      height: 32px;\n",
              "      padding: 0 0 0 0;\n",
              "      width: 32px;\n",
              "    }\n",
              "\n",
              "    .colab-df-convert:hover {\n",
              "      background-color: #E2EBFA;\n",
              "      box-shadow: 0px 1px 2px rgba(60, 64, 67, 0.3), 0px 1px 3px 1px rgba(60, 64, 67, 0.15);\n",
              "      fill: #174EA6;\n",
              "    }\n",
              "\n",
              "    [theme=dark] .colab-df-convert {\n",
              "      background-color: #3B4455;\n",
              "      fill: #D2E3FC;\n",
              "    }\n",
              "\n",
              "    [theme=dark] .colab-df-convert:hover {\n",
              "      background-color: #434B5C;\n",
              "      box-shadow: 0px 1px 3px 1px rgba(0, 0, 0, 0.15);\n",
              "      filter: drop-shadow(0px 1px 2px rgba(0, 0, 0, 0.3));\n",
              "      fill: #FFFFFF;\n",
              "    }\n",
              "  </style>\n",
              "\n",
              "      <script>\n",
              "        const buttonEl =\n",
              "          document.querySelector('#df-15f85372-8ea5-49e0-8a2b-c782ab7c2ce9 button.colab-df-convert');\n",
              "        buttonEl.style.display =\n",
              "          google.colab.kernel.accessAllowed ? 'block' : 'none';\n",
              "\n",
              "        async function convertToInteractive(key) {\n",
              "          const element = document.querySelector('#df-15f85372-8ea5-49e0-8a2b-c782ab7c2ce9');\n",
              "          const dataTable =\n",
              "            await google.colab.kernel.invokeFunction('convertToInteractive',\n",
              "                                                     [key], {});\n",
              "          if (!dataTable) return;\n",
              "\n",
              "          const docLinkHtml = 'Like what you see? Visit the ' +\n",
              "            '<a target=\"_blank\" href=https://colab.research.google.com/notebooks/data_table.ipynb>data table notebook</a>'\n",
              "            + ' to learn more about interactive tables.';\n",
              "          element.innerHTML = '';\n",
              "          dataTable['output_type'] = 'display_data';\n",
              "          await google.colab.output.renderOutput(dataTable, element);\n",
              "          const docLink = document.createElement('div');\n",
              "          docLink.innerHTML = docLinkHtml;\n",
              "          element.appendChild(docLink);\n",
              "        }\n",
              "      </script>\n",
              "    </div>\n",
              "  </div>\n",
              "  "
            ]
          },
          "metadata": {},
          "execution_count": 11
        }
      ]
    },
    {
      "cell_type": "markdown",
      "source": [
        "#### type2"
      ],
      "metadata": {
        "id": "oIhrempu78A9"
      }
    },
    {
      "cell_type": "code",
      "source": [
        "history_t1 = model.fit(train_step1, epochs=30, validation_data=val_step)"
      ],
      "metadata": {
        "id": "zvkrU0IO780i",
        "colab": {
          "base_uri": "https://localhost:8080/"
        },
        "outputId": "959c54ed-ff06-42e5-f876-66e1fb26a490"
      },
      "execution_count": 12,
      "outputs": [
        {
          "output_type": "stream",
          "name": "stdout",
          "text": [
            "Epoch 1/30\n",
            "741/741 [==============================] - 34s 46ms/step - loss: 0.0101 - mae: 0.0857 - mape: 21.8253 - val_loss: 0.0592 - val_mae: 0.2225 - val_mape: 76005656.0000\n",
            "Epoch 2/30\n",
            "741/741 [==============================] - 32s 43ms/step - loss: 0.0025 - mae: 0.0324 - mape: 7.9730 - val_loss: 0.0731 - val_mae: 0.2518 - val_mape: 82303672.0000\n",
            "Epoch 3/30\n",
            "741/741 [==============================] - 31s 42ms/step - loss: 0.0022 - mae: 0.0328 - mape: 8.4260 - val_loss: 0.0755 - val_mae: 0.2566 - val_mape: 83322280.0000\n",
            "Epoch 4/30\n",
            "741/741 [==============================] - 31s 42ms/step - loss: 0.0022 - mae: 0.0324 - mape: 8.3721 - val_loss: 0.0764 - val_mae: 0.2583 - val_mape: 83682632.0000\n",
            "Epoch 5/30\n",
            "741/741 [==============================] - 30s 40ms/step - loss: 0.0023 - mae: 0.0335 - mape: 8.6716 - val_loss: 0.0759 - val_mae: 0.2573 - val_mape: 83478008.0000\n",
            "Epoch 6/30\n",
            "741/741 [==============================] - 31s 42ms/step - loss: 0.0022 - mae: 0.0328 - mape: 8.4809 - val_loss: 0.0761 - val_mae: 0.2577 - val_mape: 83554296.0000\n",
            "Epoch 7/30\n",
            "741/741 [==============================] - 32s 43ms/step - loss: 0.0021 - mae: 0.0318 - mape: 8.2305 - val_loss: 0.0760 - val_mae: 0.2575 - val_mape: 83521408.0000\n",
            "Epoch 8/30\n",
            "741/741 [==============================] - 30s 40ms/step - loss: 0.0022 - mae: 0.0324 - mape: 8.3613 - val_loss: 0.0759 - val_mae: 0.2574 - val_mape: 83490568.0000\n",
            "Epoch 9/30\n",
            "741/741 [==============================] - 30s 41ms/step - loss: 0.0021 - mae: 0.0318 - mape: 8.2391 - val_loss: 0.0756 - val_mae: 0.2567 - val_mape: 83347208.0000\n",
            "Epoch 10/30\n",
            "741/741 [==============================] - 31s 42ms/step - loss: 0.0021 - mae: 0.0321 - mape: 8.3042 - val_loss: 0.0754 - val_mae: 0.2563 - val_mape: 83273448.0000\n",
            "Epoch 11/30\n",
            "741/741 [==============================] - 31s 42ms/step - loss: 0.0021 - mae: 0.0324 - mape: 8.3801 - val_loss: 0.0751 - val_mae: 0.2558 - val_mape: 83170168.0000\n",
            "Epoch 12/30\n",
            "741/741 [==============================] - 30s 41ms/step - loss: 0.0022 - mae: 0.0323 - mape: 8.3513 - val_loss: 0.0747 - val_mae: 0.2550 - val_mape: 83003384.0000\n",
            "Epoch 13/30\n",
            "741/741 [==============================] - 33s 44ms/step - loss: 0.0022 - mae: 0.0330 - mape: 8.5445 - val_loss: 0.0745 - val_mae: 0.2547 - val_mape: 82921264.0000\n",
            "Epoch 14/30\n",
            "741/741 [==============================] - 35s 47ms/step - loss: 0.0022 - mae: 0.0326 - mape: 8.4360 - val_loss: 0.0746 - val_mae: 0.2549 - val_mape: 82957584.0000\n",
            "Epoch 15/30\n",
            "741/741 [==============================] - 36s 49ms/step - loss: 0.0022 - mae: 0.0329 - mape: 8.5102 - val_loss: 0.0742 - val_mae: 0.2540 - val_mape: 82779728.0000\n",
            "Epoch 16/30\n",
            "741/741 [==============================] - 43s 58ms/step - loss: 0.0021 - mae: 0.0322 - mape: 8.3346 - val_loss: 0.0742 - val_mae: 0.2541 - val_mape: 82791144.0000\n",
            "Epoch 17/30\n",
            "741/741 [==============================] - 40s 54ms/step - loss: 0.0022 - mae: 0.0329 - mape: 8.5072 - val_loss: 0.0740 - val_mae: 0.2536 - val_mape: 82681416.0000\n",
            "Epoch 18/30\n",
            "741/741 [==============================] - 35s 48ms/step - loss: 0.0022 - mae: 0.0324 - mape: 8.3754 - val_loss: 0.0737 - val_mae: 0.2531 - val_mape: 82576264.0000\n",
            "Epoch 19/30\n",
            "741/741 [==============================] - 40s 54ms/step - loss: 0.0021 - mae: 0.0326 - mape: 8.4325 - val_loss: 0.0735 - val_mae: 0.2526 - val_mape: 82470256.0000\n",
            "Epoch 20/30\n",
            "741/741 [==============================] - 37s 50ms/step - loss: 0.0021 - mae: 0.0321 - mape: 8.2860 - val_loss: 0.0737 - val_mae: 0.2530 - val_mape: 82547048.0000\n",
            "Epoch 21/30\n",
            "741/741 [==============================] - 35s 48ms/step - loss: 0.0021 - mae: 0.0315 - mape: 8.1582 - val_loss: 0.0735 - val_mae: 0.2526 - val_mape: 82480344.0000\n",
            "Epoch 22/30\n",
            "741/741 [==============================] - 39s 52ms/step - loss: 0.0021 - mae: 0.0326 - mape: 8.4345 - val_loss: 0.0733 - val_mae: 0.2523 - val_mape: 82415320.0000\n",
            "Epoch 23/30\n",
            "741/741 [==============================] - 36s 49ms/step - loss: 0.0021 - mae: 0.0318 - mape: 8.2190 - val_loss: 0.0732 - val_mae: 0.2521 - val_mape: 82366184.0000\n",
            "Epoch 24/30\n",
            "741/741 [==============================] - 40s 54ms/step - loss: 0.0021 - mae: 0.0322 - mape: 8.3306 - val_loss: 0.0730 - val_mae: 0.2515 - val_mape: 82256528.0000\n",
            "Epoch 25/30\n",
            "741/741 [==============================] - 31s 42ms/step - loss: 0.0022 - mae: 0.0327 - mape: 8.4630 - val_loss: 0.0727 - val_mae: 0.2511 - val_mape: 82154480.0000\n",
            "Epoch 26/30\n",
            "741/741 [==============================] - 30s 41ms/step - loss: 0.0021 - mae: 0.0325 - mape: 8.4112 - val_loss: 0.0728 - val_mae: 0.2512 - val_mape: 82178320.0000\n",
            "Epoch 27/30\n",
            "741/741 [==============================] - 30s 41ms/step - loss: 0.0021 - mae: 0.0322 - mape: 8.3154 - val_loss: 0.0726 - val_mae: 0.2509 - val_mape: 82111624.0000\n",
            "Epoch 28/30\n",
            "741/741 [==============================] - 31s 42ms/step - loss: 0.0021 - mae: 0.0320 - mape: 8.2848 - val_loss: 0.0724 - val_mae: 0.2504 - val_mape: 82009560.0000\n",
            "Epoch 29/30\n",
            "741/741 [==============================] - 30s 41ms/step - loss: 0.0022 - mae: 0.0325 - mape: 8.3907 - val_loss: 0.0724 - val_mae: 0.2505 - val_mape: 82040056.0000\n",
            "Epoch 30/30\n",
            "741/741 [==============================] - 32s 44ms/step - loss: 0.0021 - mae: 0.0320 - mape: 8.2823 - val_loss: 0.0720 - val_mae: 0.2496 - val_mape: 81838712.0000\n"
          ]
        }
      ]
    },
    {
      "cell_type": "code",
      "source": [
        "mae_t1 = history_t1.history['mae']\n",
        "val_mae_t1 = history_t1.history['val_mae']\n",
        "epoch_t1 = range(len(mae_t1))\n",
        "\n",
        "plt.plot(epoch_t1, mae_t1, label='mae')\n",
        "plt.plot(epoch_t1, val_mae_t1, label='val mae')\n",
        "plt.legend()\n",
        "plt.show()"
      ],
      "metadata": {
        "id": "NwCo9fTT78-4",
        "colab": {
          "base_uri": "https://localhost:8080/",
          "height": 265
        },
        "outputId": "e14e98b1-e0e9-42b2-ee87-0753fce0d3d4"
      },
      "execution_count": 13,
      "outputs": [
        {
          "output_type": "display_data",
          "data": {
            "text/plain": [
              "<Figure size 432x288 with 1 Axes>"
            ],
            "image/png": "[encoded data removed]"
          },
          "metadata": {
            "needs_background": "light"
          }
        }
      ]
    },
    {
      "cell_type": "code",
      "source": [
        "test_beras_t1 = scal_range.fit_transform(x_test.reshape(-1, 1))\n",
        "prediction_t1 = forecast_predict(model, test_beras_t1, time_size=50, batch_size=1, shuffle_data=100)\n",
        "result_bt1 = prediction_t1.squeeze()\n",
        "result_beras_t1 = result_bt1.reshape(-1, 1)\n",
        "result_beras_t1 = scal_range.inverse_transform(result_beras_t1)\n",
        "result_beras_t1 = result_beras_t1.reshape(-1)\n",
        "data_test_beras_t1 = x_test[:-49]\n",
        "data_test_beras_t1 = data_test_beras_t1.reshape(-1)\n",
        "\n",
        "data_new_beras_t1 = pd.DataFrame()\n",
        "data_new_beras_t1['actual'] = data_test_beras_t1\n",
        "data_new_beras_t1['prediction'] = result_beras_t1\n",
        "mae_beras_t1 = mean_absolute_error(data_test_beras_t1, result_beras_t1)\n",
        "mape_beras_t1 = mean_absolute_percentage_error(data_test_beras_t1, result_beras_t1)\n",
        "print(f'mae dari data test beras adalah {mae_beras_t1}\\nmape dari data test beras adalah {mape_beras_t1}')\n",
        "data_new_beras_t1"
      ],
      "metadata": {
        "id": "tdW4TFb079Mj",
        "colab": {
          "base_uri": "https://localhost:8080/",
          "height": 476
        },
        "outputId": "079743fc-77dd-40f3-df5f-c82498864046"
      },
      "execution_count": 14,
      "outputs": [
        {
          "output_type": "stream",
          "name": "stdout",
          "text": [
            "185/185 [==============================] - 1s 5ms/step\n",
            "mae dari data test beras adalah 56.21447951858108\n",
            "mape dari data test beras adalah 0.005263887317248276\n"
          ]
        },
        {
          "output_type": "execute_result",
          "data": {
            "text/plain": [
              "     actual    prediction\n",
              "0     10700  10725.170898\n",
              "1     10700  10725.046875\n",
              "2     10700  10725.233398\n",
              "3     10700  10725.332031\n",
              "4     10700  10725.392578\n",
              "..      ...           ...\n",
              "180   10750  10727.511719\n",
              "181   10750  10727.434570\n",
              "182   10750  10727.621094\n",
              "183   10750  10727.453125\n",
              "184   10750  10727.725586\n",
              "\n",
              "[185 rows x 2 columns]"
            ],
            "text/html": [
              "\n",
              "  <div id=\"df-fdaba7dc-7d3e-4cab-a3f1-f122f82fe0a3\">\n",
              "    <div class=\"colab-df-container\">\n",
              "      <div>\n",
              "<style scoped>\n",
              "    .dataframe tbody tr th:only-of-type {\n",
              "        vertical-align: middle;\n",
              "    }\n",
              "\n",
              "    .dataframe tbody tr th {\n",
              "        vertical-align: top;\n",
              "    }\n",
              "\n",
              "    .dataframe thead th {\n",
              "        text-align: right;\n",
              "    }\n",
              "</style>\n",
              "<table border=\"1\" class=\"dataframe\">\n",
              "  <thead>\n",
              "    <tr style=\"text-align: right;\">\n",
              "      <th></th>\n",
              "      <th>actual</th>\n",
              "      <th>prediction</th>\n",
              "    </tr>\n",
              "  </thead>\n",
              "  <tbody>\n",
              "    <tr>\n",
              "      <th>0</th>\n",
              "      <td>10700</td>\n",
              "      <td>10725.170898</td>\n",
              "    </tr>\n",
              "    <tr>\n",
              "      <th>1</th>\n",
              "      <td>10700</td>\n",
              "      <td>10725.046875</td>\n",
              "    </tr>\n",
              "    <tr>\n",
              "      <th>2</th>\n",
              "      <td>10700</td>\n",
              "      <td>10725.233398</td>\n",
              "    </tr>\n",
              "    <tr>\n",
              "      <th>3</th>\n",
              "      <td>10700</td>\n",
              "      <td>10725.332031</td>\n",
              "    </tr>\n",
              "    <tr>\n",
              "      <th>4</th>\n",
              "      <td>10700</td>\n",
              "      <td>10725.392578</td>\n",
              "    </tr>\n",
              "    <tr>\n",
              "      <th>...</th>\n",
              "      <td>...</td>\n",
              "      <td>...</td>\n",
              "    </tr>\n",
              "    <tr>\n",
              "      <th>180</th>\n",
              "      <td>10750</td>\n",
              "      <td>10727.511719</td>\n",
              "    </tr>\n",
              "    <tr>\n",
              "      <th>181</th>\n",
              "      <td>10750</td>\n",
              "      <td>10727.434570</td>\n",
              "    </tr>\n",
              "    <tr>\n",
              "      <th>182</th>\n",
              "      <td>10750</td>\n",
              "      <td>10727.621094</td>\n",
              "    </tr>\n",
              "    <tr>\n",
              "      <th>183</th>\n",
              "      <td>10750</td>\n",
              "      <td>10727.453125</td>\n",
              "    </tr>\n",
              "    <tr>\n",
              "      <th>184</th>\n",
              "      <td>10750</td>\n",
              "      <td>10727.725586</td>\n",
              "    </tr>\n",
              "  </tbody>\n",
              "</table>\n",
              "<p>185 rows × 2 columns</p>\n",
              "</div>\n",
              "      <button class=\"colab-df-convert\" onclick=\"convertToInteractive('df-fdaba7dc-7d3e-4cab-a3f1-f122f82fe0a3')\"\n",
              "              title=\"Convert this dataframe to an interactive table.\"\n",
              "              style=\"display:none;\">\n",
              "        \n",
              "  <svg xmlns=\"http://www.w3.org/2000/svg\" height=\"24px\"viewBox=\"0 0 24 24\"\n",
              "       width=\"24px\">\n",
              "    <path d=\"M0 0h24v24H0V0z\" fill=\"none\"/>\n",
              "    <path d=\"M18.56 5.44l.94 2.06.94-2.06 2.06-.94-2.06-.94-.94-2.06-.94 2.06-2.06.94zm-11 1L8.5 8.5l.94-2.06 2.06-.94-2.06-.94L8.5 2.5l-.94 2.06-2.06.94zm10 10l.94 2.06.94-2.06 2.06-.94-2.06-.94-.94-2.06-.94 2.06-2.06.94z\"/><path d=\"M17.41 7.96l-1.37-1.37c-.4-.4-.92-.59-1.43-.59-.52 0-1.04.2-1.43.59L10.3 9.45l-7.72 7.72c-.78.78-.78 2.05 0 2.83L4 21.41c.39.39.9.59 1.41.59.51 0 1.02-.2 1.41-.59l7.78-7.78 2.81-2.81c.8-.78.8-2.07 0-2.86zM5.41 20L4 18.59l7.72-7.72 1.47 1.35L5.41 20z\"/>\n",
              "  </svg>\n",
              "      </button>\n",
              "      \n",
              "  <style>\n",
              "    .colab-df-container {\n",
              "      display:flex;\n",
              "      flex-wrap:wrap;\n",
              "      gap: 12px;\n",
              "    }\n",
              "\n",
              "    .colab-df-convert {\n",
              "      background-color: #E8F0FE;\n",
              "      border: none;\n",
              "      border-radius: 50%;\n",
              "      cursor: pointer;\n",
              "      display: none;\n",
              "      fill: #1967D2;\n",
              "      height: 32px;\n",
              "      padding: 0 0 0 0;\n",
              "      width: 32px;\n",
              "    }\n",
              "\n",
              "    .colab-df-convert:hover {\n",
              "      background-color: #E2EBFA;\n",
              "      box-shadow: 0px 1px 2px rgba(60, 64, 67, 0.3), 0px 1px 3px 1px rgba(60, 64, 67, 0.15);\n",
              "      fill: #174EA6;\n",
              "    }\n",
              "\n",
              "    [theme=dark] .colab-df-convert {\n",
              "      background-color: #3B4455;\n",
              "      fill: #D2E3FC;\n",
              "    }\n",
              "\n",
              "    [theme=dark] .colab-df-convert:hover {\n",
              "      background-color: #434B5C;\n",
              "      box-shadow: 0px 1px 3px 1px rgba(0, 0, 0, 0.15);\n",
              "      filter: drop-shadow(0px 1px 2px rgba(0, 0, 0, 0.3));\n",
              "      fill: #FFFFFF;\n",
              "    }\n",
              "  </style>\n",
              "\n",
              "      <script>\n",
              "        const buttonEl =\n",
              "          document.querySelector('#df-fdaba7dc-7d3e-4cab-a3f1-f122f82fe0a3 button.colab-df-convert');\n",
              "        buttonEl.style.display =\n",
              "          google.colab.kernel.accessAllowed ? 'block' : 'none';\n",
              "\n",
              "        async function convertToInteractive(key) {\n",
              "          const element = document.querySelector('#df-fdaba7dc-7d3e-4cab-a3f1-f122f82fe0a3');\n",
              "          const dataTable =\n",
              "            await google.colab.kernel.invokeFunction('convertToInteractive',\n",
              "                                                     [key], {});\n",
              "          if (!dataTable) return;\n",
              "\n",
              "          const docLinkHtml = 'Like what you see? Visit the ' +\n",
              "            '<a target=\"_blank\" href=https://colab.research.google.com/notebooks/data_table.ipynb>data table notebook</a>'\n",
              "            + ' to learn more about interactive tables.';\n",
              "          element.innerHTML = '';\n",
              "          dataTable['output_type'] = 'display_data';\n",
              "          await google.colab.output.renderOutput(dataTable, element);\n",
              "          const docLink = document.createElement('div');\n",
              "          docLink.innerHTML = docLinkHtml;\n",
              "          element.appendChild(docLink);\n",
              "        }\n",
              "      </script>\n",
              "    </div>\n",
              "  </div>\n",
              "  "
            ]
          },
          "metadata": {},
          "execution_count": 14
        }
      ]
    },
    {
      "cell_type": "markdown",
      "source": [
        "### type3"
      ],
      "metadata": {
        "id": "WPr-3Z8b78XT"
      }
    },
    {
      "cell_type": "code",
      "source": [
        "history_t2 = model.fit(train_step2, epochs=30, validation_data=val_step)"
      ],
      "metadata": {
        "id": "ro11Cs8i8GcX",
        "colab": {
          "base_uri": "https://localhost:8080/"
        },
        "outputId": "e24d7423-092f-4a72-e421-356d6dab177c"
      },
      "execution_count": null,
      "outputs": [
        {
          "output_type": "stream",
          "name": "stdout",
          "text": [
            "Epoch 1/30\n",
            "109/109 [==============================] - 17s 158ms/step - loss: 0.0019 - mae: 0.0271 - mape: 6.8596 - val_loss: 0.0721 - val_mae: 0.2498 - val_mape: 81877488.0000\n",
            "Epoch 2/30\n",
            "109/109 [==============================] - 18s 165ms/step - loss: 0.0020 - mae: 0.0277 - mape: 7.0409 - val_loss: 0.0721 - val_mae: 0.2498 - val_mape: 81889480.0000\n",
            "Epoch 3/30\n",
            "109/109 [==============================] - 17s 156ms/step - loss: 0.0019 - mae: 0.0272 - mape: 6.8861 - val_loss: 0.0721 - val_mae: 0.2499 - val_mape: 81912440.0000\n",
            "Epoch 4/30\n",
            "109/109 [==============================] - 17s 157ms/step - loss: 0.0019 - mae: 0.0271 - mape: 6.8703 - val_loss: 0.0722 - val_mae: 0.2500 - val_mape: 81928576.0000\n",
            "Epoch 5/30\n",
            "109/109 [==============================] - 18s 164ms/step - loss: 0.0019 - mae: 0.0276 - mape: 6.9942 - val_loss: 0.0722 - val_mae: 0.2501 - val_mape: 81947264.0000\n",
            "Epoch 6/30\n",
            "109/109 [==============================] - 17s 156ms/step - loss: 0.0019 - mae: 0.0279 - mape: 7.0778 - val_loss: 0.0722 - val_mae: 0.2500 - val_mape: 81928768.0000\n",
            "Epoch 7/30\n",
            "109/109 [==============================] - 17s 158ms/step - loss: 0.0019 - mae: 0.0271 - mape: 6.8575 - val_loss: 0.0721 - val_mae: 0.2499 - val_mape: 81904184.0000\n",
            "Epoch 8/30\n",
            "109/109 [==============================] - 18s 166ms/step - loss: 0.0019 - mae: 0.0277 - mape: 7.0361 - val_loss: 0.0721 - val_mae: 0.2499 - val_mape: 81902920.0000\n",
            "Epoch 9/30\n",
            "109/109 [==============================] - 17s 156ms/step - loss: 0.0019 - mae: 0.0267 - mape: 6.7689 - val_loss: 0.0722 - val_mae: 0.2501 - val_mape: 81943592.0000\n",
            "Epoch 10/30\n",
            "109/109 [==============================] - 17s 157ms/step - loss: 0.0019 - mae: 0.0270 - mape: 6.8403 - val_loss: 0.0722 - val_mae: 0.2500 - val_mape: 81937008.0000\n",
            "Epoch 11/30\n",
            "109/109 [==============================] - 18s 167ms/step - loss: 0.0018 - mae: 0.0272 - mape: 6.9016 - val_loss: 0.0722 - val_mae: 0.2501 - val_mape: 81945592.0000\n",
            "Epoch 12/30\n",
            "109/109 [==============================] - 18s 164ms/step - loss: 0.0019 - mae: 0.0271 - mape: 6.8644 - val_loss: 0.0722 - val_mae: 0.2501 - val_mape: 81941296.0000\n",
            "Epoch 13/30\n",
            " 76/109 [===================>..........] - ETA: 5s - loss: 0.0023 - mae: 0.0274 - mape: 6.8791"
          ]
        }
      ]
    },
    {
      "cell_type": "code",
      "source": [
        "mae_t2 = history_t2.history['mae']\n",
        "val_mae_t2 = history_t2.history['val_mae']\n",
        "epoch_t2 = range(len(mae_t2))\n",
        "\n",
        "plt.plot(epoch_t2, mae_t2, label='mae')\n",
        "plt.plot(epoch_t2, val_mae_t2, label='val mae')\n",
        "plt.legend()\n",
        "plt.show()"
      ],
      "metadata": {
        "id": "QYWr4IqY_2Oo"
      },
      "execution_count": null,
      "outputs": []
    },
    {
      "cell_type": "code",
      "source": [
        "test_beras_t2 = scal_range.fit_transform(x_test.reshape(-1, 1))\n",
        "prediction_t2 = forecast_predict(model, test_beras_t2, time_size=50, batch_size=1, shuffle_data=100)\n",
        "result_bt2 = prediction_t2.squeeze()\n",
        "result_beras_t2 = result_bt2.reshape(-1, 1)\n",
        "result_beras_t2 = scal_range.inverse_transform(result_beras_t2)\n",
        "result_beras_t2 = result_beras_t2.reshape(-1)\n",
        "data_test_beras_t2 = x_test[:-49]\n",
        "data_test_beras_t2 = data_test_beras_t2.reshape(-1)\n",
        "\n",
        "data_new_beras_t2 = pd.DataFrame()\n",
        "data_new_beras_t2['actual'] = data_test_beras_t2\n",
        "data_new_beras_t2['prediction'] = result_beras_t2\n",
        "mae_beras_t2 = mean_absolute_error(data_test_beras_t2, result_beras_t2)\n",
        "mape_beras_t2 = mean_absolute_percentage_error(data_test_beras_t2, result_beras_t2)\n",
        "print(f'mae dari data test beras adalah {mae_beras_t2}\\nmape dari data test beras adalah {mape_beras_t2}')\n",
        "data_new_beras_t2"
      ],
      "metadata": {
        "id": "OFrrljRS8Gxt"
      },
      "execution_count": null,
      "outputs": []
    },
    {
      "cell_type": "markdown",
      "source": [
        "### Adam"
      ],
      "metadata": {
        "id": "wqVv6vqgwfxP"
      }
    },
    {
      "cell_type": "markdown",
      "source": [
        "#### Type 1"
      ],
      "metadata": {
        "id": "FsdZ5MFDh57_"
      }
    },
    {
      "cell_type": "code",
      "source": [
        "model_a= Sequential([\n",
        "    Conv1D(32, kernel_size=1, padding='causal', activation='relu', strides=2, input_shape=[None, 1]),\n",
        "    Dropout(0.2),\n",
        "    LSTM(64, return_sequences=True),\n",
        "    Dropout(0.5),\n",
        "    # LSTM(44, return_sequences=True),\n",
        "    LSTM(109),\n",
        "    Dense(128, activation='relu'),\n",
        "    Dropout(0.5),\n",
        "    Dense(512, activation='relu'),\n",
        "    Dense(1)\n",
        "])\n",
        "\n",
        "model_a.compile(loss= 'mean_squared_error', optimizer=tf.keras.optimizers.Adam(learning_rate=1e-4), metrics=['mae'])\n",
        "model_a.summary()"
      ],
      "metadata": {
        "id": "UDsYjNiHvjXQ"
      },
      "execution_count": null,
      "outputs": []
    },
    {
      "cell_type": "code",
      "source": [
        "history_a = model_a.fit(train_step, epochs=30, validation_data=val_step)"
      ],
      "metadata": {
        "id": "tKjCCEvIvji7"
      },
      "execution_count": null,
      "outputs": []
    },
    {
      "cell_type": "code",
      "source": [
        "mae_a = history_a.history['mae']\n",
        "val_mae_a = history_a.history['val_mae']\n",
        "epoch_a = range(len(mae_a))\n",
        "\n",
        "plt.plot(epoch_a, mae_a, label='mae')\n",
        "plt.plot(epoch, val_mae_a, label='val mae')\n",
        "plt.legend()\n",
        "plt.show()"
      ],
      "metadata": {
        "id": "_37E3HJHvjsi"
      },
      "execution_count": null,
      "outputs": []
    },
    {
      "cell_type": "code",
      "source": [
        "from sklearn.metrics import mean_absolute_error, mean_absolute_percentage_error\n",
        "\n",
        "test_beras_a = scal_range.fit_transform(x_test.reshape(-1, 1))\n",
        "prediction2 = forecast_predict(model_a, test_beras_a, time_size=50, batch_size=1, shuffle_data=100)\n",
        "result_b2 = prediction2.squeeze()\n",
        "result_beras2 = result_b2.reshape(-1, 1)\n",
        "result_beras2 = scal_range.inverse_transform(result_beras2)\n",
        "result_beras2 = result_beras2.reshape(-1)\n",
        "data_test_beras2 = x_test[:-49]\n",
        "data_test_beras2 = data_test_beras2.reshape(-1)\n",
        "\n",
        "data_new_beras2 = pd.DataFrame()\n",
        "data_new_beras2['actual'] = data_test_beras2\n",
        "data_new_beras2['prediction'] = result_beras2\n",
        "mae_beras2 = mean_absolute_error(data_test_beras2, result_beras2)\n",
        "mape_beras2 = mean_absolute_percentage_error(data_test_beras2, result_beras2)\n",
        "print(f'mae dari data test beras adalah {mae_beras2}\\nmape dari data test beras adalah {mape_beras2}')\n",
        "data_new_beras2"
      ],
      "metadata": {
        "id": "Y4b-SEnUtuUP"
      },
      "execution_count": null,
      "outputs": []
    },
    {
      "cell_type": "markdown",
      "source": [
        "#### Type 2"
      ],
      "metadata": {
        "id": "k4K7cwp4h9Ue"
      }
    },
    {
      "cell_type": "code",
      "source": [],
      "metadata": {
        "id": "W2QggGyYh76R"
      },
      "execution_count": null,
      "outputs": []
    },
    {
      "cell_type": "code",
      "source": [],
      "metadata": {
        "id": "nDGAmjQWh8HF"
      },
      "execution_count": null,
      "outputs": []
    },
    {
      "cell_type": "code",
      "source": [],
      "metadata": {
        "id": "WuE470TPh8gC"
      },
      "execution_count": null,
      "outputs": []
    },
    {
      "cell_type": "markdown",
      "source": [
        "#### Type 3"
      ],
      "metadata": {
        "id": "xuLk2uR7iAC3"
      }
    },
    {
      "cell_type": "code",
      "source": [],
      "metadata": {
        "id": "U2fPsxq9iB6a"
      },
      "execution_count": null,
      "outputs": []
    },
    {
      "cell_type": "code",
      "source": [],
      "metadata": {
        "id": "kQRHqdgeiCJn"
      },
      "execution_count": null,
      "outputs": []
    },
    {
      "cell_type": "code",
      "source": [],
      "metadata": {
        "id": "Qg8IvFu8iCTf"
      },
      "execution_count": null,
      "outputs": []
    },
    {
      "cell_type": "markdown",
      "source": [
        "## model 1"
      ],
      "metadata": {
        "id": "7nabeuv8vsUH"
      }
    },
    {
      "cell_type": "markdown",
      "source": [
        "### Adam"
      ],
      "metadata": {
        "id": "Y4p6Ncn9wm4t"
      }
    },
    {
      "cell_type": "markdown",
      "source": [
        "#### Type 1"
      ],
      "metadata": {
        "id": "9Btvw0-PhqzX"
      }
    },
    {
      "cell_type": "code",
      "source": [
        "model1= Sequential([\n",
        "    tf.keras.layers.Conv1D(97, kernel_size=5, \n",
        "                                           activation='relu',strides=2,\n",
        "                                           padding='causal', input_shape=[None, 1]),\n",
        "                    LSTM(24, return_sequences=True),\n",
        "                    LSTM(64),\n",
        "                    Dense(50, activation='relu'),\n",
        "                    Dense(12, activation='relu'),\n",
        "                    Dense(1)\n",
        "])\n",
        "\n",
        "# model1.compile(optimizer=tf.keras.optimizers.Adam(learning_rate=1e-3), loss='mse', metrics=['mae', 'mape'])\n",
        "#menambah optimizer yang digunakan\n",
        "model1.compile(loss= 'mean_squared_error', optimizer=tf.keras.optimizers.Adam(learning_rate=1e-4), metrics=['mae'])\n",
        "model1.summary()"
      ],
      "metadata": {
        "id": "8n1ovQAf5zYK"
      },
      "execution_count": null,
      "outputs": []
    },
    {
      "cell_type": "code",
      "source": [
        "history1 = model1.fit(train_step, epochs=30, validation_data=val_step)"
      ],
      "metadata": {
        "id": "pXXKqJx57MlB"
      },
      "execution_count": null,
      "outputs": []
    },
    {
      "cell_type": "code",
      "source": [
        "mae1 = history1.history['mae']\n",
        "val_mae1 = history1.history['val_mae']\n",
        "epoch1 = range(len(mae1))\n",
        "\n",
        "plt.plot(epoch1, mae1, label='mae')\n",
        "plt.plot(epoch1, val_mae1, label='val mae')\n",
        "plt.legend()\n",
        "plt.show()"
      ],
      "metadata": {
        "id": "u3Gea8rNG4m0"
      },
      "execution_count": null,
      "outputs": []
    },
    {
      "cell_type": "code",
      "source": [
        "from sklearn.metrics import mean_absolute_error, mean_absolute_percentage_error\n",
        "\n",
        "test_beras_2 = scal_range.fit_transform(x_test.reshape(-1, 1))\n",
        "prediction2 = forecast_predict(model1, test_beras_2, time_size=10, batch_size=5, shuffle_data=1000)\n",
        "result_b2 = prediction2.squeeze()\n",
        "result_beras2 = result_b2.reshape(-1, 1)\n",
        "result_beras2 = scal_range.inverse_transform(result_beras2)\n",
        "result_beras2 = result_beras2.reshape(-1)\n",
        "data_test_beras2 = x_test[:-9]\n",
        "data_test_beras2 = data_test_beras2.reshape(-1)\n",
        "\n",
        "data_new_beras2 = pd.DataFrame()\n",
        "data_new_beras2['actual'] = data_test_beras2\n",
        "data_new_beras2['prediction'] = result_beras2\n",
        "mae_beras2 = mean_absolute_error(data_test_beras2, result_beras2)\n",
        "mape_beras2 = mean_absolute_percentage_error(data_test_beras2, result_beras2)\n",
        "print(f'mae dari data test beras adalah {mae_beras2}\\nmape dari data test beras adalah {mape_beras2}')\n",
        "data_new_beras2"
      ],
      "metadata": {
        "id": "DejlxRp6532K"
      },
      "execution_count": null,
      "outputs": []
    },
    {
      "cell_type": "markdown",
      "source": [
        "#### Type 2"
      ],
      "metadata": {
        "id": "Vo7Cqjkbhs3q"
      }
    },
    {
      "cell_type": "code",
      "source": [],
      "metadata": {
        "id": "Y17fj-rhhxc2"
      },
      "execution_count": null,
      "outputs": []
    },
    {
      "cell_type": "code",
      "source": [],
      "metadata": {
        "id": "MzE2KO23hxvw"
      },
      "execution_count": null,
      "outputs": []
    },
    {
      "cell_type": "code",
      "source": [],
      "metadata": {
        "id": "e-uIKg-ihx6N"
      },
      "execution_count": null,
      "outputs": []
    },
    {
      "cell_type": "markdown",
      "source": [
        "#### Type 3"
      ],
      "metadata": {
        "id": "CqkhwFRthukJ"
      }
    },
    {
      "cell_type": "code",
      "source": [],
      "metadata": {
        "id": "JRgHehEVhyqO"
      },
      "execution_count": null,
      "outputs": []
    },
    {
      "cell_type": "code",
      "source": [],
      "metadata": {
        "id": "zySYd9mahy1a"
      },
      "execution_count": null,
      "outputs": []
    },
    {
      "cell_type": "code",
      "source": [],
      "metadata": {
        "id": "ZVzOgUw_hy_4"
      },
      "execution_count": null,
      "outputs": []
    },
    {
      "cell_type": "markdown",
      "source": [
        "### SGD"
      ],
      "metadata": {
        "id": "kfkJFbIcwqUO"
      }
    },
    {
      "cell_type": "code",
      "source": [
        "model1_a= Sequential([\n",
        "    tf.keras.layers.Conv1D(97, kernel_size=5, \n",
        "                                           activation='relu',strides=2,\n",
        "                                           padding='causal', input_shape=[None, 1]),\n",
        "                    LSTM(24, return_sequences=True),\n",
        "                    LSTM(64),\n",
        "                    Dense(50, activation='relu'),\n",
        "                    Dense(12, activation='relu'),\n",
        "                    Dense(1)\n",
        "])\n",
        "\n",
        "model1_a.compile(optimizer=tf.keras.optimizers.SGD(learning_rate=1e-4, momentum=0.8), loss='mse', metrics=['mae', 'mape'])\n",
        "model1_a.summary()"
      ],
      "metadata": {
        "id": "_6CrDf0vtuMk"
      },
      "execution_count": null,
      "outputs": []
    },
    {
      "cell_type": "code",
      "source": [
        "plot_model(model1, to_file='model2_plot.png', show_shapes=True, show_layer_names=True)"
      ],
      "metadata": {
        "id": "Cz-FZeq0DrkS"
      },
      "execution_count": null,
      "outputs": []
    },
    {
      "cell_type": "code",
      "source": [
        "history1_a = model1_a.fit(train_step, epochs=30, validation_data=val_step)"
      ],
      "metadata": {
        "id": "o1xx23xFtwCU"
      },
      "execution_count": null,
      "outputs": []
    },
    {
      "cell_type": "code",
      "source": [
        "mae1_a = history1_a.history['mae']\n",
        "val_mae1_a = history1_a.history['val_mae']\n",
        "epoch1_a = range(len(mae1_a))\n",
        "\n",
        "plt.plot(epoch1_a, mae1_a, label='mae')\n",
        "plt.plot(epoch1_a, val_mae1_a, label='val mae')\n",
        "plt.legend()\n",
        "plt.show()"
      ],
      "metadata": {
        "id": "5FjDatqxuP9L"
      },
      "execution_count": null,
      "outputs": []
    },
    {
      "cell_type": "code",
      "source": [
        "from sklearn.metrics import mean_absolute_error, mean_absolute_percentage_error\n",
        "\n",
        "test_beras_1_a = scal_range.fit_transform(x_test.reshape(-1, 1))\n",
        "prediction1_a = forecast_predict(model1_a, test_beras_1_a, time_size=50, batch_size=1, shuffle_data=100)\n",
        "result_b1_a = prediction1_a.squeeze()\n",
        "result_beras1_a = result_b1_a.reshape(-1, 1)\n",
        "result_beras1_a= scal_range.inverse_transform(result_beras1_a)\n",
        "result_beras1_a = result_beras1_a.reshape(-1)\n",
        "data_test_beras1_a = x_test[:-49]\n",
        "data_test_beras1_a = data_test_beras1_a.reshape(-1)\n",
        "\n",
        "data_new_beras1_a = pd.DataFrame()\n",
        "data_new_beras1_a['actual'] = data_test_beras1_a\n",
        "data_new_beras1_a['prediction'] = result_beras1_a\n",
        "mae_beras1_a = mean_absolute_error(data_test_beras1_a, result_beras1_a)\n",
        "mape_beras1_a = mean_absolute_percentage_error(data_test_beras1_a, result_beras1_a)\n",
        "print(f'mae dari data test beras adalah {mae_beras1_a}\\nmape dari data test beras adalah {mape_beras1_a}')\n",
        "data_new_beras1_a"
      ],
      "metadata": {
        "id": "bf1lK6ujubjY"
      },
      "execution_count": null,
      "outputs": []
    },
    {
      "cell_type": "markdown",
      "source": [
        "## model 2"
      ],
      "metadata": {
        "id": "C2qjcz7Aw7qP"
      }
    },
    {
      "cell_type": "markdown",
      "source": [
        "### SGD"
      ],
      "metadata": {
        "id": "WHH7TqavxBY4"
      }
    },
    {
      "cell_type": "markdown",
      "source": [
        "#### Type 1"
      ],
      "metadata": {
        "id": "kCLo3HlahYSW"
      }
    },
    {
      "cell_type": "code",
      "source": [
        "model2= Sequential([\n",
        "    Conv1D(16, kernel_size=2, \n",
        "                            activation='relu',strides=2,\n",
        "                            padding='causal', input_shape=[None, 1]),\n",
        "    tf.keras.layers.MaxPool1D(2, padding=\"same\"),\n",
        "    LSTM(24, return_sequences=True),\n",
        "    Dropout(0.3),\n",
        "    LSTM(80),\n",
        "    Dense(24, activation='relu'),\n",
        "    Dense(50, activation='relu'),\n",
        "    Dense(1)\n",
        "])\n",
        "\n",
        "model2.compile(optimizer=tf.keras.optimizers.SGD(learning_rate=1e-4, momentum=0.8), loss='mse', metrics=['mae', 'mape'])\n",
        "model2.summary()"
      ],
      "metadata": {
        "id": "KV8_Ov4Ew_5k"
      },
      "execution_count": null,
      "outputs": []
    },
    {
      "cell_type": "code",
      "source": [
        "# plot_model(model2, to_file='model3_plot.png', show_shapes=True, show_layer_names=True)"
      ],
      "metadata": {
        "id": "Evt2O2NzDZVR"
      },
      "execution_count": null,
      "outputs": []
    },
    {
      "cell_type": "code",
      "source": [
        "history2 = model2.fit(train_step, epochs=50, validation_data=val_step)"
      ],
      "metadata": {
        "colab": {
          "base_uri": "https://localhost:8080/",
          "height": 328
        },
        "id": "IFA5L0kkxAVP",
        "outputId": "5454f6a2-50b3-41b4-d298-2dff87b23109"
      },
      "execution_count": 121,
      "outputs": [
        {
          "metadata": {
            "tags": null
          },
          "name": "stdout",
          "output_type": "stream",
          "text": [
            "Epoch 1/50\n"
          ]
        },
        {
          "output_type": "error",
          "ename": "KeyboardInterrupt",
          "evalue": "ignored",
          "traceback": [
            "\u001b[0;31m---------------------------------------------------------------------------\u001b[0m",
            "\u001b[0;31mKeyboardInterrupt\u001b[0m                         Traceback (most recent call last)",
            "\u001b[0;32m<ipython-input-121-1dbba1d03990>\u001b[0m in \u001b[0;36m<module>\u001b[0;34m\u001b[0m\n\u001b[0;32m----> 1\u001b[0;31m \u001b[0mhistory2\u001b[0m \u001b[0;34m=\u001b[0m \u001b[0mmodel2\u001b[0m\u001b[0;34m.\u001b[0m\u001b[0mfit\u001b[0m\u001b[0;34m(\u001b[0m\u001b[0mtrain_step\u001b[0m\u001b[0;34m,\u001b[0m \u001b[0mepochs\u001b[0m\u001b[0;34m=\u001b[0m\u001b[0;36m50\u001b[0m\u001b[0;34m,\u001b[0m \u001b[0mvalidation_data\u001b[0m\u001b[0;34m=\u001b[0m\u001b[0mval_step\u001b[0m\u001b[0;34m)\u001b[0m\u001b[0;34m\u001b[0m\u001b[0;34m\u001b[0m\u001b[0m\n\u001b[0m",
            "\u001b[0;32m/usr/local/lib/python3.7/dist-packages/keras/utils/traceback_utils.py\u001b[0m in \u001b[0;36merror_handler\u001b[0;34m(*args, **kwargs)\u001b[0m\n\u001b[1;32m     62\u001b[0m     \u001b[0mfiltered_tb\u001b[0m \u001b[0;34m=\u001b[0m \u001b[0;32mNone\u001b[0m\u001b[0;34m\u001b[0m\u001b[0;34m\u001b[0m\u001b[0m\n\u001b[1;32m     63\u001b[0m     \u001b[0;32mtry\u001b[0m\u001b[0;34m:\u001b[0m\u001b[0;34m\u001b[0m\u001b[0;34m\u001b[0m\u001b[0m\n\u001b[0;32m---> 64\u001b[0;31m       \u001b[0;32mreturn\u001b[0m \u001b[0mfn\u001b[0m\u001b[0;34m(\u001b[0m\u001b[0;34m*\u001b[0m\u001b[0margs\u001b[0m\u001b[0;34m,\u001b[0m \u001b[0;34m**\u001b[0m\u001b[0mkwargs\u001b[0m\u001b[0;34m)\u001b[0m\u001b[0;34m\u001b[0m\u001b[0;34m\u001b[0m\u001b[0m\n\u001b[0m\u001b[1;32m     65\u001b[0m     \u001b[0;32mexcept\u001b[0m \u001b[0mException\u001b[0m \u001b[0;32mas\u001b[0m \u001b[0me\u001b[0m\u001b[0;34m:\u001b[0m  \u001b[0;31m# pylint: disable=broad-except\u001b[0m\u001b[0;34m\u001b[0m\u001b[0;34m\u001b[0m\u001b[0m\n\u001b[1;32m     66\u001b[0m       \u001b[0mfiltered_tb\u001b[0m \u001b[0;34m=\u001b[0m \u001b[0m_process_traceback_frames\u001b[0m\u001b[0;34m(\u001b[0m\u001b[0me\u001b[0m\u001b[0;34m.\u001b[0m\u001b[0m__traceback__\u001b[0m\u001b[0;34m)\u001b[0m\u001b[0;34m\u001b[0m\u001b[0;34m\u001b[0m\u001b[0m\n",
            "\u001b[0;32m/usr/local/lib/python3.7/dist-packages/keras/engine/training.py\u001b[0m in \u001b[0;36mfit\u001b[0;34m(self, x, y, batch_size, epochs, verbose, callbacks, validation_split, validation_data, shuffle, class_weight, sample_weight, initial_epoch, steps_per_epoch, validation_steps, validation_batch_size, validation_freq, max_queue_size, workers, use_multiprocessing)\u001b[0m\n\u001b[1;32m   1407\u001b[0m                 _r=1):\n\u001b[1;32m   1408\u001b[0m               \u001b[0mcallbacks\u001b[0m\u001b[0;34m.\u001b[0m\u001b[0mon_train_batch_begin\u001b[0m\u001b[0;34m(\u001b[0m\u001b[0mstep\u001b[0m\u001b[0;34m)\u001b[0m\u001b[0;34m\u001b[0m\u001b[0;34m\u001b[0m\u001b[0m\n\u001b[0;32m-> 1409\u001b[0;31m               \u001b[0mtmp_logs\u001b[0m \u001b[0;34m=\u001b[0m \u001b[0mself\u001b[0m\u001b[0;34m.\u001b[0m\u001b[0mtrain_function\u001b[0m\u001b[0;34m(\u001b[0m\u001b[0miterator\u001b[0m\u001b[0;34m)\u001b[0m\u001b[0;34m\u001b[0m\u001b[0;34m\u001b[0m\u001b[0m\n\u001b[0m\u001b[1;32m   1410\u001b[0m               \u001b[0;32mif\u001b[0m \u001b[0mdata_handler\u001b[0m\u001b[0;34m.\u001b[0m\u001b[0mshould_sync\u001b[0m\u001b[0;34m:\u001b[0m\u001b[0;34m\u001b[0m\u001b[0;34m\u001b[0m\u001b[0m\n\u001b[1;32m   1411\u001b[0m                 \u001b[0mcontext\u001b[0m\u001b[0;34m.\u001b[0m\u001b[0masync_wait\u001b[0m\u001b[0;34m(\u001b[0m\u001b[0;34m)\u001b[0m\u001b[0;34m\u001b[0m\u001b[0;34m\u001b[0m\u001b[0m\n",
            "\u001b[0;32m/usr/local/lib/python3.7/dist-packages/tensorflow/python/util/traceback_utils.py\u001b[0m in \u001b[0;36merror_handler\u001b[0;34m(*args, **kwargs)\u001b[0m\n\u001b[1;32m    148\u001b[0m     \u001b[0mfiltered_tb\u001b[0m \u001b[0;34m=\u001b[0m \u001b[0;32mNone\u001b[0m\u001b[0;34m\u001b[0m\u001b[0;34m\u001b[0m\u001b[0m\n\u001b[1;32m    149\u001b[0m     \u001b[0;32mtry\u001b[0m\u001b[0;34m:\u001b[0m\u001b[0;34m\u001b[0m\u001b[0;34m\u001b[0m\u001b[0m\n\u001b[0;32m--> 150\u001b[0;31m       \u001b[0;32mreturn\u001b[0m \u001b[0mfn\u001b[0m\u001b[0;34m(\u001b[0m\u001b[0;34m*\u001b[0m\u001b[0margs\u001b[0m\u001b[0;34m,\u001b[0m \u001b[0;34m**\u001b[0m\u001b[0mkwargs\u001b[0m\u001b[0;34m)\u001b[0m\u001b[0;34m\u001b[0m\u001b[0;34m\u001b[0m\u001b[0m\n\u001b[0m\u001b[1;32m    151\u001b[0m     \u001b[0;32mexcept\u001b[0m \u001b[0mException\u001b[0m \u001b[0;32mas\u001b[0m \u001b[0me\u001b[0m\u001b[0;34m:\u001b[0m\u001b[0;34m\u001b[0m\u001b[0;34m\u001b[0m\u001b[0m\n\u001b[1;32m    152\u001b[0m       \u001b[0mfiltered_tb\u001b[0m \u001b[0;34m=\u001b[0m \u001b[0m_process_traceback_frames\u001b[0m\u001b[0;34m(\u001b[0m\u001b[0me\u001b[0m\u001b[0;34m.\u001b[0m\u001b[0m__traceback__\u001b[0m\u001b[0;34m)\u001b[0m\u001b[0;34m\u001b[0m\u001b[0;34m\u001b[0m\u001b[0m\n",
            "\u001b[0;32m/usr/local/lib/python3.7/dist-packages/tensorflow/python/eager/def_function.py\u001b[0m in \u001b[0;36m__call__\u001b[0;34m(self, *args, **kwds)\u001b[0m\n\u001b[1;32m    913\u001b[0m \u001b[0;34m\u001b[0m\u001b[0m\n\u001b[1;32m    914\u001b[0m       \u001b[0;32mwith\u001b[0m \u001b[0mOptionalXlaContext\u001b[0m\u001b[0;34m(\u001b[0m\u001b[0mself\u001b[0m\u001b[0;34m.\u001b[0m\u001b[0m_jit_compile\u001b[0m\u001b[0;34m)\u001b[0m\u001b[0;34m:\u001b[0m\u001b[0;34m\u001b[0m\u001b[0;34m\u001b[0m\u001b[0m\n\u001b[0;32m--> 915\u001b[0;31m         \u001b[0mresult\u001b[0m \u001b[0;34m=\u001b[0m \u001b[0mself\u001b[0m\u001b[0;34m.\u001b[0m\u001b[0m_call\u001b[0m\u001b[0;34m(\u001b[0m\u001b[0;34m*\u001b[0m\u001b[0margs\u001b[0m\u001b[0;34m,\u001b[0m \u001b[0;34m**\u001b[0m\u001b[0mkwds\u001b[0m\u001b[0;34m)\u001b[0m\u001b[0;34m\u001b[0m\u001b[0;34m\u001b[0m\u001b[0m\n\u001b[0m\u001b[1;32m    916\u001b[0m \u001b[0;34m\u001b[0m\u001b[0m\n\u001b[1;32m    917\u001b[0m       \u001b[0mnew_tracing_count\u001b[0m \u001b[0;34m=\u001b[0m \u001b[0mself\u001b[0m\u001b[0;34m.\u001b[0m\u001b[0mexperimental_get_tracing_count\u001b[0m\u001b[0;34m(\u001b[0m\u001b[0;34m)\u001b[0m\u001b[0;34m\u001b[0m\u001b[0;34m\u001b[0m\u001b[0m\n",
            "\u001b[0;32m/usr/local/lib/python3.7/dist-packages/tensorflow/python/eager/def_function.py\u001b[0m in \u001b[0;36m_call\u001b[0;34m(self, *args, **kwds)\u001b[0m\n\u001b[1;32m    961\u001b[0m       \u001b[0;31m# This is the first call of __call__, so we have to initialize.\u001b[0m\u001b[0;34m\u001b[0m\u001b[0;34m\u001b[0m\u001b[0;34m\u001b[0m\u001b[0m\n\u001b[1;32m    962\u001b[0m       \u001b[0minitializers\u001b[0m \u001b[0;34m=\u001b[0m \u001b[0;34m[\u001b[0m\u001b[0;34m]\u001b[0m\u001b[0;34m\u001b[0m\u001b[0;34m\u001b[0m\u001b[0m\n\u001b[0;32m--> 963\u001b[0;31m       \u001b[0mself\u001b[0m\u001b[0;34m.\u001b[0m\u001b[0m_initialize\u001b[0m\u001b[0;34m(\u001b[0m\u001b[0margs\u001b[0m\u001b[0;34m,\u001b[0m \u001b[0mkwds\u001b[0m\u001b[0;34m,\u001b[0m \u001b[0madd_initializers_to\u001b[0m\u001b[0;34m=\u001b[0m\u001b[0minitializers\u001b[0m\u001b[0;34m)\u001b[0m\u001b[0;34m\u001b[0m\u001b[0;34m\u001b[0m\u001b[0m\n\u001b[0m\u001b[1;32m    964\u001b[0m     \u001b[0;32mfinally\u001b[0m\u001b[0;34m:\u001b[0m\u001b[0;34m\u001b[0m\u001b[0;34m\u001b[0m\u001b[0m\n\u001b[1;32m    965\u001b[0m       \u001b[0;31m# At this point we know that the initialization is complete (or less\u001b[0m\u001b[0;34m\u001b[0m\u001b[0;34m\u001b[0m\u001b[0;34m\u001b[0m\u001b[0m\n",
            "\u001b[0;32m/usr/local/lib/python3.7/dist-packages/tensorflow/python/eager/def_function.py\u001b[0m in \u001b[0;36m_initialize\u001b[0;34m(self, args, kwds, add_initializers_to)\u001b[0m\n\u001b[1;32m    784\u001b[0m     self._concrete_stateful_fn = (\n\u001b[1;32m    785\u001b[0m         self._stateful_fn._get_concrete_function_internal_garbage_collected(  # pylint: disable=protected-access\n\u001b[0;32m--> 786\u001b[0;31m             *args, **kwds))\n\u001b[0m\u001b[1;32m    787\u001b[0m \u001b[0;34m\u001b[0m\u001b[0m\n\u001b[1;32m    788\u001b[0m     \u001b[0;32mdef\u001b[0m \u001b[0minvalid_creator_scope\u001b[0m\u001b[0;34m(\u001b[0m\u001b[0;34m*\u001b[0m\u001b[0munused_args\u001b[0m\u001b[0;34m,\u001b[0m \u001b[0;34m**\u001b[0m\u001b[0munused_kwds\u001b[0m\u001b[0;34m)\u001b[0m\u001b[0;34m:\u001b[0m\u001b[0;34m\u001b[0m\u001b[0;34m\u001b[0m\u001b[0m\n",
            "\u001b[0;32m/usr/local/lib/python3.7/dist-packages/tensorflow/python/eager/function.py\u001b[0m in \u001b[0;36m_get_concrete_function_internal_garbage_collected\u001b[0;34m(self, *args, **kwargs)\u001b[0m\n\u001b[1;32m   2478\u001b[0m       \u001b[0margs\u001b[0m\u001b[0;34m,\u001b[0m \u001b[0mkwargs\u001b[0m \u001b[0;34m=\u001b[0m \u001b[0;32mNone\u001b[0m\u001b[0;34m,\u001b[0m \u001b[0;32mNone\u001b[0m\u001b[0;34m\u001b[0m\u001b[0;34m\u001b[0m\u001b[0m\n\u001b[1;32m   2479\u001b[0m     \u001b[0;32mwith\u001b[0m \u001b[0mself\u001b[0m\u001b[0;34m.\u001b[0m\u001b[0m_lock\u001b[0m\u001b[0;34m:\u001b[0m\u001b[0;34m\u001b[0m\u001b[0;34m\u001b[0m\u001b[0m\n\u001b[0;32m-> 2480\u001b[0;31m       \u001b[0mgraph_function\u001b[0m\u001b[0;34m,\u001b[0m \u001b[0m_\u001b[0m \u001b[0;34m=\u001b[0m \u001b[0mself\u001b[0m\u001b[0;34m.\u001b[0m\u001b[0m_maybe_define_function\u001b[0m\u001b[0;34m(\u001b[0m\u001b[0margs\u001b[0m\u001b[0;34m,\u001b[0m \u001b[0mkwargs\u001b[0m\u001b[0;34m)\u001b[0m\u001b[0;34m\u001b[0m\u001b[0;34m\u001b[0m\u001b[0m\n\u001b[0m\u001b[1;32m   2481\u001b[0m     \u001b[0;32mreturn\u001b[0m \u001b[0mgraph_function\u001b[0m\u001b[0;34m\u001b[0m\u001b[0;34m\u001b[0m\u001b[0m\n\u001b[1;32m   2482\u001b[0m \u001b[0;34m\u001b[0m\u001b[0m\n",
            "\u001b[0;32m/usr/local/lib/python3.7/dist-packages/tensorflow/python/eager/function.py\u001b[0m in \u001b[0;36m_maybe_define_function\u001b[0;34m(self, args, kwargs)\u001b[0m\n\u001b[1;32m   2709\u001b[0m             \u001b[0;34m(\u001b[0m\u001b[0margs\u001b[0m\u001b[0;34m,\u001b[0m \u001b[0mkwargs\u001b[0m\u001b[0;34m)\u001b[0m \u001b[0;34m=\u001b[0m \u001b[0mcache_key\u001b[0m\u001b[0;34m.\u001b[0m\u001b[0m_placeholder_value\u001b[0m\u001b[0;34m(\u001b[0m\u001b[0;34m)\u001b[0m  \u001b[0;31m# pylint: disable=protected-access\u001b[0m\u001b[0;34m\u001b[0m\u001b[0;34m\u001b[0m\u001b[0m\n\u001b[1;32m   2710\u001b[0m \u001b[0;34m\u001b[0m\u001b[0m\n\u001b[0;32m-> 2711\u001b[0;31m           \u001b[0mgraph_function\u001b[0m \u001b[0;34m=\u001b[0m \u001b[0mself\u001b[0m\u001b[0;34m.\u001b[0m\u001b[0m_create_graph_function\u001b[0m\u001b[0;34m(\u001b[0m\u001b[0margs\u001b[0m\u001b[0;34m,\u001b[0m \u001b[0mkwargs\u001b[0m\u001b[0;34m)\u001b[0m\u001b[0;34m\u001b[0m\u001b[0;34m\u001b[0m\u001b[0m\n\u001b[0m\u001b[1;32m   2712\u001b[0m           self._function_cache.add(cache_key, cache_key_deletion_observer,\n\u001b[1;32m   2713\u001b[0m                                    graph_function)\n",
            "\u001b[0;32m/usr/local/lib/python3.7/dist-packages/tensorflow/python/eager/function.py\u001b[0m in \u001b[0;36m_create_graph_function\u001b[0;34m(self, args, kwargs)\u001b[0m\n\u001b[1;32m   2634\u001b[0m             \u001b[0mautograph_options\u001b[0m\u001b[0;34m=\u001b[0m\u001b[0mself\u001b[0m\u001b[0;34m.\u001b[0m\u001b[0m_autograph_options\u001b[0m\u001b[0;34m,\u001b[0m\u001b[0;34m\u001b[0m\u001b[0;34m\u001b[0m\u001b[0m\n\u001b[1;32m   2635\u001b[0m             \u001b[0marg_names\u001b[0m\u001b[0;34m=\u001b[0m\u001b[0marg_names\u001b[0m\u001b[0;34m,\u001b[0m\u001b[0;34m\u001b[0m\u001b[0;34m\u001b[0m\u001b[0m\n\u001b[0;32m-> 2636\u001b[0;31m             capture_by_value=self._capture_by_value),\n\u001b[0m\u001b[1;32m   2637\u001b[0m         \u001b[0mself\u001b[0m\u001b[0;34m.\u001b[0m\u001b[0m_function_attributes\u001b[0m\u001b[0;34m,\u001b[0m\u001b[0;34m\u001b[0m\u001b[0;34m\u001b[0m\u001b[0m\n\u001b[1;32m   2638\u001b[0m         \u001b[0mspec\u001b[0m\u001b[0;34m=\u001b[0m\u001b[0mself\u001b[0m\u001b[0;34m.\u001b[0m\u001b[0mfunction_spec\u001b[0m\u001b[0;34m,\u001b[0m\u001b[0;34m\u001b[0m\u001b[0;34m\u001b[0m\u001b[0m\n",
            "\u001b[0;32m/usr/local/lib/python3.7/dist-packages/tensorflow/python/framework/func_graph.py\u001b[0m in \u001b[0;36mfunc_graph_from_py_func\u001b[0;34m(name, python_func, args, kwargs, signature, func_graph, autograph, autograph_options, add_control_dependencies, arg_names, op_return_value, collections, capture_by_value, acd_record_initial_resource_uses)\u001b[0m\n\u001b[1;32m   1139\u001b[0m         \u001b[0m_\u001b[0m\u001b[0;34m,\u001b[0m \u001b[0moriginal_func\u001b[0m \u001b[0;34m=\u001b[0m \u001b[0mtf_decorator\u001b[0m\u001b[0;34m.\u001b[0m\u001b[0munwrap\u001b[0m\u001b[0;34m(\u001b[0m\u001b[0mpython_func\u001b[0m\u001b[0;34m)\u001b[0m\u001b[0;34m\u001b[0m\u001b[0;34m\u001b[0m\u001b[0m\n\u001b[1;32m   1140\u001b[0m \u001b[0;34m\u001b[0m\u001b[0m\n\u001b[0;32m-> 1141\u001b[0;31m       \u001b[0mfunc_outputs\u001b[0m \u001b[0;34m=\u001b[0m \u001b[0mpython_func\u001b[0m\u001b[0;34m(\u001b[0m\u001b[0;34m*\u001b[0m\u001b[0mfunc_args\u001b[0m\u001b[0;34m,\u001b[0m \u001b[0;34m**\u001b[0m\u001b[0mfunc_kwargs\u001b[0m\u001b[0;34m)\u001b[0m\u001b[0;34m\u001b[0m\u001b[0;34m\u001b[0m\u001b[0m\n\u001b[0m\u001b[1;32m   1142\u001b[0m \u001b[0;34m\u001b[0m\u001b[0m\n\u001b[1;32m   1143\u001b[0m       \u001b[0;31m# invariant: `func_outputs` contains only Tensors, CompositeTensors,\u001b[0m\u001b[0;34m\u001b[0m\u001b[0;34m\u001b[0m\u001b[0;34m\u001b[0m\u001b[0m\n",
            "\u001b[0;32m/usr/local/lib/python3.7/dist-packages/tensorflow/python/eager/def_function.py\u001b[0m in \u001b[0;36mwrapped_fn\u001b[0;34m(*args, **kwds)\u001b[0m\n\u001b[1;32m    675\u001b[0m         \u001b[0;31m# the function a weak reference to itself to avoid a reference cycle.\u001b[0m\u001b[0;34m\u001b[0m\u001b[0;34m\u001b[0m\u001b[0;34m\u001b[0m\u001b[0m\n\u001b[1;32m    676\u001b[0m         \u001b[0;32mwith\u001b[0m \u001b[0mOptionalXlaContext\u001b[0m\u001b[0;34m(\u001b[0m\u001b[0mcompile_with_xla\u001b[0m\u001b[0;34m)\u001b[0m\u001b[0;34m:\u001b[0m\u001b[0;34m\u001b[0m\u001b[0;34m\u001b[0m\u001b[0m\n\u001b[0;32m--> 677\u001b[0;31m           \u001b[0mout\u001b[0m \u001b[0;34m=\u001b[0m \u001b[0mweak_wrapped_fn\u001b[0m\u001b[0;34m(\u001b[0m\u001b[0;34m)\u001b[0m\u001b[0;34m.\u001b[0m\u001b[0m__wrapped__\u001b[0m\u001b[0;34m(\u001b[0m\u001b[0;34m*\u001b[0m\u001b[0margs\u001b[0m\u001b[0;34m,\u001b[0m \u001b[0;34m**\u001b[0m\u001b[0mkwds\u001b[0m\u001b[0;34m)\u001b[0m\u001b[0;34m\u001b[0m\u001b[0;34m\u001b[0m\u001b[0m\n\u001b[0m\u001b[1;32m    678\u001b[0m         \u001b[0;32mreturn\u001b[0m \u001b[0mout\u001b[0m\u001b[0;34m\u001b[0m\u001b[0;34m\u001b[0m\u001b[0m\n\u001b[1;32m    679\u001b[0m \u001b[0;34m\u001b[0m\u001b[0m\n",
            "\u001b[0;32m/usr/local/lib/python3.7/dist-packages/tensorflow/python/framework/func_graph.py\u001b[0m in \u001b[0;36mautograph_handler\u001b[0;34m(*args, **kwargs)\u001b[0m\n\u001b[1;32m   1121\u001b[0m                     \u001b[0mrecursive\u001b[0m\u001b[0;34m=\u001b[0m\u001b[0;32mTrue\u001b[0m\u001b[0;34m,\u001b[0m\u001b[0;34m\u001b[0m\u001b[0;34m\u001b[0m\u001b[0m\n\u001b[1;32m   1122\u001b[0m                     \u001b[0moptional_features\u001b[0m\u001b[0;34m=\u001b[0m\u001b[0mautograph_options\u001b[0m\u001b[0;34m,\u001b[0m\u001b[0;34m\u001b[0m\u001b[0;34m\u001b[0m\u001b[0m\n\u001b[0;32m-> 1123\u001b[0;31m                     \u001b[0muser_requested\u001b[0m\u001b[0;34m=\u001b[0m\u001b[0;32mTrue\u001b[0m\u001b[0;34m,\u001b[0m\u001b[0;34m\u001b[0m\u001b[0;34m\u001b[0m\u001b[0m\n\u001b[0m\u001b[1;32m   1124\u001b[0m                 ))\n\u001b[1;32m   1125\u001b[0m           \u001b[0;32mexcept\u001b[0m \u001b[0mException\u001b[0m \u001b[0;32mas\u001b[0m \u001b[0me\u001b[0m\u001b[0;34m:\u001b[0m  \u001b[0;31m# pylint:disable=broad-except\u001b[0m\u001b[0;34m\u001b[0m\u001b[0;34m\u001b[0m\u001b[0m\n",
            "\u001b[0;32m/usr/local/lib/python3.7/dist-packages/tensorflow/python/autograph/impl/api.py\u001b[0m in \u001b[0;36mconverted_call\u001b[0;34m(f, args, kwargs, caller_fn_scope, options)\u001b[0m\n\u001b[1;32m    437\u001b[0m     \u001b[0;32mtry\u001b[0m\u001b[0;34m:\u001b[0m\u001b[0;34m\u001b[0m\u001b[0;34m\u001b[0m\u001b[0m\n\u001b[1;32m    438\u001b[0m       \u001b[0;32mif\u001b[0m \u001b[0mkwargs\u001b[0m \u001b[0;32mis\u001b[0m \u001b[0;32mnot\u001b[0m \u001b[0;32mNone\u001b[0m\u001b[0;34m:\u001b[0m\u001b[0;34m\u001b[0m\u001b[0;34m\u001b[0m\u001b[0m\n\u001b[0;32m--> 439\u001b[0;31m         \u001b[0mresult\u001b[0m \u001b[0;34m=\u001b[0m \u001b[0mconverted_f\u001b[0m\u001b[0;34m(\u001b[0m\u001b[0;34m*\u001b[0m\u001b[0meffective_args\u001b[0m\u001b[0;34m,\u001b[0m \u001b[0;34m**\u001b[0m\u001b[0mkwargs\u001b[0m\u001b[0;34m)\u001b[0m\u001b[0;34m\u001b[0m\u001b[0;34m\u001b[0m\u001b[0m\n\u001b[0m\u001b[1;32m    440\u001b[0m       \u001b[0;32melse\u001b[0m\u001b[0;34m:\u001b[0m\u001b[0;34m\u001b[0m\u001b[0;34m\u001b[0m\u001b[0m\n\u001b[1;32m    441\u001b[0m         \u001b[0mresult\u001b[0m \u001b[0;34m=\u001b[0m \u001b[0mconverted_f\u001b[0m\u001b[0;34m(\u001b[0m\u001b[0;34m*\u001b[0m\u001b[0meffective_args\u001b[0m\u001b[0;34m)\u001b[0m\u001b[0;34m\u001b[0m\u001b[0;34m\u001b[0m\u001b[0m\n",
            "\u001b[0;32m/usr/local/lib/python3.7/dist-packages/keras/engine/training.py\u001b[0m in \u001b[0;36mtf__train_function\u001b[0;34m(iterator)\u001b[0m\n\u001b[1;32m     13\u001b[0m                 \u001b[0;32mtry\u001b[0m\u001b[0;34m:\u001b[0m\u001b[0;34m\u001b[0m\u001b[0;34m\u001b[0m\u001b[0m\n\u001b[1;32m     14\u001b[0m                     \u001b[0mdo_return\u001b[0m \u001b[0;34m=\u001b[0m \u001b[0;32mTrue\u001b[0m\u001b[0;34m\u001b[0m\u001b[0;34m\u001b[0m\u001b[0m\n\u001b[0;32m---> 15\u001b[0;31m                     \u001b[0mretval_\u001b[0m \u001b[0;34m=\u001b[0m \u001b[0mag__\u001b[0m\u001b[0;34m.\u001b[0m\u001b[0mconverted_call\u001b[0m\u001b[0;34m(\u001b[0m\u001b[0mag__\u001b[0m\u001b[0;34m.\u001b[0m\u001b[0mld\u001b[0m\u001b[0;34m(\u001b[0m\u001b[0mstep_function\u001b[0m\u001b[0;34m)\u001b[0m\u001b[0;34m,\u001b[0m \u001b[0;34m(\u001b[0m\u001b[0mag__\u001b[0m\u001b[0;34m.\u001b[0m\u001b[0mld\u001b[0m\u001b[0;34m(\u001b[0m\u001b[0mself\u001b[0m\u001b[0;34m)\u001b[0m\u001b[0;34m,\u001b[0m \u001b[0mag__\u001b[0m\u001b[0;34m.\u001b[0m\u001b[0mld\u001b[0m\u001b[0;34m(\u001b[0m\u001b[0miterator\u001b[0m\u001b[0;34m)\u001b[0m\u001b[0;34m)\u001b[0m\u001b[0;34m,\u001b[0m \u001b[0;32mNone\u001b[0m\u001b[0;34m,\u001b[0m \u001b[0mfscope\u001b[0m\u001b[0;34m)\u001b[0m\u001b[0;34m\u001b[0m\u001b[0;34m\u001b[0m\u001b[0m\n\u001b[0m\u001b[1;32m     16\u001b[0m                 \u001b[0;32mexcept\u001b[0m\u001b[0;34m:\u001b[0m\u001b[0;34m\u001b[0m\u001b[0;34m\u001b[0m\u001b[0m\n\u001b[1;32m     17\u001b[0m                     \u001b[0mdo_return\u001b[0m \u001b[0;34m=\u001b[0m \u001b[0;32mFalse\u001b[0m\u001b[0;34m\u001b[0m\u001b[0;34m\u001b[0m\u001b[0m\n",
            "\u001b[0;32m/usr/local/lib/python3.7/dist-packages/tensorflow/python/autograph/impl/api.py\u001b[0m in \u001b[0;36mconverted_call\u001b[0;34m(f, args, kwargs, caller_fn_scope, options)\u001b[0m\n\u001b[1;32m    375\u001b[0m \u001b[0;34m\u001b[0m\u001b[0m\n\u001b[1;32m    376\u001b[0m   \u001b[0;32mif\u001b[0m \u001b[0;32mnot\u001b[0m \u001b[0moptions\u001b[0m\u001b[0;34m.\u001b[0m\u001b[0muser_requested\u001b[0m \u001b[0;32mand\u001b[0m \u001b[0mconversion\u001b[0m\u001b[0;34m.\u001b[0m\u001b[0mis_allowlisted\u001b[0m\u001b[0;34m(\u001b[0m\u001b[0mf\u001b[0m\u001b[0;34m)\u001b[0m\u001b[0;34m:\u001b[0m\u001b[0;34m\u001b[0m\u001b[0;34m\u001b[0m\u001b[0m\n\u001b[0;32m--> 377\u001b[0;31m     \u001b[0;32mreturn\u001b[0m \u001b[0m_call_unconverted\u001b[0m\u001b[0;34m(\u001b[0m\u001b[0mf\u001b[0m\u001b[0;34m,\u001b[0m \u001b[0margs\u001b[0m\u001b[0;34m,\u001b[0m \u001b[0mkwargs\u001b[0m\u001b[0;34m,\u001b[0m \u001b[0moptions\u001b[0m\u001b[0;34m)\u001b[0m\u001b[0;34m\u001b[0m\u001b[0;34m\u001b[0m\u001b[0m\n\u001b[0m\u001b[1;32m    378\u001b[0m \u001b[0;34m\u001b[0m\u001b[0m\n\u001b[1;32m    379\u001b[0m   \u001b[0;31m# internal_convert_user_code is for example turned off when issuing a dynamic\u001b[0m\u001b[0;34m\u001b[0m\u001b[0;34m\u001b[0m\u001b[0;34m\u001b[0m\u001b[0m\n",
            "\u001b[0;32m/usr/local/lib/python3.7/dist-packages/tensorflow/python/autograph/impl/api.py\u001b[0m in \u001b[0;36m_call_unconverted\u001b[0;34m(f, args, kwargs, options, update_cache)\u001b[0m\n\u001b[1;32m    457\u001b[0m   \u001b[0;32mif\u001b[0m \u001b[0mkwargs\u001b[0m \u001b[0;32mis\u001b[0m \u001b[0;32mnot\u001b[0m \u001b[0;32mNone\u001b[0m\u001b[0;34m:\u001b[0m\u001b[0;34m\u001b[0m\u001b[0;34m\u001b[0m\u001b[0m\n\u001b[1;32m    458\u001b[0m     \u001b[0;32mreturn\u001b[0m \u001b[0mf\u001b[0m\u001b[0;34m(\u001b[0m\u001b[0;34m*\u001b[0m\u001b[0margs\u001b[0m\u001b[0;34m,\u001b[0m \u001b[0;34m**\u001b[0m\u001b[0mkwargs\u001b[0m\u001b[0;34m)\u001b[0m\u001b[0;34m\u001b[0m\u001b[0;34m\u001b[0m\u001b[0m\n\u001b[0;32m--> 459\u001b[0;31m   \u001b[0;32mreturn\u001b[0m \u001b[0mf\u001b[0m\u001b[0;34m(\u001b[0m\u001b[0;34m*\u001b[0m\u001b[0margs\u001b[0m\u001b[0;34m)\u001b[0m\u001b[0;34m\u001b[0m\u001b[0;34m\u001b[0m\u001b[0m\n\u001b[0m\u001b[1;32m    460\u001b[0m \u001b[0;34m\u001b[0m\u001b[0m\n\u001b[1;32m    461\u001b[0m \u001b[0;34m\u001b[0m\u001b[0m\n",
            "\u001b[0;32m/usr/local/lib/python3.7/dist-packages/keras/engine/training.py\u001b[0m in \u001b[0;36mstep_function\u001b[0;34m(model, iterator)\u001b[0m\n\u001b[1;32m   1038\u001b[0m             run_step, jit_compile=True, reduce_retracing=True)\n\u001b[1;32m   1039\u001b[0m       \u001b[0mdata\u001b[0m \u001b[0;34m=\u001b[0m \u001b[0mnext\u001b[0m\u001b[0;34m(\u001b[0m\u001b[0miterator\u001b[0m\u001b[0;34m)\u001b[0m\u001b[0;34m\u001b[0m\u001b[0;34m\u001b[0m\u001b[0m\n\u001b[0;32m-> 1040\u001b[0;31m       \u001b[0moutputs\u001b[0m \u001b[0;34m=\u001b[0m \u001b[0mmodel\u001b[0m\u001b[0;34m.\u001b[0m\u001b[0mdistribute_strategy\u001b[0m\u001b[0;34m.\u001b[0m\u001b[0mrun\u001b[0m\u001b[0;34m(\u001b[0m\u001b[0mrun_step\u001b[0m\u001b[0;34m,\u001b[0m \u001b[0margs\u001b[0m\u001b[0;34m=\u001b[0m\u001b[0;34m(\u001b[0m\u001b[0mdata\u001b[0m\u001b[0;34m,\u001b[0m\u001b[0;34m)\u001b[0m\u001b[0;34m)\u001b[0m\u001b[0;34m\u001b[0m\u001b[0;34m\u001b[0m\u001b[0m\n\u001b[0m\u001b[1;32m   1041\u001b[0m       outputs = reduce_per_replica(\n\u001b[1;32m   1042\u001b[0m           outputs, self.distribute_strategy, reduction='first')\n",
            "\u001b[0;32m/usr/local/lib/python3.7/dist-packages/tensorflow/python/distribute/distribute_lib.py\u001b[0m in \u001b[0;36mrun\u001b[0;34m(***failed resolving arguments***)\u001b[0m\n\u001b[1;32m   1310\u001b[0m       fn = autograph.tf_convert(\n\u001b[1;32m   1311\u001b[0m           fn, autograph_ctx.control_status_ctx(), convert_by_default=False)\n\u001b[0;32m-> 1312\u001b[0;31m       \u001b[0;32mreturn\u001b[0m \u001b[0mself\u001b[0m\u001b[0;34m.\u001b[0m\u001b[0m_extended\u001b[0m\u001b[0;34m.\u001b[0m\u001b[0mcall_for_each_replica\u001b[0m\u001b[0;34m(\u001b[0m\u001b[0mfn\u001b[0m\u001b[0;34m,\u001b[0m \u001b[0margs\u001b[0m\u001b[0;34m=\u001b[0m\u001b[0margs\u001b[0m\u001b[0;34m,\u001b[0m \u001b[0mkwargs\u001b[0m\u001b[0;34m=\u001b[0m\u001b[0mkwargs\u001b[0m\u001b[0;34m)\u001b[0m\u001b[0;34m\u001b[0m\u001b[0;34m\u001b[0m\u001b[0m\n\u001b[0m\u001b[1;32m   1313\u001b[0m \u001b[0;34m\u001b[0m\u001b[0m\n\u001b[1;32m   1314\u001b[0m   \u001b[0;32mdef\u001b[0m \u001b[0mreduce\u001b[0m\u001b[0;34m(\u001b[0m\u001b[0mself\u001b[0m\u001b[0;34m,\u001b[0m \u001b[0mreduce_op\u001b[0m\u001b[0;34m,\u001b[0m \u001b[0mvalue\u001b[0m\u001b[0;34m,\u001b[0m \u001b[0maxis\u001b[0m\u001b[0;34m)\u001b[0m\u001b[0;34m:\u001b[0m\u001b[0;34m\u001b[0m\u001b[0;34m\u001b[0m\u001b[0m\n",
            "\u001b[0;32m/usr/local/lib/python3.7/dist-packages/tensorflow/python/distribute/distribute_lib.py\u001b[0m in \u001b[0;36mcall_for_each_replica\u001b[0;34m(self, fn, args, kwargs)\u001b[0m\n\u001b[1;32m   2886\u001b[0m       \u001b[0mkwargs\u001b[0m \u001b[0;34m=\u001b[0m \u001b[0;34m{\u001b[0m\u001b[0;34m}\u001b[0m\u001b[0;34m\u001b[0m\u001b[0;34m\u001b[0m\u001b[0m\n\u001b[1;32m   2887\u001b[0m     \u001b[0;32mwith\u001b[0m \u001b[0mself\u001b[0m\u001b[0;34m.\u001b[0m\u001b[0m_container_strategy\u001b[0m\u001b[0;34m(\u001b[0m\u001b[0;34m)\u001b[0m\u001b[0;34m.\u001b[0m\u001b[0mscope\u001b[0m\u001b[0;34m(\u001b[0m\u001b[0;34m)\u001b[0m\u001b[0;34m:\u001b[0m\u001b[0;34m\u001b[0m\u001b[0;34m\u001b[0m\u001b[0m\n\u001b[0;32m-> 2888\u001b[0;31m       \u001b[0;32mreturn\u001b[0m \u001b[0mself\u001b[0m\u001b[0;34m.\u001b[0m\u001b[0m_call_for_each_replica\u001b[0m\u001b[0;34m(\u001b[0m\u001b[0mfn\u001b[0m\u001b[0;34m,\u001b[0m \u001b[0margs\u001b[0m\u001b[0;34m,\u001b[0m \u001b[0mkwargs\u001b[0m\u001b[0;34m)\u001b[0m\u001b[0;34m\u001b[0m\u001b[0;34m\u001b[0m\u001b[0m\n\u001b[0m\u001b[1;32m   2889\u001b[0m \u001b[0;34m\u001b[0m\u001b[0m\n\u001b[1;32m   2890\u001b[0m   \u001b[0;32mdef\u001b[0m \u001b[0m_call_for_each_replica\u001b[0m\u001b[0;34m(\u001b[0m\u001b[0mself\u001b[0m\u001b[0;34m,\u001b[0m \u001b[0mfn\u001b[0m\u001b[0;34m,\u001b[0m \u001b[0margs\u001b[0m\u001b[0;34m,\u001b[0m \u001b[0mkwargs\u001b[0m\u001b[0;34m)\u001b[0m\u001b[0;34m:\u001b[0m\u001b[0;34m\u001b[0m\u001b[0;34m\u001b[0m\u001b[0m\n",
            "\u001b[0;32m/usr/local/lib/python3.7/dist-packages/tensorflow/python/distribute/distribute_lib.py\u001b[0m in \u001b[0;36m_call_for_each_replica\u001b[0;34m(self, fn, args, kwargs)\u001b[0m\n\u001b[1;32m   3687\u001b[0m   \u001b[0;32mdef\u001b[0m \u001b[0m_call_for_each_replica\u001b[0m\u001b[0;34m(\u001b[0m\u001b[0mself\u001b[0m\u001b[0;34m,\u001b[0m \u001b[0mfn\u001b[0m\u001b[0;34m,\u001b[0m \u001b[0margs\u001b[0m\u001b[0;34m,\u001b[0m \u001b[0mkwargs\u001b[0m\u001b[0;34m)\u001b[0m\u001b[0;34m:\u001b[0m\u001b[0;34m\u001b[0m\u001b[0;34m\u001b[0m\u001b[0m\n\u001b[1;32m   3688\u001b[0m     \u001b[0;32mwith\u001b[0m \u001b[0mReplicaContext\u001b[0m\u001b[0;34m(\u001b[0m\u001b[0mself\u001b[0m\u001b[0;34m.\u001b[0m\u001b[0m_container_strategy\u001b[0m\u001b[0;34m(\u001b[0m\u001b[0;34m)\u001b[0m\u001b[0;34m,\u001b[0m \u001b[0mreplica_id_in_sync_group\u001b[0m\u001b[0;34m=\u001b[0m\u001b[0;36m0\u001b[0m\u001b[0;34m)\u001b[0m\u001b[0;34m:\u001b[0m\u001b[0;34m\u001b[0m\u001b[0;34m\u001b[0m\u001b[0m\n\u001b[0;32m-> 3689\u001b[0;31m       \u001b[0;32mreturn\u001b[0m \u001b[0mfn\u001b[0m\u001b[0;34m(\u001b[0m\u001b[0;34m*\u001b[0m\u001b[0margs\u001b[0m\u001b[0;34m,\u001b[0m \u001b[0;34m**\u001b[0m\u001b[0mkwargs\u001b[0m\u001b[0;34m)\u001b[0m\u001b[0;34m\u001b[0m\u001b[0;34m\u001b[0m\u001b[0m\n\u001b[0m\u001b[1;32m   3690\u001b[0m \u001b[0;34m\u001b[0m\u001b[0m\n\u001b[1;32m   3691\u001b[0m   \u001b[0;32mdef\u001b[0m \u001b[0m_reduce_to\u001b[0m\u001b[0;34m(\u001b[0m\u001b[0mself\u001b[0m\u001b[0;34m,\u001b[0m \u001b[0mreduce_op\u001b[0m\u001b[0;34m,\u001b[0m \u001b[0mvalue\u001b[0m\u001b[0;34m,\u001b[0m \u001b[0mdestinations\u001b[0m\u001b[0;34m,\u001b[0m \u001b[0moptions\u001b[0m\u001b[0;34m)\u001b[0m\u001b[0;34m:\u001b[0m\u001b[0;34m\u001b[0m\u001b[0;34m\u001b[0m\u001b[0m\n",
            "\u001b[0;32m/usr/local/lib/python3.7/dist-packages/tensorflow/python/autograph/impl/api.py\u001b[0m in \u001b[0;36mwrapper\u001b[0;34m(*args, **kwargs)\u001b[0m\n\u001b[1;32m    687\u001b[0m       \u001b[0;32mtry\u001b[0m\u001b[0;34m:\u001b[0m\u001b[0;34m\u001b[0m\u001b[0;34m\u001b[0m\u001b[0m\n\u001b[1;32m    688\u001b[0m         \u001b[0;32mwith\u001b[0m \u001b[0mconversion_ctx\u001b[0m\u001b[0;34m:\u001b[0m\u001b[0;34m\u001b[0m\u001b[0;34m\u001b[0m\u001b[0m\n\u001b[0;32m--> 689\u001b[0;31m           \u001b[0;32mreturn\u001b[0m \u001b[0mconverted_call\u001b[0m\u001b[0;34m(\u001b[0m\u001b[0mf\u001b[0m\u001b[0;34m,\u001b[0m \u001b[0margs\u001b[0m\u001b[0;34m,\u001b[0m \u001b[0mkwargs\u001b[0m\u001b[0;34m,\u001b[0m \u001b[0moptions\u001b[0m\u001b[0;34m=\u001b[0m\u001b[0moptions\u001b[0m\u001b[0;34m)\u001b[0m\u001b[0;34m\u001b[0m\u001b[0;34m\u001b[0m\u001b[0m\n\u001b[0m\u001b[1;32m    690\u001b[0m       \u001b[0;32mexcept\u001b[0m \u001b[0mException\u001b[0m \u001b[0;32mas\u001b[0m \u001b[0me\u001b[0m\u001b[0;34m:\u001b[0m  \u001b[0;31m# pylint:disable=broad-except\u001b[0m\u001b[0;34m\u001b[0m\u001b[0;34m\u001b[0m\u001b[0m\n\u001b[1;32m    691\u001b[0m         \u001b[0;32mif\u001b[0m \u001b[0mhasattr\u001b[0m\u001b[0;34m(\u001b[0m\u001b[0me\u001b[0m\u001b[0;34m,\u001b[0m \u001b[0;34m'ag_error_metadata'\u001b[0m\u001b[0;34m)\u001b[0m\u001b[0;34m:\u001b[0m\u001b[0;34m\u001b[0m\u001b[0;34m\u001b[0m\u001b[0m\n",
            "\u001b[0;32m/usr/local/lib/python3.7/dist-packages/tensorflow/python/autograph/impl/api.py\u001b[0m in \u001b[0;36mconverted_call\u001b[0;34m(f, args, kwargs, caller_fn_scope, options)\u001b[0m\n\u001b[1;32m    375\u001b[0m \u001b[0;34m\u001b[0m\u001b[0m\n\u001b[1;32m    376\u001b[0m   \u001b[0;32mif\u001b[0m \u001b[0;32mnot\u001b[0m \u001b[0moptions\u001b[0m\u001b[0;34m.\u001b[0m\u001b[0muser_requested\u001b[0m \u001b[0;32mand\u001b[0m \u001b[0mconversion\u001b[0m\u001b[0;34m.\u001b[0m\u001b[0mis_allowlisted\u001b[0m\u001b[0;34m(\u001b[0m\u001b[0mf\u001b[0m\u001b[0;34m)\u001b[0m\u001b[0;34m:\u001b[0m\u001b[0;34m\u001b[0m\u001b[0;34m\u001b[0m\u001b[0m\n\u001b[0;32m--> 377\u001b[0;31m     \u001b[0;32mreturn\u001b[0m \u001b[0m_call_unconverted\u001b[0m\u001b[0;34m(\u001b[0m\u001b[0mf\u001b[0m\u001b[0;34m,\u001b[0m \u001b[0margs\u001b[0m\u001b[0;34m,\u001b[0m \u001b[0mkwargs\u001b[0m\u001b[0;34m,\u001b[0m \u001b[0moptions\u001b[0m\u001b[0;34m)\u001b[0m\u001b[0;34m\u001b[0m\u001b[0;34m\u001b[0m\u001b[0m\n\u001b[0m\u001b[1;32m    378\u001b[0m \u001b[0;34m\u001b[0m\u001b[0m\n\u001b[1;32m    379\u001b[0m   \u001b[0;31m# internal_convert_user_code is for example turned off when issuing a dynamic\u001b[0m\u001b[0;34m\u001b[0m\u001b[0;34m\u001b[0m\u001b[0;34m\u001b[0m\u001b[0m\n",
            "\u001b[0;32m/usr/local/lib/python3.7/dist-packages/tensorflow/python/autograph/impl/api.py\u001b[0m in \u001b[0;36m_call_unconverted\u001b[0;34m(f, args, kwargs, options, update_cache)\u001b[0m\n\u001b[1;32m    456\u001b[0m \u001b[0;34m\u001b[0m\u001b[0m\n\u001b[1;32m    457\u001b[0m   \u001b[0;32mif\u001b[0m \u001b[0mkwargs\u001b[0m \u001b[0;32mis\u001b[0m \u001b[0;32mnot\u001b[0m \u001b[0;32mNone\u001b[0m\u001b[0;34m:\u001b[0m\u001b[0;34m\u001b[0m\u001b[0;34m\u001b[0m\u001b[0m\n\u001b[0;32m--> 458\u001b[0;31m     \u001b[0;32mreturn\u001b[0m \u001b[0mf\u001b[0m\u001b[0;34m(\u001b[0m\u001b[0;34m*\u001b[0m\u001b[0margs\u001b[0m\u001b[0;34m,\u001b[0m \u001b[0;34m**\u001b[0m\u001b[0mkwargs\u001b[0m\u001b[0;34m)\u001b[0m\u001b[0;34m\u001b[0m\u001b[0;34m\u001b[0m\u001b[0m\n\u001b[0m\u001b[1;32m    459\u001b[0m   \u001b[0;32mreturn\u001b[0m \u001b[0mf\u001b[0m\u001b[0;34m(\u001b[0m\u001b[0;34m*\u001b[0m\u001b[0margs\u001b[0m\u001b[0;34m)\u001b[0m\u001b[0;34m\u001b[0m\u001b[0;34m\u001b[0m\u001b[0m\n\u001b[1;32m    460\u001b[0m \u001b[0;34m\u001b[0m\u001b[0m\n",
            "\u001b[0;32m/usr/local/lib/python3.7/dist-packages/keras/engine/training.py\u001b[0m in \u001b[0;36mrun_step\u001b[0;34m(data)\u001b[0m\n\u001b[1;32m   1028\u001b[0m \u001b[0;34m\u001b[0m\u001b[0m\n\u001b[1;32m   1029\u001b[0m       \u001b[0;32mdef\u001b[0m \u001b[0mrun_step\u001b[0m\u001b[0;34m(\u001b[0m\u001b[0mdata\u001b[0m\u001b[0;34m)\u001b[0m\u001b[0;34m:\u001b[0m\u001b[0;34m\u001b[0m\u001b[0;34m\u001b[0m\u001b[0m\n\u001b[0;32m-> 1030\u001b[0;31m         \u001b[0moutputs\u001b[0m \u001b[0;34m=\u001b[0m \u001b[0mmodel\u001b[0m\u001b[0;34m.\u001b[0m\u001b[0mtrain_step\u001b[0m\u001b[0;34m(\u001b[0m\u001b[0mdata\u001b[0m\u001b[0;34m)\u001b[0m\u001b[0;34m\u001b[0m\u001b[0;34m\u001b[0m\u001b[0m\n\u001b[0m\u001b[1;32m   1031\u001b[0m         \u001b[0;31m# Ensure counter is updated only if `train_step` succeeds.\u001b[0m\u001b[0;34m\u001b[0m\u001b[0;34m\u001b[0m\u001b[0;34m\u001b[0m\u001b[0m\n\u001b[1;32m   1032\u001b[0m         \u001b[0;32mwith\u001b[0m \u001b[0mtf\u001b[0m\u001b[0;34m.\u001b[0m\u001b[0mcontrol_dependencies\u001b[0m\u001b[0;34m(\u001b[0m\u001b[0m_minimum_control_deps\u001b[0m\u001b[0;34m(\u001b[0m\u001b[0moutputs\u001b[0m\u001b[0;34m)\u001b[0m\u001b[0;34m)\u001b[0m\u001b[0;34m:\u001b[0m\u001b[0;34m\u001b[0m\u001b[0;34m\u001b[0m\u001b[0m\n",
            "\u001b[0;32m/usr/local/lib/python3.7/dist-packages/keras/engine/training.py\u001b[0m in \u001b[0;36mtrain_step\u001b[0;34m(self, data)\u001b[0m\n\u001b[1;32m    891\u001b[0m     \u001b[0mself\u001b[0m\u001b[0;34m.\u001b[0m\u001b[0m_validate_target_and_loss\u001b[0m\u001b[0;34m(\u001b[0m\u001b[0my\u001b[0m\u001b[0;34m,\u001b[0m \u001b[0mloss\u001b[0m\u001b[0;34m)\u001b[0m\u001b[0;34m\u001b[0m\u001b[0;34m\u001b[0m\u001b[0m\n\u001b[1;32m    892\u001b[0m     \u001b[0;31m# Run backwards pass.\u001b[0m\u001b[0;34m\u001b[0m\u001b[0;34m\u001b[0m\u001b[0;34m\u001b[0m\u001b[0m\n\u001b[0;32m--> 893\u001b[0;31m     \u001b[0mself\u001b[0m\u001b[0;34m.\u001b[0m\u001b[0moptimizer\u001b[0m\u001b[0;34m.\u001b[0m\u001b[0mminimize\u001b[0m\u001b[0;34m(\u001b[0m\u001b[0mloss\u001b[0m\u001b[0;34m,\u001b[0m \u001b[0mself\u001b[0m\u001b[0;34m.\u001b[0m\u001b[0mtrainable_variables\u001b[0m\u001b[0;34m,\u001b[0m \u001b[0mtape\u001b[0m\u001b[0;34m=\u001b[0m\u001b[0mtape\u001b[0m\u001b[0;34m)\u001b[0m\u001b[0;34m\u001b[0m\u001b[0;34m\u001b[0m\u001b[0m\n\u001b[0m\u001b[1;32m    894\u001b[0m     \u001b[0;32mreturn\u001b[0m \u001b[0mself\u001b[0m\u001b[0;34m.\u001b[0m\u001b[0mcompute_metrics\u001b[0m\u001b[0;34m(\u001b[0m\u001b[0mx\u001b[0m\u001b[0;34m,\u001b[0m \u001b[0my\u001b[0m\u001b[0;34m,\u001b[0m \u001b[0my_pred\u001b[0m\u001b[0;34m,\u001b[0m \u001b[0msample_weight\u001b[0m\u001b[0;34m)\u001b[0m\u001b[0;34m\u001b[0m\u001b[0;34m\u001b[0m\u001b[0m\n\u001b[1;32m    895\u001b[0m \u001b[0;34m\u001b[0m\u001b[0m\n",
            "\u001b[0;32m/usr/local/lib/python3.7/dist-packages/keras/optimizers/optimizer_v2/optimizer_v2.py\u001b[0m in \u001b[0;36mminimize\u001b[0;34m(self, loss, var_list, grad_loss, name, tape)\u001b[0m\n\u001b[1;32m    536\u001b[0m     \"\"\"\n\u001b[1;32m    537\u001b[0m     grads_and_vars = self._compute_gradients(\n\u001b[0;32m--> 538\u001b[0;31m         loss, var_list=var_list, grad_loss=grad_loss, tape=tape)\n\u001b[0m\u001b[1;32m    539\u001b[0m     \u001b[0;32mreturn\u001b[0m \u001b[0mself\u001b[0m\u001b[0;34m.\u001b[0m\u001b[0mapply_gradients\u001b[0m\u001b[0;34m(\u001b[0m\u001b[0mgrads_and_vars\u001b[0m\u001b[0;34m,\u001b[0m \u001b[0mname\u001b[0m\u001b[0;34m=\u001b[0m\u001b[0mname\u001b[0m\u001b[0;34m)\u001b[0m\u001b[0;34m\u001b[0m\u001b[0;34m\u001b[0m\u001b[0m\n\u001b[1;32m    540\u001b[0m \u001b[0;34m\u001b[0m\u001b[0m\n",
            "\u001b[0;32m/usr/local/lib/python3.7/dist-packages/keras/optimizers/optimizer_v2/optimizer_v2.py\u001b[0m in \u001b[0;36m_compute_gradients\u001b[0;34m(self, loss, var_list, grad_loss, tape)\u001b[0m\n\u001b[1;32m    588\u001b[0m     \u001b[0mvar_list\u001b[0m \u001b[0;34m=\u001b[0m \u001b[0mtf\u001b[0m\u001b[0;34m.\u001b[0m\u001b[0mnest\u001b[0m\u001b[0;34m.\u001b[0m\u001b[0mflatten\u001b[0m\u001b[0;34m(\u001b[0m\u001b[0mvar_list\u001b[0m\u001b[0;34m)\u001b[0m\u001b[0;34m\u001b[0m\u001b[0;34m\u001b[0m\u001b[0m\n\u001b[1;32m    589\u001b[0m     \u001b[0;32mwith\u001b[0m \u001b[0mtf\u001b[0m\u001b[0;34m.\u001b[0m\u001b[0mname_scope\u001b[0m\u001b[0;34m(\u001b[0m\u001b[0mself\u001b[0m\u001b[0;34m.\u001b[0m\u001b[0m_name\u001b[0m \u001b[0;34m+\u001b[0m \u001b[0;34m\"/gradients\"\u001b[0m\u001b[0;34m)\u001b[0m\u001b[0;34m:\u001b[0m\u001b[0;34m\u001b[0m\u001b[0;34m\u001b[0m\u001b[0m\n\u001b[0;32m--> 590\u001b[0;31m       \u001b[0mgrads_and_vars\u001b[0m \u001b[0;34m=\u001b[0m \u001b[0mself\u001b[0m\u001b[0;34m.\u001b[0m\u001b[0m_get_gradients\u001b[0m\u001b[0;34m(\u001b[0m\u001b[0mtape\u001b[0m\u001b[0;34m,\u001b[0m \u001b[0mloss\u001b[0m\u001b[0;34m,\u001b[0m \u001b[0mvar_list\u001b[0m\u001b[0;34m,\u001b[0m \u001b[0mgrad_loss\u001b[0m\u001b[0;34m)\u001b[0m\u001b[0;34m\u001b[0m\u001b[0;34m\u001b[0m\u001b[0m\n\u001b[0m\u001b[1;32m    591\u001b[0m \u001b[0;34m\u001b[0m\u001b[0m\n\u001b[1;32m    592\u001b[0m     self._assert_valid_dtypes([\n",
            "\u001b[0;32m/usr/local/lib/python3.7/dist-packages/keras/optimizers/optimizer_v2/optimizer_v2.py\u001b[0m in \u001b[0;36m_get_gradients\u001b[0;34m(self, tape, loss, var_list, grad_loss)\u001b[0m\n\u001b[1;32m    469\u001b[0m   \u001b[0;32mdef\u001b[0m \u001b[0m_get_gradients\u001b[0m\u001b[0;34m(\u001b[0m\u001b[0mself\u001b[0m\u001b[0;34m,\u001b[0m \u001b[0mtape\u001b[0m\u001b[0;34m,\u001b[0m \u001b[0mloss\u001b[0m\u001b[0;34m,\u001b[0m \u001b[0mvar_list\u001b[0m\u001b[0;34m,\u001b[0m \u001b[0mgrad_loss\u001b[0m\u001b[0;34m=\u001b[0m\u001b[0;32mNone\u001b[0m\u001b[0;34m)\u001b[0m\u001b[0;34m:\u001b[0m\u001b[0;34m\u001b[0m\u001b[0;34m\u001b[0m\u001b[0m\n\u001b[1;32m    470\u001b[0m     \u001b[0;34m\"\"\"Called in `minimize` to compute gradients from loss.\"\"\"\u001b[0m\u001b[0;34m\u001b[0m\u001b[0;34m\u001b[0m\u001b[0m\n\u001b[0;32m--> 471\u001b[0;31m     \u001b[0mgrads\u001b[0m \u001b[0;34m=\u001b[0m \u001b[0mtape\u001b[0m\u001b[0;34m.\u001b[0m\u001b[0mgradient\u001b[0m\u001b[0;34m(\u001b[0m\u001b[0mloss\u001b[0m\u001b[0;34m,\u001b[0m \u001b[0mvar_list\u001b[0m\u001b[0;34m,\u001b[0m \u001b[0mgrad_loss\u001b[0m\u001b[0;34m)\u001b[0m\u001b[0;34m\u001b[0m\u001b[0;34m\u001b[0m\u001b[0m\n\u001b[0m\u001b[1;32m    472\u001b[0m     \u001b[0;32mreturn\u001b[0m \u001b[0mlist\u001b[0m\u001b[0;34m(\u001b[0m\u001b[0mzip\u001b[0m\u001b[0;34m(\u001b[0m\u001b[0mgrads\u001b[0m\u001b[0;34m,\u001b[0m \u001b[0mvar_list\u001b[0m\u001b[0;34m)\u001b[0m\u001b[0;34m)\u001b[0m\u001b[0;34m\u001b[0m\u001b[0;34m\u001b[0m\u001b[0m\n\u001b[1;32m    473\u001b[0m \u001b[0;34m\u001b[0m\u001b[0m\n",
            "\u001b[0;32m/usr/local/lib/python3.7/dist-packages/tensorflow/python/eager/backprop.py\u001b[0m in \u001b[0;36mgradient\u001b[0;34m(self, target, sources, output_gradients, unconnected_gradients)\u001b[0m\n\u001b[1;32m   1104\u001b[0m         \u001b[0moutput_gradients\u001b[0m\u001b[0;34m=\u001b[0m\u001b[0moutput_gradients\u001b[0m\u001b[0;34m,\u001b[0m\u001b[0;34m\u001b[0m\u001b[0;34m\u001b[0m\u001b[0m\n\u001b[1;32m   1105\u001b[0m         \u001b[0msources_raw\u001b[0m\u001b[0;34m=\u001b[0m\u001b[0mflat_sources_raw\u001b[0m\u001b[0;34m,\u001b[0m\u001b[0;34m\u001b[0m\u001b[0;34m\u001b[0m\u001b[0m\n\u001b[0;32m-> 1106\u001b[0;31m         unconnected_gradients=unconnected_gradients)\n\u001b[0m\u001b[1;32m   1107\u001b[0m \u001b[0;34m\u001b[0m\u001b[0m\n\u001b[1;32m   1108\u001b[0m     \u001b[0;32mif\u001b[0m \u001b[0;32mnot\u001b[0m \u001b[0mself\u001b[0m\u001b[0;34m.\u001b[0m\u001b[0m_persistent\u001b[0m\u001b[0;34m:\u001b[0m\u001b[0;34m\u001b[0m\u001b[0;34m\u001b[0m\u001b[0m\n",
            "\u001b[0;32m/usr/local/lib/python3.7/dist-packages/tensorflow/python/eager/imperative_grad.py\u001b[0m in \u001b[0;36mimperative_grad\u001b[0;34m(tape, target, sources, output_gradients, sources_raw, unconnected_gradients)\u001b[0m\n\u001b[1;32m     71\u001b[0m       \u001b[0moutput_gradients\u001b[0m\u001b[0;34m,\u001b[0m\u001b[0;34m\u001b[0m\u001b[0;34m\u001b[0m\u001b[0m\n\u001b[1;32m     72\u001b[0m       \u001b[0msources_raw\u001b[0m\u001b[0;34m,\u001b[0m\u001b[0;34m\u001b[0m\u001b[0;34m\u001b[0m\u001b[0m\n\u001b[0;32m---> 73\u001b[0;31m       compat.as_str(unconnected_gradients.value))\n\u001b[0m",
            "\u001b[0;32m/usr/local/lib/python3.7/dist-packages/tensorflow/python/eager/function.py\u001b[0m in \u001b[0;36m_backward_function\u001b[0;34m(*args)\u001b[0m\n\u001b[1;32m    748\u001b[0m     \u001b[0;32mdef\u001b[0m \u001b[0m_backward_function\u001b[0m\u001b[0;34m(\u001b[0m\u001b[0;34m*\u001b[0m\u001b[0margs\u001b[0m\u001b[0;34m)\u001b[0m\u001b[0;34m:\u001b[0m\u001b[0;34m\u001b[0m\u001b[0;34m\u001b[0m\u001b[0m\n\u001b[1;32m    749\u001b[0m       \u001b[0mcall_op\u001b[0m \u001b[0;34m=\u001b[0m \u001b[0moutputs\u001b[0m\u001b[0;34m[\u001b[0m\u001b[0;36m0\u001b[0m\u001b[0;34m]\u001b[0m\u001b[0;34m.\u001b[0m\u001b[0mop\u001b[0m\u001b[0;34m\u001b[0m\u001b[0;34m\u001b[0m\u001b[0m\n\u001b[0;32m--> 750\u001b[0;31m       \u001b[0;32mreturn\u001b[0m \u001b[0mself\u001b[0m\u001b[0;34m.\u001b[0m\u001b[0m_rewrite_forward_and_call_backward\u001b[0m\u001b[0;34m(\u001b[0m\u001b[0mcall_op\u001b[0m\u001b[0;34m,\u001b[0m \u001b[0;34m*\u001b[0m\u001b[0margs\u001b[0m\u001b[0;34m)\u001b[0m\u001b[0;34m\u001b[0m\u001b[0;34m\u001b[0m\u001b[0m\n\u001b[0m\u001b[1;32m    751\u001b[0m     \u001b[0;32mreturn\u001b[0m \u001b[0m_backward_function\u001b[0m\u001b[0;34m,\u001b[0m \u001b[0moutputs\u001b[0m\u001b[0;34m\u001b[0m\u001b[0;34m\u001b[0m\u001b[0m\n\u001b[1;32m    752\u001b[0m \u001b[0;34m\u001b[0m\u001b[0m\n",
            "\u001b[0;32m/usr/local/lib/python3.7/dist-packages/tensorflow/python/eager/function.py\u001b[0m in \u001b[0;36m_rewrite_forward_and_call_backward\u001b[0;34m(self, op, *doutputs)\u001b[0m\n\u001b[1;32m    664\u001b[0m   \u001b[0;32mdef\u001b[0m \u001b[0m_rewrite_forward_and_call_backward\u001b[0m\u001b[0;34m(\u001b[0m\u001b[0mself\u001b[0m\u001b[0;34m,\u001b[0m \u001b[0mop\u001b[0m\u001b[0;34m,\u001b[0m \u001b[0;34m*\u001b[0m\u001b[0mdoutputs\u001b[0m\u001b[0;34m)\u001b[0m\u001b[0;34m:\u001b[0m\u001b[0;34m\u001b[0m\u001b[0;34m\u001b[0m\u001b[0m\n\u001b[1;32m    665\u001b[0m     \u001b[0;34m\"\"\"Add outputs to the forward call and feed them to the grad function.\"\"\"\u001b[0m\u001b[0;34m\u001b[0m\u001b[0;34m\u001b[0m\u001b[0m\n\u001b[0;32m--> 666\u001b[0;31m     \u001b[0mforward_function\u001b[0m\u001b[0;34m,\u001b[0m \u001b[0mbackwards_function\u001b[0m \u001b[0;34m=\u001b[0m \u001b[0mself\u001b[0m\u001b[0;34m.\u001b[0m\u001b[0mforward_backward\u001b[0m\u001b[0;34m(\u001b[0m\u001b[0mlen\u001b[0m\u001b[0;34m(\u001b[0m\u001b[0mdoutputs\u001b[0m\u001b[0;34m)\u001b[0m\u001b[0;34m)\u001b[0m\u001b[0;34m\u001b[0m\u001b[0;34m\u001b[0m\u001b[0m\n\u001b[0m\u001b[1;32m    667\u001b[0m     \u001b[0;32mif\u001b[0m \u001b[0;32mnot\u001b[0m \u001b[0mbackwards_function\u001b[0m\u001b[0;34m.\u001b[0m\u001b[0moutputs\u001b[0m\u001b[0;34m:\u001b[0m\u001b[0;34m\u001b[0m\u001b[0;34m\u001b[0m\u001b[0m\n\u001b[1;32m    668\u001b[0m       \u001b[0;32mreturn\u001b[0m \u001b[0mbackwards_function\u001b[0m\u001b[0;34m.\u001b[0m\u001b[0mstructured_outputs\u001b[0m\u001b[0;34m\u001b[0m\u001b[0;34m\u001b[0m\u001b[0m\n",
            "\u001b[0;32m/usr/local/lib/python3.7/dist-packages/tensorflow/python/eager/function.py\u001b[0m in \u001b[0;36mforward_backward\u001b[0;34m(self, num_doutputs)\u001b[0m\n\u001b[1;32m    597\u001b[0m     \u001b[0;32mif\u001b[0m \u001b[0mforward_backward\u001b[0m \u001b[0;32mis\u001b[0m \u001b[0;32mnot\u001b[0m \u001b[0;32mNone\u001b[0m\u001b[0;34m:\u001b[0m\u001b[0;34m\u001b[0m\u001b[0;34m\u001b[0m\u001b[0m\n\u001b[1;32m    598\u001b[0m       \u001b[0;32mreturn\u001b[0m \u001b[0mforward_backward\u001b[0m\u001b[0;34m\u001b[0m\u001b[0;34m\u001b[0m\u001b[0m\n\u001b[0;32m--> 599\u001b[0;31m     \u001b[0mforward\u001b[0m\u001b[0;34m,\u001b[0m \u001b[0mbackward\u001b[0m \u001b[0;34m=\u001b[0m \u001b[0mself\u001b[0m\u001b[0;34m.\u001b[0m\u001b[0m_construct_forward_backward\u001b[0m\u001b[0;34m(\u001b[0m\u001b[0mnum_doutputs\u001b[0m\u001b[0;34m)\u001b[0m\u001b[0;34m\u001b[0m\u001b[0;34m\u001b[0m\u001b[0m\n\u001b[0m\u001b[1;32m    600\u001b[0m     \u001b[0mself\u001b[0m\u001b[0;34m.\u001b[0m\u001b[0m_cached_function_pairs\u001b[0m\u001b[0;34m[\u001b[0m\u001b[0mnum_doutputs\u001b[0m\u001b[0;34m]\u001b[0m \u001b[0;34m=\u001b[0m \u001b[0;34m(\u001b[0m\u001b[0mforward\u001b[0m\u001b[0;34m,\u001b[0m \u001b[0mbackward\u001b[0m\u001b[0;34m)\u001b[0m\u001b[0;34m\u001b[0m\u001b[0;34m\u001b[0m\u001b[0m\n\u001b[1;32m    601\u001b[0m     \u001b[0;32mreturn\u001b[0m \u001b[0mforward\u001b[0m\u001b[0;34m,\u001b[0m \u001b[0mbackward\u001b[0m\u001b[0;34m\u001b[0m\u001b[0;34m\u001b[0m\u001b[0m\n",
            "\u001b[0;32m/usr/local/lib/python3.7/dist-packages/tensorflow/python/eager/function.py\u001b[0m in \u001b[0;36m_construct_forward_backward\u001b[0;34m(self, num_doutputs)\u001b[0m\n\u001b[1;32m    645\u001b[0m           \u001b[0margs\u001b[0m\u001b[0;34m=\u001b[0m\u001b[0;34m[\u001b[0m\u001b[0;34m]\u001b[0m\u001b[0;34m,\u001b[0m \u001b[0mkwargs\u001b[0m\u001b[0;34m=\u001b[0m\u001b[0;34m{\u001b[0m\u001b[0;34m}\u001b[0m\u001b[0;34m,\u001b[0m\u001b[0;34m\u001b[0m\u001b[0;34m\u001b[0m\u001b[0m\n\u001b[1;32m    646\u001b[0m           \u001b[0msignature\u001b[0m\u001b[0;34m=\u001b[0m\u001b[0msignature\u001b[0m\u001b[0;34m,\u001b[0m\u001b[0;34m\u001b[0m\u001b[0;34m\u001b[0m\u001b[0m\n\u001b[0;32m--> 647\u001b[0;31m           func_graph=backwards_graph)\n\u001b[0m\u001b[1;32m    648\u001b[0m       \u001b[0mbackwards_graph_captures\u001b[0m \u001b[0;34m=\u001b[0m \u001b[0mbackwards_graph\u001b[0m\u001b[0;34m.\u001b[0m\u001b[0mexternal_captures\u001b[0m\u001b[0;34m\u001b[0m\u001b[0;34m\u001b[0m\u001b[0m\n\u001b[1;32m    649\u001b[0m       captures_from_forward = [\n",
            "\u001b[0;32m/usr/local/lib/python3.7/dist-packages/tensorflow/python/framework/func_graph.py\u001b[0m in \u001b[0;36mfunc_graph_from_py_func\u001b[0;34m(name, python_func, args, kwargs, signature, func_graph, autograph, autograph_options, add_control_dependencies, arg_names, op_return_value, collections, capture_by_value, acd_record_initial_resource_uses)\u001b[0m\n\u001b[1;32m   1139\u001b[0m         \u001b[0m_\u001b[0m\u001b[0;34m,\u001b[0m \u001b[0moriginal_func\u001b[0m \u001b[0;34m=\u001b[0m \u001b[0mtf_decorator\u001b[0m\u001b[0;34m.\u001b[0m\u001b[0munwrap\u001b[0m\u001b[0;34m(\u001b[0m\u001b[0mpython_func\u001b[0m\u001b[0;34m)\u001b[0m\u001b[0;34m\u001b[0m\u001b[0;34m\u001b[0m\u001b[0m\n\u001b[1;32m   1140\u001b[0m \u001b[0;34m\u001b[0m\u001b[0m\n\u001b[0;32m-> 1141\u001b[0;31m       \u001b[0mfunc_outputs\u001b[0m \u001b[0;34m=\u001b[0m \u001b[0mpython_func\u001b[0m\u001b[0;34m(\u001b[0m\u001b[0;34m*\u001b[0m\u001b[0mfunc_args\u001b[0m\u001b[0;34m,\u001b[0m \u001b[0;34m**\u001b[0m\u001b[0mfunc_kwargs\u001b[0m\u001b[0;34m)\u001b[0m\u001b[0;34m\u001b[0m\u001b[0;34m\u001b[0m\u001b[0m\n\u001b[0m\u001b[1;32m   1142\u001b[0m \u001b[0;34m\u001b[0m\u001b[0m\n\u001b[1;32m   1143\u001b[0m       \u001b[0;31m# invariant: `func_outputs` contains only Tensors, CompositeTensors,\u001b[0m\u001b[0;34m\u001b[0m\u001b[0;34m\u001b[0m\u001b[0;34m\u001b[0m\u001b[0m\n",
            "\u001b[0;32m/usr/local/lib/python3.7/dist-packages/tensorflow/python/eager/function.py\u001b[0m in \u001b[0;36m_backprop_function\u001b[0;34m(*grad_ys)\u001b[0m\n\u001b[1;32m    635\u001b[0m             \u001b[0mself\u001b[0m\u001b[0;34m.\u001b[0m\u001b[0m_func_graph\u001b[0m\u001b[0;34m.\u001b[0m\u001b[0minputs\u001b[0m\u001b[0;34m,\u001b[0m\u001b[0;34m\u001b[0m\u001b[0;34m\u001b[0m\u001b[0m\n\u001b[1;32m    636\u001b[0m             \u001b[0mgrad_ys\u001b[0m\u001b[0;34m=\u001b[0m\u001b[0mgrad_ys\u001b[0m\u001b[0;34m,\u001b[0m\u001b[0;34m\u001b[0m\u001b[0;34m\u001b[0m\u001b[0m\n\u001b[0;32m--> 637\u001b[0;31m             src_graph=self._func_graph)\n\u001b[0m\u001b[1;32m    638\u001b[0m \u001b[0;34m\u001b[0m\u001b[0m\n\u001b[1;32m    639\u001b[0m     \u001b[0;32mwith\u001b[0m \u001b[0mself\u001b[0m\u001b[0;34m.\u001b[0m\u001b[0m_func_graph\u001b[0m\u001b[0;34m.\u001b[0m\u001b[0mas_default\u001b[0m\u001b[0;34m(\u001b[0m\u001b[0;34m)\u001b[0m\u001b[0;34m:\u001b[0m\u001b[0;34m\u001b[0m\u001b[0;34m\u001b[0m\u001b[0m\n",
            "\u001b[0;32m/usr/local/lib/python3.7/dist-packages/tensorflow/python/ops/gradients_util.py\u001b[0m in \u001b[0;36m_GradientsHelper\u001b[0;34m(ys, xs, grad_ys, name, colocate_gradients_with_ops, gate_gradients, aggregation_method, stop_gradients, unconnected_gradients, src_graph)\u001b[0m\n\u001b[1;32m    694\u001b[0m                 \u001b[0;31m# functions.\u001b[0m\u001b[0;34m\u001b[0m\u001b[0;34m\u001b[0m\u001b[0;34m\u001b[0m\u001b[0m\n\u001b[1;32m    695\u001b[0m                 in_grads = _MaybeCompile(grad_scope, op, func_call,\n\u001b[0;32m--> 696\u001b[0;31m                                          lambda: grad_fn(op, *out_grads))\n\u001b[0m\u001b[1;32m    697\u001b[0m               \u001b[0;32melse\u001b[0m\u001b[0;34m:\u001b[0m\u001b[0;34m\u001b[0m\u001b[0;34m\u001b[0m\u001b[0m\n\u001b[1;32m    698\u001b[0m                 \u001b[0;31m# For function call ops, we add a 'SymbolicGradient'\u001b[0m\u001b[0;34m\u001b[0m\u001b[0;34m\u001b[0m\u001b[0;34m\u001b[0m\u001b[0m\n",
            "\u001b[0;32m/usr/local/lib/python3.7/dist-packages/tensorflow/python/ops/gradients_util.py\u001b[0m in \u001b[0;36m_MaybeCompile\u001b[0;34m(scope, op, func, grad_fn)\u001b[0m\n\u001b[1;32m    326\u001b[0m \u001b[0;34m\u001b[0m\u001b[0m\n\u001b[1;32m    327\u001b[0m   \u001b[0;32mif\u001b[0m \u001b[0;32mnot\u001b[0m \u001b[0mxla_compile\u001b[0m\u001b[0;34m:\u001b[0m\u001b[0;34m\u001b[0m\u001b[0;34m\u001b[0m\u001b[0m\n\u001b[0;32m--> 328\u001b[0;31m     \u001b[0;32mreturn\u001b[0m \u001b[0mgrad_fn\u001b[0m\u001b[0;34m(\u001b[0m\u001b[0;34m)\u001b[0m  \u001b[0;31m# Exit early\u001b[0m\u001b[0;34m\u001b[0m\u001b[0;34m\u001b[0m\u001b[0m\n\u001b[0m\u001b[1;32m    329\u001b[0m \u001b[0;34m\u001b[0m\u001b[0m\n\u001b[1;32m    330\u001b[0m   \u001b[0;31m# If the gradients are supposed to be compiled separately, we give them a\u001b[0m\u001b[0;34m\u001b[0m\u001b[0;34m\u001b[0m\u001b[0;34m\u001b[0m\u001b[0m\n",
            "\u001b[0;32m/usr/local/lib/python3.7/dist-packages/tensorflow/python/ops/gradients_util.py\u001b[0m in \u001b[0;36m<lambda>\u001b[0;34m()\u001b[0m\n\u001b[1;32m    694\u001b[0m                 \u001b[0;31m# functions.\u001b[0m\u001b[0;34m\u001b[0m\u001b[0;34m\u001b[0m\u001b[0;34m\u001b[0m\u001b[0m\n\u001b[1;32m    695\u001b[0m                 in_grads = _MaybeCompile(grad_scope, op, func_call,\n\u001b[0;32m--> 696\u001b[0;31m                                          lambda: grad_fn(op, *out_grads))\n\u001b[0m\u001b[1;32m    697\u001b[0m               \u001b[0;32melse\u001b[0m\u001b[0;34m:\u001b[0m\u001b[0;34m\u001b[0m\u001b[0;34m\u001b[0m\u001b[0m\n\u001b[1;32m    698\u001b[0m                 \u001b[0;31m# For function call ops, we add a 'SymbolicGradient'\u001b[0m\u001b[0;34m\u001b[0m\u001b[0;34m\u001b[0m\u001b[0;34m\u001b[0m\u001b[0m\n",
            "\u001b[0;32m/usr/local/lib/python3.7/dist-packages/tensorflow/python/ops/while_v2.py\u001b[0m in \u001b[0;36m_WhileGrad\u001b[0;34m(op, *grads)\u001b[0m\n\u001b[1;32m    450\u001b[0m       \u001b[0mname\u001b[0m\u001b[0;34m=\u001b[0m\u001b[0;34m\"%s_grad\"\u001b[0m \u001b[0;34m%\u001b[0m \u001b[0mwhile_op\u001b[0m\u001b[0;34m.\u001b[0m\u001b[0mname\u001b[0m\u001b[0;34m,\u001b[0m\u001b[0;34m\u001b[0m\u001b[0;34m\u001b[0m\u001b[0m\n\u001b[1;32m    451\u001b[0m       \u001b[0mnum_original_outputs\u001b[0m\u001b[0;34m=\u001b[0m\u001b[0mlen\u001b[0m\u001b[0;34m(\u001b[0m\u001b[0mbody_grad_graph\u001b[0m\u001b[0;34m.\u001b[0m\u001b[0moutputs\u001b[0m\u001b[0;34m)\u001b[0m\u001b[0;34m,\u001b[0m\u001b[0;34m\u001b[0m\u001b[0;34m\u001b[0m\u001b[0m\n\u001b[0;32m--> 452\u001b[0;31m       stateful_parallelism=stateful_parallelism)\n\u001b[0m\u001b[1;32m    453\u001b[0m \u001b[0;34m\u001b[0m\u001b[0m\n\u001b[1;32m    454\u001b[0m   \u001b[0;31m# See comment in while_loop.\u001b[0m\u001b[0;34m\u001b[0m\u001b[0;34m\u001b[0m\u001b[0;34m\u001b[0m\u001b[0m\n",
            "\u001b[0;32m/usr/local/lib/python3.7/dist-packages/tensorflow/python/ops/while_v2.py\u001b[0m in \u001b[0;36m_build_while_op\u001b[0;34m(loop_vars, cond_graph, body_graph, output_shapes, parallel_iterations, name, num_original_outputs, stateful_parallelism)\u001b[0m\n\u001b[1;32m    497\u001b[0m     \u001b[0mwhile_op\u001b[0m\u001b[0;34m.\u001b[0m\u001b[0m_body_graph\u001b[0m \u001b[0;34m=\u001b[0m \u001b[0mbody_graph\u001b[0m\u001b[0;34m\u001b[0m\u001b[0;34m\u001b[0m\u001b[0m\n\u001b[1;32m    498\u001b[0m     \u001b[0;32mreturn\u001b[0m \u001b[0mtensors\u001b[0m\u001b[0;34m\u001b[0m\u001b[0;34m\u001b[0m\u001b[0m\n\u001b[0;32m--> 499\u001b[0;31m   \u001b[0;32mreturn\u001b[0m \u001b[0mutil\u001b[0m\u001b[0;34m.\u001b[0m\u001b[0mrun_as_function_for_tape_gradients\u001b[0m\u001b[0;34m(\u001b[0m\u001b[0m_make_op\u001b[0m\u001b[0;34m,\u001b[0m \u001b[0mloop_vars\u001b[0m\u001b[0;34m)\u001b[0m\u001b[0;34m\u001b[0m\u001b[0;34m\u001b[0m\u001b[0m\n\u001b[0m\u001b[1;32m    500\u001b[0m \u001b[0;34m\u001b[0m\u001b[0m\n\u001b[1;32m    501\u001b[0m \u001b[0;34m\u001b[0m\u001b[0m\n",
            "\u001b[0;32m/usr/local/lib/python3.7/dist-packages/tensorflow/python/ops/control_flow_util_v2.py\u001b[0m in \u001b[0;36mrun_as_function_for_tape_gradients\u001b[0;34m(make_op, inputs)\u001b[0m\n\u001b[1;32m    374\u001b[0m     \u001b[0;32mreturn\u001b[0m \u001b[0mresults\u001b[0m\u001b[0;34m\u001b[0m\u001b[0;34m\u001b[0m\u001b[0m\n\u001b[1;32m    375\u001b[0m   \u001b[0;32melse\u001b[0m\u001b[0;34m:\u001b[0m\u001b[0;34m\u001b[0m\u001b[0;34m\u001b[0m\u001b[0m\n\u001b[0;32m--> 376\u001b[0;31m     \u001b[0;32mreturn\u001b[0m \u001b[0mmake_op\u001b[0m\u001b[0;34m(\u001b[0m\u001b[0minputs\u001b[0m\u001b[0;34m)\u001b[0m\u001b[0;34m\u001b[0m\u001b[0;34m\u001b[0m\u001b[0m\n\u001b[0m",
            "\u001b[0;32m/usr/local/lib/python3.7/dist-packages/tensorflow/python/ops/while_v2.py\u001b[0m in \u001b[0;36m_make_op\u001b[0;34m(inputs)\u001b[0m\n\u001b[1;32m    479\u001b[0m         \u001b[0moutput_shapes\u001b[0m\u001b[0;34m=\u001b[0m\u001b[0moutput_shapes\u001b[0m\u001b[0;34m,\u001b[0m\u001b[0;34m\u001b[0m\u001b[0;34m\u001b[0m\u001b[0m\n\u001b[1;32m    480\u001b[0m         \u001b[0mparallel_iterations\u001b[0m\u001b[0;34m=\u001b[0m\u001b[0mparallel_iterations\u001b[0m\u001b[0;34m,\u001b[0m\u001b[0;34m\u001b[0m\u001b[0;34m\u001b[0m\u001b[0m\n\u001b[0;32m--> 481\u001b[0;31m         name=name))\n\u001b[0m\u001b[1;32m    482\u001b[0m     \u001b[0m_copy_handle_data\u001b[0m\u001b[0;34m(\u001b[0m\u001b[0mbody_graph\u001b[0m\u001b[0;34m.\u001b[0m\u001b[0moutputs\u001b[0m\u001b[0;34m,\u001b[0m \u001b[0mtensors\u001b[0m\u001b[0;34m)\u001b[0m\u001b[0;34m\u001b[0m\u001b[0;34m\u001b[0m\u001b[0m\n\u001b[1;32m    483\u001b[0m     \u001b[0mutil\u001b[0m\u001b[0;34m.\u001b[0m\u001b[0mmaybe_set_lowering_attr\u001b[0m\u001b[0;34m(\u001b[0m\u001b[0mwhile_op\u001b[0m\u001b[0;34m)\u001b[0m\u001b[0;34m\u001b[0m\u001b[0;34m\u001b[0m\u001b[0m\n",
            "\u001b[0;32m/usr/local/lib/python3.7/dist-packages/tensorflow/python/ops/gen_functional_ops.py\u001b[0m in \u001b[0;36mstateless_while\u001b[0;34m(input, cond, body, output_shapes, parallel_iterations, name)\u001b[0m\n\u001b[1;32m   1008\u001b[0m         \u001b[0;34m\"StatelessWhile\"\u001b[0m\u001b[0;34m,\u001b[0m \u001b[0minput\u001b[0m\u001b[0;34m=\u001b[0m\u001b[0minput\u001b[0m\u001b[0;34m,\u001b[0m \u001b[0mcond\u001b[0m\u001b[0;34m=\u001b[0m\u001b[0mcond\u001b[0m\u001b[0;34m,\u001b[0m \u001b[0mbody\u001b[0m\u001b[0;34m=\u001b[0m\u001b[0mbody\u001b[0m\u001b[0;34m,\u001b[0m\u001b[0;34m\u001b[0m\u001b[0;34m\u001b[0m\u001b[0m\n\u001b[1;32m   1009\u001b[0m                           \u001b[0moutput_shapes\u001b[0m\u001b[0;34m=\u001b[0m\u001b[0moutput_shapes\u001b[0m\u001b[0;34m,\u001b[0m\u001b[0;34m\u001b[0m\u001b[0;34m\u001b[0m\u001b[0m\n\u001b[0;32m-> 1010\u001b[0;31m                           parallel_iterations=parallel_iterations, name=name)\n\u001b[0m\u001b[1;32m   1011\u001b[0m   \u001b[0m_result\u001b[0m \u001b[0;34m=\u001b[0m \u001b[0m_outputs\u001b[0m\u001b[0;34m[\u001b[0m\u001b[0;34m:\u001b[0m\u001b[0;34m]\u001b[0m\u001b[0;34m\u001b[0m\u001b[0;34m\u001b[0m\u001b[0m\n\u001b[1;32m   1012\u001b[0m   \u001b[0;32mif\u001b[0m \u001b[0m_execute\u001b[0m\u001b[0;34m.\u001b[0m\u001b[0mmust_record_gradient\u001b[0m\u001b[0;34m(\u001b[0m\u001b[0;34m)\u001b[0m\u001b[0;34m:\u001b[0m\u001b[0;34m\u001b[0m\u001b[0;34m\u001b[0m\u001b[0m\n",
            "\u001b[0;32m/usr/local/lib/python3.7/dist-packages/tensorflow/python/framework/op_def_library.py\u001b[0m in \u001b[0;36m_apply_op_helper\u001b[0;34m(op_type_name, name, **keywords)\u001b[0m\n\u001b[1;32m    797\u001b[0m       op = g._create_op_internal(op_type_name, inputs, dtypes=None,\n\u001b[1;32m    798\u001b[0m                                  \u001b[0mname\u001b[0m\u001b[0;34m=\u001b[0m\u001b[0mscope\u001b[0m\u001b[0;34m,\u001b[0m \u001b[0minput_types\u001b[0m\u001b[0;34m=\u001b[0m\u001b[0minput_types\u001b[0m\u001b[0;34m,\u001b[0m\u001b[0;34m\u001b[0m\u001b[0;34m\u001b[0m\u001b[0m\n\u001b[0;32m--> 799\u001b[0;31m                                  attrs=attr_protos, op_def=op_def)\n\u001b[0m\u001b[1;32m    800\u001b[0m \u001b[0;34m\u001b[0m\u001b[0m\n\u001b[1;32m    801\u001b[0m     \u001b[0;31m# `outputs` is returned as a separate return value so that the output\u001b[0m\u001b[0;34m\u001b[0m\u001b[0;34m\u001b[0m\u001b[0;34m\u001b[0m\u001b[0m\n",
            "\u001b[0;32m/usr/local/lib/python3.7/dist-packages/tensorflow/python/framework/func_graph.py\u001b[0m in \u001b[0;36m_create_op_internal\u001b[0;34m(self, op_type, inputs, dtypes, input_types, name, attrs, op_def, compute_device)\u001b[0m\n\u001b[1;32m    694\u001b[0m     return super(FuncGraph, self)._create_op_internal(  # pylint: disable=protected-access\n\u001b[1;32m    695\u001b[0m         \u001b[0mop_type\u001b[0m\u001b[0;34m,\u001b[0m \u001b[0mcaptured_inputs\u001b[0m\u001b[0;34m,\u001b[0m \u001b[0mdtypes\u001b[0m\u001b[0;34m,\u001b[0m \u001b[0minput_types\u001b[0m\u001b[0;34m,\u001b[0m \u001b[0mname\u001b[0m\u001b[0;34m,\u001b[0m \u001b[0mattrs\u001b[0m\u001b[0;34m,\u001b[0m \u001b[0mop_def\u001b[0m\u001b[0;34m,\u001b[0m\u001b[0;34m\u001b[0m\u001b[0;34m\u001b[0m\u001b[0m\n\u001b[0;32m--> 696\u001b[0;31m         compute_device)\n\u001b[0m\u001b[1;32m    697\u001b[0m \u001b[0;34m\u001b[0m\u001b[0m\n\u001b[1;32m    698\u001b[0m   \u001b[0;32mdef\u001b[0m \u001b[0mcapture\u001b[0m\u001b[0;34m(\u001b[0m\u001b[0mself\u001b[0m\u001b[0;34m,\u001b[0m \u001b[0mtensor\u001b[0m\u001b[0;34m,\u001b[0m \u001b[0mname\u001b[0m\u001b[0;34m=\u001b[0m\u001b[0;32mNone\u001b[0m\u001b[0;34m,\u001b[0m \u001b[0mshape\u001b[0m\u001b[0;34m=\u001b[0m\u001b[0;32mNone\u001b[0m\u001b[0;34m)\u001b[0m\u001b[0;34m:\u001b[0m\u001b[0;34m\u001b[0m\u001b[0;34m\u001b[0m\u001b[0m\n",
            "\u001b[0;32m/usr/local/lib/python3.7/dist-packages/tensorflow/python/framework/ops.py\u001b[0m in \u001b[0;36m_create_op_internal\u001b[0;34m(self, op_type, inputs, dtypes, input_types, name, attrs, op_def, compute_device)\u001b[0m\n\u001b[1;32m   3760\u001b[0m           \u001b[0minput_types\u001b[0m\u001b[0;34m=\u001b[0m\u001b[0minput_types\u001b[0m\u001b[0;34m,\u001b[0m\u001b[0;34m\u001b[0m\u001b[0;34m\u001b[0m\u001b[0m\n\u001b[1;32m   3761\u001b[0m           \u001b[0moriginal_op\u001b[0m\u001b[0;34m=\u001b[0m\u001b[0mself\u001b[0m\u001b[0;34m.\u001b[0m\u001b[0m_default_original_op\u001b[0m\u001b[0;34m,\u001b[0m\u001b[0;34m\u001b[0m\u001b[0;34m\u001b[0m\u001b[0m\n\u001b[0;32m-> 3762\u001b[0;31m           op_def=op_def)\n\u001b[0m\u001b[1;32m   3763\u001b[0m       \u001b[0mself\u001b[0m\u001b[0;34m.\u001b[0m\u001b[0m_create_op_helper\u001b[0m\u001b[0;34m(\u001b[0m\u001b[0mret\u001b[0m\u001b[0;34m,\u001b[0m \u001b[0mcompute_device\u001b[0m\u001b[0;34m=\u001b[0m\u001b[0mcompute_device\u001b[0m\u001b[0;34m)\u001b[0m\u001b[0;34m\u001b[0m\u001b[0;34m\u001b[0m\u001b[0m\n\u001b[1;32m   3764\u001b[0m     \u001b[0;32mreturn\u001b[0m \u001b[0mret\u001b[0m\u001b[0;34m\u001b[0m\u001b[0;34m\u001b[0m\u001b[0m\n",
            "\u001b[0;32m/usr/local/lib/python3.7/dist-packages/tensorflow/python/framework/ops.py\u001b[0m in \u001b[0;36m__init__\u001b[0;34m(self, node_def, g, inputs, output_types, control_inputs, input_types, original_op, op_def)\u001b[0m\n\u001b[1;32m   2143\u001b[0m       \u001b[0mtf_output\u001b[0m \u001b[0;34m=\u001b[0m \u001b[0mc_api_util\u001b[0m\u001b[0;34m.\u001b[0m\u001b[0mtf_output\u001b[0m\u001b[0;34m(\u001b[0m\u001b[0mself\u001b[0m\u001b[0;34m.\u001b[0m\u001b[0m_c_op\u001b[0m\u001b[0;34m,\u001b[0m \u001b[0mi\u001b[0m\u001b[0;34m)\u001b[0m\u001b[0;34m\u001b[0m\u001b[0;34m\u001b[0m\u001b[0m\n\u001b[1;32m   2144\u001b[0m       \u001b[0moutput_type\u001b[0m \u001b[0;34m=\u001b[0m \u001b[0mpywrap_tf_session\u001b[0m\u001b[0;34m.\u001b[0m\u001b[0mTF_OperationOutputType\u001b[0m\u001b[0;34m(\u001b[0m\u001b[0mtf_output\u001b[0m\u001b[0;34m)\u001b[0m\u001b[0;34m\u001b[0m\u001b[0;34m\u001b[0m\u001b[0m\n\u001b[0;32m-> 2145\u001b[0;31m       \u001b[0mtensor\u001b[0m \u001b[0;34m=\u001b[0m \u001b[0mTensor\u001b[0m\u001b[0;34m.\u001b[0m\u001b[0m_create_with_tf_output\u001b[0m\u001b[0;34m(\u001b[0m\u001b[0mself\u001b[0m\u001b[0;34m,\u001b[0m \u001b[0mi\u001b[0m\u001b[0;34m,\u001b[0m \u001b[0moutput_type\u001b[0m\u001b[0;34m,\u001b[0m \u001b[0mtf_output\u001b[0m\u001b[0;34m)\u001b[0m  \u001b[0;31m# pylint: disable=protected-access\u001b[0m\u001b[0;34m\u001b[0m\u001b[0;34m\u001b[0m\u001b[0m\n\u001b[0m\u001b[1;32m   2146\u001b[0m       \u001b[0mself\u001b[0m\u001b[0;34m.\u001b[0m\u001b[0m_outputs\u001b[0m\u001b[0;34m.\u001b[0m\u001b[0mappend\u001b[0m\u001b[0;34m(\u001b[0m\u001b[0mtensor\u001b[0m\u001b[0;34m)\u001b[0m\u001b[0;34m\u001b[0m\u001b[0;34m\u001b[0m\u001b[0m\n\u001b[1;32m   2147\u001b[0m \u001b[0;34m\u001b[0m\u001b[0m\n",
            "\u001b[0;32m/usr/local/lib/python3.7/dist-packages/tensorflow/python/framework/ops.py\u001b[0m in \u001b[0;36m_create_with_tf_output\u001b[0;34m(op, value_index, dtype, tf_output)\u001b[0m\n\u001b[1;32m    448\u001b[0m   \u001b[0;34m@\u001b[0m\u001b[0mstaticmethod\u001b[0m\u001b[0;34m\u001b[0m\u001b[0;34m\u001b[0m\u001b[0m\n\u001b[1;32m    449\u001b[0m   \u001b[0;32mdef\u001b[0m \u001b[0m_create_with_tf_output\u001b[0m\u001b[0;34m(\u001b[0m\u001b[0mop\u001b[0m\u001b[0;34m,\u001b[0m \u001b[0mvalue_index\u001b[0m\u001b[0;34m,\u001b[0m \u001b[0mdtype\u001b[0m\u001b[0;34m,\u001b[0m \u001b[0mtf_output\u001b[0m\u001b[0;34m)\u001b[0m\u001b[0;34m:\u001b[0m\u001b[0;34m\u001b[0m\u001b[0;34m\u001b[0m\u001b[0m\n\u001b[0;32m--> 450\u001b[0;31m     \u001b[0mret\u001b[0m \u001b[0;34m=\u001b[0m \u001b[0mTensor\u001b[0m\u001b[0;34m(\u001b[0m\u001b[0mop\u001b[0m\u001b[0;34m,\u001b[0m \u001b[0mvalue_index\u001b[0m\u001b[0;34m,\u001b[0m \u001b[0mdtype\u001b[0m\u001b[0;34m)\u001b[0m\u001b[0;34m\u001b[0m\u001b[0;34m\u001b[0m\u001b[0m\n\u001b[0m\u001b[1;32m    451\u001b[0m     \u001b[0mret\u001b[0m\u001b[0;34m.\u001b[0m\u001b[0m_tf_output\u001b[0m \u001b[0;34m=\u001b[0m \u001b[0mtf_output\u001b[0m\u001b[0;34m\u001b[0m\u001b[0;34m\u001b[0m\u001b[0m\n\u001b[1;32m    452\u001b[0m     \u001b[0;32mreturn\u001b[0m \u001b[0mret\u001b[0m\u001b[0;34m\u001b[0m\u001b[0;34m\u001b[0m\u001b[0m\n",
            "\u001b[0;32m/usr/local/lib/python3.7/dist-packages/tensorflow/python/framework/ops.py\u001b[0m in \u001b[0;36m__init__\u001b[0;34m(self, op, value_index, dtype)\u001b[0m\n\u001b[1;32m    421\u001b[0m                       f\"An instance of type {type(op).__name__} is provided.\")\n\u001b[1;32m    422\u001b[0m \u001b[0;34m\u001b[0m\u001b[0m\n\u001b[0;32m--> 423\u001b[0;31m     \u001b[0mself\u001b[0m\u001b[0;34m.\u001b[0m\u001b[0m_op\u001b[0m \u001b[0;34m=\u001b[0m \u001b[0mop\u001b[0m\u001b[0;34m\u001b[0m\u001b[0;34m\u001b[0m\u001b[0m\n\u001b[0m\u001b[1;32m    424\u001b[0m     \u001b[0mself\u001b[0m\u001b[0;34m.\u001b[0m\u001b[0m_value_index\u001b[0m \u001b[0;34m=\u001b[0m \u001b[0mvalue_index\u001b[0m\u001b[0;34m\u001b[0m\u001b[0;34m\u001b[0m\u001b[0m\n\u001b[1;32m    425\u001b[0m     \u001b[0mself\u001b[0m\u001b[0;34m.\u001b[0m\u001b[0m_dtype\u001b[0m \u001b[0;34m=\u001b[0m \u001b[0mdtypes\u001b[0m\u001b[0;34m.\u001b[0m\u001b[0mas_dtype\u001b[0m\u001b[0;34m(\u001b[0m\u001b[0mdtype\u001b[0m\u001b[0;34m)\u001b[0m\u001b[0;34m\u001b[0m\u001b[0;34m\u001b[0m\u001b[0m\n",
            "\u001b[0;31mKeyboardInterrupt\u001b[0m: "
          ]
        }
      ]
    },
    {
      "cell_type": "code",
      "source": [
        "mae2 = history2.history['mae']\n",
        "val_mae2 = history2.history['val_mae']\n",
        "epoch2 = range(len(mae2))\n",
        "\n",
        "plt.plot(epoch2, mae2, label='mae')\n",
        "plt.plot(epoch2, val_mae2, label='val mae')\n",
        "plt.legend()\n",
        "plt.show()"
      ],
      "metadata": {
        "id": "jf9ZUadgxAjf"
      },
      "execution_count": null,
      "outputs": []
    },
    {
      "cell_type": "code",
      "source": [
        "from sklearn.metrics import mean_absolute_error, mean_absolute_percentage_error\n",
        "\n",
        "test_beras_2 = scal_range.fit_transform(x_test.reshape(-1, 1))\n",
        "prediction2 = forecast_predict(model2, test_beras_2, time_size=50, batch_size=1, shuffle_data=100)\n",
        "result_b2 = prediction2.squeeze()\n",
        "result_beras2 = result_b2.reshape(-1, 1)\n",
        "result_beras2= scal_range.inverse_transform(result_beras2)\n",
        "result_beras2 = result_beras2.reshape(-1)\n",
        "data_test_beras2 = x_test[:-49]\n",
        "data_test_beras2 = data_test_beras2.reshape(-1)\n",
        "\n",
        "data_new_beras2 = pd.DataFrame()\n",
        "data_new_beras2['actual'] = data_test_beras2\n",
        "data_new_beras2['prediction'] = result_beras2\n",
        "mae_beras2= mean_absolute_error(data_test_beras2, result_beras2)\n",
        "mape_beras2 = mean_absolute_percentage_error(data_test_beras2, result_beras2)\n",
        "print(f'mae dari data test beras adalah {mae_beras2}\\nmape dari data test beras adalah {mape_beras2}')\n",
        "data_new_beras2"
      ],
      "metadata": {
        "id": "VHAK1Pb1xA3H"
      },
      "execution_count": null,
      "outputs": []
    },
    {
      "cell_type": "markdown",
      "source": [
        "#### Type2"
      ],
      "metadata": {
        "id": "PeqDAoSVhdie"
      }
    },
    {
      "cell_type": "code",
      "source": [],
      "metadata": {
        "id": "P2m8Lanihg6h"
      },
      "execution_count": null,
      "outputs": []
    },
    {
      "cell_type": "code",
      "source": [],
      "metadata": {
        "id": "71EAoB6GhhF9"
      },
      "execution_count": null,
      "outputs": []
    },
    {
      "cell_type": "code",
      "source": [],
      "metadata": {
        "id": "wnn7RL52hhPp"
      },
      "execution_count": null,
      "outputs": []
    },
    {
      "cell_type": "markdown",
      "source": [
        "#### Type 3"
      ],
      "metadata": {
        "id": "SQsB8UWdhhkT"
      }
    },
    {
      "cell_type": "code",
      "source": [],
      "metadata": {
        "id": "OB5rX-ZohjQb"
      },
      "execution_count": null,
      "outputs": []
    },
    {
      "cell_type": "code",
      "source": [],
      "metadata": {
        "id": "0y_sLzr8hjdN"
      },
      "execution_count": null,
      "outputs": []
    },
    {
      "cell_type": "code",
      "source": [],
      "metadata": {
        "id": "qB4t3JIehjmY"
      },
      "execution_count": null,
      "outputs": []
    },
    {
      "cell_type": "markdown",
      "source": [
        "### Adam"
      ],
      "metadata": {
        "id": "kaWKBKIcxDeM"
      }
    },
    {
      "cell_type": "markdown",
      "source": [
        "#### type 1"
      ],
      "metadata": {
        "id": "3z1mAdrDhHUM"
      }
    },
    {
      "cell_type": "code",
      "source": [
        "model2_1= Sequential([\n",
        "    Conv1D(16, kernel_size=2, \n",
        "                            activation='relu',strides=2,\n",
        "                            padding='causal', input_shape=[None, 1]),\n",
        "    tf.keras.layers.MaxPool1D(2, padding=\"same\"),\n",
        "    LSTM(24, return_sequences=True),\n",
        "    Dropout(0.3),\n",
        "    LSTM(80),\n",
        "    Dense(24, activation='relu'),\n",
        "    Dense(50, activation='relu'),\n",
        "    Dense(1)\n",
        "])\n",
        "\n",
        "model2_a.compile(loss= 'mean_squared_error', optimizer=tf.keras.optimizers.Adam(learning_rate=1e-4), metrics=['mae'])\n",
        "model2_a.summary()"
      ],
      "metadata": {
        "id": "G38BB7clxFF0"
      },
      "execution_count": null,
      "outputs": []
    },
    {
      "cell_type": "code",
      "source": [
        "history2_a = model2_a.fit(train_step, epochs=50, validation_data=val_step)"
      ],
      "metadata": {
        "id": "sbOmTvDAxFR4"
      },
      "execution_count": null,
      "outputs": []
    },
    {
      "cell_type": "code",
      "source": [
        "mae2_a = history2_a.history['mae']\n",
        "val_mae2_a = history2_a.history['val_mae']\n",
        "epoch2_a = range(len(mae2_a))\n",
        "\n",
        "plt.plot(epoch2_a, mae2_a, label='mae')\n",
        "plt.plot(epoch2_a, val_mae2_a, label='val mae')\n",
        "plt.legend()\n",
        "plt.show()"
      ],
      "metadata": {
        "id": "UmknfhV7xFcF"
      },
      "execution_count": null,
      "outputs": []
    },
    {
      "cell_type": "code",
      "source": [
        "test_beras_2a = scal_range.fit_transform(x_test.reshape(-1, 1))\n",
        "prediction2a = forecast_predict(model2_a, test_beras_2a, time_size=50, batch_size=1, shuffle_data=100)\n",
        "result_b2a = prediction2a.squeeze()\n",
        "result_beras2a = result_b2a.reshape(-1, 1)\n",
        "result_beras2a= scal_range.inverse_transform(result_beras2a)\n",
        "result_beras2a = result_beras2a.reshape(-1)\n",
        "data_test_beras2a = x_test[:-49]\n",
        "data_test_beras2a = data_test_beras2a.reshape(-1)\n",
        "\n",
        "data_new_beras2a = pd.DataFrame()\n",
        "data_new_beras2a['actual'] = data_test_beras2a\n",
        "data_new_beras2a['prediction'] = result_beras2a\n",
        "mae_beras2a= mean_absolute_error(data_test_beras2a, result_beras2a)\n",
        "mape_beras2a = mean_absolute_percentage_error(data_test_beras2a, result_beras2a)\n",
        "print(f'mae dari data test beras adalah {mae_beras2a}\\nmape dari data test beras adalah {mape_beras2a}')\n",
        "data_new_beras2"
      ],
      "metadata": {
        "id": "yzr9AlDLxFqE"
      },
      "execution_count": null,
      "outputs": []
    },
    {
      "cell_type": "markdown",
      "source": [
        "#### Type 2"
      ],
      "metadata": {
        "id": "DKc3O_lEhQXN"
      }
    },
    {
      "cell_type": "code",
      "source": [],
      "metadata": {
        "id": "gOYJE-lShP3c"
      },
      "execution_count": null,
      "outputs": []
    },
    {
      "cell_type": "code",
      "source": [],
      "metadata": {
        "id": "hpCDAVTshSo0"
      },
      "execution_count": null,
      "outputs": []
    },
    {
      "cell_type": "code",
      "source": [],
      "metadata": {
        "id": "tI2h2eojhS1P"
      },
      "execution_count": null,
      "outputs": []
    },
    {
      "cell_type": "markdown",
      "source": [
        "#### Type 3"
      ],
      "metadata": {
        "id": "xcC8RdJ2hTSO"
      }
    },
    {
      "cell_type": "code",
      "source": [],
      "metadata": {
        "id": "cBqxx1KChU0c"
      },
      "execution_count": null,
      "outputs": []
    },
    {
      "cell_type": "code",
      "source": [],
      "metadata": {
        "id": "cTu5xJJ4hVCt"
      },
      "execution_count": null,
      "outputs": []
    },
    {
      "cell_type": "code",
      "source": [],
      "metadata": {
        "id": "vMjEaDQphVOY"
      },
      "execution_count": null,
      "outputs": []
    }
  ]
}
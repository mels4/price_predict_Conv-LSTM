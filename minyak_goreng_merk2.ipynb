{
  "cells": [
    {
      "cell_type": "markdown",
      "metadata": {
        "id": "view-in-github",
        "colab_type": "text"
      },
      "source": [
        "<a href=\"https://colab.research.google.com/github/melinadwisafitri/skripsi_price_predict/blob/main/minyak_goreng_merk2.ipynb\" target=\"_parent\"><img src=\"https://colab.research.google.com/assets/colab-badge.svg\" alt=\"Open In Colab\"/></a>"
      ]
    },
    {
      "cell_type": "markdown",
      "metadata": {
        "id": "SvpGcAyUo7Tt"
      },
      "source": [
        "## Import Library"
      ]
    },
    {
      "cell_type": "code",
      "execution_count": null,
      "metadata": {
        "id": "VtPnq53USm8p"
      },
      "outputs": [],
      "source": [
        "import urllib.request\n",
        "import numpy as np\n",
        "import pandas as pd\n",
        "import tensorflow as tf\n",
        "import seaborn as sns\n",
        "import matplotlib.pyplot as plt\n",
        "import math\n",
        "\n",
        "from keras.utils.vis_utils import plot_model\n",
        "from tensorflow.data import Dataset\n",
        "from tensorflow.keras.losses import Huber\n",
        "from tensorflow.keras.models import Sequential\n",
        "from sklearn.preprocessing import MinMaxScaler\n",
        "from sklearn.model_selection import train_test_split\n",
        "from tensorflow.keras.layers import Conv1D, LSTM, Dense, Dropout\n",
        "from tensorflow.keras.metrics import mean_absolute_percentage_error, mean_absolute_error, mean_squared_error, RootMeanSquaredError"
      ]
    },
    {
      "cell_type": "markdown",
      "metadata": {
        "id": "3kEl7Dkio-SH"
      },
      "source": [
        "## time step generator"
      ]
    },
    {
      "cell_type": "code",
      "execution_count": null,
      "metadata": {
        "id": "hQyD2koDlSxd"
      },
      "outputs": [],
      "source": [
        "def time_step_generator(data, time_size, batch_size, shuffle_data):\n",
        "  dataset = Dataset.from_tensor_slices(data)\n",
        "  dataset = dataset.window(time_size+1, shift=1, drop_remainder=True)\n",
        "  dataset = dataset.flat_map(lambda x: x.batch(time_size+1))\n",
        "  dataset = dataset.shuffle(shuffle_data)\n",
        "  dataset = dataset.map(lambda x: (x[:-1], x[-1]))\n",
        "  return dataset.batch(batch_size).prefetch(1)\n",
        "\n",
        "def forecast_predict(model, data, time_size, batch_size):\n",
        "  generate_data = Dataset.from_tensor_slices(data)\n",
        "  add_window_step = generate_data.window(time_size, shift=1, drop_remainder=True)\n",
        "  flatten_window = add_window_step.flat_map(lambda window: window.batch(time_size))\n",
        "  batch_window = flatten_window.batch(batch_size).prefetch(1)\n",
        "  model_predict = model.predict(batch_window)\n",
        "  return model_predict"
      ]
    },
    {
      "cell_type": "markdown",
      "metadata": {
        "id": "8lrDj1aopCbp"
      },
      "source": [
        "## Load data"
      ]
    },
    {
      "cell_type": "code",
      "execution_count": null,
      "metadata": {
        "colab": {
          "base_uri": "https://localhost:8080/"
        },
        "id": "9I-HLY85lUJW",
        "outputId": "12b86637-33a3-418f-db52-0d6461b55ba8"
      },
      "outputs": [
        {
          "data": {
            "text/plain": [
              "('data_pangan.csv', <http.client.HTTPMessage at 0x7f4f00741fa0>)"
            ]
          },
          "execution_count": 3,
          "metadata": {},
          "output_type": "execute_result"
        }
      ],
      "source": [
        "url ='https://github.com/melinadwisafitri/skripsi_price_predict/blob/main/data_pangan/data_fixs/data_new.csv?raw=true'\n",
        "urllib.request.urlretrieve(url, 'data_pangan.csv')"
      ]
    },
    {
      "cell_type": "code",
      "execution_count": null,
      "metadata": {
        "colab": {
          "base_uri": "https://localhost:8080/"
        },
        "id": "wG-6m4ULlUPd",
        "outputId": "5feee095-4302-4935-8de4-c718b0bfb3b0"
      },
      "outputs": [
        {
          "data": {
            "text/html": [
              "\n",
              "  <div id=\"df-657fc598-b5cd-4636-9ad1-395c91ce0aba\">\n",
              "    <div class=\"colab-df-container\">\n",
              "      <div>\n",
              "<style scoped>\n",
              "    .dataframe tbody tr th:only-of-type {\n",
              "        vertical-align: middle;\n",
              "    }\n",
              "\n",
              "    .dataframe tbody tr th {\n",
              "        vertical-align: top;\n",
              "    }\n",
              "\n",
              "    .dataframe thead th {\n",
              "        text-align: right;\n",
              "    }\n",
              "</style>\n",
              "<table border=\"1\" class=\"dataframe\">\n",
              "  <thead>\n",
              "    <tr style=\"text-align: right;\">\n",
              "      <th></th>\n",
              "      <th>date</th>\n",
              "      <th>beras</th>\n",
              "      <th>beras_kualitas_bawah_i</th>\n",
              "      <th>beras_kualitas_bawah_ii</th>\n",
              "      <th>beras_kualitas_medium_i</th>\n",
              "      <th>beras_kualitas_medium_ii</th>\n",
              "      <th>beras_kualitas_super_i</th>\n",
              "      <th>beras_kualitas_super_ii</th>\n",
              "      <th>daging_ayam_ras_segar</th>\n",
              "      <th>daging_sapi_kualitas_1</th>\n",
              "      <th>...</th>\n",
              "      <th>cabai_rawit</th>\n",
              "      <th>cabai_rawit_hijau</th>\n",
              "      <th>cabai_rawit_merah</th>\n",
              "      <th>minyak_goreng</th>\n",
              "      <th>minyak_goreng_curah</th>\n",
              "      <th>minyak_goreng_kemasan_bermerk_1</th>\n",
              "      <th>minyak_goreng_kemasan_bermerk_2</th>\n",
              "      <th>gula_pasir</th>\n",
              "      <th>gula_pasir_kualitas_premium</th>\n",
              "      <th>gula_pasir_lokal</th>\n",
              "    </tr>\n",
              "  </thead>\n",
              "  <tbody>\n",
              "    <tr>\n",
              "      <th>0</th>\n",
              "      <td>2017-01-08</td>\n",
              "      <td>11200</td>\n",
              "      <td>10150</td>\n",
              "      <td>9650</td>\n",
              "      <td>11250</td>\n",
              "      <td>11150</td>\n",
              "      <td>12750</td>\n",
              "      <td>12250</td>\n",
              "      <td>34100</td>\n",
              "      <td>118400</td>\n",
              "      <td>...</td>\n",
              "      <td>41050</td>\n",
              "      <td>34800</td>\n",
              "      <td>47550</td>\n",
              "      <td>13950</td>\n",
              "      <td>12250</td>\n",
              "      <td>15050</td>\n",
              "      <td>14350</td>\n",
              "      <td>14900</td>\n",
              "      <td>16800</td>\n",
              "      <td>13250</td>\n",
              "    </tr>\n",
              "    <tr>\n",
              "      <th>1</th>\n",
              "      <td>2017-01-11</td>\n",
              "      <td>11400</td>\n",
              "      <td>10350</td>\n",
              "      <td>9900</td>\n",
              "      <td>11500</td>\n",
              "      <td>11300</td>\n",
              "      <td>12900</td>\n",
              "      <td>12350</td>\n",
              "      <td>30350</td>\n",
              "      <td>117000</td>\n",
              "      <td>...</td>\n",
              "      <td>30000</td>\n",
              "      <td>30000</td>\n",
              "      <td>30450</td>\n",
              "      <td>13900</td>\n",
              "      <td>12250</td>\n",
              "      <td>14950</td>\n",
              "      <td>14300</td>\n",
              "      <td>14500</td>\n",
              "      <td>16550</td>\n",
              "      <td>12900</td>\n",
              "    </tr>\n",
              "    <tr>\n",
              "      <th>2</th>\n",
              "      <td>2017-01-12</td>\n",
              "      <td>10700</td>\n",
              "      <td>9650</td>\n",
              "      <td>8500</td>\n",
              "      <td>11200</td>\n",
              "      <td>10950</td>\n",
              "      <td>12250</td>\n",
              "      <td>11850</td>\n",
              "      <td>29350</td>\n",
              "      <td>115800</td>\n",
              "      <td>...</td>\n",
              "      <td>33300</td>\n",
              "      <td>31500</td>\n",
              "      <td>35050</td>\n",
              "      <td>14000</td>\n",
              "      <td>12150</td>\n",
              "      <td>15400</td>\n",
              "      <td>14400</td>\n",
              "      <td>14800</td>\n",
              "      <td>16650</td>\n",
              "      <td>12950</td>\n",
              "    </tr>\n",
              "    <tr>\n",
              "      <th>3</th>\n",
              "      <td>2017-02-08</td>\n",
              "      <td>11200</td>\n",
              "      <td>10150</td>\n",
              "      <td>9650</td>\n",
              "      <td>11250</td>\n",
              "      <td>11150</td>\n",
              "      <td>12750</td>\n",
              "      <td>12250</td>\n",
              "      <td>34150</td>\n",
              "      <td>118400</td>\n",
              "      <td>...</td>\n",
              "      <td>40600</td>\n",
              "      <td>34600</td>\n",
              "      <td>46650</td>\n",
              "      <td>13950</td>\n",
              "      <td>12250</td>\n",
              "      <td>15050</td>\n",
              "      <td>14350</td>\n",
              "      <td>14900</td>\n",
              "      <td>16800</td>\n",
              "      <td>13250</td>\n",
              "    </tr>\n",
              "    <tr>\n",
              "      <th>4</th>\n",
              "      <td>2017-02-10</td>\n",
              "      <td>11400</td>\n",
              "      <td>10250</td>\n",
              "      <td>9850</td>\n",
              "      <td>11400</td>\n",
              "      <td>11250</td>\n",
              "      <td>12850</td>\n",
              "      <td>12350</td>\n",
              "      <td>30200</td>\n",
              "      <td>118400</td>\n",
              "      <td>...</td>\n",
              "      <td>31850</td>\n",
              "      <td>32550</td>\n",
              "      <td>31550</td>\n",
              "      <td>14000</td>\n",
              "      <td>12350</td>\n",
              "      <td>15000</td>\n",
              "      <td>14350</td>\n",
              "      <td>14700</td>\n",
              "      <td>16750</td>\n",
              "      <td>12950</td>\n",
              "    </tr>\n",
              "  </tbody>\n",
              "</table>\n",
              "<p>5 rows × 27 columns</p>\n",
              "</div>\n",
              "      <button class=\"colab-df-convert\" onclick=\"convertToInteractive('df-657fc598-b5cd-4636-9ad1-395c91ce0aba')\"\n",
              "              title=\"Convert this dataframe to an interactive table.\"\n",
              "              style=\"display:none;\">\n",
              "        \n",
              "  <svg xmlns=\"http://www.w3.org/2000/svg\" height=\"24px\"viewBox=\"0 0 24 24\"\n",
              "       width=\"24px\">\n",
              "    <path d=\"M0 0h24v24H0V0z\" fill=\"none\"/>\n",
              "    <path d=\"M18.56 5.44l.94 2.06.94-2.06 2.06-.94-2.06-.94-.94-2.06-.94 2.06-2.06.94zm-11 1L8.5 8.5l.94-2.06 2.06-.94-2.06-.94L8.5 2.5l-.94 2.06-2.06.94zm10 10l.94 2.06.94-2.06 2.06-.94-2.06-.94-.94-2.06-.94 2.06-2.06.94z\"/><path d=\"M17.41 7.96l-1.37-1.37c-.4-.4-.92-.59-1.43-.59-.52 0-1.04.2-1.43.59L10.3 9.45l-7.72 7.72c-.78.78-.78 2.05 0 2.83L4 21.41c.39.39.9.59 1.41.59.51 0 1.02-.2 1.41-.59l7.78-7.78 2.81-2.81c.8-.78.8-2.07 0-2.86zM5.41 20L4 18.59l7.72-7.72 1.47 1.35L5.41 20z\"/>\n",
              "  </svg>\n",
              "      </button>\n",
              "      \n",
              "  <style>\n",
              "    .colab-df-container {\n",
              "      display:flex;\n",
              "      flex-wrap:wrap;\n",
              "      gap: 12px;\n",
              "    }\n",
              "\n",
              "    .colab-df-convert {\n",
              "      background-color: #E8F0FE;\n",
              "      border: none;\n",
              "      border-radius: 50%;\n",
              "      cursor: pointer;\n",
              "      display: none;\n",
              "      fill: #1967D2;\n",
              "      height: 32px;\n",
              "      padding: 0 0 0 0;\n",
              "      width: 32px;\n",
              "    }\n",
              "\n",
              "    .colab-df-convert:hover {\n",
              "      background-color: #E2EBFA;\n",
              "      box-shadow: 0px 1px 2px rgba(60, 64, 67, 0.3), 0px 1px 3px 1px rgba(60, 64, 67, 0.15);\n",
              "      fill: #174EA6;\n",
              "    }\n",
              "\n",
              "    [theme=dark] .colab-df-convert {\n",
              "      background-color: #3B4455;\n",
              "      fill: #D2E3FC;\n",
              "    }\n",
              "\n",
              "    [theme=dark] .colab-df-convert:hover {\n",
              "      background-color: #434B5C;\n",
              "      box-shadow: 0px 1px 3px 1px rgba(0, 0, 0, 0.15);\n",
              "      filter: drop-shadow(0px 1px 2px rgba(0, 0, 0, 0.3));\n",
              "      fill: #FFFFFF;\n",
              "    }\n",
              "  </style>\n",
              "\n",
              "      <script>\n",
              "        const buttonEl =\n",
              "          document.querySelector('#df-657fc598-b5cd-4636-9ad1-395c91ce0aba button.colab-df-convert');\n",
              "        buttonEl.style.display =\n",
              "          google.colab.kernel.accessAllowed ? 'block' : 'none';\n",
              "\n",
              "        async function convertToInteractive(key) {\n",
              "          const element = document.querySelector('#df-657fc598-b5cd-4636-9ad1-395c91ce0aba');\n",
              "          const dataTable =\n",
              "            await google.colab.kernel.invokeFunction('convertToInteractive',\n",
              "                                                     [key], {});\n",
              "          if (!dataTable) return;\n",
              "\n",
              "          const docLinkHtml = 'Like what you see? Visit the ' +\n",
              "            '<a target=\"_blank\" href=https://colab.research.google.com/notebooks/data_table.ipynb>data table notebook</a>'\n",
              "            + ' to learn more about interactive tables.';\n",
              "          element.innerHTML = '';\n",
              "          dataTable['output_type'] = 'display_data';\n",
              "          await google.colab.output.renderOutput(dataTable, element);\n",
              "          const docLink = document.createElement('div');\n",
              "          docLink.innerHTML = docLinkHtml;\n",
              "          element.appendChild(docLink);\n",
              "        }\n",
              "      </script>\n",
              "    </div>\n",
              "  </div>\n",
              "  "
            ],
            "text/plain": [
              "         date  beras  beras_kualitas_bawah_i  beras_kualitas_bawah_ii  \\\n",
              "0  2017-01-08  11200                   10150                     9650   \n",
              "1  2017-01-11  11400                   10350                     9900   \n",
              "2  2017-01-12  10700                    9650                     8500   \n",
              "3  2017-02-08  11200                   10150                     9650   \n",
              "4  2017-02-10  11400                   10250                     9850   \n",
              "\n",
              "   beras_kualitas_medium_i  beras_kualitas_medium_ii  beras_kualitas_super_i  \\\n",
              "0                    11250                     11150                   12750   \n",
              "1                    11500                     11300                   12900   \n",
              "2                    11200                     10950                   12250   \n",
              "3                    11250                     11150                   12750   \n",
              "4                    11400                     11250                   12850   \n",
              "\n",
              "   beras_kualitas_super_ii  daging_ayam_ras_segar  daging_sapi_kualitas_1  \\\n",
              "0                    12250                  34100                  118400   \n",
              "1                    12350                  30350                  117000   \n",
              "2                    11850                  29350                  115800   \n",
              "3                    12250                  34150                  118400   \n",
              "4                    12350                  30200                  118400   \n",
              "\n",
              "   ...  cabai_rawit  cabai_rawit_hijau  cabai_rawit_merah  minyak_goreng  \\\n",
              "0  ...        41050              34800              47550          13950   \n",
              "1  ...        30000              30000              30450          13900   \n",
              "2  ...        33300              31500              35050          14000   \n",
              "3  ...        40600              34600              46650          13950   \n",
              "4  ...        31850              32550              31550          14000   \n",
              "\n",
              "   minyak_goreng_curah  minyak_goreng_kemasan_bermerk_1  \\\n",
              "0                12250                            15050   \n",
              "1                12250                            14950   \n",
              "2                12150                            15400   \n",
              "3                12250                            15050   \n",
              "4                12350                            15000   \n",
              "\n",
              "   minyak_goreng_kemasan_bermerk_2  gula_pasir  gula_pasir_kualitas_premium  \\\n",
              "0                            14350       14900                        16800   \n",
              "1                            14300       14500                        16550   \n",
              "2                            14400       14800                        16650   \n",
              "3                            14350       14900                        16800   \n",
              "4                            14350       14700                        16750   \n",
              "\n",
              "   gula_pasir_lokal  \n",
              "0             13250  \n",
              "1             12900  \n",
              "2             12950  \n",
              "3             13250  \n",
              "4             12950  \n",
              "\n",
              "[5 rows x 27 columns]"
            ]
          },
          "execution_count": 4,
          "metadata": {},
          "output_type": "execute_result"
        }
      ],
      "source": [
        "dataset = pd.read_csv('data_pangan.csv')\n",
        "dataset.head()"
      ]
    },
    {
      "cell_type": "code",
      "execution_count": null,
      "metadata": {
        "id": "aeTd0tXn1Qcz"
      },
      "outputs": [],
      "source": [
        "dataset['date'] = pd.to_datetime(dataset['date'])"
      ]
    },
    {
      "cell_type": "code",
      "execution_count": null,
      "metadata": {
        "id": "07Rwk6IslXw4"
      },
      "outputs": [],
      "source": [
        "dataset = dataset.set_index('date')\n",
        "dataset = dataset.sort_index()\n",
        "train = dataset.minyak_goreng_kemasan_bermerk_2.values\n",
        "date = dataset.index"
      ]
    },
    {
      "cell_type": "markdown",
      "metadata": {
        "id": "xCDBtHFbpIBv"
      },
      "source": [
        "## Train test val split"
      ]
    },
    {
      "cell_type": "code",
      "execution_count": null,
      "metadata": {
        "colab": {
          "base_uri": "https://localhost:8080/"
        },
        "id": "TA-1Sk7zlaEq",
        "outputId": "dcf79ebf-1ffd-4983-e144-a14f35c0c23e"
      },
      "outputs": [
        {
          "name": "stdout",
          "output_type": "stream",
          "text": [
            "818\n",
            "234\n"
          ]
        }
      ],
      "source": [
        "x_train, x_test, y_train, y_test = train_test_split(train, date, test_size=0.2, random_state=False, shuffle=False)\n",
        "x_train, x_val, y_train, y_val = train_test_split(x_train, y_train, test_size=0.125, random_state=False, shuffle=False) # 0.125 x 0.48 = 0.1\n",
        "\n",
        "print(f'{len(x_train)}\\n{len(x_test)}')"
      ]
    },
    {
      "cell_type": "code",
      "execution_count": null,
      "metadata": {
        "colab": {
          "base_uri": "https://localhost:8080/"
        },
        "id": "ltLfX1E10eDf",
        "outputId": "99d29364-6e03-4bc3-c6ae-655a07e2d544"
      },
      "outputs": [
        {
          "data": {
            "image/png": "[encoded data removed]",
            "text/plain": [
              "<Figure size 720x360 with 1 Axes>"
            ]
          },
          "metadata": {},
          "output_type": "display_data"
        }
      ],
      "source": [
        "plt.figure(figsize=(10, 5))\n",
        "plt.plot(y_train, x_train)\n",
        "plt.plot(y_test, x_test)\n",
        "plt.plot(y_val, x_val)\n",
        "plt.show()"
      ]
    },
    {
      "cell_type": "markdown",
      "metadata": {
        "id": "Ri3zY2EPpKlm"
      },
      "source": [
        "## data generate"
      ]
    },
    {
      "cell_type": "code",
      "execution_count": null,
      "metadata": {
        "id": "bUB9cl3TlbgQ"
      },
      "outputs": [],
      "source": [
        "scal_range= MinMaxScaler(feature_range=(0,1))\n",
        "train_scal = scal_range.fit_transform(x_train.reshape(-1, 1))\n",
        "test_scal = scal_range.fit_transform(x_test.reshape(-1, 1))\n",
        "val_scal = scal_range.fit_transform(x_val.reshape(-1, 1))\n",
        "train_step = time_step_generator(train_scal, time_size=600, shuffle_data=100, batch_size=5)\n",
        "val_step = time_step_generator(val_scal, time_size=80, shuffle_data=100, batch_size=20)\n",
        "test_step = time_step_generator(test_scal, time_size=150, shuffle_data=1000, batch_size=5)\n",
        "\n",
        "train_step1 = time_step_generator(train_scal, time_size=100, shuffle_data=100, batch_size=1)\n",
        "val_step1 = time_step_generator(val_scal, time_size=1, shuffle_data=10, batch_size=1)\n",
        "test_step1 = time_step_generator(test_scal, time_size=10, shuffle_data=100, batch_size=1)\n",
        "\n",
        "train_step2 = time_step_generator(train_scal, time_size=400, shuffle_data=1000, batch_size=5)\n",
        "val_step2 = time_step_generator(val_scal, time_size=50, shuffle_data=100, batch_size=2)\n",
        "test_step2 = time_step_generator(test_scal, time_size=100, shuffle_data=1000, batch_size=5)"
      ]
    },
    {
      "cell_type": "code",
      "execution_count": null,
      "metadata": {
        "id": "HgBHGaAgiA9v"
      },
      "outputs": [],
      "source": [
        "forecast = np.append(x_train, x_test)\n",
        "forecast_date = np.append(y_train, y_test)\n",
        "win_size= 400\n",
        "win_size1 = 60\n",
        "win_size2=150\n",
        "test_minyakgoreng2_ = scal_range.fit_transform(forecast.reshape(-1, 1))"
      ]
    },
    {
      "cell_type": "markdown",
      "metadata": {
        "id": "4CqjOaEfvmfl"
      },
      "source": [
        "## model "
      ]
    },
    {
      "cell_type": "markdown",
      "metadata": {
        "id": "iD5G_VEIwccP"
      },
      "source": [
        "### SGD"
      ]
    },
    {
      "cell_type": "code",
      "execution_count": null,
      "metadata": {
        "colab": {
          "base_uri": "https://localhost:8080/"
        },
        "id": "m1wKjfvmlefX",
        "outputId": "54325323-dbb0-4bc2-ab52-21453b35f519"
      },
      "outputs": [
        {
          "name": "stdout",
          "output_type": "stream",
          "text": [
            "Model: \"sequential\"\n",
            "_________________________________________________________________\n",
            " Layer (type)                Output Shape              Param #   \n",
            "=================================================================\n",
            " conv1d (Conv1D)             (None, None, 16)          48        \n",
            "                                                                 \n",
            " lstm (LSTM)                 (None, None, 24)          3936      \n",
            "                                                                 \n",
            " lstm_1 (LSTM)               (None, 20)                3600      \n",
            "                                                                 \n",
            " dense (Dense)               (None, 64)                1344      \n",
            "                                                                 \n",
            " dense_1 (Dense)             (None, 1)                 65        \n",
            "                                                                 \n",
            "=================================================================\n",
            "Total params: 8,993\n",
            "Trainable params: 8,993\n",
            "Non-trainable params: 0\n",
            "_________________________________________________________________\n"
          ]
        }
      ],
      "source": [
        "model= Sequential([\n",
        "    Conv1D(16, kernel_size=2, activation='relu',padding='causal', strides=2, input_shape=[None, 1]),\n",
        "    LSTM(24, return_sequences=True),\n",
        "    LSTM(20),\n",
        "    Dense(64, activation='relu'),\n",
        "    Dense(1)\n",
        "])\n",
        "\n",
        "model.compile(optimizer=tf.keras.optimizers.SGD(learning_rate=1e-4, momentum=0.9), loss='mse', metrics=['mae', 'mape'])\n",
        "model.summary()"
      ]
    },
    {
      "cell_type": "code",
      "execution_count": null,
      "metadata": {
        "id": "Pqu0EOtuDHNf"
      },
      "outputs": [],
      "source": [
        "# plot_model(model, to_file='model1_plot.png', show_shapes=True, show_layer_names=True)"
      ]
    },
    {
      "cell_type": "markdown",
      "metadata": {
        "id": "vrzQSiCc74XU"
      },
      "source": [
        "#### type1"
      ]
    },
    {
      "cell_type": "code",
      "execution_count": null,
      "metadata": {
        "colab": {
          "background_save": true,
          "base_uri": "https://localhost:8080/"
        },
        "id": "xr3zZeEDlemj",
        "outputId": "13d7c199-0446-452c-a579-10b34066bfeb"
      },
      "outputs": [
        {
          "name": "stdout",
          "output_type": "stream",
          "text": [
            "Epoch 1/30\n",
            "44/44 [==============================] - 28s 434ms/step - loss: 0.0652 - mae: 0.2439 - mape: 91.6436 - val_loss: 0.0547 - val_mae: 0.1901 - val_mape: 74.2410\n",
            "Epoch 2/30\n",
            "44/44 [==============================] - 8s 188ms/step - loss: 0.0393 - mae: 0.1835 - mape: 66.9350 - val_loss: 0.0362 - val_mae: 0.1329 - val_mape: 45.9997\n",
            "Epoch 3/30\n",
            "44/44 [==============================] - 8s 186ms/step - loss: 0.0234 - mae: 0.1341 - mape: 46.9454 - val_loss: 0.0264 - val_mae: 0.0969 - val_mape: 30.7161\n",
            "Epoch 4/30\n",
            "44/44 [==============================] - 8s 187ms/step - loss: 0.0146 - mae: 0.0982 - mape: 33.3926 - val_loss: 0.0217 - val_mae: 0.0790 - val_mape: 25.4191\n",
            "Epoch 5/30\n",
            "44/44 [==============================] - 8s 181ms/step - loss: 0.0102 - mae: 0.0749 - mape: 25.0130 - val_loss: 0.0197 - val_mae: 0.0753 - val_mape: 26.2576\n",
            "Epoch 6/30\n",
            "44/44 [==============================] - 8s 186ms/step - loss: 0.0080 - mae: 0.0631 - mape: 21.5264 - val_loss: 0.0189 - val_mae: 0.0800 - val_mape: 30.5572\n",
            "Epoch 7/30\n",
            "44/44 [==============================] - 8s 183ms/step - loss: 0.0069 - mae: 0.0589 - mape: 20.9496 - val_loss: 0.0186 - val_mae: 0.0849 - val_mape: 34.3489\n",
            "Epoch 8/30\n",
            "44/44 [==============================] - 8s 186ms/step - loss: 0.0063 - mae: 0.0574 - mape: 21.2232 - val_loss: 0.0186 - val_mae: 0.0889 - val_mape: 37.1963\n",
            "Epoch 9/30\n",
            "44/44 [==============================] - 8s 181ms/step - loss: 0.0060 - mae: 0.0568 - mape: 21.5605 - val_loss: 0.0187 - val_mae: 0.0920 - val_mape: 39.2797\n",
            "Epoch 10/30\n",
            "44/44 [==============================] - 9s 210ms/step - loss: 0.0059 - mae: 0.0565 - mape: 21.8316 - val_loss: 0.0187 - val_mae: 0.0942 - val_mape: 40.7736\n",
            "Epoch 11/30\n",
            "44/44 [==============================] - 8s 190ms/step - loss: 0.0058 - mae: 0.0568 - mape: 22.2217 - val_loss: 0.0188 - val_mae: 0.0959 - val_mape: 41.9127\n",
            "Epoch 12/30\n",
            "44/44 [==============================] - 8s 189ms/step - loss: 0.0058 - mae: 0.0579 - mape: 23.0154 - val_loss: 0.0189 - val_mae: 0.0979 - val_mape: 43.2206\n",
            "Epoch 13/30\n",
            "44/44 [==============================] - 8s 190ms/step - loss: 0.0058 - mae: 0.0581 - mape: 23.2400 - val_loss: 0.0190 - val_mae: 0.0982 - val_mape: 43.4595\n",
            "Epoch 14/30\n",
            "44/44 [==============================] - 8s 188ms/step - loss: 0.0058 - mae: 0.0584 - mape: 23.4196 - val_loss: 0.0190 - val_mae: 0.0989 - val_mape: 43.9480\n",
            "Epoch 15/30\n",
            "44/44 [==============================] - 8s 185ms/step - loss: 0.0058 - mae: 0.0587 - mape: 23.6314 - val_loss: 0.0190 - val_mae: 0.0990 - val_mape: 44.0077\n",
            "Epoch 16/30\n",
            "44/44 [==============================] - 8s 188ms/step - loss: 0.0058 - mae: 0.0588 - mape: 23.6762 - val_loss: 0.0190 - val_mae: 0.0993 - val_mape: 44.1785\n",
            "Epoch 17/30\n",
            "44/44 [==============================] - 8s 185ms/step - loss: 0.0057 - mae: 0.0589 - mape: 23.8235 - val_loss: 0.0191 - val_mae: 0.0999 - val_mape: 44.5770\n",
            "Epoch 18/30\n",
            "44/44 [==============================] - 8s 186ms/step - loss: 0.0057 - mae: 0.0590 - mape: 23.9181 - val_loss: 0.0191 - val_mae: 0.1001 - val_mape: 44.7568\n",
            "Epoch 19/30\n",
            "44/44 [==============================] - 8s 184ms/step - loss: 0.0057 - mae: 0.0591 - mape: 23.9586 - val_loss: 0.0191 - val_mae: 0.1002 - val_mape: 44.7913\n",
            "Epoch 20/30\n",
            "44/44 [==============================] - 8s 184ms/step - loss: 0.0057 - mae: 0.0591 - mape: 23.9374 - val_loss: 0.0191 - val_mae: 0.1000 - val_mape: 44.6395\n",
            "Epoch 21/30\n",
            "44/44 [==============================] - 8s 187ms/step - loss: 0.0057 - mae: 0.0591 - mape: 23.9385 - val_loss: 0.0191 - val_mae: 0.1001 - val_mape: 44.7240\n",
            "Epoch 22/30\n",
            "44/44 [==============================] - 8s 184ms/step - loss: 0.0057 - mae: 0.0591 - mape: 23.9573 - val_loss: 0.0191 - val_mae: 0.1000 - val_mape: 44.6448\n",
            "Epoch 23/30\n",
            "44/44 [==============================] - 8s 186ms/step - loss: 0.0057 - mae: 0.0591 - mape: 23.9462 - val_loss: 0.0191 - val_mae: 0.1003 - val_mape: 44.8656\n",
            "Epoch 24/30\n",
            "44/44 [==============================] - 8s 183ms/step - loss: 0.0057 - mae: 0.0592 - mape: 24.0178 - val_loss: 0.0191 - val_mae: 0.1003 - val_mape: 44.8435\n",
            "Epoch 25/30\n",
            "44/44 [==============================] - 8s 183ms/step - loss: 0.0057 - mae: 0.0591 - mape: 23.9279 - val_loss: 0.0191 - val_mae: 0.1001 - val_mape: 44.7553\n",
            "Epoch 26/30\n",
            "44/44 [==============================] - 8s 188ms/step - loss: 0.0057 - mae: 0.0591 - mape: 23.9633 - val_loss: 0.0191 - val_mae: 0.1003 - val_mape: 44.8556\n",
            "Epoch 27/30\n",
            "44/44 [==============================] - 8s 182ms/step - loss: 0.0057 - mae: 0.0592 - mape: 24.0502 - val_loss: 0.0191 - val_mae: 0.1006 - val_mape: 45.0447\n",
            "Epoch 28/30\n",
            "44/44 [==============================] - 8s 184ms/step - loss: 0.0057 - mae: 0.0592 - mape: 24.0184 - val_loss: 0.0191 - val_mae: 0.1004 - val_mape: 44.8949\n",
            "Epoch 29/30\n",
            "44/44 [==============================] - 8s 184ms/step - loss: 0.0057 - mae: 0.0591 - mape: 23.9731 - val_loss: 0.0191 - val_mae: 0.1004 - val_mape: 44.9138\n",
            "Epoch 30/30\n",
            "44/44 [==============================] - 8s 184ms/step - loss: 0.0057 - mae: 0.0591 - mape: 23.9561 - val_loss: 0.0191 - val_mae: 0.1004 - val_mape: 44.8960\n"
          ]
        }
      ],
      "source": [
        "history = model.fit(train_step, epochs=30, validation_data=val_step)"
      ]
    },
    {
      "cell_type": "code",
      "execution_count": null,
      "metadata": {
        "colab": {
          "background_save": true
        },
        "id": "a7PMoCFOlizG",
        "outputId": "d8ad329b-75ac-4c83-e785-19763bb73f42"
      },
      "outputs": [
        {
          "data": {
            "image/png": "[encoded data removed]",
            "text/plain": [
              "<Figure size 432x288 with 1 Axes>"
            ]
          },
          "metadata": {},
          "output_type": "display_data"
        }
      ],
      "source": [
        "mae = history.history['mae']\n",
        "val_mae = history.history['val_mae']\n",
        "epoch = range(len(mae))\n",
        "\n",
        "plt.title('model 1 SGD type1')\n",
        "plt.plot(epoch, mae, label='mae')\n",
        "plt.plot(epoch, val_mae, label='val mae')\n",
        "plt.legend()\n",
        "plt.show()"
      ]
    },
    {
      "cell_type": "code",
      "execution_count": null,
      "metadata": {
        "colab": {
          "background_save": true
        },
        "id": "NRTmwwp3lkkA",
        "outputId": "6e3f25d9-1c53-4d12-97bd-d6652dae5e9e"
      },
      "outputs": [
        {
          "name": "stdout",
          "output_type": "stream",
          "text": [
            "131/131 [==============================] - 4s 24ms/step\n",
            "2538.7644 12.682803 3459.213783506304\n"
          ]
        },
        {
          "data": {
            "text/html": [
              "\n",
              "  <div id=\"df-d3ae5929-9a42-4adb-b225-118d6963eb1b\">\n",
              "    <div class=\"colab-df-container\">\n",
              "      <div>\n",
              "<style scoped>\n",
              "    .dataframe tbody tr th:only-of-type {\n",
              "        vertical-align: middle;\n",
              "    }\n",
              "\n",
              "    .dataframe tbody tr th {\n",
              "        vertical-align: top;\n",
              "    }\n",
              "\n",
              "    .dataframe thead th {\n",
              "        text-align: right;\n",
              "    }\n",
              "</style>\n",
              "<table border=\"1\" class=\"dataframe\">\n",
              "  <thead>\n",
              "    <tr style=\"text-align: right;\">\n",
              "      <th></th>\n",
              "      <th>date</th>\n",
              "      <th>actual</th>\n",
              "      <th>prediction</th>\n",
              "    </tr>\n",
              "  </thead>\n",
              "  <tbody>\n",
              "    <tr>\n",
              "      <th>0</th>\n",
              "      <td>2021-05-20</td>\n",
              "      <td>15100</td>\n",
              "      <td>16565.015625</td>\n",
              "    </tr>\n",
              "    <tr>\n",
              "      <th>1</th>\n",
              "      <td>2021-05-21</td>\n",
              "      <td>15100</td>\n",
              "      <td>16567.146484</td>\n",
              "    </tr>\n",
              "    <tr>\n",
              "      <th>2</th>\n",
              "      <td>2021-05-24</td>\n",
              "      <td>15150</td>\n",
              "      <td>16568.921875</td>\n",
              "    </tr>\n",
              "    <tr>\n",
              "      <th>3</th>\n",
              "      <td>2021-05-25</td>\n",
              "      <td>15150</td>\n",
              "      <td>16572.896484</td>\n",
              "    </tr>\n",
              "    <tr>\n",
              "      <th>4</th>\n",
              "      <td>2021-05-27</td>\n",
              "      <td>15150</td>\n",
              "      <td>16575.380859</td>\n",
              "    </tr>\n",
              "    <tr>\n",
              "      <th>...</th>\n",
              "      <td>...</td>\n",
              "      <td>...</td>\n",
              "      <td>...</td>\n",
              "    </tr>\n",
              "    <tr>\n",
              "      <th>229</th>\n",
              "      <td>2022-11-02</td>\n",
              "      <td>18400</td>\n",
              "      <td>16702.041016</td>\n",
              "    </tr>\n",
              "    <tr>\n",
              "      <th>230</th>\n",
              "      <td>2022-11-03</td>\n",
              "      <td>19550</td>\n",
              "      <td>16783.923828</td>\n",
              "    </tr>\n",
              "    <tr>\n",
              "      <th>231</th>\n",
              "      <td>2022-11-04</td>\n",
              "      <td>25550</td>\n",
              "      <td>16699.246094</td>\n",
              "    </tr>\n",
              "    <tr>\n",
              "      <th>232</th>\n",
              "      <td>2022-12-01</td>\n",
              "      <td>20400</td>\n",
              "      <td>16776.228516</td>\n",
              "    </tr>\n",
              "    <tr>\n",
              "      <th>233</th>\n",
              "      <td>2022-12-04</td>\n",
              "      <td>25450</td>\n",
              "      <td>16699.154297</td>\n",
              "    </tr>\n",
              "  </tbody>\n",
              "</table>\n",
              "<p>234 rows × 3 columns</p>\n",
              "</div>\n",
              "      <button class=\"colab-df-convert\" onclick=\"convertToInteractive('df-d3ae5929-9a42-4adb-b225-118d6963eb1b')\"\n",
              "              title=\"Convert this dataframe to an interactive table.\"\n",
              "              style=\"display:none;\">\n",
              "        \n",
              "  <svg xmlns=\"http://www.w3.org/2000/svg\" height=\"24px\"viewBox=\"0 0 24 24\"\n",
              "       width=\"24px\">\n",
              "    <path d=\"M0 0h24v24H0V0z\" fill=\"none\"/>\n",
              "    <path d=\"M18.56 5.44l.94 2.06.94-2.06 2.06-.94-2.06-.94-.94-2.06-.94 2.06-2.06.94zm-11 1L8.5 8.5l.94-2.06 2.06-.94-2.06-.94L8.5 2.5l-.94 2.06-2.06.94zm10 10l.94 2.06.94-2.06 2.06-.94-2.06-.94-.94-2.06-.94 2.06-2.06.94z\"/><path d=\"M17.41 7.96l-1.37-1.37c-.4-.4-.92-.59-1.43-.59-.52 0-1.04.2-1.43.59L10.3 9.45l-7.72 7.72c-.78.78-.78 2.05 0 2.83L4 21.41c.39.39.9.59 1.41.59.51 0 1.02-.2 1.41-.59l7.78-7.78 2.81-2.81c.8-.78.8-2.07 0-2.86zM5.41 20L4 18.59l7.72-7.72 1.47 1.35L5.41 20z\"/>\n",
              "  </svg>\n",
              "      </button>\n",
              "      \n",
              "  <style>\n",
              "    .colab-df-container {\n",
              "      display:flex;\n",
              "      flex-wrap:wrap;\n",
              "      gap: 12px;\n",
              "    }\n",
              "\n",
              "    .colab-df-convert {\n",
              "      background-color: #E8F0FE;\n",
              "      border: none;\n",
              "      border-radius: 50%;\n",
              "      cursor: pointer;\n",
              "      display: none;\n",
              "      fill: #1967D2;\n",
              "      height: 32px;\n",
              "      padding: 0 0 0 0;\n",
              "      width: 32px;\n",
              "    }\n",
              "\n",
              "    .colab-df-convert:hover {\n",
              "      background-color: #E2EBFA;\n",
              "      box-shadow: 0px 1px 2px rgba(60, 64, 67, 0.3), 0px 1px 3px 1px rgba(60, 64, 67, 0.15);\n",
              "      fill: #174EA6;\n",
              "    }\n",
              "\n",
              "    [theme=dark] .colab-df-convert {\n",
              "      background-color: #3B4455;\n",
              "      fill: #D2E3FC;\n",
              "    }\n",
              "\n",
              "    [theme=dark] .colab-df-convert:hover {\n",
              "      background-color: #434B5C;\n",
              "      box-shadow: 0px 1px 3px 1px rgba(0, 0, 0, 0.15);\n",
              "      filter: drop-shadow(0px 1px 2px rgba(0, 0, 0, 0.3));\n",
              "      fill: #FFFFFF;\n",
              "    }\n",
              "  </style>\n",
              "\n",
              "      <script>\n",
              "        const buttonEl =\n",
              "          document.querySelector('#df-d3ae5929-9a42-4adb-b225-118d6963eb1b button.colab-df-convert');\n",
              "        buttonEl.style.display =\n",
              "          google.colab.kernel.accessAllowed ? 'block' : 'none';\n",
              "\n",
              "        async function convertToInteractive(key) {\n",
              "          const element = document.querySelector('#df-d3ae5929-9a42-4adb-b225-118d6963eb1b');\n",
              "          const dataTable =\n",
              "            await google.colab.kernel.invokeFunction('convertToInteractive',\n",
              "                                                     [key], {});\n",
              "          if (!dataTable) return;\n",
              "\n",
              "          const docLinkHtml = 'Like what you see? Visit the ' +\n",
              "            '<a target=\"_blank\" href=https://colab.research.google.com/notebooks/data_table.ipynb>data table notebook</a>'\n",
              "            + ' to learn more about interactive tables.';\n",
              "          element.innerHTML = '';\n",
              "          dataTable['output_type'] = 'display_data';\n",
              "          await google.colab.output.renderOutput(dataTable, element);\n",
              "          const docLink = document.createElement('div');\n",
              "          docLink.innerHTML = docLinkHtml;\n",
              "          element.appendChild(docLink);\n",
              "        }\n",
              "      </script>\n",
              "    </div>\n",
              "  </div>\n",
              "  "
            ],
            "text/plain": [
              "          date  actual    prediction\n",
              "0   2021-05-20   15100  16565.015625\n",
              "1   2021-05-21   15100  16567.146484\n",
              "2   2021-05-24   15150  16568.921875\n",
              "3   2021-05-25   15150  16572.896484\n",
              "4   2021-05-27   15150  16575.380859\n",
              "..         ...     ...           ...\n",
              "229 2022-11-02   18400  16702.041016\n",
              "230 2022-11-03   19550  16783.923828\n",
              "231 2022-11-04   25550  16699.246094\n",
              "232 2022-12-01   20400  16776.228516\n",
              "233 2022-12-04   25450  16699.154297\n",
              "\n",
              "[234 rows x 3 columns]"
            ]
          },
          "execution_count": 15,
          "metadata": {},
          "output_type": "execute_result"
        },
        {
          "data": {
            "image/png": "[encoded data removed]",
            "text/plain": [
              "<Figure size 720x360 with 1 Axes>"
            ]
          },
          "metadata": {},
          "output_type": "display_data"
        }
      ],
      "source": [
        "prediction = forecast_predict(model, test_minyakgoreng2_, time_size=win_size, batch_size=5)\n",
        "\n",
        "data_result = prediction[(len(x_train))-win_size:-1, -1 ]\n",
        "data_result = scal_range.inverse_transform(data_result.reshape(-1, 1))\n",
        "data_result = data_result.reshape(-1)\n",
        "mae= tf.keras.metrics.mean_absolute_error(x_test, data_result)\n",
        "mape = tf.keras.metrics.mean_absolute_percentage_error(x_test, data_result)\n",
        "mse = tf.keras.metrics.mean_squared_error(x_test, data_result)\n",
        "\n",
        "rmse =math.sqrt(mse.numpy())\n",
        "print(mae.numpy(), mape.numpy(), rmse)\n",
        "\n",
        "data_new_minyakgoreng2 = pd.DataFrame()\n",
        "data_new_minyakgoreng2['date'] = y_test\n",
        "data_new_minyakgoreng2['actual'] = x_test\n",
        "data_new_minyakgoreng2['prediction'] = data_result\n",
        "data_new_minyakgoreng2.to_csv('minyakgoreng2_model1_sgd_type1.csv')\n",
        "\n",
        "plt.figure(figsize=(10, 5))\n",
        "plt.plot(data_new_minyakgoreng2.date, data_new_minyakgoreng2.actual)\n",
        "plt.plot(data_new_minyakgoreng2.date, data_new_minyakgoreng2.prediction)\n",
        "data_new_minyakgoreng2"
      ]
    },
    {
      "cell_type": "markdown",
      "metadata": {
        "id": "oIhrempu78A9"
      },
      "source": [
        "#### type2"
      ]
    },
    {
      "cell_type": "code",
      "execution_count": null,
      "metadata": {
        "colab": {
          "background_save": true
        },
        "id": "zvkrU0IO780i",
        "outputId": "9fe51f28-b77b-4b62-af89-11e82ff2ade3"
      },
      "outputs": [
        {
          "name": "stdout",
          "output_type": "stream",
          "text": [
            "Epoch 1/30\n",
            "718/718 [==============================] - 26s 36ms/step - loss: 0.0101 - mae: 0.0799 - mape: 422590.4062 - val_loss: 0.0187 - val_mae: 0.0839 - val_mape: 33.6041\n",
            "Epoch 2/30\n",
            "718/718 [==============================] - 25s 34ms/step - loss: 0.0098 - mae: 0.0793 - mape: 394391.5625 - val_loss: 0.0187 - val_mae: 0.0851 - val_mape: 34.4442\n",
            "Epoch 3/30\n",
            "718/718 [==============================] - 25s 35ms/step - loss: 0.0096 - mae: 0.0780 - mape: 413836.0312 - val_loss: 0.0188 - val_mae: 0.0833 - val_mape: 33.0583\n",
            "Epoch 4/30\n",
            "718/718 [==============================] - 25s 35ms/step - loss: 0.0094 - mae: 0.0778 - mape: 468664.5938 - val_loss: 0.0188 - val_mae: 0.0837 - val_mape: 33.3086\n",
            "Epoch 5/30\n",
            "718/718 [==============================] - 25s 35ms/step - loss: 0.0088 - mae: 0.0737 - mape: 404428.0312 - val_loss: 0.0188 - val_mae: 0.0852 - val_mape: 34.3939\n",
            "Epoch 6/30\n",
            "718/718 [==============================] - 27s 37ms/step - loss: 0.0086 - mae: 0.0729 - mape: 461831.3438 - val_loss: 0.0188 - val_mae: 0.0869 - val_mape: 35.6237\n",
            "Epoch 7/30\n",
            "718/718 [==============================] - 25s 34ms/step - loss: 0.0084 - mae: 0.0715 - mape: 348488.4062 - val_loss: 0.0188 - val_mae: 0.0855 - val_mape: 34.5989\n",
            "Epoch 8/30\n",
            "718/718 [==============================] - 25s 35ms/step - loss: 0.0082 - mae: 0.0705 - mape: 433607.1250 - val_loss: 0.0188 - val_mae: 0.0874 - val_mape: 35.9945\n",
            "Epoch 9/30\n",
            "718/718 [==============================] - 26s 36ms/step - loss: 0.0079 - mae: 0.0685 - mape: 340723.0625 - val_loss: 0.0188 - val_mae: 0.0876 - val_mape: 36.1030\n",
            "Epoch 10/30\n",
            "718/718 [==============================] - 25s 35ms/step - loss: 0.0076 - mae: 0.0670 - mape: 357334.6562 - val_loss: 0.0189 - val_mae: 0.0879 - val_mape: 36.3083\n",
            "Epoch 11/30\n",
            "718/718 [==============================] - 25s 35ms/step - loss: 0.0071 - mae: 0.0629 - mape: 310779.7812 - val_loss: 0.0189 - val_mae: 0.0927 - val_mape: 39.5192\n",
            "Epoch 12/30\n",
            "718/718 [==============================] - 25s 35ms/step - loss: 0.0070 - mae: 0.0626 - mape: 400276.1562 - val_loss: 0.0189 - val_mae: 0.0916 - val_mape: 38.8081\n",
            "Epoch 13/30\n",
            "718/718 [==============================] - 26s 36ms/step - loss: 0.0068 - mae: 0.0605 - mape: 321240.5938 - val_loss: 0.0190 - val_mae: 0.0915 - val_mape: 38.7258\n",
            "Epoch 14/30\n",
            "718/718 [==============================] - 25s 35ms/step - loss: 0.0066 - mae: 0.0597 - mape: 296943.0938 - val_loss: 0.0190 - val_mae: 0.0911 - val_mape: 38.3879\n",
            "Epoch 15/30\n",
            "718/718 [==============================] - 25s 35ms/step - loss: 0.0064 - mae: 0.0582 - mape: 305304.2188 - val_loss: 0.0191 - val_mae: 0.0938 - val_mape: 40.2180\n",
            "Epoch 16/30\n",
            "718/718 [==============================] - 25s 35ms/step - loss: 0.0062 - mae: 0.0568 - mape: 265048.8750 - val_loss: 0.0190 - val_mae: 0.0914 - val_mape: 38.6221\n",
            "Epoch 17/30\n",
            "718/718 [==============================] - 25s 35ms/step - loss: 0.0061 - mae: 0.0552 - mape: 282909.4688 - val_loss: 0.0191 - val_mae: 0.0927 - val_mape: 39.4270\n",
            "Epoch 18/30\n",
            "718/718 [==============================] - 26s 37ms/step - loss: 0.0060 - mae: 0.0557 - mape: 329627.7500 - val_loss: 0.0191 - val_mae: 0.0932 - val_mape: 39.7653\n",
            "Epoch 19/30\n",
            "718/718 [==============================] - 26s 36ms/step - loss: 0.0059 - mae: 0.0547 - mape: 292057.8438 - val_loss: 0.0192 - val_mae: 0.0949 - val_mape: 40.8796\n",
            "Epoch 20/30\n",
            "718/718 [==============================] - 25s 35ms/step - loss: 0.0057 - mae: 0.0519 - mape: 235703.6719 - val_loss: 0.0192 - val_mae: 0.0955 - val_mape: 41.3062\n",
            "Epoch 21/30\n",
            "718/718 [==============================] - 26s 36ms/step - loss: 0.0055 - mae: 0.0499 - mape: 243402.4219 - val_loss: 0.0193 - val_mae: 0.0971 - val_mape: 42.3506\n",
            "Epoch 22/30\n",
            "718/718 [==============================] - 25s 35ms/step - loss: 0.0055 - mae: 0.0499 - mape: 294447.4062 - val_loss: 0.0192 - val_mae: 0.0925 - val_mape: 39.2714\n",
            "Epoch 23/30\n",
            "718/718 [==============================] - 25s 35ms/step - loss: 0.0053 - mae: 0.0499 - mape: 214422.0312 - val_loss: 0.0192 - val_mae: 0.0947 - val_mape: 40.7540\n",
            "Epoch 24/30\n",
            "718/718 [==============================] - 25s 34ms/step - loss: 0.0053 - mae: 0.0494 - mape: 280282.7500 - val_loss: 0.0192 - val_mae: 0.0944 - val_mape: 40.5242\n",
            "Epoch 25/30\n",
            "718/718 [==============================] - 24s 34ms/step - loss: 0.0051 - mae: 0.0479 - mape: 207205.0156 - val_loss: 0.0194 - val_mae: 0.0972 - val_mape: 42.3875\n",
            "Epoch 26/30\n",
            "718/718 [==============================] - 25s 35ms/step - loss: 0.0051 - mae: 0.0470 - mape: 279483.7500 - val_loss: 0.0193 - val_mae: 0.0951 - val_mape: 40.9741\n",
            "Epoch 27/30\n",
            "718/718 [==============================] - 25s 35ms/step - loss: 0.0051 - mae: 0.0468 - mape: 251292.7188 - val_loss: 0.0192 - val_mae: 0.0922 - val_mape: 38.9928\n",
            "Epoch 28/30\n",
            "718/718 [==============================] - 25s 34ms/step - loss: 0.0049 - mae: 0.0455 - mape: 282919.5312 - val_loss: 0.0193 - val_mae: 0.0936 - val_mape: 39.9317\n",
            "Epoch 29/30\n",
            "718/718 [==============================] - 26s 36ms/step - loss: 0.0049 - mae: 0.0456 - mape: 241515.6094 - val_loss: 0.0194 - val_mae: 0.0975 - val_mape: 42.5551\n",
            "Epoch 30/30\n",
            "718/718 [==============================] - 27s 38ms/step - loss: 0.0049 - mae: 0.0451 - mape: 239276.2344 - val_loss: 0.0193 - val_mae: 0.0952 - val_mape: 41.0006\n"
          ]
        }
      ],
      "source": [
        "history_t1 = model.fit(train_step1, epochs=30, validation_data=val_step)"
      ]
    },
    {
      "cell_type": "code",
      "execution_count": null,
      "metadata": {
        "colab": {
          "background_save": true
        },
        "id": "NwCo9fTT78-4",
        "outputId": "93db83d7-ce4a-4d5d-bf29-6d5af3c61d3f"
      },
      "outputs": [
        {
          "data": {
            "image/png": "[encoded data removed]",
            "text/plain": [
              "<Figure size 432x288 with 1 Axes>"
            ]
          },
          "metadata": {},
          "output_type": "display_data"
        }
      ],
      "source": [
        "mae_t1 = history_t1.history['mae']\n",
        "val_mae_t1 = history_t1.history['val_mae']\n",
        "epoch_t1 = range(len(mae_t1))\n",
        "\n",
        "plt.title('model 1 SGD type 2')\n",
        "plt.plot(epoch_t1, mae_t1, label='mae')\n",
        "plt.plot(epoch_t1, val_mae_t1, label='val mae')\n",
        "plt.legend()\n",
        "plt.show()"
      ]
    },
    {
      "cell_type": "code",
      "execution_count": null,
      "metadata": {
        "colab": {
          "background_save": true
        },
        "id": "tdW4TFb079Mj",
        "outputId": "fd6012ea-cf95-48f9-969e-705ae392c195"
      },
      "outputs": [
        {
          "name": "stdout",
          "output_type": "stream",
          "text": [
            "199/199 [==============================] - 2s 8ms/step\n",
            "1726.8046 8.311092 2683.121037150579\n"
          ]
        },
        {
          "data": {
            "text/html": [
              "\n",
              "  <div id=\"df-2ab1aca8-e016-439f-b6c4-6f6ff0c11f2a\">\n",
              "    <div class=\"colab-df-container\">\n",
              "      <div>\n",
              "<style scoped>\n",
              "    .dataframe tbody tr th:only-of-type {\n",
              "        vertical-align: middle;\n",
              "    }\n",
              "\n",
              "    .dataframe tbody tr th {\n",
              "        vertical-align: top;\n",
              "    }\n",
              "\n",
              "    .dataframe thead th {\n",
              "        text-align: right;\n",
              "    }\n",
              "</style>\n",
              "<table border=\"1\" class=\"dataframe\">\n",
              "  <thead>\n",
              "    <tr style=\"text-align: right;\">\n",
              "      <th></th>\n",
              "      <th>date</th>\n",
              "      <th>actual</th>\n",
              "      <th>prediction</th>\n",
              "    </tr>\n",
              "  </thead>\n",
              "  <tbody>\n",
              "    <tr>\n",
              "      <th>0</th>\n",
              "      <td>2021-05-20</td>\n",
              "      <td>15100</td>\n",
              "      <td>16565.015625</td>\n",
              "    </tr>\n",
              "    <tr>\n",
              "      <th>1</th>\n",
              "      <td>2021-05-21</td>\n",
              "      <td>15100</td>\n",
              "      <td>16567.146484</td>\n",
              "    </tr>\n",
              "    <tr>\n",
              "      <th>2</th>\n",
              "      <td>2021-05-24</td>\n",
              "      <td>15150</td>\n",
              "      <td>16568.921875</td>\n",
              "    </tr>\n",
              "    <tr>\n",
              "      <th>3</th>\n",
              "      <td>2021-05-25</td>\n",
              "      <td>15150</td>\n",
              "      <td>16572.896484</td>\n",
              "    </tr>\n",
              "    <tr>\n",
              "      <th>4</th>\n",
              "      <td>2021-05-27</td>\n",
              "      <td>15150</td>\n",
              "      <td>16575.380859</td>\n",
              "    </tr>\n",
              "    <tr>\n",
              "      <th>...</th>\n",
              "      <td>...</td>\n",
              "      <td>...</td>\n",
              "      <td>...</td>\n",
              "    </tr>\n",
              "    <tr>\n",
              "      <th>229</th>\n",
              "      <td>2022-11-02</td>\n",
              "      <td>18400</td>\n",
              "      <td>16702.041016</td>\n",
              "    </tr>\n",
              "    <tr>\n",
              "      <th>230</th>\n",
              "      <td>2022-11-03</td>\n",
              "      <td>19550</td>\n",
              "      <td>16783.923828</td>\n",
              "    </tr>\n",
              "    <tr>\n",
              "      <th>231</th>\n",
              "      <td>2022-11-04</td>\n",
              "      <td>25550</td>\n",
              "      <td>16699.246094</td>\n",
              "    </tr>\n",
              "    <tr>\n",
              "      <th>232</th>\n",
              "      <td>2022-12-01</td>\n",
              "      <td>20400</td>\n",
              "      <td>16776.228516</td>\n",
              "    </tr>\n",
              "    <tr>\n",
              "      <th>233</th>\n",
              "      <td>2022-12-04</td>\n",
              "      <td>25450</td>\n",
              "      <td>16699.154297</td>\n",
              "    </tr>\n",
              "  </tbody>\n",
              "</table>\n",
              "<p>234 rows × 3 columns</p>\n",
              "</div>\n",
              "      <button class=\"colab-df-convert\" onclick=\"convertToInteractive('df-2ab1aca8-e016-439f-b6c4-6f6ff0c11f2a')\"\n",
              "              title=\"Convert this dataframe to an interactive table.\"\n",
              "              style=\"display:none;\">\n",
              "        \n",
              "  <svg xmlns=\"http://www.w3.org/2000/svg\" height=\"24px\"viewBox=\"0 0 24 24\"\n",
              "       width=\"24px\">\n",
              "    <path d=\"M0 0h24v24H0V0z\" fill=\"none\"/>\n",
              "    <path d=\"M18.56 5.44l.94 2.06.94-2.06 2.06-.94-2.06-.94-.94-2.06-.94 2.06-2.06.94zm-11 1L8.5 8.5l.94-2.06 2.06-.94-2.06-.94L8.5 2.5l-.94 2.06-2.06.94zm10 10l.94 2.06.94-2.06 2.06-.94-2.06-.94-.94-2.06-.94 2.06-2.06.94z\"/><path d=\"M17.41 7.96l-1.37-1.37c-.4-.4-.92-.59-1.43-.59-.52 0-1.04.2-1.43.59L10.3 9.45l-7.72 7.72c-.78.78-.78 2.05 0 2.83L4 21.41c.39.39.9.59 1.41.59.51 0 1.02-.2 1.41-.59l7.78-7.78 2.81-2.81c.8-.78.8-2.07 0-2.86zM5.41 20L4 18.59l7.72-7.72 1.47 1.35L5.41 20z\"/>\n",
              "  </svg>\n",
              "      </button>\n",
              "      \n",
              "  <style>\n",
              "    .colab-df-container {\n",
              "      display:flex;\n",
              "      flex-wrap:wrap;\n",
              "      gap: 12px;\n",
              "    }\n",
              "\n",
              "    .colab-df-convert {\n",
              "      background-color: #E8F0FE;\n",
              "      border: none;\n",
              "      border-radius: 50%;\n",
              "      cursor: pointer;\n",
              "      display: none;\n",
              "      fill: #1967D2;\n",
              "      height: 32px;\n",
              "      padding: 0 0 0 0;\n",
              "      width: 32px;\n",
              "    }\n",
              "\n",
              "    .colab-df-convert:hover {\n",
              "      background-color: #E2EBFA;\n",
              "      box-shadow: 0px 1px 2px rgba(60, 64, 67, 0.3), 0px 1px 3px 1px rgba(60, 64, 67, 0.15);\n",
              "      fill: #174EA6;\n",
              "    }\n",
              "\n",
              "    [theme=dark] .colab-df-convert {\n",
              "      background-color: #3B4455;\n",
              "      fill: #D2E3FC;\n",
              "    }\n",
              "\n",
              "    [theme=dark] .colab-df-convert:hover {\n",
              "      background-color: #434B5C;\n",
              "      box-shadow: 0px 1px 3px 1px rgba(0, 0, 0, 0.15);\n",
              "      filter: drop-shadow(0px 1px 2px rgba(0, 0, 0, 0.3));\n",
              "      fill: #FFFFFF;\n",
              "    }\n",
              "  </style>\n",
              "\n",
              "      <script>\n",
              "        const buttonEl =\n",
              "          document.querySelector('#df-2ab1aca8-e016-439f-b6c4-6f6ff0c11f2a button.colab-df-convert');\n",
              "        buttonEl.style.display =\n",
              "          google.colab.kernel.accessAllowed ? 'block' : 'none';\n",
              "\n",
              "        async function convertToInteractive(key) {\n",
              "          const element = document.querySelector('#df-2ab1aca8-e016-439f-b6c4-6f6ff0c11f2a');\n",
              "          const dataTable =\n",
              "            await google.colab.kernel.invokeFunction('convertToInteractive',\n",
              "                                                     [key], {});\n",
              "          if (!dataTable) return;\n",
              "\n",
              "          const docLinkHtml = 'Like what you see? Visit the ' +\n",
              "            '<a target=\"_blank\" href=https://colab.research.google.com/notebooks/data_table.ipynb>data table notebook</a>'\n",
              "            + ' to learn more about interactive tables.';\n",
              "          element.innerHTML = '';\n",
              "          dataTable['output_type'] = 'display_data';\n",
              "          await google.colab.output.renderOutput(dataTable, element);\n",
              "          const docLink = document.createElement('div');\n",
              "          docLink.innerHTML = docLinkHtml;\n",
              "          element.appendChild(docLink);\n",
              "        }\n",
              "      </script>\n",
              "    </div>\n",
              "  </div>\n",
              "  "
            ],
            "text/plain": [
              "          date  actual    prediction\n",
              "0   2021-05-20   15100  16565.015625\n",
              "1   2021-05-21   15100  16567.146484\n",
              "2   2021-05-24   15150  16568.921875\n",
              "3   2021-05-25   15150  16572.896484\n",
              "4   2021-05-27   15150  16575.380859\n",
              "..         ...     ...           ...\n",
              "229 2022-11-02   18400  16702.041016\n",
              "230 2022-11-03   19550  16783.923828\n",
              "231 2022-11-04   25550  16699.246094\n",
              "232 2022-12-01   20400  16776.228516\n",
              "233 2022-12-04   25450  16699.154297\n",
              "\n",
              "[234 rows x 3 columns]"
            ]
          },
          "execution_count": 18,
          "metadata": {},
          "output_type": "execute_result"
        },
        {
          "data": {
            "image/png": "[encoded data removed]",
            "text/plain": [
              "<Figure size 720x360 with 1 Axes>"
            ]
          },
          "metadata": {},
          "output_type": "display_data"
        }
      ],
      "source": [
        "win_size1 = 60\n",
        "test_minyakgoreng2_1 = scal_range.fit_transform(forecast.reshape(-1, 1))\n",
        "prediction_1 = forecast_predict(model, test_minyakgoreng2_1, time_size=win_size1, batch_size=5)\n",
        "\n",
        "data_result_1 = prediction_1[(len(x_train))-win_size1:-1, -1 ]\n",
        "data_result_1 = scal_range.inverse_transform(data_result_1.reshape(-1, 1))\n",
        "data_result_1 = data_result_1.reshape(-1)\n",
        "mae_1= tf.keras.metrics.mean_absolute_error(x_test, data_result_1)\n",
        "mape_1 = tf.keras.metrics.mean_absolute_percentage_error(x_test, data_result_1)\n",
        "mse_1 = tf.keras.metrics.mean_squared_error(x_test, data_result_1)\n",
        "rmse_1 =math.sqrt(mse_1.numpy())\n",
        "print(mae_1.numpy(), mape_1.numpy(), rmse_1)\n",
        "\n",
        "data_new_minyakgoreng2_1 = pd.DataFrame()\n",
        "data_new_minyakgoreng2_1['actual'] = x_test\n",
        "data_new_minyakgoreng2_1['prediction'] = data_result_1\n",
        "data_new_minyakgoreng2_1.to_csv('minyakgoreng2_model1_sgd_type2.csv')\n",
        "\n",
        "plt.figure(figsize=(10, 5))\n",
        "plt.plot(y_test, data_new_minyakgoreng2_1.actual)\n",
        "plt.plot(y_test, data_new_minyakgoreng2_1.prediction)\n",
        "data_new_minyakgoreng2"
      ]
    },
    {
      "cell_type": "markdown",
      "metadata": {
        "id": "WPr-3Z8b78XT"
      },
      "source": [
        "#### type3"
      ]
    },
    {
      "cell_type": "code",
      "execution_count": null,
      "metadata": {
        "colab": {
          "background_save": true
        },
        "id": "ro11Cs8i8GcX",
        "outputId": "5e9666d5-fb6e-4c57-b6cf-77830a3e9269"
      },
      "outputs": [
        {
          "name": "stdout",
          "output_type": "stream",
          "text": [
            "Epoch 1/30\n",
            "84/84 [==============================] - 13s 151ms/step - loss: 0.0070 - mae: 0.0591 - mape: 535703.9375 - val_loss: 0.0193 - val_mae: 0.0863 - val_mape: 34.6118\n",
            "Epoch 2/30\n",
            "84/84 [==============================] - 11s 134ms/step - loss: 0.0068 - mae: 0.0546 - mape: 471702.6250 - val_loss: 0.0194 - val_mae: 0.0855 - val_mape: 34.0420\n",
            "Epoch 3/30\n",
            "84/84 [==============================] - 12s 135ms/step - loss: 0.0068 - mae: 0.0546 - mape: 475554.7812 - val_loss: 0.0194 - val_mae: 0.0845 - val_mape: 33.2547\n",
            "Epoch 4/30\n",
            "84/84 [==============================] - 11s 129ms/step - loss: 0.0067 - mae: 0.0536 - mape: 454080.2812 - val_loss: 0.0194 - val_mae: 0.0855 - val_mape: 34.0018\n",
            "Epoch 5/30\n",
            "84/84 [==============================] - 12s 138ms/step - loss: 0.0067 - mae: 0.0541 - mape: 468270.8750 - val_loss: 0.0193 - val_mae: 0.0861 - val_mape: 34.4873\n",
            "Epoch 6/30\n",
            "84/84 [==============================] - 12s 141ms/step - loss: 0.0067 - mae: 0.0538 - mape: 466006.4062 - val_loss: 0.0193 - val_mae: 0.0865 - val_mape: 34.7605\n",
            "Epoch 7/30\n",
            "84/84 [==============================] - 12s 141ms/step - loss: 0.0067 - mae: 0.0537 - mape: 463932.1250 - val_loss: 0.0194 - val_mae: 0.0856 - val_mape: 34.0506\n",
            "Epoch 8/30\n",
            "84/84 [==============================] - 12s 143ms/step - loss: 0.0067 - mae: 0.0533 - mape: 456606.1875 - val_loss: 0.0194 - val_mae: 0.0856 - val_mape: 34.0711\n",
            "Epoch 9/30\n",
            "84/84 [==============================] - 12s 142ms/step - loss: 0.0066 - mae: 0.0530 - mape: 451293.7500 - val_loss: 0.0193 - val_mae: 0.0864 - val_mape: 34.7102\n",
            "Epoch 10/30\n",
            "84/84 [==============================] - 13s 148ms/step - loss: 0.0066 - mae: 0.0536 - mape: 460335.0000 - val_loss: 0.0194 - val_mae: 0.0863 - val_mape: 34.6251\n",
            "Epoch 11/30\n",
            "84/84 [==============================] - 11s 135ms/step - loss: 0.0066 - mae: 0.0525 - mape: 442620.9375 - val_loss: 0.0193 - val_mae: 0.0871 - val_mape: 35.1829\n",
            "Epoch 12/30\n",
            "84/84 [==============================] - 12s 142ms/step - loss: 0.0066 - mae: 0.0529 - mape: 448369.1562 - val_loss: 0.0193 - val_mae: 0.0875 - val_mape: 35.5018\n",
            "Epoch 13/30\n",
            "84/84 [==============================] - 12s 145ms/step - loss: 0.0066 - mae: 0.0529 - mape: 446684.4375 - val_loss: 0.0194 - val_mae: 0.0866 - val_mape: 34.8237\n",
            "Epoch 14/30\n",
            "84/84 [==============================] - 12s 143ms/step - loss: 0.0066 - mae: 0.0527 - mape: 444627.7812 - val_loss: 0.0193 - val_mae: 0.0874 - val_mape: 35.4676\n",
            "Epoch 15/30\n",
            "84/84 [==============================] - 12s 142ms/step - loss: 0.0066 - mae: 0.0528 - mape: 441870.8125 - val_loss: 0.0193 - val_mae: 0.0873 - val_mape: 35.3168\n",
            "Epoch 16/30\n",
            "84/84 [==============================] - 12s 146ms/step - loss: 0.0065 - mae: 0.0519 - mape: 436503.8750 - val_loss: 0.0194 - val_mae: 0.0870 - val_mape: 35.1523\n",
            "Epoch 17/30\n",
            "84/84 [==============================] - 13s 157ms/step - loss: 0.0065 - mae: 0.0521 - mape: 437667.5312 - val_loss: 0.0193 - val_mae: 0.0877 - val_mape: 35.6295\n",
            "Epoch 18/30\n",
            "84/84 [==============================] - 12s 142ms/step - loss: 0.0065 - mae: 0.0521 - mape: 437526.5000 - val_loss: 0.0193 - val_mae: 0.0883 - val_mape: 36.1559\n",
            "Epoch 19/30\n",
            "84/84 [==============================] - 12s 143ms/step - loss: 0.0065 - mae: 0.0521 - mape: 438099.1250 - val_loss: 0.0193 - val_mae: 0.0878 - val_mape: 35.7180\n",
            "Epoch 20/30\n",
            "84/84 [==============================] - 13s 149ms/step - loss: 0.0065 - mae: 0.0515 - mape: 425711.7812 - val_loss: 0.0193 - val_mae: 0.0881 - val_mape: 35.9556\n",
            "Epoch 21/30\n",
            "84/84 [==============================] - 12s 140ms/step - loss: 0.0065 - mae: 0.0518 - mape: 432860.9688 - val_loss: 0.0193 - val_mae: 0.0884 - val_mape: 36.1785\n",
            "Epoch 22/30\n",
            "84/84 [==============================] - 12s 145ms/step - loss: 0.0065 - mae: 0.0517 - mape: 431032.5000 - val_loss: 0.0193 - val_mae: 0.0887 - val_mape: 36.4154\n",
            "Epoch 23/30\n",
            "84/84 [==============================] - 12s 137ms/step - loss: 0.0065 - mae: 0.0517 - mape: 434319.1250 - val_loss: 0.0193 - val_mae: 0.0883 - val_mape: 36.1164\n",
            "Epoch 24/30\n",
            "84/84 [==============================] - 12s 136ms/step - loss: 0.0064 - mae: 0.0513 - mape: 422022.5000 - val_loss: 0.0193 - val_mae: 0.0889 - val_mape: 36.5290\n",
            "Epoch 25/30\n",
            "84/84 [==============================] - 11s 135ms/step - loss: 0.0064 - mae: 0.0511 - mape: 422197.7500 - val_loss: 0.0193 - val_mae: 0.0887 - val_mape: 36.4215\n",
            "Epoch 26/30\n",
            "84/84 [==============================] - 12s 137ms/step - loss: 0.0064 - mae: 0.0519 - mape: 439594.5312 - val_loss: 0.0193 - val_mae: 0.0889 - val_mape: 36.5597\n",
            "Epoch 27/30\n",
            "84/84 [==============================] - 12s 138ms/step - loss: 0.0064 - mae: 0.0510 - mape: 421897.0000 - val_loss: 0.0194 - val_mae: 0.0887 - val_mape: 36.4343\n",
            "Epoch 28/30\n",
            "84/84 [==============================] - 12s 142ms/step - loss: 0.0064 - mae: 0.0510 - mape: 420441.6562 - val_loss: 0.0194 - val_mae: 0.0886 - val_mape: 36.3264\n",
            "Epoch 29/30\n",
            "84/84 [==============================] - 12s 140ms/step - loss: 0.0064 - mae: 0.0512 - mape: 423152.3750 - val_loss: 0.0194 - val_mae: 0.0887 - val_mape: 36.4099\n",
            "Epoch 30/30\n",
            "84/84 [==============================] - 12s 138ms/step - loss: 0.0064 - mae: 0.0506 - mape: 412284.8125 - val_loss: 0.0194 - val_mae: 0.0893 - val_mape: 36.8733\n"
          ]
        }
      ],
      "source": [
        "history_t2 = model.fit(train_step2, epochs=30, validation_data=val_step)"
      ]
    },
    {
      "cell_type": "code",
      "execution_count": null,
      "metadata": {
        "colab": {
          "background_save": true
        },
        "id": "QYWr4IqY_2Oo",
        "outputId": "dcff9e8e-65e8-4460-a9e7-d9183e8cfa1c"
      },
      "outputs": [
        {
          "data": {
            "image/png": "[encoded data removed]",
            "text/plain": [
              "<Figure size 432x288 with 1 Axes>"
            ]
          },
          "metadata": {},
          "output_type": "display_data"
        }
      ],
      "source": [
        "mae_t2 = history_t2.history['mae']\n",
        "val_mae_t2 = history_t2.history['val_mae']\n",
        "epoch_t2 = range(len(mae_t2))\n",
        "\n",
        "plt.title('minyakgoreng2 kualitas rendah 1 model 1 SGD type 3')\n",
        "plt.plot(epoch_t2, mae_t2, label='mae')\n",
        "plt.plot(epoch_t2, val_mae_t2, label='val mae')\n",
        "plt.legend()\n",
        "plt.show()"
      ]
    },
    {
      "cell_type": "code",
      "execution_count": null,
      "metadata": {
        "colab": {
          "background_save": true
        },
        "id": "OFrrljRS8Gxt",
        "outputId": "8a369da9-2b0d-4317-d2e1-57cba1e917db"
      },
      "outputs": [
        {
          "name": "stdout",
          "output_type": "stream",
          "text": [
            "181/181 [==============================] - 2s 13ms/step\n",
            "1660.033 7.9575143 2609.229004897807\n"
          ]
        },
        {
          "data": {
            "text/html": [
              "\n",
              "  <div id=\"df-fa0d4c3e-c38b-40ca-b5ee-86ca706c3784\">\n",
              "    <div class=\"colab-df-container\">\n",
              "      <div>\n",
              "<style scoped>\n",
              "    .dataframe tbody tr th:only-of-type {\n",
              "        vertical-align: middle;\n",
              "    }\n",
              "\n",
              "    .dataframe tbody tr th {\n",
              "        vertical-align: top;\n",
              "    }\n",
              "\n",
              "    .dataframe thead th {\n",
              "        text-align: right;\n",
              "    }\n",
              "</style>\n",
              "<table border=\"1\" class=\"dataframe\">\n",
              "  <thead>\n",
              "    <tr style=\"text-align: right;\">\n",
              "      <th></th>\n",
              "      <th>actual</th>\n",
              "      <th>prediction</th>\n",
              "    </tr>\n",
              "  </thead>\n",
              "  <tbody>\n",
              "    <tr>\n",
              "      <th>0</th>\n",
              "      <td>15100</td>\n",
              "      <td>14473.818359</td>\n",
              "    </tr>\n",
              "    <tr>\n",
              "      <th>1</th>\n",
              "      <td>15100</td>\n",
              "      <td>14480.638672</td>\n",
              "    </tr>\n",
              "    <tr>\n",
              "      <th>2</th>\n",
              "      <td>15150</td>\n",
              "      <td>14489.840820</td>\n",
              "    </tr>\n",
              "    <tr>\n",
              "      <th>3</th>\n",
              "      <td>15150</td>\n",
              "      <td>14502.483398</td>\n",
              "    </tr>\n",
              "    <tr>\n",
              "      <th>4</th>\n",
              "      <td>15150</td>\n",
              "      <td>14515.483398</td>\n",
              "    </tr>\n",
              "    <tr>\n",
              "      <th>...</th>\n",
              "      <td>...</td>\n",
              "      <td>...</td>\n",
              "    </tr>\n",
              "    <tr>\n",
              "      <th>229</th>\n",
              "      <td>18400</td>\n",
              "      <td>19151.078125</td>\n",
              "    </tr>\n",
              "    <tr>\n",
              "      <th>230</th>\n",
              "      <td>19550</td>\n",
              "      <td>19192.876953</td>\n",
              "    </tr>\n",
              "    <tr>\n",
              "      <th>231</th>\n",
              "      <td>25550</td>\n",
              "      <td>19086.796875</td>\n",
              "    </tr>\n",
              "    <tr>\n",
              "      <th>232</th>\n",
              "      <td>20400</td>\n",
              "      <td>19124.203125</td>\n",
              "    </tr>\n",
              "    <tr>\n",
              "      <th>233</th>\n",
              "      <td>25450</td>\n",
              "      <td>19047.542969</td>\n",
              "    </tr>\n",
              "  </tbody>\n",
              "</table>\n",
              "<p>234 rows × 2 columns</p>\n",
              "</div>\n",
              "      <button class=\"colab-df-convert\" onclick=\"convertToInteractive('df-fa0d4c3e-c38b-40ca-b5ee-86ca706c3784')\"\n",
              "              title=\"Convert this dataframe to an interactive table.\"\n",
              "              style=\"display:none;\">\n",
              "        \n",
              "  <svg xmlns=\"http://www.w3.org/2000/svg\" height=\"24px\"viewBox=\"0 0 24 24\"\n",
              "       width=\"24px\">\n",
              "    <path d=\"M0 0h24v24H0V0z\" fill=\"none\"/>\n",
              "    <path d=\"M18.56 5.44l.94 2.06.94-2.06 2.06-.94-2.06-.94-.94-2.06-.94 2.06-2.06.94zm-11 1L8.5 8.5l.94-2.06 2.06-.94-2.06-.94L8.5 2.5l-.94 2.06-2.06.94zm10 10l.94 2.06.94-2.06 2.06-.94-2.06-.94-.94-2.06-.94 2.06-2.06.94z\"/><path d=\"M17.41 7.96l-1.37-1.37c-.4-.4-.92-.59-1.43-.59-.52 0-1.04.2-1.43.59L10.3 9.45l-7.72 7.72c-.78.78-.78 2.05 0 2.83L4 21.41c.39.39.9.59 1.41.59.51 0 1.02-.2 1.41-.59l7.78-7.78 2.81-2.81c.8-.78.8-2.07 0-2.86zM5.41 20L4 18.59l7.72-7.72 1.47 1.35L5.41 20z\"/>\n",
              "  </svg>\n",
              "      </button>\n",
              "      \n",
              "  <style>\n",
              "    .colab-df-container {\n",
              "      display:flex;\n",
              "      flex-wrap:wrap;\n",
              "      gap: 12px;\n",
              "    }\n",
              "\n",
              "    .colab-df-convert {\n",
              "      background-color: #E8F0FE;\n",
              "      border: none;\n",
              "      border-radius: 50%;\n",
              "      cursor: pointer;\n",
              "      display: none;\n",
              "      fill: #1967D2;\n",
              "      height: 32px;\n",
              "      padding: 0 0 0 0;\n",
              "      width: 32px;\n",
              "    }\n",
              "\n",
              "    .colab-df-convert:hover {\n",
              "      background-color: #E2EBFA;\n",
              "      box-shadow: 0px 1px 2px rgba(60, 64, 67, 0.3), 0px 1px 3px 1px rgba(60, 64, 67, 0.15);\n",
              "      fill: #174EA6;\n",
              "    }\n",
              "\n",
              "    [theme=dark] .colab-df-convert {\n",
              "      background-color: #3B4455;\n",
              "      fill: #D2E3FC;\n",
              "    }\n",
              "\n",
              "    [theme=dark] .colab-df-convert:hover {\n",
              "      background-color: #434B5C;\n",
              "      box-shadow: 0px 1px 3px 1px rgba(0, 0, 0, 0.15);\n",
              "      filter: drop-shadow(0px 1px 2px rgba(0, 0, 0, 0.3));\n",
              "      fill: #FFFFFF;\n",
              "    }\n",
              "  </style>\n",
              "\n",
              "      <script>\n",
              "        const buttonEl =\n",
              "          document.querySelector('#df-fa0d4c3e-c38b-40ca-b5ee-86ca706c3784 button.colab-df-convert');\n",
              "        buttonEl.style.display =\n",
              "          google.colab.kernel.accessAllowed ? 'block' : 'none';\n",
              "\n",
              "        async function convertToInteractive(key) {\n",
              "          const element = document.querySelector('#df-fa0d4c3e-c38b-40ca-b5ee-86ca706c3784');\n",
              "          const dataTable =\n",
              "            await google.colab.kernel.invokeFunction('convertToInteractive',\n",
              "                                                     [key], {});\n",
              "          if (!dataTable) return;\n",
              "\n",
              "          const docLinkHtml = 'Like what you see? Visit the ' +\n",
              "            '<a target=\"_blank\" href=https://colab.research.google.com/notebooks/data_table.ipynb>data table notebook</a>'\n",
              "            + ' to learn more about interactive tables.';\n",
              "          element.innerHTML = '';\n",
              "          dataTable['output_type'] = 'display_data';\n",
              "          await google.colab.output.renderOutput(dataTable, element);\n",
              "          const docLink = document.createElement('div');\n",
              "          docLink.innerHTML = docLinkHtml;\n",
              "          element.appendChild(docLink);\n",
              "        }\n",
              "      </script>\n",
              "    </div>\n",
              "  </div>\n",
              "  "
            ],
            "text/plain": [
              "     actual    prediction\n",
              "0     15100  14473.818359\n",
              "1     15100  14480.638672\n",
              "2     15150  14489.840820\n",
              "3     15150  14502.483398\n",
              "4     15150  14515.483398\n",
              "..      ...           ...\n",
              "229   18400  19151.078125\n",
              "230   19550  19192.876953\n",
              "231   25550  19086.796875\n",
              "232   20400  19124.203125\n",
              "233   25450  19047.542969\n",
              "\n",
              "[234 rows x 2 columns]"
            ]
          },
          "execution_count": 21,
          "metadata": {},
          "output_type": "execute_result"
        },
        {
          "data": {
            "image/png": "[encoded data removed]",
            "text/plain": [
              "<Figure size 432x288 with 1 Axes>"
            ]
          },
          "metadata": {},
          "output_type": "display_data"
        }
      ],
      "source": [
        "win_size2 = 150\n",
        "prediction_2 = forecast_predict(model, test_minyakgoreng2_, time_size=win_size2, batch_size=5)\n",
        "\n",
        "data_result_2 = prediction_2[(len(x_train))-win_size2:-1, -1 ]\n",
        "data_result_2 = scal_range.inverse_transform(data_result_2.reshape(-1, 1))\n",
        "data_result_2 = data_result_2.reshape(-1)\n",
        "mae_2= tf.keras.metrics.mean_absolute_error(x_test, data_result_2)\n",
        "mape_2 = tf.keras.metrics.mean_absolute_percentage_error(x_test, data_result_2)\n",
        "mse_2 = tf.keras.metrics.mean_squared_error(x_test, data_result_2)\n",
        "\n",
        "rmse_2 =math.sqrt(mse_2.numpy())\n",
        "print(mae_2.numpy(), mape_2.numpy(), rmse_2)\n",
        "\n",
        "data_new_minyakgoreng2_2 = pd.DataFrame()\n",
        "# data_new_minyakgoreng21['date'] = date_test\n",
        "data_new_minyakgoreng2_2['actual'] = x_test\n",
        "data_new_minyakgoreng2_2['prediction'] = data_result_2\n",
        "data_new_minyakgoreng2_2.to_csv('minyakgoreng2_model1_sgd_type3')\n",
        "\n",
        "plt.plot(y_test, data_new_minyakgoreng2_2.actual)\n",
        "plt.plot(y_test, data_new_minyakgoreng2_2.prediction)\n",
        "data_new_minyakgoreng2_2"
      ]
    },
    {
      "cell_type": "code",
      "execution_count": null,
      "metadata": {
        "colab": {
          "background_save": true
        },
        "id": "EvjtQmjph6dA"
      },
      "outputs": [],
      "source": []
    },
    {
      "cell_type": "markdown",
      "metadata": {
        "id": "wqVv6vqgwfxP"
      },
      "source": [
        "### Adam"
      ]
    },
    {
      "cell_type": "code",
      "execution_count": null,
      "metadata": {
        "colab": {
          "background_save": true
        },
        "id": "UDsYjNiHvjXQ",
        "outputId": "cb2d8598-83bd-495c-d956-ee3858c152cd"
      },
      "outputs": [
        {
          "name": "stdout",
          "output_type": "stream",
          "text": [
            "Model: \"sequential_1\"\n",
            "_________________________________________________________________\n",
            " Layer (type)                Output Shape              Param #   \n",
            "=================================================================\n",
            " conv1d_1 (Conv1D)           (None, None, 16)          48        \n",
            "                                                                 \n",
            " lstm_2 (LSTM)               (None, None, 24)          3936      \n",
            "                                                                 \n",
            " lstm_3 (LSTM)               (None, 20)                3600      \n",
            "                                                                 \n",
            " dense_2 (Dense)             (None, 64)                1344      \n",
            "                                                                 \n",
            " dense_3 (Dense)             (None, 1)                 65        \n",
            "                                                                 \n",
            "=================================================================\n",
            "Total params: 8,993\n",
            "Trainable params: 8,993\n",
            "Non-trainable params: 0\n",
            "_________________________________________________________________\n"
          ]
        }
      ],
      "source": [
        "model_a= Sequential([\n",
        "    Conv1D(16, kernel_size=2, activation='relu',padding='causal', strides=2, input_shape=[None, 1]),\n",
        "        LSTM(24, return_sequences=True),\n",
        "        LSTM(20),\n",
        "        Dense(64, activation='relu'),\n",
        "        Dense(1)\n",
        "])\n",
        "\n",
        "model_a.compile(loss= 'mean_squared_error', optimizer=tf.keras.optimizers.Adam(learning_rate=1e-4), metrics=['mae', 'mape'])\n",
        "model_a.summary()"
      ]
    },
    {
      "cell_type": "markdown",
      "metadata": {
        "id": "FsdZ5MFDh57_"
      },
      "source": [
        "#### Type 1"
      ]
    },
    {
      "cell_type": "code",
      "execution_count": null,
      "metadata": {
        "colab": {
          "background_save": true
        },
        "id": "tKjCCEvIvji7",
        "outputId": "d4a1e401-6380-4323-86d1-7c11dd406c65"
      },
      "outputs": [
        {
          "name": "stdout",
          "output_type": "stream",
          "text": [
            "Epoch 1/30\n",
            "44/44 [==============================] - 15s 239ms/step - loss: 0.0592 - mae: 0.2315 - mape: 86.5114 - val_loss: 0.0498 - val_mae: 0.1765 - val_mape: 67.4637\n",
            "Epoch 2/30\n",
            "44/44 [==============================] - 9s 212ms/step - loss: 0.0303 - mae: 0.1586 - mape: 57.6730 - val_loss: 0.0251 - val_mae: 0.0913 - val_mape: 28.7680\n",
            "Epoch 3/30\n",
            "44/44 [==============================] - 9s 213ms/step - loss: 0.0071 - mae: 0.0646 - mape: 23.5079 - val_loss: 0.0204 - val_mae: 0.1106 - val_mape: 51.3781\n",
            "Epoch 4/30\n",
            "44/44 [==============================] - 9s 205ms/step - loss: 0.0054 - mae: 0.0585 - mape: 23.5418 - val_loss: 0.0198 - val_mae: 0.1054 - val_mape: 47.9700\n",
            "Epoch 5/30\n",
            "44/44 [==============================] - 10s 217ms/step - loss: 0.0052 - mae: 0.0554 - mape: 21.9417 - val_loss: 0.0199 - val_mae: 0.1063 - val_mape: 48.5710\n",
            "Epoch 6/30\n",
            "44/44 [==============================] - 9s 213ms/step - loss: 0.0053 - mae: 0.0554 - mape: 21.6665 - val_loss: 0.0204 - val_mae: 0.1105 - val_mape: 51.2614\n",
            "Epoch 7/30\n",
            "44/44 [==============================] - 9s 212ms/step - loss: 0.0053 - mae: 0.0568 - mape: 22.6617 - val_loss: 0.0198 - val_mae: 0.1055 - val_mape: 48.0250\n",
            "Epoch 8/30\n",
            "44/44 [==============================] - 9s 205ms/step - loss: 0.0052 - mae: 0.0554 - mape: 21.9260 - val_loss: 0.0201 - val_mae: 0.1081 - val_mape: 49.7625\n",
            "Epoch 9/30\n",
            "44/44 [==============================] - 9s 212ms/step - loss: 0.0052 - mae: 0.0560 - mape: 22.1838 - val_loss: 0.0203 - val_mae: 0.1103 - val_mape: 51.1771\n",
            "Epoch 10/30\n",
            "44/44 [==============================] - 9s 206ms/step - loss: 0.0052 - mae: 0.0566 - mape: 22.6432 - val_loss: 0.0199 - val_mae: 0.1065 - val_mape: 48.6726\n",
            "Epoch 11/30\n",
            "44/44 [==============================] - 9s 206ms/step - loss: 0.0052 - mae: 0.0557 - mape: 21.9706 - val_loss: 0.0200 - val_mae: 0.1073 - val_mape: 49.2226\n",
            "Epoch 12/30\n",
            "44/44 [==============================] - 9s 206ms/step - loss: 0.0052 - mae: 0.0564 - mape: 22.5558 - val_loss: 0.0199 - val_mae: 0.1065 - val_mape: 48.6665\n",
            "Epoch 13/30\n",
            "44/44 [==============================] - 10s 218ms/step - loss: 0.0052 - mae: 0.0549 - mape: 21.3543 - val_loss: 0.0203 - val_mae: 0.1100 - val_mape: 50.9281\n",
            "Epoch 14/30\n",
            "44/44 [==============================] - 9s 205ms/step - loss: 0.0053 - mae: 0.0568 - mape: 22.4327 - val_loss: 0.0199 - val_mae: 0.1064 - val_mape: 48.6045\n",
            "Epoch 15/30\n",
            "44/44 [==============================] - 9s 199ms/step - loss: 0.0052 - mae: 0.0571 - mape: 23.1628 - val_loss: 0.0196 - val_mae: 0.1033 - val_mape: 46.6245\n",
            "Epoch 16/30\n",
            "44/44 [==============================] - 9s 197ms/step - loss: 0.0051 - mae: 0.0547 - mape: 21.6438 - val_loss: 0.0200 - val_mae: 0.1069 - val_mape: 48.9497\n",
            "Epoch 17/30\n",
            "44/44 [==============================] - 10s 213ms/step - loss: 0.0053 - mae: 0.0556 - mape: 21.6069 - val_loss: 0.0210 - val_mae: 0.1152 - val_mape: 54.3288\n",
            "Epoch 18/30\n",
            "44/44 [==============================] - 9s 197ms/step - loss: 0.0054 - mae: 0.0572 - mape: 22.5380 - val_loss: 0.0202 - val_mae: 0.1090 - val_mape: 50.3405\n",
            "Epoch 19/30\n",
            "44/44 [==============================] - 9s 198ms/step - loss: 0.0053 - mae: 0.0568 - mape: 22.4145 - val_loss: 0.0197 - val_mae: 0.1042 - val_mape: 47.2197\n",
            "Epoch 20/30\n",
            "44/44 [==============================] - 9s 197ms/step - loss: 0.0052 - mae: 0.0566 - mape: 22.7501 - val_loss: 0.0200 - val_mae: 0.1071 - val_mape: 49.0585\n",
            "Epoch 21/30\n",
            "44/44 [==============================] - 8s 189ms/step - loss: 0.0052 - mae: 0.0549 - mape: 21.5582 - val_loss: 0.0204 - val_mae: 0.1110 - val_mape: 51.6090\n",
            "Epoch 22/30\n",
            "44/44 [==============================] - 8s 182ms/step - loss: 0.0054 - mae: 0.0571 - mape: 22.6317 - val_loss: 0.0207 - val_mae: 0.1127 - val_mape: 52.7042\n",
            "Epoch 23/30\n",
            "44/44 [==============================] - 8s 185ms/step - loss: 0.0053 - mae: 0.0552 - mape: 21.6089 - val_loss: 0.0202 - val_mae: 0.1093 - val_mape: 50.4944\n",
            "Epoch 24/30\n",
            "44/44 [==============================] - 8s 187ms/step - loss: 0.0055 - mae: 0.0583 - mape: 23.3359 - val_loss: 0.0203 - val_mae: 0.1095 - val_mape: 50.6254\n",
            "Epoch 25/30\n",
            "44/44 [==============================] - 8s 188ms/step - loss: 0.0052 - mae: 0.0564 - mape: 22.4420 - val_loss: 0.0200 - val_mae: 0.1067 - val_mape: 48.8163\n",
            "Epoch 26/30\n",
            "44/44 [==============================] - 8s 189ms/step - loss: 0.0051 - mae: 0.0548 - mape: 21.4749 - val_loss: 0.0202 - val_mae: 0.1092 - val_mape: 50.4280\n",
            "Epoch 27/30\n",
            "44/44 [==============================] - 8s 186ms/step - loss: 0.0052 - mae: 0.0554 - mape: 21.7664 - val_loss: 0.0204 - val_mae: 0.1102 - val_mape: 51.1062\n",
            "Epoch 28/30\n",
            "44/44 [==============================] - 8s 192ms/step - loss: 0.0053 - mae: 0.0573 - mape: 23.0252 - val_loss: 0.0202 - val_mae: 0.1088 - val_mape: 50.1697\n",
            "Epoch 29/30\n",
            "44/44 [==============================] - 8s 189ms/step - loss: 0.0052 - mae: 0.0553 - mape: 21.8962 - val_loss: 0.0198 - val_mae: 0.1051 - val_mape: 47.8034\n",
            "Epoch 30/30\n",
            "44/44 [==============================] - 8s 188ms/step - loss: 0.0051 - mae: 0.0542 - mape: 21.2954 - val_loss: 0.0202 - val_mae: 0.1088 - val_mape: 50.1689\n"
          ]
        }
      ],
      "source": [
        "history_a = model_a.fit(train_step, epochs=30, validation_data=val_step)"
      ]
    },
    {
      "cell_type": "code",
      "execution_count": null,
      "metadata": {
        "colab": {
          "background_save": true
        },
        "id": "_37E3HJHvjsi",
        "outputId": "a918c4df-b35e-40eb-b0ae-cc0bbb3fdbdd"
      },
      "outputs": [
        {
          "data": {
            "image/png": "[encoded data removed]",
            "text/plain": [
              "<Figure size 432x288 with 1 Axes>"
            ]
          },
          "metadata": {},
          "output_type": "display_data"
        }
      ],
      "source": [
        "mae_a = history_a.history['mae']\n",
        "val_mae_a = history_a.history['val_mae']\n",
        "epoch_a = range(len(mae_a))\n",
        "\n",
        "plt.title('minyakgoreng2 kualitas rendah 1 model 1 Adam type 1')\n",
        "plt.plot(epoch_a, mae_a, label='mae')\n",
        "plt.plot(epoch_a, val_mae_a, label='val mae')\n",
        "plt.legend()\n",
        "plt.show()"
      ]
    },
    {
      "cell_type": "code",
      "execution_count": null,
      "metadata": {
        "colab": {
          "background_save": true
        },
        "id": "Y4b-SEnUtuUP",
        "outputId": "7a931c9d-c092-4bff-d5f1-8d99f11314f6"
      },
      "outputs": [
        {
          "name": "stdout",
          "output_type": "stream",
          "text": [
            "131/131 [==============================] - 4s 23ms/step\n",
            "1768.0133 8.862203 2524.5802621426\n"
          ]
        },
        {
          "data": {
            "text/html": [
              "\n",
              "  <div id=\"df-d72d8f58-c165-4d35-b24f-b7da1b71989c\">\n",
              "    <div class=\"colab-df-container\">\n",
              "      <div>\n",
              "<style scoped>\n",
              "    .dataframe tbody tr th:only-of-type {\n",
              "        vertical-align: middle;\n",
              "    }\n",
              "\n",
              "    .dataframe tbody tr th {\n",
              "        vertical-align: top;\n",
              "    }\n",
              "\n",
              "    .dataframe thead th {\n",
              "        text-align: right;\n",
              "    }\n",
              "</style>\n",
              "<table border=\"1\" class=\"dataframe\">\n",
              "  <thead>\n",
              "    <tr style=\"text-align: right;\">\n",
              "      <th></th>\n",
              "      <th>actual</th>\n",
              "      <th>prediction</th>\n",
              "    </tr>\n",
              "  </thead>\n",
              "  <tbody>\n",
              "    <tr>\n",
              "      <th>0</th>\n",
              "      <td>15100</td>\n",
              "      <td>15736.230469</td>\n",
              "    </tr>\n",
              "    <tr>\n",
              "      <th>1</th>\n",
              "      <td>15100</td>\n",
              "      <td>15740.726562</td>\n",
              "    </tr>\n",
              "    <tr>\n",
              "      <th>2</th>\n",
              "      <td>15150</td>\n",
              "      <td>15749.550781</td>\n",
              "    </tr>\n",
              "    <tr>\n",
              "      <th>3</th>\n",
              "      <td>15150</td>\n",
              "      <td>15758.586914</td>\n",
              "    </tr>\n",
              "    <tr>\n",
              "      <th>4</th>\n",
              "      <td>15150</td>\n",
              "      <td>15770.014648</td>\n",
              "    </tr>\n",
              "    <tr>\n",
              "      <th>...</th>\n",
              "      <td>...</td>\n",
              "      <td>...</td>\n",
              "    </tr>\n",
              "    <tr>\n",
              "      <th>229</th>\n",
              "      <td>18400</td>\n",
              "      <td>19788.156250</td>\n",
              "    </tr>\n",
              "    <tr>\n",
              "      <th>230</th>\n",
              "      <td>19550</td>\n",
              "      <td>19752.277344</td>\n",
              "    </tr>\n",
              "    <tr>\n",
              "      <th>231</th>\n",
              "      <td>25550</td>\n",
              "      <td>19704.060547</td>\n",
              "    </tr>\n",
              "    <tr>\n",
              "      <th>232</th>\n",
              "      <td>20400</td>\n",
              "      <td>19663.267578</td>\n",
              "    </tr>\n",
              "    <tr>\n",
              "      <th>233</th>\n",
              "      <td>25450</td>\n",
              "      <td>19665.742188</td>\n",
              "    </tr>\n",
              "  </tbody>\n",
              "</table>\n",
              "<p>234 rows × 2 columns</p>\n",
              "</div>\n",
              "      <button class=\"colab-df-convert\" onclick=\"convertToInteractive('df-d72d8f58-c165-4d35-b24f-b7da1b71989c')\"\n",
              "              title=\"Convert this dataframe to an interactive table.\"\n",
              "              style=\"display:none;\">\n",
              "        \n",
              "  <svg xmlns=\"http://www.w3.org/2000/svg\" height=\"24px\"viewBox=\"0 0 24 24\"\n",
              "       width=\"24px\">\n",
              "    <path d=\"M0 0h24v24H0V0z\" fill=\"none\"/>\n",
              "    <path d=\"M18.56 5.44l.94 2.06.94-2.06 2.06-.94-2.06-.94-.94-2.06-.94 2.06-2.06.94zm-11 1L8.5 8.5l.94-2.06 2.06-.94-2.06-.94L8.5 2.5l-.94 2.06-2.06.94zm10 10l.94 2.06.94-2.06 2.06-.94-2.06-.94-.94-2.06-.94 2.06-2.06.94z\"/><path d=\"M17.41 7.96l-1.37-1.37c-.4-.4-.92-.59-1.43-.59-.52 0-1.04.2-1.43.59L10.3 9.45l-7.72 7.72c-.78.78-.78 2.05 0 2.83L4 21.41c.39.39.9.59 1.41.59.51 0 1.02-.2 1.41-.59l7.78-7.78 2.81-2.81c.8-.78.8-2.07 0-2.86zM5.41 20L4 18.59l7.72-7.72 1.47 1.35L5.41 20z\"/>\n",
              "  </svg>\n",
              "      </button>\n",
              "      \n",
              "  <style>\n",
              "    .colab-df-container {\n",
              "      display:flex;\n",
              "      flex-wrap:wrap;\n",
              "      gap: 12px;\n",
              "    }\n",
              "\n",
              "    .colab-df-convert {\n",
              "      background-color: #E8F0FE;\n",
              "      border: none;\n",
              "      border-radius: 50%;\n",
              "      cursor: pointer;\n",
              "      display: none;\n",
              "      fill: #1967D2;\n",
              "      height: 32px;\n",
              "      padding: 0 0 0 0;\n",
              "      width: 32px;\n",
              "    }\n",
              "\n",
              "    .colab-df-convert:hover {\n",
              "      background-color: #E2EBFA;\n",
              "      box-shadow: 0px 1px 2px rgba(60, 64, 67, 0.3), 0px 1px 3px 1px rgba(60, 64, 67, 0.15);\n",
              "      fill: #174EA6;\n",
              "    }\n",
              "\n",
              "    [theme=dark] .colab-df-convert {\n",
              "      background-color: #3B4455;\n",
              "      fill: #D2E3FC;\n",
              "    }\n",
              "\n",
              "    [theme=dark] .colab-df-convert:hover {\n",
              "      background-color: #434B5C;\n",
              "      box-shadow: 0px 1px 3px 1px rgba(0, 0, 0, 0.15);\n",
              "      filter: drop-shadow(0px 1px 2px rgba(0, 0, 0, 0.3));\n",
              "      fill: #FFFFFF;\n",
              "    }\n",
              "  </style>\n",
              "\n",
              "      <script>\n",
              "        const buttonEl =\n",
              "          document.querySelector('#df-d72d8f58-c165-4d35-b24f-b7da1b71989c button.colab-df-convert');\n",
              "        buttonEl.style.display =\n",
              "          google.colab.kernel.accessAllowed ? 'block' : 'none';\n",
              "\n",
              "        async function convertToInteractive(key) {\n",
              "          const element = document.querySelector('#df-d72d8f58-c165-4d35-b24f-b7da1b71989c');\n",
              "          const dataTable =\n",
              "            await google.colab.kernel.invokeFunction('convertToInteractive',\n",
              "                                                     [key], {});\n",
              "          if (!dataTable) return;\n",
              "\n",
              "          const docLinkHtml = 'Like what you see? Visit the ' +\n",
              "            '<a target=\"_blank\" href=https://colab.research.google.com/notebooks/data_table.ipynb>data table notebook</a>'\n",
              "            + ' to learn more about interactive tables.';\n",
              "          element.innerHTML = '';\n",
              "          dataTable['output_type'] = 'display_data';\n",
              "          await google.colab.output.renderOutput(dataTable, element);\n",
              "          const docLink = document.createElement('div');\n",
              "          docLink.innerHTML = docLinkHtml;\n",
              "          element.appendChild(docLink);\n",
              "        }\n",
              "      </script>\n",
              "    </div>\n",
              "  </div>\n",
              "  "
            ],
            "text/plain": [
              "     actual    prediction\n",
              "0     15100  15736.230469\n",
              "1     15100  15740.726562\n",
              "2     15150  15749.550781\n",
              "3     15150  15758.586914\n",
              "4     15150  15770.014648\n",
              "..      ...           ...\n",
              "229   18400  19788.156250\n",
              "230   19550  19752.277344\n",
              "231   25550  19704.060547\n",
              "232   20400  19663.267578\n",
              "233   25450  19665.742188\n",
              "\n",
              "[234 rows x 2 columns]"
            ]
          },
          "execution_count": 25,
          "metadata": {},
          "output_type": "execute_result"
        },
        {
          "data": {
            "image/png": "[encoded data removed]",
            "text/plain": [
              "<Figure size 720x360 with 1 Axes>"
            ]
          },
          "metadata": {},
          "output_type": "display_data"
        }
      ],
      "source": [
        "prediction_a = forecast_predict(model_a, test_minyakgoreng2_, time_size=win_size, batch_size=5)\n",
        "\n",
        "data_result_a = prediction_a[(len(x_train))-win_size:-1, -1 ]\n",
        "data_result_a = scal_range.inverse_transform(data_result_a.reshape(-1, 1))\n",
        "data_result_a = data_result_a.reshape(-1)\n",
        "mae_a= tf.keras.metrics.mean_absolute_error(x_test, data_result_a)\n",
        "mape_a = tf.keras.metrics.mean_absolute_percentage_error(x_test, data_result_a)\n",
        "mse_a = tf.keras.metrics.mean_squared_error(x_test, data_result_a)\n",
        "\n",
        "rmse_a =math.sqrt(mse_a.numpy())\n",
        "print(mae_a.numpy(), mape_a.numpy(), rmse_a)\n",
        "\n",
        "data_new_minyakgoreng2_a = pd.DataFrame()\n",
        "# data_new_minyakgoreng21['date'] = date_test\n",
        "data_new_minyakgoreng2_a['actual'] = x_test\n",
        "data_new_minyakgoreng2_a['prediction'] = data_result_a\n",
        "data_new_minyakgoreng2_a.to_csv('minyakgoreng2_model1_adam_type1.csv')\n",
        "\n",
        "plt.figure(figsize=(10,5))\n",
        "plt.plot(y_test, data_new_minyakgoreng2_a.actual)\n",
        "plt.plot(y_test, data_new_minyakgoreng2_a.prediction)\n",
        "data_new_minyakgoreng2_a"
      ]
    },
    {
      "cell_type": "markdown",
      "metadata": {
        "id": "k4K7cwp4h9Ue"
      },
      "source": [
        "#### Type 2"
      ]
    },
    {
      "cell_type": "code",
      "execution_count": null,
      "metadata": {
        "id": "W2QggGyYh76R"
      },
      "outputs": [],
      "source": [
        "history_a1 = model_a.fit(train_step1, epochs=30, validation_data=val_step)"
      ]
    },
    {
      "cell_type": "code",
      "execution_count": null,
      "metadata": {
        "id": "nDGAmjQWh8HF"
      },
      "outputs": [],
      "source": [
        "mae_a1 = history_a1.history['mae']\n",
        "val_mae_a1 = history_a1.history['val_mae']\n",
        "epoch_a1 = range(len(mae_a1))\n",
        "\n",
        "plt.title('minyakgoreng2 kualitas rendah 1 model 1 Adam type 1')\n",
        "plt.plot(epoch_a1, mae_a1, label='mae')\n",
        "plt.plot(epoch_a1, val_mae_a1, label='val mae')\n",
        "plt.legend()\n",
        "plt.show()"
      ]
    },
    {
      "cell_type": "code",
      "execution_count": null,
      "metadata": {
        "id": "WuE470TPh8gC"
      },
      "outputs": [],
      "source": [
        "prediction_a1 = forecast_predict(model_a, test_minyakgoreng2_, time_size=win_size1, batch_size=5)\n",
        "\n",
        "data_result_a1 = prediction_a1[(len(x_train))-win_size1:-1, -1 ]\n",
        "data_result_a1 = scal_range.inverse_transform(data_result_a1.reshape(-1, 1))\n",
        "data_result_a1 = data_result_a1.reshape(-1)\n",
        "mae_a1= tf.keras.metrics.mean_absolute_error(x_test, data_result_a1)\n",
        "mape_a1 = tf.keras.metrics.mean_absolute_percentage_error(x_test, data_result_a1)\n",
        "mse_a1 = tf.keras.metrics.mean_squared_error(x_test, data_result_a1)\n",
        "\n",
        "rmse_a1 =math.sqrt(mse_a1.numpy())\n",
        "print(mae_a1.numpy(), mape_a1.numpy(), rmse_a1)\n",
        "\n",
        "data_new_minyakgoreng2_a1 = pd.DataFrame()\n",
        "data_new_minyakgoreng2_a1['actual'] = x_test\n",
        "data_new_minyakgoreng2_a1['prediction'] = data_result_a1\n",
        "data_new_minyakgoreng2_a1.to_csv('minyakgoreng2_model1_adam_type2.csv')\n",
        "\n",
        "plt.plot(y_test, data_new_minyakgoreng2_a1.actual)\n",
        "plt.plot(y_test, data_new_minyakgoreng2_a1.prediction)\n",
        "data_new_minyakgoreng2_a1"
      ]
    },
    {
      "cell_type": "markdown",
      "metadata": {
        "id": "xuLk2uR7iAC3"
      },
      "source": [
        "#### Type 3"
      ]
    },
    {
      "cell_type": "code",
      "execution_count": null,
      "metadata": {
        "id": "U2fPsxq9iB6a"
      },
      "outputs": [],
      "source": [
        "history_a2 = model_a.fit(train_step2, epochs=30, validation_data=val_step)"
      ]
    },
    {
      "cell_type": "code",
      "execution_count": null,
      "metadata": {
        "id": "kQRHqdgeiCJn"
      },
      "outputs": [],
      "source": [
        "mae_a2 = history_a2.history['mae']\n",
        "val_mae_a2 = history_a2.history['val_mae']\n",
        "epoch_a2 = range(len(mae_a2))\n",
        "\n",
        "plt.title('minyakgoreng2 kualitas rendah 1 model 1 Adam type 1')\n",
        "plt.plot(epoch_a2, mae_a2, label='mae')\n",
        "plt.plot(epoch_a2, val_mae_a2, label='val mae')\n",
        "plt.legend()\n",
        "plt.show()"
      ]
    },
    {
      "cell_type": "code",
      "execution_count": null,
      "metadata": {
        "id": "Qg8IvFu8iCTf"
      },
      "outputs": [],
      "source": [
        "prediction_a2 = forecast_predict(model_a, test_minyakgoreng2_, time_size=win_size2, batch_size=5)\n",
        "\n",
        "data_result_a2 = prediction_a2[(len(x_train))-win_size2:-1, -1 ]\n",
        "data_result_a2 = scal_range.inverse_transform(data_result_a2.reshape(-1, 1))\n",
        "data_result_a2 = data_result_a2.reshape(-1)\n",
        "mae_a2= tf.keras.metrics.mean_absolute_error(x_test, data_result_a2)\n",
        "mape_a2 = tf.keras.metrics.mean_absolute_percentage_error(x_test, data_result_a2)\n",
        "mse_a2 = tf.keras.metrics.mean_squared_error(x_test, data_result_a2)\n",
        "\n",
        "rmse_a2 =math.sqrt(mse_a2.numpy())\n",
        "print(mae_a2.numpy(), mape_a2.numpy(), rmse_a2)\n",
        "\n",
        "data_new_minyakgoreng2_a2 = pd.DataFrame()\n",
        "# data_new_minyakgoreng21['date'] = date_test\n",
        "data_new_minyakgoreng2_a2['actual'] = x_test\n",
        "data_new_minyakgoreng2_a2['prediction'] = data_result_a2\n",
        "data_new_minyakgoreng2_a2.to_csv('minyakgoreng2_model1_adam_type3.csv')\n",
        "\n",
        "plt.plot(y_test, data_new_minyakgoreng2_a2.actual)\n",
        "plt.plot(y_test, data_new_minyakgoreng2_a2.prediction)\n",
        "data_new_minyakgoreng2_a2"
      ]
    },
    {
      "cell_type": "markdown",
      "metadata": {
        "id": "7nabeuv8vsUH"
      },
      "source": [
        "## model 1"
      ]
    },
    {
      "cell_type": "markdown",
      "metadata": {
        "id": "Y4p6Ncn9wm4t"
      },
      "source": [
        "### Adam"
      ]
    },
    {
      "cell_type": "code",
      "execution_count": null,
      "metadata": {
        "id": "8n1ovQAf5zYK"
      },
      "outputs": [],
      "source": [
        "model1= Sequential([\n",
        "    Conv1D(16, kernel_size=5, activation='relu', strides=2, input_shape=[None, 1], padding='causal'),\n",
        "    LSTM(128, return_sequences=True),\n",
        "    LSTM(32),\n",
        "    Dense(64, activation='relu'),\n",
        "    Dense(128, activation='relu'),\n",
        "    Dense(1)\n",
        "])\n",
        "\n",
        "model1.compile(optimizer=tf.keras.optimizers.Adam(learning_rate=1e-4), loss='mse', metrics=['mae', 'mape'])\n",
        "model1.summary()"
      ]
    },
    {
      "cell_type": "markdown",
      "metadata": {
        "id": "9Btvw0-PhqzX"
      },
      "source": [
        "#### Type 1"
      ]
    },
    {
      "cell_type": "code",
      "execution_count": null,
      "metadata": {
        "id": "pXXKqJx57MlB"
      },
      "outputs": [],
      "source": [
        "history1 = model1.fit(train_step, epochs=15, validation_data=val_step)"
      ]
    },
    {
      "cell_type": "code",
      "execution_count": null,
      "metadata": {
        "id": "u3Gea8rNG4m0"
      },
      "outputs": [],
      "source": [
        "model1.evaluate(test_step)\n",
        "mae1 = history1.history['mae']\n",
        "val_mae1 = history1.history['val_mae']\n",
        "epoch1 = range(len(mae1))\n",
        "\n",
        "plt.figure(figsize=(10, 5))\n",
        "plt.plot(epoch1, mae1, label='mae')\n",
        "plt.plot(epoch1, val_mae1, label='val mae')\n",
        "plt.legend()\n",
        "plt.show()"
      ]
    },
    {
      "cell_type": "code",
      "execution_count": null,
      "metadata": {
        "id": "XdmZ45FoWdi8"
      },
      "outputs": [],
      "source": [
        "prediction1 = forecast_predict(model1, test_minyakgoreng2_, time_size=win_size, batch_size=5)\n",
        "\n",
        "data_result1 = prediction1[(len(x_train))-win_size:-1, -1 ]\n",
        "data_result1 = scal_range.inverse_transform(data_result1.reshape(-1, 1))\n",
        "data_result1 = data_result1.reshape(-1)\n",
        "mae1 = tf.keras.metrics.mean_absolute_error(x_test, data_result1)\n",
        "mape1 = tf.keras.metrics.mean_absolute_percentage_error(x_test, data_result1)\n",
        "mse1 = tf.keras.metrics.mean_squared_error(x_test, data_result1)\n",
        "\n",
        "rmse1 = math.sqrt(mse1.numpy())\n",
        "print(mae1.numpy(), mape1.numpy(), rmse1)\n",
        "\n",
        "data_new_minyakgoreng21 = pd.DataFrame()\n",
        "data_new_minyakgoreng21['actual'] = x_test\n",
        "data_new_minyakgoreng21['prediction'] = data_result1\n",
        "data_new_minyakgoreng21.to_csv('minyakgoreng2_model2_adam_type1.csv')\n",
        "\n",
        "data_new_minyakgoreng21"
      ]
    },
    {
      "cell_type": "code",
      "execution_count": null,
      "metadata": {
        "id": "0zwgO6SckS8B"
      },
      "outputs": [],
      "source": [
        "plt.figure(figsize=(40, 10))\n",
        "plt.plot(range(len(x_test)), data_new_minyakgoreng21['actual'], '-o')\n",
        "plt.plot(range(len(x_test)), data_new_minyakgoreng21['prediction'], '-o')"
      ]
    },
    {
      "cell_type": "markdown",
      "metadata": {
        "id": "Vo7Cqjkbhs3q"
      },
      "source": [
        "#### Type 2"
      ]
    },
    {
      "cell_type": "code",
      "execution_count": null,
      "metadata": {
        "id": "Y17fj-rhhxc2"
      },
      "outputs": [],
      "source": [
        "history1_1 = model1.fit(train_step1, epochs=15, validation_data=val_step)"
      ]
    },
    {
      "cell_type": "code",
      "execution_count": null,
      "metadata": {
        "id": "MzE2KO23hxvw"
      },
      "outputs": [],
      "source": [
        "mae1_1 = history1_1.history['mae']\n",
        "val_mae1_1 = history1_1.history['val_mae']\n",
        "epoch1_1 = range(len(mae1_1))\n",
        "\n",
        "plt.plot(epoch1_1, mae1_1, label='mae')\n",
        "plt.plot(epoch1_1, val_mae1_1, label='val mae')\n",
        "plt.legend()\n",
        "plt.show()"
      ]
    },
    {
      "cell_type": "code",
      "execution_count": null,
      "metadata": {
        "id": "e-uIKg-ihx6N"
      },
      "outputs": [],
      "source": [
        "prediction1_1 = forecast_predict(model1, test_minyakgoreng2_, time_size=win_size1, batch_size=5)\n",
        "\n",
        "data_result1_1 = prediction1_1[(len(x_train))-win_size1:-1, -1 ]\n",
        "data_result1_1 = scal_range.inverse_transform(data_result1_1.reshape(-1, 1))\n",
        "data_result1_1 = data_result1_1.reshape(-1)\n",
        "mae1_1 = tf.keras.metrics.mean_absolute_error(x_test, data_result1_1)\n",
        "mape1_1 = tf.keras.metrics.mean_absolute_percentage_error(x_test, data_result1_1)\n",
        "mse1_1 = tf.keras.metrics.mean_squared_error(x_test, data_result1_1)\n",
        "\n",
        "rmse1_1 = math.sqrt(mse1.numpy())\n",
        "print(mae1_1.numpy(), mape1_1.numpy(), rmse1_1)\n",
        "\n",
        "data_new_minyakgoreng21_1 = pd.DataFrame()\n",
        "data_new_minyakgoreng21_1['actual'] = x_test\n",
        "data_new_minyakgoreng21_1['prediction'] = data_result1_1\n",
        "data_new_minyakgoreng21_1.to_csv('minyakgoreng2_model2_adam_type2.csv')\n",
        "\n",
        "plt.plot(y_test, data_new_minyakgoreng21_1.actual)\n",
        "plt.plot(y_test, data_new_minyakgoreng21_1.prediction)\n",
        "data_new_minyakgoreng21_1"
      ]
    },
    {
      "cell_type": "markdown",
      "metadata": {
        "id": "CqkhwFRthukJ"
      },
      "source": [
        "#### Type 3"
      ]
    },
    {
      "cell_type": "code",
      "execution_count": null,
      "metadata": {
        "id": "JRgHehEVhyqO"
      },
      "outputs": [],
      "source": [
        "history1_2 = model1.fit(train_step2, epochs=15, validation_data=val_step)"
      ]
    },
    {
      "cell_type": "code",
      "execution_count": null,
      "metadata": {
        "id": "zySYd9mahy1a"
      },
      "outputs": [],
      "source": [
        "mae1_2 = history1_2.history['mae']\n",
        "val_mae1_2 = history1_2.history['val_mae']\n",
        "epoch1_2 = range(len(mae1_2))\n",
        "\n",
        "plt.plot(epoch1_2, mae1_2, label='mae')\n",
        "plt.plot(epoch1_2, val_mae1_2, label='val mae')\n",
        "plt.legend()\n",
        "plt.show()"
      ]
    },
    {
      "cell_type": "code",
      "execution_count": null,
      "metadata": {
        "id": "ZVzOgUw_hy_4"
      },
      "outputs": [],
      "source": [
        "prediction1_2 = forecast_predict(model1, test_minyakgoreng2_, time_size=win_size2, batch_size=5)\n",
        "\n",
        "data_result1_2 = prediction1_2[(len(x_train))-win_size2:-1, -1 ]\n",
        "data_result1_2 = scal_range.inverse_transform(data_result1_2.reshape(-1, 1))\n",
        "data_result1_2 = data_result1_2.reshape(-1)\n",
        "mae1_2 = tf.keras.metrics.mean_absolute_error(x_test, data_result1_2)\n",
        "mape1_2 = tf.keras.metrics.mean_absolute_percentage_error(x_test, data_result1_2)\n",
        "mse1_2 = tf.keras.metrics.mean_squared_error(x_test, data_result1_2)\n",
        "rmse1_2 = math.sqrt(mse1.numpy())\n",
        "print(mae1_2.numpy(), mape1_2.numpy(), rmse1_2)\n",
        "\n",
        "data_new_minyakgoreng21_2 = pd.DataFrame()\n",
        "data_new_minyakgoreng21_2['actual'] = x_test\n",
        "data_new_minyakgoreng21_2['prediction'] = data_result1_2\n",
        "data_new_minyakgoreng21_2.to_csv('minyakgoreng2_model2_adam_type3.csv')\n",
        "\n",
        "plt.figure(figsize=(10, 5))\n",
        "plt.plot(y_test, data_new_minyakgoreng21_2.actual)\n",
        "plt.plot(y_test, data_new_minyakgoreng21_2.prediction)\n",
        "\n",
        "data_new_minyakgoreng21_2"
      ]
    },
    {
      "cell_type": "markdown",
      "metadata": {
        "id": "kfkJFbIcwqUO"
      },
      "source": [
        "### SGD"
      ]
    },
    {
      "cell_type": "code",
      "execution_count": null,
      "metadata": {
        "id": "_6CrDf0vtuMk"
      },
      "outputs": [],
      "source": [
        "model1_a= Sequential([\n",
        "    Conv1D(16, kernel_size=5, activation='relu', strides=2, input_shape=[None, 1], padding='causal'),\n",
        "    LSTM(128, return_sequences=True),\n",
        "    LSTM(32),\n",
        "    Dense(64, activation='relu'),\n",
        "    Dense(128, activation='relu'),\n",
        "    Dense(1)\n",
        "])\n",
        "\n",
        "model1_a.compile(optimizer=tf.keras.optimizers.SGD(learning_rate=1e-4, momentum=0.9), loss='mse', metrics=['mae', 'mape'])\n",
        "model1_a.summary()"
      ]
    },
    {
      "cell_type": "code",
      "execution_count": null,
      "metadata": {
        "id": "Cz-FZeq0DrkS"
      },
      "outputs": [],
      "source": [
        "# plot_model(model1, to_file='model2_plot.png', show_shapes=True, show_layer_names=True)"
      ]
    },
    {
      "cell_type": "markdown",
      "metadata": {
        "id": "LxQUOpKNopmm"
      },
      "source": [
        "#### Type1 "
      ]
    },
    {
      "cell_type": "code",
      "execution_count": null,
      "metadata": {
        "id": "o1xx23xFtwCU"
      },
      "outputs": [],
      "source": [
        "history1_a = model1_a.fit(train_step, epochs=15, validation_data=val_step)"
      ]
    },
    {
      "cell_type": "code",
      "execution_count": null,
      "metadata": {
        "id": "5FjDatqxuP9L"
      },
      "outputs": [],
      "source": [
        "mae1_a = history1_a.history['mae']\n",
        "val_mae1_a = history1_a.history['val_mae']\n",
        "epoch1_a = range(len(mae1_a))\n",
        "\n",
        "plt.plot(epoch1_a, mae1_a, label='mae')\n",
        "plt.plot(epoch1_a, val_mae1_a, label='val mae')\n",
        "plt.legend()\n",
        "plt.show()"
      ]
    },
    {
      "cell_type": "code",
      "execution_count": null,
      "metadata": {
        "id": "bf1lK6ujubjY"
      },
      "outputs": [],
      "source": [
        "prediction1_a = forecast_predict(model1_a, test_minyakgoreng2_, time_size=win_size, batch_size=5)\n",
        "\n",
        "data_result1_a = prediction1_a[(len(x_train))-win_size:-1, -1 ]\n",
        "data_result1_a = scal_range.inverse_transform(data_result1_a.reshape(-1, 1))\n",
        "data_result1_a = data_result1_a.reshape(-1)\n",
        "mae1_a = tf.keras.metrics.mean_absolute_error(x_test, data_result1_a)\n",
        "mape1_a = tf.keras.metrics.mean_absolute_percentage_error(x_test, data_result1_a)\n",
        "mse1_a = tf.keras.metrics.mean_squared_error(x_test, data_result1_a)\n",
        "\n",
        "rmse1_a = math.sqrt(mse1_a.numpy())\n",
        "print(mae1_a.numpy(), mape1_a.numpy(), rmse1_a)\n",
        "\n",
        "data_new_minyakgoreng21_a = pd.DataFrame()\n",
        "data_new_minyakgoreng21_a['actual'] = x_test\n",
        "data_new_minyakgoreng21_a['prediction'] = data_result1_a\n",
        "data_new_minyakgoreng21_a.to_csv('minyakgoreng2_model2_sgd_type1.csv')\n",
        "\n",
        "\n",
        "plt.plot(y_test, data_new_minyakgoreng21_a.actual)\n",
        "plt.plot(y_test, data_new_minyakgoreng21_a.prediction)\n",
        "\n",
        "data_new_minyakgoreng21_a"
      ]
    },
    {
      "cell_type": "markdown",
      "metadata": {
        "id": "Ea_HQo5moslW"
      },
      "source": [
        "#### Type 2\n"
      ]
    },
    {
      "cell_type": "code",
      "execution_count": null,
      "metadata": {
        "id": "TtJNEX5XqnwH"
      },
      "outputs": [],
      "source": [
        "history1_a1 = model1_a.fit(train_step1, epochs=15, validation_data=val_step)"
      ]
    },
    {
      "cell_type": "code",
      "execution_count": null,
      "metadata": {
        "id": "er5ksHynqvEl"
      },
      "outputs": [],
      "source": [
        "mae1_a1 = history1_a1.history['mae']\n",
        "val_mae1_a1 = history1_a1.history['val_mae']\n",
        "epoch1_a1 = range(len(mae1_a1))\n",
        "\n",
        "plt.plot(epoch1_a1, mae1_a1, label='mae')\n",
        "plt.plot(epoch1_a1, val_mae1_a1, label='val mae')\n",
        "plt.legend()\n",
        "plt.show()"
      ]
    },
    {
      "cell_type": "code",
      "execution_count": null,
      "metadata": {
        "id": "4BVVJ9OWqzrg"
      },
      "outputs": [],
      "source": [
        "prediction1_a1 = forecast_predict(model1_a, test_minyakgoreng2_, time_size=win_size1, batch_size=5)\n",
        "\n",
        "data_result1_a1 = prediction1_a1[(len(x_train))-win_size1:-1, -1 ]\n",
        "data_result1_a1 = scal_range.inverse_transform(data_result1_a1.reshape(-1, 1))\n",
        "data_result1_a1 = data_result1_a1.reshape(-1)\n",
        "mae1_a1 = tf.keras.metrics.mean_absolute_error(x_test, data_result1_a1)\n",
        "mape1_a1 = tf.keras.metrics.mean_absolute_percentage_error(x_test, data_result1_a1)\n",
        "mse1_a1 = tf.keras.metrics.mean_squared_error(x_test, data_result1_a1)\n",
        "\n",
        "rmse1_a1 = math.sqrt(mse1_a1.numpy())\n",
        "print(mae1_a1.numpy(), mape1_a1.numpy(), rmse1_a1)\n",
        "\n",
        "data_new_minyakgoreng21_a1 = pd.DataFrame()\n",
        "data_new_minyakgoreng21_a1['actual'] = x_test\n",
        "data_new_minyakgoreng21_a1['prediction'] = data_result1_a1\n",
        "data_new_minyakgoreng21_a1.to_csv('minyakgoreng2_model2_sgd_type2.csv')\n",
        "\n",
        "plt.figure(figsize=(10, 5))\n",
        "plt.plot(y_test, data_new_minyakgoreng21_a1.actual)\n",
        "plt.plot(y_test, data_new_minyakgoreng21_a1.prediction)\n",
        "data_new_minyakgoreng21_a1"
      ]
    },
    {
      "cell_type": "markdown",
      "metadata": {
        "id": "DV2yl6WiosyY"
      },
      "source": [
        "#### Type 3"
      ]
    },
    {
      "cell_type": "code",
      "execution_count": null,
      "metadata": {
        "id": "bxCSBURaqoTS"
      },
      "outputs": [],
      "source": [
        "history1_a2 = model1_a.fit(train_step2, epochs=15, validation_data=val_step)"
      ]
    },
    {
      "cell_type": "code",
      "execution_count": null,
      "metadata": {
        "id": "AVpNiAv2qvdI"
      },
      "outputs": [],
      "source": [
        "mae1_a2 = history1_a2.history['mae']\n",
        "val_mae1_a2 = history1_a2.history['val_mae']\n",
        "epoch1_a2 = range(len(mae1_a2))\n",
        "\n",
        "plt.plot(epoch1_a2, mae1_a2, label='mae')\n",
        "plt.plot(epoch1_a2, val_mae1_a2, label='val mae')\n",
        "plt.legend()\n",
        "plt.show()"
      ]
    },
    {
      "cell_type": "code",
      "execution_count": null,
      "metadata": {
        "id": "1WGTvj2Lq0tf"
      },
      "outputs": [],
      "source": [
        "prediction1_a2 = forecast_predict(model1_a, test_minyakgoreng2_, time_size=win_size2, batch_size=5)\n",
        "\n",
        "data_result1_a2 = prediction1_a2[(len(x_train))-win_size2:-1, -1 ]\n",
        "data_result1_a2 = scal_range.inverse_transform(data_result1_a2.reshape(-1, 1))\n",
        "data_result1_a2 = data_result1_a2.reshape(-1)\n",
        "mae1_a2 = tf.keras.metrics.mean_absolute_error(x_test, data_result1_a2)\n",
        "mape1_a2 = tf.keras.metrics.mean_absolute_percentage_error(x_test, data_result1_a2)\n",
        "mse1_a2 = tf.keras.metrics.mean_squared_error(x_test, data_result1_a2)\n",
        "\n",
        "rmse1_a2 = math.sqrt(mse1_a2.numpy())\n",
        "print(mae1_a2.numpy(), mape1_a2.numpy(), rmse1_a2)\n",
        "\n",
        "data_new_minyakgoreng21_a2 = pd.DataFrame()\n",
        "data_new_minyakgoreng21_a2['actual'] = x_test\n",
        "data_new_minyakgoreng21_a2['prediction'] = data_result1_a2\n",
        "data_new_minyakgoreng21_a2.to_csv('minyakgoreng2_model2_sgd_type3.csv')\n",
        "\n",
        "plt.figure(figsize=(10, 5))\n",
        "plt.plot(y_test, data_new_minyakgoreng21_a2.actual)\n",
        "plt.plot(y_test, data_new_minyakgoreng21_a2.prediction)\n",
        "\n",
        "data_new_minyakgoreng21_a2"
      ]
    },
    {
      "cell_type": "markdown",
      "metadata": {
        "id": "C2qjcz7Aw7qP"
      },
      "source": [
        "## model 2"
      ]
    },
    {
      "cell_type": "markdown",
      "metadata": {
        "id": "WHH7TqavxBY4"
      },
      "source": [
        "### SGD"
      ]
    },
    {
      "cell_type": "code",
      "execution_count": null,
      "metadata": {
        "id": "KV8_Ov4Ew_5k"
      },
      "outputs": [],
      "source": [
        "model2= Sequential([\n",
        "    Conv1D(8, kernel_size=5, \n",
        "                            activation='relu',strides=2,\n",
        "                            padding='causal', input_shape=[None, 1]),\n",
        "    tf.keras.layers.MaxPool1D(2, padding=\"same\"),\n",
        "    LSTM(14, return_sequences=True),\n",
        "    Dropout(0.3),\n",
        "    LSTM(64),\n",
        "    Dense(24, activation='relu'),\n",
        "    Dense(550, activation='relu'),\n",
        "    Dense(1)\n",
        "])\n",
        "\n",
        "model2.compile(optimizer=tf.keras.optimizers.SGD(learning_rate=1e-4, momentum=0.9), loss='mse', metrics=['mae', 'mape'])\n",
        "model2.summary()"
      ]
    },
    {
      "cell_type": "code",
      "execution_count": null,
      "metadata": {
        "id": "Evt2O2NzDZVR"
      },
      "outputs": [],
      "source": [
        "# plot_model(model2, to_file='model3_plot.png', show_shapes=True, show_layer_names=True)"
      ]
    },
    {
      "cell_type": "markdown",
      "metadata": {
        "id": "kCLo3HlahYSW"
      },
      "source": [
        "#### Type 1"
      ]
    },
    {
      "cell_type": "code",
      "execution_count": null,
      "metadata": {
        "id": "IFA5L0kkxAVP"
      },
      "outputs": [],
      "source": [
        "history2 = model2.fit(train_step, epochs=50, validation_data=val_step)"
      ]
    },
    {
      "cell_type": "code",
      "execution_count": null,
      "metadata": {
        "id": "jf9ZUadgxAjf"
      },
      "outputs": [],
      "source": [
        "mae2 = history2.history['mae']\n",
        "val_mae2 = history2.history['val_mae']\n",
        "loss2 = history2.history['loss']\n",
        "val_loss2 = history2.history['val_loss']\n",
        "epoch2 = range(len(mae2))\n",
        "\n",
        "plt.figure(figsize=(20, 5))\n",
        "plt.subplot(1,2, 1)\n",
        "plt.plot(epoch2, mae2, label='mae')\n",
        "plt.plot(epoch2, val_mae2, label='val mae')\n",
        "plt.legend()\n",
        "plt.subplot(1,2,2)\n",
        "plt.plot(epoch2, loss2, label='loss')\n",
        "plt.plot(epoch2, val_loss2, label='val loss')\n",
        "plt.legend()\n",
        "plt.show()"
      ]
    },
    {
      "cell_type": "code",
      "execution_count": null,
      "metadata": {
        "id": "VHAK1Pb1xA3H"
      },
      "outputs": [],
      "source": [
        "prediction2 = forecast_predict(model2, test_minyakgoreng2_, time_size=win_size, batch_size=5)\n",
        "\n",
        "data_result2 = prediction2[(len(x_train))-win_size:-1, -1 ]\n",
        "data_result2 = scal_range.inverse_transform(data_result2.reshape(-1, 1))\n",
        "data_result2 = data_result2.reshape(-1)\n",
        "mae2 = tf.keras.metrics.mean_absolute_error(x_test, data_result2)\n",
        "mape2 = tf.keras.metrics.mean_absolute_percentage_error(x_test, data_result2)\n",
        "mse2 = tf.keras.metrics.mean_squared_error(x_test, data_result2)\n",
        "\n",
        "rmse2 = math.sqrt(mse2.numpy())\n",
        "print(mae2.numpy(), mape2.numpy(), rmse2)\n",
        "\n",
        "data_new_minyakgoreng22 = pd.DataFrame()\n",
        "data_new_minyakgoreng22['actual'] = x_test\n",
        "data_new_minyakgoreng22['prediction'] = data_result2\n",
        "data_new_minyakgoreng22.to_csv('minyakgoreng2_medium_model3_sgd_type1.csv')\n",
        "\n",
        "plt.figure(figsize=(10, 5))\n",
        "plt.plot(y_test, data_new_minyakgoreng22.actual)\n",
        "plt.plot(y_test, data_new_minyakgoreng22.prediction)\n",
        "data_new_minyakgoreng22"
      ]
    },
    {
      "cell_type": "markdown",
      "metadata": {
        "id": "PeqDAoSVhdie"
      },
      "source": [
        "#### Type2"
      ]
    },
    {
      "cell_type": "code",
      "execution_count": null,
      "metadata": {
        "colab": {
          "background_save": true
        },
        "id": "P2m8Lanihg6h",
        "outputId": "e0994fe9-83b5-4f1f-d4d0-c2eb14ceb393"
      },
      "outputs": [
        {
          "name": "stdout",
          "output_type": "stream",
          "text": [
            "Epoch 1/50\n",
            "718/718 [==============================] - 12s 17ms/step - loss: 0.0117 - mae: 0.0875 - mape: 525337.0000 - val_loss: 0.0191 - val_mae: 0.0764 - val_mape: 27.8631\n",
            "Epoch 2/50\n",
            "718/718 [==============================] - 12s 17ms/step - loss: 0.0114 - mae: 0.0887 - mape: 430618.0625 - val_loss: 0.0190 - val_mae: 0.0777 - val_mape: 28.9171\n",
            "Epoch 3/50\n",
            "718/718 [==============================] - 12s 17ms/step - loss: 0.0113 - mae: 0.0883 - mape: 469190.5000 - val_loss: 0.0189 - val_mae: 0.0779 - val_mape: 29.1020\n",
            "Epoch 4/50\n",
            "718/718 [==============================] - 12s 17ms/step - loss: 0.0111 - mae: 0.0866 - mape: 482748.1250 - val_loss: 0.0190 - val_mae: 0.0777 - val_mape: 28.9342\n",
            "Epoch 5/50\n",
            "718/718 [==============================] - 12s 16ms/step - loss: 0.0110 - mae: 0.0868 - mape: 435854.5312 - val_loss: 0.0190 - val_mae: 0.0776 - val_mape: 28.8510\n",
            "Epoch 6/50\n",
            "718/718 [==============================] - 12s 17ms/step - loss: 0.0110 - mae: 0.0863 - mape: 475530.0312 - val_loss: 0.0189 - val_mae: 0.0781 - val_mape: 29.2579\n",
            "Epoch 7/50\n",
            "718/718 [==============================] - 12s 16ms/step - loss: 0.0108 - mae: 0.0846 - mape: 443128.5000 - val_loss: 0.0187 - val_mae: 0.0804 - val_mape: 31.0724\n",
            "Epoch 8/50\n",
            "718/718 [==============================] - 14s 19ms/step - loss: 0.0107 - mae: 0.0841 - mape: 494228.1875 - val_loss: 0.0189 - val_mae: 0.0787 - val_mape: 29.7546\n",
            "Epoch 9/50\n",
            "718/718 [==============================] - 12s 17ms/step - loss: 0.0106 - mae: 0.0850 - mape: 463210.7812 - val_loss: 0.0188 - val_mae: 0.0794 - val_mape: 30.2389\n",
            "Epoch 10/50\n",
            "718/718 [==============================] - 13s 18ms/step - loss: 0.0105 - mae: 0.0835 - mape: 479279.5625 - val_loss: 0.0189 - val_mae: 0.0783 - val_mape: 29.3876\n",
            "Epoch 11/50\n",
            "718/718 [==============================] - 12s 17ms/step - loss: 0.0104 - mae: 0.0832 - mape: 480308.6250 - val_loss: 0.0187 - val_mae: 0.0806 - val_mape: 31.2083\n",
            "Epoch 12/50\n",
            "718/718 [==============================] - 12s 17ms/step - loss: 0.0104 - mae: 0.0832 - mape: 452476.5625 - val_loss: 0.0188 - val_mae: 0.0792 - val_mape: 30.0942\n",
            "Epoch 13/50\n",
            "718/718 [==============================] - 12s 17ms/step - loss: 0.0102 - mae: 0.0821 - mape: 421941.9375 - val_loss: 0.0187 - val_mae: 0.0810 - val_mape: 31.4976\n",
            "Epoch 14/50\n",
            "718/718 [==============================] - 13s 18ms/step - loss: 0.0102 - mae: 0.0822 - mape: 421483.8438 - val_loss: 0.0188 - val_mae: 0.0802 - val_mape: 30.9099\n",
            "Epoch 15/50\n",
            "718/718 [==============================] - 12s 17ms/step - loss: 0.0100 - mae: 0.0815 - mape: 424323.8438 - val_loss: 0.0187 - val_mae: 0.0804 - val_mape: 31.0528\n",
            "Epoch 16/50\n",
            "718/718 [==============================] - 12s 17ms/step - loss: 0.0099 - mae: 0.0799 - mape: 397716.0938 - val_loss: 0.0186 - val_mae: 0.0821 - val_mape: 32.3764\n",
            "Epoch 17/50\n",
            "718/718 [==============================] - 13s 17ms/step - loss: 0.0099 - mae: 0.0813 - mape: 420567.9375 - val_loss: 0.0187 - val_mae: 0.0805 - val_mape: 31.0814\n",
            "Epoch 18/50\n",
            "718/718 [==============================] - 12s 17ms/step - loss: 0.0095 - mae: 0.0785 - mape: 414808.8750 - val_loss: 0.0186 - val_mae: 0.0834 - val_mape: 33.3289\n",
            "Epoch 19/50\n",
            "718/718 [==============================] - 12s 17ms/step - loss: 0.0094 - mae: 0.0784 - mape: 392821.2188 - val_loss: 0.0186 - val_mae: 0.0835 - val_mape: 33.4188\n",
            "Epoch 20/50\n",
            "718/718 [==============================] - 13s 18ms/step - loss: 0.0096 - mae: 0.0778 - mape: 422075.0000 - val_loss: 0.0187 - val_mae: 0.0817 - val_mape: 32.0555\n",
            "Epoch 21/50\n",
            "718/718 [==============================] - 13s 18ms/step - loss: 0.0095 - mae: 0.0776 - mape: 404592.2188 - val_loss: 0.0187 - val_mae: 0.0811 - val_mape: 31.5484\n",
            "Epoch 22/50\n",
            "718/718 [==============================] - 12s 17ms/step - loss: 0.0092 - mae: 0.0768 - mape: 372343.3438 - val_loss: 0.0186 - val_mae: 0.0823 - val_mape: 32.4608\n",
            "Epoch 23/50\n",
            "718/718 [==============================] - 13s 17ms/step - loss: 0.0092 - mae: 0.0759 - mape: 378863.0312 - val_loss: 0.0186 - val_mae: 0.0823 - val_mape: 32.5132\n",
            "Epoch 24/50\n",
            "718/718 [==============================] - 13s 18ms/step - loss: 0.0091 - mae: 0.0763 - mape: 496985.3438 - val_loss: 0.0186 - val_mae: 0.0843 - val_mape: 33.9817\n",
            "Epoch 25/50\n",
            "718/718 [==============================] - 12s 17ms/step - loss: 0.0088 - mae: 0.0742 - mape: 495095.0000 - val_loss: 0.0186 - val_mae: 0.0849 - val_mape: 34.4106\n",
            "Epoch 26/50\n",
            "718/718 [==============================] - 13s 18ms/step - loss: 0.0088 - mae: 0.0732 - mape: 454851.9688 - val_loss: 0.0186 - val_mae: 0.0840 - val_mape: 33.7211\n",
            "Epoch 27/50\n",
            "718/718 [==============================] - 13s 18ms/step - loss: 0.0086 - mae: 0.0731 - mape: 363277.8438 - val_loss: 0.0186 - val_mae: 0.0858 - val_mape: 35.0408\n",
            "Epoch 28/50\n",
            "718/718 [==============================] - 12s 17ms/step - loss: 0.0086 - mae: 0.0733 - mape: 364254.3438 - val_loss: 0.0186 - val_mae: 0.0860 - val_mape: 35.2022\n",
            "Epoch 29/50\n",
            "718/718 [==============================] - 12s 17ms/step - loss: 0.0086 - mae: 0.0725 - mape: 433330.1250 - val_loss: 0.0186 - val_mae: 0.0830 - val_mape: 32.9419\n",
            "Epoch 30/50\n",
            "718/718 [==============================] - 12s 17ms/step - loss: 0.0083 - mae: 0.0703 - mape: 347484.3750 - val_loss: 0.0186 - val_mae: 0.0875 - val_mape: 36.2879\n",
            "Epoch 31/50\n",
            "718/718 [==============================] - 12s 17ms/step - loss: 0.0082 - mae: 0.0700 - mape: 359278.6562 - val_loss: 0.0186 - val_mae: 0.0875 - val_mape: 36.2954\n",
            "Epoch 32/50\n",
            "718/718 [==============================] - 12s 17ms/step - loss: 0.0080 - mae: 0.0690 - mape: 392192.8125 - val_loss: 0.0186 - val_mae: 0.0869 - val_mape: 35.8021\n",
            "Epoch 33/50\n",
            "718/718 [==============================] - 12s 17ms/step - loss: 0.0080 - mae: 0.0691 - mape: 458797.8750 - val_loss: 0.0186 - val_mae: 0.0849 - val_mape: 34.3611\n",
            "Epoch 34/50\n",
            "718/718 [==============================] - 12s 17ms/step - loss: 0.0081 - mae: 0.0690 - mape: 342020.5625 - val_loss: 0.0186 - val_mae: 0.0841 - val_mape: 33.7701\n",
            "Epoch 35/50\n",
            "718/718 [==============================] - 13s 18ms/step - loss: 0.0080 - mae: 0.0681 - mape: 333937.0312 - val_loss: 0.0186 - val_mae: 0.0838 - val_mape: 33.5172\n",
            "Epoch 36/50\n",
            "718/718 [==============================] - 12s 17ms/step - loss: 0.0078 - mae: 0.0685 - mape: 430158.0312 - val_loss: 0.0186 - val_mae: 0.0862 - val_mape: 35.2652\n",
            "Epoch 37/50\n",
            "718/718 [==============================] - 12s 17ms/step - loss: 0.0078 - mae: 0.0681 - mape: 393025.2188 - val_loss: 0.0186 - val_mae: 0.0853 - val_mape: 34.6312\n",
            "Epoch 38/50\n",
            "718/718 [==============================] - 12s 17ms/step - loss: 0.0076 - mae: 0.0673 - mape: 356670.7812 - val_loss: 0.0186 - val_mae: 0.0895 - val_mape: 37.6201\n",
            "Epoch 39/50\n",
            "718/718 [==============================] - 12s 17ms/step - loss: 0.0076 - mae: 0.0655 - mape: 336826.8750 - val_loss: 0.0186 - val_mae: 0.0858 - val_mape: 34.9557\n",
            "Epoch 40/50\n",
            "718/718 [==============================] - 12s 17ms/step - loss: 0.0075 - mae: 0.0652 - mape: 361974.1562 - val_loss: 0.0186 - val_mae: 0.0860 - val_mape: 35.1271\n",
            "Epoch 41/50\n",
            "718/718 [==============================] - 12s 17ms/step - loss: 0.0073 - mae: 0.0633 - mape: 425063.0938 - val_loss: 0.0186 - val_mae: 0.0880 - val_mape: 36.5748\n",
            "Epoch 42/50\n",
            "718/718 [==============================] - 12s 17ms/step - loss: 0.0071 - mae: 0.0630 - mape: 303162.0625 - val_loss: 0.0186 - val_mae: 0.0887 - val_mape: 37.0066\n",
            "Epoch 43/50\n",
            "718/718 [==============================] - 12s 17ms/step - loss: 0.0072 - mae: 0.0636 - mape: 311487.4375 - val_loss: 0.0186 - val_mae: 0.0873 - val_mape: 36.0212\n",
            "Epoch 44/50\n",
            "718/718 [==============================] - 12s 17ms/step - loss: 0.0070 - mae: 0.0618 - mape: 312565.6562 - val_loss: 0.0186 - val_mae: 0.0891 - val_mape: 37.2702\n",
            "Epoch 45/50\n",
            "718/718 [==============================] - 12s 17ms/step - loss: 0.0071 - mae: 0.0622 - mape: 342052.1562 - val_loss: 0.0186 - val_mae: 0.0871 - val_mape: 35.8412\n",
            "Epoch 46/50\n",
            "718/718 [==============================] - 13s 18ms/step - loss: 0.0069 - mae: 0.0618 - mape: 328322.3750 - val_loss: 0.0186 - val_mae: 0.0883 - val_mape: 36.7501\n",
            "Epoch 47/50\n",
            "718/718 [==============================] - 12s 17ms/step - loss: 0.0067 - mae: 0.0597 - mape: 296591.1875 - val_loss: 0.0187 - val_mae: 0.0902 - val_mape: 38.0226\n",
            "Epoch 48/50\n",
            "718/718 [==============================] - 13s 18ms/step - loss: 0.0068 - mae: 0.0595 - mape: 331947.0000 - val_loss: 0.0187 - val_mae: 0.0856 - val_mape: 34.7711\n",
            "Epoch 49/50\n",
            "718/718 [==============================] - 12s 17ms/step - loss: 0.0067 - mae: 0.0598 - mape: 306482.9062 - val_loss: 0.0187 - val_mae: 0.0881 - val_mape: 36.5516\n",
            "Epoch 50/50\n",
            "718/718 [==============================] - 12s 17ms/step - loss: 0.0066 - mae: 0.0598 - mape: 319922.0938 - val_loss: 0.0187 - val_mae: 0.0885 - val_mape: 36.8311\n"
          ]
        }
      ],
      "source": [
        "history2_1 = model2.fit(train_step1, epochs=50, validation_data=val_step)"
      ]
    },
    {
      "cell_type": "code",
      "execution_count": null,
      "metadata": {
        "colab": {
          "background_save": true
        },
        "id": "71EAoB6GhhF9",
        "outputId": "74f09c49-1105-4f49-c205-685f76c7e4e9"
      },
      "outputs": [
        {
          "data": {
            "image/png": "[encoded data removed]",
            "text/plain": [
              "<Figure size 432x288 with 1 Axes>"
            ]
          },
          "metadata": {},
          "output_type": "display_data"
        }
      ],
      "source": [
        "mae2_1 = history2_1.history['mae']\n",
        "val_mae2_1 = history2_1.history['val_mae']\n",
        "epoch2_1 = range(len(mae2_1))\n",
        "\n",
        "plt.plot(epoch2_1, mae2_1, label='mae')\n",
        "plt.plot(epoch2_1, val_mae2_1, label='val mae')\n",
        "plt.legend()\n",
        "plt.show()"
      ]
    },
    {
      "cell_type": "code",
      "execution_count": null,
      "metadata": {
        "colab": {
          "background_save": true
        },
        "id": "wnn7RL52hhPp",
        "outputId": "17e577d6-ca22-4a53-b334-1ed1dfe2a9ac"
      },
      "outputs": [
        {
          "name": "stdout",
          "output_type": "stream",
          "text": [
            "199/199 [==============================] - 1s 4ms/step\n",
            "2167.147 10.465735 3201.338313893113\n"
          ]
        },
        {
          "data": {
            "text/html": [
              "\n",
              "  <div id=\"df-075d857b-caee-4b71-a855-9e9bd0d37b26\">\n",
              "    <div class=\"colab-df-container\">\n",
              "      <div>\n",
              "<style scoped>\n",
              "    .dataframe tbody tr th:only-of-type {\n",
              "        vertical-align: middle;\n",
              "    }\n",
              "\n",
              "    .dataframe tbody tr th {\n",
              "        vertical-align: top;\n",
              "    }\n",
              "\n",
              "    .dataframe thead th {\n",
              "        text-align: right;\n",
              "    }\n",
              "</style>\n",
              "<table border=\"1\" class=\"dataframe\">\n",
              "  <thead>\n",
              "    <tr style=\"text-align: right;\">\n",
              "      <th></th>\n",
              "      <th>actual</th>\n",
              "      <th>prediction</th>\n",
              "    </tr>\n",
              "  </thead>\n",
              "  <tbody>\n",
              "    <tr>\n",
              "      <th>0</th>\n",
              "      <td>15100</td>\n",
              "      <td>16660.630859</td>\n",
              "    </tr>\n",
              "    <tr>\n",
              "      <th>1</th>\n",
              "      <td>15100</td>\n",
              "      <td>16661.480469</td>\n",
              "    </tr>\n",
              "    <tr>\n",
              "      <th>2</th>\n",
              "      <td>15150</td>\n",
              "      <td>16662.107422</td>\n",
              "    </tr>\n",
              "    <tr>\n",
              "      <th>3</th>\n",
              "      <td>15150</td>\n",
              "      <td>16660.396484</td>\n",
              "    </tr>\n",
              "    <tr>\n",
              "      <th>4</th>\n",
              "      <td>15150</td>\n",
              "      <td>16661.779297</td>\n",
              "    </tr>\n",
              "    <tr>\n",
              "      <th>...</th>\n",
              "      <td>...</td>\n",
              "      <td>...</td>\n",
              "    </tr>\n",
              "    <tr>\n",
              "      <th>229</th>\n",
              "      <td>18400</td>\n",
              "      <td>16850.873047</td>\n",
              "    </tr>\n",
              "    <tr>\n",
              "      <th>230</th>\n",
              "      <td>19550</td>\n",
              "      <td>16850.646484</td>\n",
              "    </tr>\n",
              "    <tr>\n",
              "      <th>231</th>\n",
              "      <td>25550</td>\n",
              "      <td>16850.966797</td>\n",
              "    </tr>\n",
              "    <tr>\n",
              "      <th>232</th>\n",
              "      <td>20400</td>\n",
              "      <td>16844.085938</td>\n",
              "    </tr>\n",
              "    <tr>\n",
              "      <th>233</th>\n",
              "      <td>25450</td>\n",
              "      <td>16846.742188</td>\n",
              "    </tr>\n",
              "  </tbody>\n",
              "</table>\n",
              "<p>234 rows × 2 columns</p>\n",
              "</div>\n",
              "      <button class=\"colab-df-convert\" onclick=\"convertToInteractive('df-075d857b-caee-4b71-a855-9e9bd0d37b26')\"\n",
              "              title=\"Convert this dataframe to an interactive table.\"\n",
              "              style=\"display:none;\">\n",
              "        \n",
              "  <svg xmlns=\"http://www.w3.org/2000/svg\" height=\"24px\"viewBox=\"0 0 24 24\"\n",
              "       width=\"24px\">\n",
              "    <path d=\"M0 0h24v24H0V0z\" fill=\"none\"/>\n",
              "    <path d=\"M18.56 5.44l.94 2.06.94-2.06 2.06-.94-2.06-.94-.94-2.06-.94 2.06-2.06.94zm-11 1L8.5 8.5l.94-2.06 2.06-.94-2.06-.94L8.5 2.5l-.94 2.06-2.06.94zm10 10l.94 2.06.94-2.06 2.06-.94-2.06-.94-.94-2.06-.94 2.06-2.06.94z\"/><path d=\"M17.41 7.96l-1.37-1.37c-.4-.4-.92-.59-1.43-.59-.52 0-1.04.2-1.43.59L10.3 9.45l-7.72 7.72c-.78.78-.78 2.05 0 2.83L4 21.41c.39.39.9.59 1.41.59.51 0 1.02-.2 1.41-.59l7.78-7.78 2.81-2.81c.8-.78.8-2.07 0-2.86zM5.41 20L4 18.59l7.72-7.72 1.47 1.35L5.41 20z\"/>\n",
              "  </svg>\n",
              "      </button>\n",
              "      \n",
              "  <style>\n",
              "    .colab-df-container {\n",
              "      display:flex;\n",
              "      flex-wrap:wrap;\n",
              "      gap: 12px;\n",
              "    }\n",
              "\n",
              "    .colab-df-convert {\n",
              "      background-color: #E8F0FE;\n",
              "      border: none;\n",
              "      border-radius: 50%;\n",
              "      cursor: pointer;\n",
              "      display: none;\n",
              "      fill: #1967D2;\n",
              "      height: 32px;\n",
              "      padding: 0 0 0 0;\n",
              "      width: 32px;\n",
              "    }\n",
              "\n",
              "    .colab-df-convert:hover {\n",
              "      background-color: #E2EBFA;\n",
              "      box-shadow: 0px 1px 2px rgba(60, 64, 67, 0.3), 0px 1px 3px 1px rgba(60, 64, 67, 0.15);\n",
              "      fill: #174EA6;\n",
              "    }\n",
              "\n",
              "    [theme=dark] .colab-df-convert {\n",
              "      background-color: #3B4455;\n",
              "      fill: #D2E3FC;\n",
              "    }\n",
              "\n",
              "    [theme=dark] .colab-df-convert:hover {\n",
              "      background-color: #434B5C;\n",
              "      box-shadow: 0px 1px 3px 1px rgba(0, 0, 0, 0.15);\n",
              "      filter: drop-shadow(0px 1px 2px rgba(0, 0, 0, 0.3));\n",
              "      fill: #FFFFFF;\n",
              "    }\n",
              "  </style>\n",
              "\n",
              "      <script>\n",
              "        const buttonEl =\n",
              "          document.querySelector('#df-075d857b-caee-4b71-a855-9e9bd0d37b26 button.colab-df-convert');\n",
              "        buttonEl.style.display =\n",
              "          google.colab.kernel.accessAllowed ? 'block' : 'none';\n",
              "\n",
              "        async function convertToInteractive(key) {\n",
              "          const element = document.querySelector('#df-075d857b-caee-4b71-a855-9e9bd0d37b26');\n",
              "          const dataTable =\n",
              "            await google.colab.kernel.invokeFunction('convertToInteractive',\n",
              "                                                     [key], {});\n",
              "          if (!dataTable) return;\n",
              "\n",
              "          const docLinkHtml = 'Like what you see? Visit the ' +\n",
              "            '<a target=\"_blank\" href=https://colab.research.google.com/notebooks/data_table.ipynb>data table notebook</a>'\n",
              "            + ' to learn more about interactive tables.';\n",
              "          element.innerHTML = '';\n",
              "          dataTable['output_type'] = 'display_data';\n",
              "          await google.colab.output.renderOutput(dataTable, element);\n",
              "          const docLink = document.createElement('div');\n",
              "          docLink.innerHTML = docLinkHtml;\n",
              "          element.appendChild(docLink);\n",
              "        }\n",
              "      </script>\n",
              "    </div>\n",
              "  </div>\n",
              "  "
            ],
            "text/plain": [
              "     actual    prediction\n",
              "0     15100  16660.630859\n",
              "1     15100  16661.480469\n",
              "2     15150  16662.107422\n",
              "3     15150  16660.396484\n",
              "4     15150  16661.779297\n",
              "..      ...           ...\n",
              "229   18400  16850.873047\n",
              "230   19550  16850.646484\n",
              "231   25550  16850.966797\n",
              "232   20400  16844.085938\n",
              "233   25450  16846.742188\n",
              "\n",
              "[234 rows x 2 columns]"
            ]
          },
          "execution_count": 63,
          "metadata": {},
          "output_type": "execute_result"
        }
      ],
      "source": [
        "prediction2_1 = forecast_predict(model2, test_minyakgoreng2_, time_size=win_size1, batch_size=5)\n",
        "\n",
        "data_result2_1 = prediction2_1[(len(x_train))-win_size1:-1, -1 ]\n",
        "data_result2_1 = scal_range.inverse_transform(data_result2_1.reshape(-1, 1))\n",
        "data_result2_1 = data_result2_1.reshape(-1)\n",
        "mae2_1 = tf.keras.metrics.mean_absolute_error(x_test, data_result2_1)\n",
        "mape2_1 = tf.keras.metrics.mean_absolute_percentage_error(x_test, data_result2_1)\n",
        "mse2_1 = tf.keras.metrics.mean_squared_error(x_test, data_result2_1)\n",
        "\n",
        "rmse2_1 = math.sqrt(mse2_1.numpy())\n",
        "print(mae2_1.numpy(), mape2_1.numpy(), rmse2_1)\n",
        "\n",
        "data_new_minyakgoreng22_1 = pd.DataFrame()\n",
        "data_new_minyakgoreng22_1['actual'] = x_test\n",
        "data_new_minyakgoreng22_1['prediction'] = data_result2_1\n",
        "data_new_minyakgoreng22_1.to_csv('minyakgoreng2_model3_sgd_type2.csv')\n",
        "\n",
        "data_new_minyakgoreng22"
      ]
    },
    {
      "cell_type": "code",
      "execution_count": null,
      "metadata": {
        "colab": {
          "background_save": true
        },
        "id": "XQHmar16UIIF"
      },
      "outputs": [],
      "source": []
    },
    {
      "cell_type": "markdown",
      "metadata": {
        "id": "SQsB8UWdhhkT"
      },
      "source": [
        "#### Type 3"
      ]
    },
    {
      "cell_type": "code",
      "execution_count": null,
      "metadata": {
        "colab": {
          "background_save": true
        },
        "id": "OB5rX-ZohjQb",
        "outputId": "3322d6bd-b056-4f21-ad67-451e5a6a59ea"
      },
      "outputs": [
        {
          "name": "stdout",
          "output_type": "stream",
          "text": [
            "Epoch 1/50\n",
            "84/84 [==============================] - 6s 69ms/step - loss: 0.0102 - mae: 0.0788 - mape: 773768.5000 - val_loss: 0.0192 - val_mae: 0.0777 - val_mape: 28.5668\n",
            "Epoch 2/50\n",
            "84/84 [==============================] - 6s 66ms/step - loss: 0.0094 - mae: 0.0740 - mape: 696045.7500 - val_loss: 0.0198 - val_mae: 0.0751 - val_mape: 26.1663\n",
            "Epoch 3/50\n",
            "84/84 [==============================] - 6s 67ms/step - loss: 0.0094 - mae: 0.0737 - mape: 668719.8750 - val_loss: 0.0200 - val_mae: 0.0748 - val_mape: 25.7059\n",
            "Epoch 4/50\n",
            "84/84 [==============================] - 6s 66ms/step - loss: 0.0093 - mae: 0.0731 - mape: 637745.2500 - val_loss: 0.0200 - val_mae: 0.0748 - val_mape: 25.5680\n",
            "Epoch 5/50\n",
            "84/84 [==============================] - 6s 67ms/step - loss: 0.0092 - mae: 0.0724 - mape: 619243.4375 - val_loss: 0.0200 - val_mae: 0.0748 - val_mape: 25.5669\n",
            "Epoch 6/50\n",
            "84/84 [==============================] - 6s 66ms/step - loss: 0.0092 - mae: 0.0724 - mape: 640288.5000 - val_loss: 0.0200 - val_mae: 0.0748 - val_mape: 25.6612\n",
            "Epoch 7/50\n",
            "84/84 [==============================] - 6s 65ms/step - loss: 0.0092 - mae: 0.0725 - mape: 631437.6875 - val_loss: 0.0201 - val_mae: 0.0747 - val_mape: 25.4132\n",
            "Epoch 8/50\n",
            "84/84 [==============================] - 6s 70ms/step - loss: 0.0093 - mae: 0.0726 - mape: 618805.8125 - val_loss: 0.0200 - val_mae: 0.0748 - val_mape: 25.6750\n",
            "Epoch 9/50\n",
            "84/84 [==============================] - 6s 67ms/step - loss: 0.0091 - mae: 0.0721 - mape: 636979.1875 - val_loss: 0.0200 - val_mae: 0.0749 - val_mape: 25.7485\n",
            "Epoch 10/50\n",
            "84/84 [==============================] - 6s 71ms/step - loss: 0.0091 - mae: 0.0719 - mape: 630972.8750 - val_loss: 0.0199 - val_mae: 0.0749 - val_mape: 25.8062\n",
            "Epoch 11/50\n",
            "84/84 [==============================] - 6s 66ms/step - loss: 0.0090 - mae: 0.0716 - mape: 629619.6250 - val_loss: 0.0201 - val_mae: 0.0748 - val_mape: 25.5379\n",
            "Epoch 12/50\n",
            "84/84 [==============================] - 6s 68ms/step - loss: 0.0090 - mae: 0.0713 - mape: 612872.0625 - val_loss: 0.0200 - val_mae: 0.0748 - val_mape: 25.5704\n",
            "Epoch 13/50\n",
            "84/84 [==============================] - 6s 67ms/step - loss: 0.0090 - mae: 0.0714 - mape: 621276.5000 - val_loss: 0.0199 - val_mae: 0.0749 - val_mape: 25.8057\n",
            "Epoch 14/50\n",
            "84/84 [==============================] - 6s 67ms/step - loss: 0.0090 - mae: 0.0714 - mape: 613683.0625 - val_loss: 0.0200 - val_mae: 0.0748 - val_mape: 25.6105\n",
            "Epoch 15/50\n",
            "84/84 [==============================] - 6s 68ms/step - loss: 0.0090 - mae: 0.0707 - mape: 617685.7500 - val_loss: 0.0200 - val_mae: 0.0749 - val_mape: 25.7236\n",
            "Epoch 16/50\n",
            "84/84 [==============================] - 6s 67ms/step - loss: 0.0090 - mae: 0.0715 - mape: 632148.5000 - val_loss: 0.0199 - val_mae: 0.0750 - val_mape: 25.9651\n",
            "Epoch 17/50\n",
            "84/84 [==============================] - 6s 66ms/step - loss: 0.0089 - mae: 0.0706 - mape: 614627.9375 - val_loss: 0.0198 - val_mae: 0.0752 - val_mape: 26.1773\n",
            "Epoch 18/50\n",
            "84/84 [==============================] - 6s 65ms/step - loss: 0.0089 - mae: 0.0708 - mape: 610934.9375 - val_loss: 0.0199 - val_mae: 0.0751 - val_mape: 26.0614\n",
            "Epoch 19/50\n",
            "84/84 [==============================] - 6s 65ms/step - loss: 0.0089 - mae: 0.0706 - mape: 616334.2500 - val_loss: 0.0199 - val_mae: 0.0751 - val_mape: 26.0759\n",
            "Epoch 20/50\n",
            "84/84 [==============================] - 6s 67ms/step - loss: 0.0089 - mae: 0.0704 - mape: 613923.0000 - val_loss: 0.0198 - val_mae: 0.0752 - val_mape: 26.1872\n",
            "Epoch 21/50\n",
            "84/84 [==============================] - 6s 66ms/step - loss: 0.0088 - mae: 0.0702 - mape: 598429.3125 - val_loss: 0.0200 - val_mae: 0.0750 - val_mape: 25.8095\n",
            "Epoch 22/50\n",
            "84/84 [==============================] - 6s 66ms/step - loss: 0.0088 - mae: 0.0701 - mape: 592077.9375 - val_loss: 0.0198 - val_mae: 0.0754 - val_mape: 26.3576\n",
            "Epoch 23/50\n",
            "84/84 [==============================] - 6s 66ms/step - loss: 0.0088 - mae: 0.0701 - mape: 600093.6875 - val_loss: 0.0198 - val_mae: 0.0753 - val_mape: 26.2400\n",
            "Epoch 24/50\n",
            "84/84 [==============================] - 6s 67ms/step - loss: 0.0087 - mae: 0.0694 - mape: 621747.5625 - val_loss: 0.0197 - val_mae: 0.0755 - val_mape: 26.5232\n",
            "Epoch 25/50\n",
            "84/84 [==============================] - 6s 66ms/step - loss: 0.0087 - mae: 0.0698 - mape: 596904.3750 - val_loss: 0.0199 - val_mae: 0.0751 - val_mape: 26.0318\n",
            "Epoch 26/50\n",
            "84/84 [==============================] - 6s 66ms/step - loss: 0.0088 - mae: 0.0701 - mape: 611536.8125 - val_loss: 0.0197 - val_mae: 0.0755 - val_mape: 26.5276\n",
            "Epoch 27/50\n",
            "84/84 [==============================] - 6s 66ms/step - loss: 0.0087 - mae: 0.0697 - mape: 590569.9375 - val_loss: 0.0197 - val_mae: 0.0755 - val_mape: 26.5532\n",
            "Epoch 28/50\n",
            "84/84 [==============================] - 6s 66ms/step - loss: 0.0087 - mae: 0.0690 - mape: 611140.0000 - val_loss: 0.0197 - val_mae: 0.0756 - val_mape: 26.5721\n",
            "Epoch 29/50\n",
            "84/84 [==============================] - 6s 65ms/step - loss: 0.0087 - mae: 0.0693 - mape: 604973.1875 - val_loss: 0.0197 - val_mae: 0.0756 - val_mape: 26.6381\n",
            "Epoch 30/50\n",
            "84/84 [==============================] - 6s 66ms/step - loss: 0.0086 - mae: 0.0694 - mape: 591747.1250 - val_loss: 0.0197 - val_mae: 0.0758 - val_mape: 26.7842\n",
            "Epoch 31/50\n",
            "84/84 [==============================] - 6s 66ms/step - loss: 0.0086 - mae: 0.0690 - mape: 575746.8125 - val_loss: 0.0197 - val_mae: 0.0755 - val_mape: 26.5109\n",
            "Epoch 32/50\n",
            "84/84 [==============================] - 6s 66ms/step - loss: 0.0085 - mae: 0.0683 - mape: 576312.4375 - val_loss: 0.0197 - val_mae: 0.0758 - val_mape: 26.7550\n",
            "Epoch 33/50\n",
            "84/84 [==============================] - 6s 66ms/step - loss: 0.0085 - mae: 0.0681 - mape: 597979.6250 - val_loss: 0.0197 - val_mae: 0.0759 - val_mape: 26.8441\n",
            "Epoch 34/50\n",
            "84/84 [==============================] - 6s 68ms/step - loss: 0.0086 - mae: 0.0686 - mape: 589752.7500 - val_loss: 0.0196 - val_mae: 0.0761 - val_mape: 27.0703\n",
            "Epoch 35/50\n",
            "84/84 [==============================] - 6s 67ms/step - loss: 0.0085 - mae: 0.0685 - mape: 577203.6250 - val_loss: 0.0196 - val_mae: 0.0759 - val_mape: 26.8902\n",
            "Epoch 36/50\n",
            "84/84 [==============================] - 6s 66ms/step - loss: 0.0085 - mae: 0.0678 - mape: 576182.5625 - val_loss: 0.0196 - val_mae: 0.0760 - val_mape: 26.9730\n",
            "Epoch 37/50\n",
            "84/84 [==============================] - 6s 67ms/step - loss: 0.0085 - mae: 0.0682 - mape: 578598.6250 - val_loss: 0.0196 - val_mae: 0.0762 - val_mape: 27.1008\n",
            "Epoch 38/50\n",
            "84/84 [==============================] - 6s 70ms/step - loss: 0.0085 - mae: 0.0680 - mape: 569151.9375 - val_loss: 0.0195 - val_mae: 0.0765 - val_mape: 27.4188\n",
            "Epoch 39/50\n",
            "84/84 [==============================] - 6s 70ms/step - loss: 0.0084 - mae: 0.0678 - mape: 586218.4375 - val_loss: 0.0195 - val_mae: 0.0766 - val_mape: 27.4447\n",
            "Epoch 40/50\n",
            "84/84 [==============================] - 6s 68ms/step - loss: 0.0084 - mae: 0.0678 - mape: 573155.5000 - val_loss: 0.0196 - val_mae: 0.0765 - val_mape: 27.3775\n",
            "Epoch 41/50\n",
            "84/84 [==============================] - 6s 66ms/step - loss: 0.0084 - mae: 0.0673 - mape: 584574.1250 - val_loss: 0.0196 - val_mae: 0.0764 - val_mape: 27.2818\n",
            "Epoch 42/50\n",
            "84/84 [==============================] - 6s 69ms/step - loss: 0.0084 - mae: 0.0674 - mape: 567220.0000 - val_loss: 0.0196 - val_mae: 0.0761 - val_mape: 26.9884\n",
            "Epoch 43/50\n",
            "84/84 [==============================] - 6s 68ms/step - loss: 0.0083 - mae: 0.0675 - mape: 565660.0625 - val_loss: 0.0195 - val_mae: 0.0769 - val_mape: 27.7150\n",
            "Epoch 44/50\n",
            "84/84 [==============================] - 6s 68ms/step - loss: 0.0084 - mae: 0.0674 - mape: 575014.0000 - val_loss: 0.0195 - val_mae: 0.0767 - val_mape: 27.5416\n",
            "Epoch 45/50\n",
            "84/84 [==============================] - 6s 66ms/step - loss: 0.0083 - mae: 0.0670 - mape: 557900.5625 - val_loss: 0.0195 - val_mae: 0.0768 - val_mape: 27.6242\n",
            "Epoch 46/50\n",
            "84/84 [==============================] - 6s 68ms/step - loss: 0.0082 - mae: 0.0669 - mape: 576419.6250 - val_loss: 0.0195 - val_mae: 0.0770 - val_mape: 27.8082\n",
            "Epoch 47/50\n",
            "84/84 [==============================] - 6s 66ms/step - loss: 0.0083 - mae: 0.0667 - mape: 551341.7500 - val_loss: 0.0195 - val_mae: 0.0768 - val_mape: 27.6265\n",
            "Epoch 48/50\n",
            "84/84 [==============================] - 6s 67ms/step - loss: 0.0083 - mae: 0.0667 - mape: 569830.7500 - val_loss: 0.0195 - val_mae: 0.0769 - val_mape: 27.7205\n",
            "Epoch 49/50\n",
            "84/84 [==============================] - 6s 66ms/step - loss: 0.0082 - mae: 0.0663 - mape: 560024.5625 - val_loss: 0.0195 - val_mae: 0.0770 - val_mape: 27.7872\n",
            "Epoch 50/50\n",
            "84/84 [==============================] - 6s 66ms/step - loss: 0.0082 - mae: 0.0666 - mape: 568078.0625 - val_loss: 0.0195 - val_mae: 0.0772 - val_mape: 27.9274\n"
          ]
        }
      ],
      "source": [
        "history2_2 = model2.fit(train_step2, epochs=50, validation_data=val_step)"
      ]
    },
    {
      "cell_type": "code",
      "execution_count": null,
      "metadata": {
        "colab": {
          "background_save": true
        },
        "id": "0y_sLzr8hjdN",
        "outputId": "ec078f73-c951-4943-fe7e-480b6de8031b"
      },
      "outputs": [
        {
          "data": {
            "image/png": "[encoded data removed]",
            "text/plain": [
              "<Figure size 432x288 with 1 Axes>"
            ]
          },
          "metadata": {},
          "output_type": "display_data"
        }
      ],
      "source": [
        "mae2_2 = history2_2.history['mae']\n",
        "val_mae2_2 = history2_2.history['val_mae']\n",
        "epoch2_2 = range(len(mae2_2))\n",
        "\n",
        "plt.plot(epoch2_2, mae2_2, label='mae')\n",
        "plt.plot(epoch2_2, val_mae2_2, label='val mae')\n",
        "plt.legend()\n",
        "plt.show()"
      ]
    },
    {
      "cell_type": "code",
      "execution_count": null,
      "metadata": {
        "colab": {
          "background_save": true
        },
        "id": "qB4t3JIehjmY",
        "outputId": "859ba063-4bdb-481f-e5be-a310f52c83b7"
      },
      "outputs": [
        {
          "name": "stdout",
          "output_type": "stream",
          "text": [
            "181/181 [==============================] - 1s 7ms/step\n",
            "2092.9968 9.933676 3199.4924597504523\n"
          ]
        },
        {
          "data": {
            "text/html": [
              "\n",
              "  <div id=\"df-de1cae7f-28fa-4f70-a9ed-a81f904060e8\">\n",
              "    <div class=\"colab-df-container\">\n",
              "      <div>\n",
              "<style scoped>\n",
              "    .dataframe tbody tr th:only-of-type {\n",
              "        vertical-align: middle;\n",
              "    }\n",
              "\n",
              "    .dataframe tbody tr th {\n",
              "        vertical-align: top;\n",
              "    }\n",
              "\n",
              "    .dataframe thead th {\n",
              "        text-align: right;\n",
              "    }\n",
              "</style>\n",
              "<table border=\"1\" class=\"dataframe\">\n",
              "  <thead>\n",
              "    <tr style=\"text-align: right;\">\n",
              "      <th></th>\n",
              "      <th>actual</th>\n",
              "      <th>prediction</th>\n",
              "    </tr>\n",
              "  </thead>\n",
              "  <tbody>\n",
              "    <tr>\n",
              "      <th>0</th>\n",
              "      <td>15100</td>\n",
              "      <td>14841.220703</td>\n",
              "    </tr>\n",
              "    <tr>\n",
              "      <th>1</th>\n",
              "      <td>15100</td>\n",
              "      <td>14841.111328</td>\n",
              "    </tr>\n",
              "    <tr>\n",
              "      <th>2</th>\n",
              "      <td>15150</td>\n",
              "      <td>14842.186523</td>\n",
              "    </tr>\n",
              "    <tr>\n",
              "      <th>3</th>\n",
              "      <td>15150</td>\n",
              "      <td>14843.394531</td>\n",
              "    </tr>\n",
              "    <tr>\n",
              "      <th>4</th>\n",
              "      <td>15150</td>\n",
              "      <td>14848.036133</td>\n",
              "    </tr>\n",
              "    <tr>\n",
              "      <th>...</th>\n",
              "      <td>...</td>\n",
              "      <td>...</td>\n",
              "    </tr>\n",
              "    <tr>\n",
              "      <th>229</th>\n",
              "      <td>18400</td>\n",
              "      <td>17633.072266</td>\n",
              "    </tr>\n",
              "    <tr>\n",
              "      <th>230</th>\n",
              "      <td>19550</td>\n",
              "      <td>17590.437500</td>\n",
              "    </tr>\n",
              "    <tr>\n",
              "      <th>231</th>\n",
              "      <td>25550</td>\n",
              "      <td>17610.128906</td>\n",
              "    </tr>\n",
              "    <tr>\n",
              "      <th>232</th>\n",
              "      <td>20400</td>\n",
              "      <td>17609.603516</td>\n",
              "    </tr>\n",
              "    <tr>\n",
              "      <th>233</th>\n",
              "      <td>25450</td>\n",
              "      <td>17615.458984</td>\n",
              "    </tr>\n",
              "  </tbody>\n",
              "</table>\n",
              "<p>234 rows × 2 columns</p>\n",
              "</div>\n",
              "      <button class=\"colab-df-convert\" onclick=\"convertToInteractive('df-de1cae7f-28fa-4f70-a9ed-a81f904060e8')\"\n",
              "              title=\"Convert this dataframe to an interactive table.\"\n",
              "              style=\"display:none;\">\n",
              "        \n",
              "  <svg xmlns=\"http://www.w3.org/2000/svg\" height=\"24px\"viewBox=\"0 0 24 24\"\n",
              "       width=\"24px\">\n",
              "    <path d=\"M0 0h24v24H0V0z\" fill=\"none\"/>\n",
              "    <path d=\"M18.56 5.44l.94 2.06.94-2.06 2.06-.94-2.06-.94-.94-2.06-.94 2.06-2.06.94zm-11 1L8.5 8.5l.94-2.06 2.06-.94-2.06-.94L8.5 2.5l-.94 2.06-2.06.94zm10 10l.94 2.06.94-2.06 2.06-.94-2.06-.94-.94-2.06-.94 2.06-2.06.94z\"/><path d=\"M17.41 7.96l-1.37-1.37c-.4-.4-.92-.59-1.43-.59-.52 0-1.04.2-1.43.59L10.3 9.45l-7.72 7.72c-.78.78-.78 2.05 0 2.83L4 21.41c.39.39.9.59 1.41.59.51 0 1.02-.2 1.41-.59l7.78-7.78 2.81-2.81c.8-.78.8-2.07 0-2.86zM5.41 20L4 18.59l7.72-7.72 1.47 1.35L5.41 20z\"/>\n",
              "  </svg>\n",
              "      </button>\n",
              "      \n",
              "  <style>\n",
              "    .colab-df-container {\n",
              "      display:flex;\n",
              "      flex-wrap:wrap;\n",
              "      gap: 12px;\n",
              "    }\n",
              "\n",
              "    .colab-df-convert {\n",
              "      background-color: #E8F0FE;\n",
              "      border: none;\n",
              "      border-radius: 50%;\n",
              "      cursor: pointer;\n",
              "      display: none;\n",
              "      fill: #1967D2;\n",
              "      height: 32px;\n",
              "      padding: 0 0 0 0;\n",
              "      width: 32px;\n",
              "    }\n",
              "\n",
              "    .colab-df-convert:hover {\n",
              "      background-color: #E2EBFA;\n",
              "      box-shadow: 0px 1px 2px rgba(60, 64, 67, 0.3), 0px 1px 3px 1px rgba(60, 64, 67, 0.15);\n",
              "      fill: #174EA6;\n",
              "    }\n",
              "\n",
              "    [theme=dark] .colab-df-convert {\n",
              "      background-color: #3B4455;\n",
              "      fill: #D2E3FC;\n",
              "    }\n",
              "\n",
              "    [theme=dark] .colab-df-convert:hover {\n",
              "      background-color: #434B5C;\n",
              "      box-shadow: 0px 1px 3px 1px rgba(0, 0, 0, 0.15);\n",
              "      filter: drop-shadow(0px 1px 2px rgba(0, 0, 0, 0.3));\n",
              "      fill: #FFFFFF;\n",
              "    }\n",
              "  </style>\n",
              "\n",
              "      <script>\n",
              "        const buttonEl =\n",
              "          document.querySelector('#df-de1cae7f-28fa-4f70-a9ed-a81f904060e8 button.colab-df-convert');\n",
              "        buttonEl.style.display =\n",
              "          google.colab.kernel.accessAllowed ? 'block' : 'none';\n",
              "\n",
              "        async function convertToInteractive(key) {\n",
              "          const element = document.querySelector('#df-de1cae7f-28fa-4f70-a9ed-a81f904060e8');\n",
              "          const dataTable =\n",
              "            await google.colab.kernel.invokeFunction('convertToInteractive',\n",
              "                                                     [key], {});\n",
              "          if (!dataTable) return;\n",
              "\n",
              "          const docLinkHtml = 'Like what you see? Visit the ' +\n",
              "            '<a target=\"_blank\" href=https://colab.research.google.com/notebooks/data_table.ipynb>data table notebook</a>'\n",
              "            + ' to learn more about interactive tables.';\n",
              "          element.innerHTML = '';\n",
              "          dataTable['output_type'] = 'display_data';\n",
              "          await google.colab.output.renderOutput(dataTable, element);\n",
              "          const docLink = document.createElement('div');\n",
              "          docLink.innerHTML = docLinkHtml;\n",
              "          element.appendChild(docLink);\n",
              "        }\n",
              "      </script>\n",
              "    </div>\n",
              "  </div>\n",
              "  "
            ],
            "text/plain": [
              "     actual    prediction\n",
              "0     15100  14841.220703\n",
              "1     15100  14841.111328\n",
              "2     15150  14842.186523\n",
              "3     15150  14843.394531\n",
              "4     15150  14848.036133\n",
              "..      ...           ...\n",
              "229   18400  17633.072266\n",
              "230   19550  17590.437500\n",
              "231   25550  17610.128906\n",
              "232   20400  17609.603516\n",
              "233   25450  17615.458984\n",
              "\n",
              "[234 rows x 2 columns]"
            ]
          },
          "execution_count": 66,
          "metadata": {},
          "output_type": "execute_result"
        }
      ],
      "source": [
        "prediction2_2 = forecast_predict(model2, test_minyakgoreng2_, time_size=win_size2, batch_size=5)\n",
        "\n",
        "data_result2_2 = prediction2_2[(len(x_train))-win_size2:-1, -1 ]\n",
        "data_result2_2 = scal_range.inverse_transform(data_result2_2.reshape(-1, 1))\n",
        "data_result2_2 = data_result2_2.reshape(-1)\n",
        "mae2_2 = tf.keras.metrics.mean_absolute_error(x_test, data_result2_2)\n",
        "mape2_2 = tf.keras.metrics.mean_absolute_percentage_error(x_test, data_result2_2)\n",
        "mse2_2 = tf.keras.metrics.mean_squared_error(x_test, data_result2_2)\n",
        "\n",
        "rmse2_2 = math.sqrt(mse2_2.numpy())\n",
        "print(mae2_2.numpy(), mape2_2.numpy(), rmse2_2)\n",
        "\n",
        "data_new_minyakgoreng22_2 = pd.DataFrame()\n",
        "data_new_minyakgoreng22_2['actual'] = x_test\n",
        "data_new_minyakgoreng22_2['prediction'] = data_result2_2\n",
        "data_new_minyakgoreng22_2.to_csv('minyakgoreng2_model3_sgd-type3.csv')\n",
        "\n",
        "data_new_minyakgoreng22_2"
      ]
    },
    {
      "cell_type": "markdown",
      "metadata": {
        "id": "kaWKBKIcxDeM"
      },
      "source": [
        "### Adam"
      ]
    },
    {
      "cell_type": "code",
      "execution_count": null,
      "metadata": {
        "colab": {
          "background_save": true
        },
        "id": "G38BB7clxFF0",
        "outputId": "6b9d706f-a163-4110-f0be-bd0a6eb51656"
      },
      "outputs": [
        {
          "name": "stdout",
          "output_type": "stream",
          "text": [
            "Model: \"sequential_5\"\n",
            "_________________________________________________________________\n",
            " Layer (type)                Output Shape              Param #   \n",
            "=================================================================\n",
            " conv1d_5 (Conv1D)           (None, None, 16)          48        \n",
            "                                                                 \n",
            " max_pooling1d_1 (MaxPooling  (None, None, 16)         0         \n",
            " 1D)                                                             \n",
            "                                                                 \n",
            " lstm_10 (LSTM)              (None, None, 24)          3936      \n",
            "                                                                 \n",
            " dropout_1 (Dropout)         (None, None, 24)          0         \n",
            "                                                                 \n",
            " lstm_11 (LSTM)              (None, 80)                33600     \n",
            "                                                                 \n",
            " dense_13 (Dense)            (None, 24)                1944      \n",
            "                                                                 \n",
            " dense_14 (Dense)            (None, 50)                1250      \n",
            "                                                                 \n",
            " dense_15 (Dense)            (None, 1)                 51        \n",
            "                                                                 \n",
            "=================================================================\n",
            "Total params: 40,829\n",
            "Trainable params: 40,829\n",
            "Non-trainable params: 0\n",
            "_________________________________________________________________\n"
          ]
        }
      ],
      "source": [
        "model2_a= Sequential([\n",
        "    Conv1D(16, kernel_size=2, \n",
        "                            activation='relu',strides=2,\n",
        "                            padding='causal', input_shape=[None, 1]),\n",
        "    tf.keras.layers.MaxPool1D(2, padding=\"same\"),\n",
        "    LSTM(24, return_sequences=True),\n",
        "    Dropout(0.3),\n",
        "    LSTM(80),\n",
        "    Dense(24, activation='relu'),\n",
        "    Dense(50, activation='relu'),\n",
        "    Dense(1)\n",
        "])\n",
        "\n",
        "model2_a.compile(loss= 'mean_squared_error', optimizer=tf.keras.optimizers.Adam(learning_rate=1e-4), metrics=['mae', 'mape'])\n",
        "model2_a.summary()"
      ]
    },
    {
      "cell_type": "markdown",
      "metadata": {
        "id": "3z1mAdrDhHUM"
      },
      "source": [
        "#### type 1"
      ]
    },
    {
      "cell_type": "code",
      "execution_count": null,
      "metadata": {
        "colab": {
          "background_save": true
        },
        "id": "sbOmTvDAxFR4",
        "outputId": "7c53a01e-6538-4e30-aab3-f49405ce14c1"
      },
      "outputs": [
        {
          "name": "stdout",
          "output_type": "stream",
          "text": [
            "Epoch 1/50\n",
            "44/44 [==============================] - 9s 125ms/step - loss: 0.0631 - mae: 0.2395 - mape: 89.7444 - val_loss: 0.0505 - val_mae: 0.1787 - val_mape: 68.5750\n",
            "Epoch 2/50\n",
            "44/44 [==============================] - 5s 107ms/step - loss: 0.0209 - mae: 0.1240 - mape: 47.5977 - val_loss: 0.0190 - val_mae: 0.0813 - val_mape: 31.1062\n",
            "Epoch 3/50\n",
            "44/44 [==============================] - 5s 104ms/step - loss: 0.0055 - mae: 0.0548 - mape: 21.3203 - val_loss: 0.0190 - val_mae: 0.0819 - val_mape: 31.5335\n",
            "Epoch 4/50\n",
            "44/44 [==============================] - 5s 104ms/step - loss: 0.0053 - mae: 0.0547 - mape: 21.3763 - val_loss: 0.0188 - val_mae: 0.0853 - val_mape: 34.1905\n",
            "Epoch 5/50\n",
            "44/44 [==============================] - 5s 105ms/step - loss: 0.0058 - mae: 0.0583 - mape: 23.2755 - val_loss: 0.0188 - val_mae: 0.0853 - val_mape: 34.2089\n",
            "Epoch 6/50\n",
            "44/44 [==============================] - 5s 105ms/step - loss: 0.0059 - mae: 0.0578 - mape: 22.8643 - val_loss: 0.0189 - val_mae: 0.0841 - val_mape: 33.2885\n",
            "Epoch 7/50\n",
            "44/44 [==============================] - 5s 107ms/step - loss: 0.0053 - mae: 0.0544 - mape: 21.1154 - val_loss: 0.0189 - val_mae: 0.0841 - val_mape: 33.2598\n",
            "Epoch 8/50\n",
            "44/44 [==============================] - 5s 108ms/step - loss: 0.0053 - mae: 0.0536 - mape: 21.3283 - val_loss: 0.0188 - val_mae: 0.0874 - val_mape: 35.7668\n",
            "Epoch 9/50\n",
            "44/44 [==============================] - 5s 106ms/step - loss: 0.0057 - mae: 0.0586 - mape: 23.7727 - val_loss: 0.0191 - val_mae: 0.0799 - val_mape: 30.0828\n",
            "Epoch 10/50\n",
            "44/44 [==============================] - 5s 108ms/step - loss: 0.0053 - mae: 0.0530 - mape: 20.7326 - val_loss: 0.0188 - val_mae: 0.0864 - val_mape: 35.0120\n",
            "Epoch 11/50\n",
            "44/44 [==============================] - 5s 109ms/step - loss: 0.0055 - mae: 0.0548 - mape: 21.9344 - val_loss: 0.0188 - val_mae: 0.0848 - val_mape: 33.8517\n",
            "Epoch 12/50\n",
            "44/44 [==============================] - 5s 106ms/step - loss: 0.0052 - mae: 0.0524 - mape: 20.6128 - val_loss: 0.0188 - val_mae: 0.0869 - val_mape: 35.4166\n",
            "Epoch 13/50\n",
            "44/44 [==============================] - 5s 108ms/step - loss: 0.0057 - mae: 0.0567 - mape: 22.6185 - val_loss: 0.0188 - val_mae: 0.0913 - val_mape: 38.5187\n",
            "Epoch 14/50\n",
            "44/44 [==============================] - 5s 111ms/step - loss: 0.0055 - mae: 0.0557 - mape: 22.1499 - val_loss: 0.0188 - val_mae: 0.0866 - val_mape: 35.1720\n",
            "Epoch 15/50\n",
            "44/44 [==============================] - 5s 106ms/step - loss: 0.0053 - mae: 0.0548 - mape: 21.9577 - val_loss: 0.0188 - val_mae: 0.0879 - val_mape: 36.1310\n",
            "Epoch 16/50\n",
            "44/44 [==============================] - 5s 106ms/step - loss: 0.0053 - mae: 0.0554 - mape: 22.2781 - val_loss: 0.0189 - val_mae: 0.0829 - val_mape: 32.4128\n",
            "Epoch 17/50\n",
            "44/44 [==============================] - 5s 108ms/step - loss: 0.0052 - mae: 0.0540 - mape: 21.1498 - val_loss: 0.0189 - val_mae: 0.0837 - val_mape: 32.9851\n",
            "Epoch 18/50\n",
            "44/44 [==============================] - 5s 108ms/step - loss: 0.0053 - mae: 0.0552 - mape: 22.1927 - val_loss: 0.0188 - val_mae: 0.0857 - val_mape: 34.5207\n",
            "Epoch 19/50\n",
            "44/44 [==============================] - 5s 111ms/step - loss: 0.0054 - mae: 0.0559 - mape: 22.4507 - val_loss: 0.0188 - val_mae: 0.0868 - val_mape: 35.3464\n",
            "Epoch 20/50\n",
            "44/44 [==============================] - 5s 109ms/step - loss: 0.0052 - mae: 0.0536 - mape: 21.1573 - val_loss: 0.0188 - val_mae: 0.0891 - val_mape: 36.9921\n",
            "Epoch 21/50\n",
            "44/44 [==============================] - 5s 108ms/step - loss: 0.0055 - mae: 0.0577 - mape: 23.2888 - val_loss: 0.0188 - val_mae: 0.0853 - val_mape: 34.2113\n",
            "Epoch 22/50\n",
            "44/44 [==============================] - 5s 110ms/step - loss: 0.0053 - mae: 0.0545 - mape: 21.8514 - val_loss: 0.0188 - val_mae: 0.0918 - val_mape: 38.8270\n",
            "Epoch 23/50\n",
            "44/44 [==============================] - 5s 107ms/step - loss: 0.0055 - mae: 0.0563 - mape: 22.3769 - val_loss: 0.0188 - val_mae: 0.0861 - val_mape: 34.8729\n",
            "Epoch 24/50\n",
            "44/44 [==============================] - 5s 114ms/step - loss: 0.0052 - mae: 0.0538 - mape: 21.1442 - val_loss: 0.0188 - val_mae: 0.0908 - val_mape: 38.1641\n",
            "Epoch 25/50\n",
            "44/44 [==============================] - 5s 113ms/step - loss: 0.0055 - mae: 0.0571 - mape: 22.9340 - val_loss: 0.0188 - val_mae: 0.0878 - val_mape: 36.0785\n",
            "Epoch 26/50\n",
            "44/44 [==============================] - 5s 112ms/step - loss: 0.0050 - mae: 0.0527 - mape: 20.4223 - val_loss: 0.0190 - val_mae: 0.0962 - val_mape: 41.8075\n",
            "Epoch 27/50\n",
            "44/44 [==============================] - 5s 109ms/step - loss: 0.0059 - mae: 0.0607 - mape: 24.4971 - val_loss: 0.0188 - val_mae: 0.0889 - val_mape: 36.8947\n",
            "Epoch 28/50\n",
            "44/44 [==============================] - 5s 109ms/step - loss: 0.0053 - mae: 0.0545 - mape: 21.8232 - val_loss: 0.0188 - val_mae: 0.0895 - val_mape: 37.3075\n",
            "Epoch 29/50\n",
            "44/44 [==============================] - 5s 107ms/step - loss: 0.0052 - mae: 0.0548 - mape: 21.8100 - val_loss: 0.0188 - val_mae: 0.0878 - val_mape: 36.0686\n",
            "Epoch 30/50\n",
            "44/44 [==============================] - 5s 107ms/step - loss: 0.0053 - mae: 0.0544 - mape: 21.6178 - val_loss: 0.0188 - val_mae: 0.0890 - val_mape: 37.0096\n",
            "Epoch 31/50\n",
            "44/44 [==============================] - 5s 111ms/step - loss: 0.0051 - mae: 0.0538 - mape: 21.2578 - val_loss: 0.0190 - val_mae: 0.0964 - val_mape: 41.9693\n",
            "Epoch 32/50\n",
            "44/44 [==============================] - 5s 108ms/step - loss: 0.0053 - mae: 0.0561 - mape: 22.5271 - val_loss: 0.0188 - val_mae: 0.0903 - val_mape: 37.8483\n",
            "Epoch 33/50\n",
            "44/44 [==============================] - 5s 107ms/step - loss: 0.0052 - mae: 0.0534 - mape: 21.4901 - val_loss: 0.0189 - val_mae: 0.0929 - val_mape: 39.5870\n",
            "Epoch 34/50\n",
            "44/44 [==============================] - 5s 110ms/step - loss: 0.0051 - mae: 0.0539 - mape: 21.3438 - val_loss: 0.0188 - val_mae: 0.0903 - val_mape: 37.8641\n",
            "Epoch 35/50\n",
            "44/44 [==============================] - 5s 109ms/step - loss: 0.0051 - mae: 0.0541 - mape: 21.5635 - val_loss: 0.0188 - val_mae: 0.0895 - val_mape: 37.3629\n",
            "Epoch 36/50\n",
            "44/44 [==============================] - 5s 109ms/step - loss: 0.0053 - mae: 0.0559 - mape: 22.4766 - val_loss: 0.0188 - val_mae: 0.0851 - val_mape: 34.1453\n",
            "Epoch 37/50\n",
            "44/44 [==============================] - 5s 110ms/step - loss: 0.0053 - mae: 0.0548 - mape: 22.1341 - val_loss: 0.0188 - val_mae: 0.0890 - val_mape: 36.9623\n",
            "Epoch 38/50\n",
            "44/44 [==============================] - 5s 112ms/step - loss: 0.0052 - mae: 0.0541 - mape: 21.2860 - val_loss: 0.0189 - val_mae: 0.0922 - val_mape: 39.1542\n",
            "Epoch 39/50\n",
            "44/44 [==============================] - 5s 108ms/step - loss: 0.0055 - mae: 0.0565 - mape: 22.6988 - val_loss: 0.0189 - val_mae: 0.0843 - val_mape: 33.4778\n",
            "Epoch 40/50\n",
            "44/44 [==============================] - 5s 110ms/step - loss: 0.0053 - mae: 0.0560 - mape: 22.1756 - val_loss: 0.0188 - val_mae: 0.0900 - val_mape: 37.6911\n",
            "Epoch 41/50\n",
            "44/44 [==============================] - 5s 108ms/step - loss: 0.0054 - mae: 0.0562 - mape: 22.5372 - val_loss: 0.0189 - val_mae: 0.0926 - val_mape: 39.4296\n",
            "Epoch 42/50\n",
            "44/44 [==============================] - 5s 109ms/step - loss: 0.0050 - mae: 0.0525 - mape: 20.5222 - val_loss: 0.0189 - val_mae: 0.0947 - val_mape: 40.8148\n",
            "Epoch 43/50\n",
            "44/44 [==============================] - 5s 108ms/step - loss: 0.0056 - mae: 0.0583 - mape: 23.5401 - val_loss: 0.0190 - val_mae: 0.0965 - val_mape: 42.0592\n",
            "Epoch 44/50\n",
            "44/44 [==============================] - 5s 110ms/step - loss: 0.0054 - mae: 0.0567 - mape: 22.5918 - val_loss: 0.0190 - val_mae: 0.0948 - val_mape: 40.8657\n",
            "Epoch 45/50\n",
            "44/44 [==============================] - 5s 108ms/step - loss: 0.0053 - mae: 0.0550 - mape: 21.9027 - val_loss: 0.0188 - val_mae: 0.0913 - val_mape: 38.5645\n",
            "Epoch 46/50\n",
            "44/44 [==============================] - 5s 109ms/step - loss: 0.0054 - mae: 0.0573 - mape: 23.2447 - val_loss: 0.0188 - val_mae: 0.0892 - val_mape: 37.1086\n",
            "Epoch 47/50\n",
            "44/44 [==============================] - 5s 109ms/step - loss: 0.0052 - mae: 0.0529 - mape: 20.8044 - val_loss: 0.0191 - val_mae: 0.0976 - val_mape: 42.7430\n",
            "Epoch 48/50\n",
            "44/44 [==============================] - 5s 107ms/step - loss: 0.0054 - mae: 0.0558 - mape: 22.0058 - val_loss: 0.0192 - val_mae: 0.0991 - val_mape: 43.8008\n",
            "Epoch 49/50\n",
            "44/44 [==============================] - 5s 107ms/step - loss: 0.0057 - mae: 0.0580 - mape: 23.1003 - val_loss: 0.0193 - val_mae: 0.1007 - val_mape: 44.8777\n",
            "Epoch 50/50\n",
            "44/44 [==============================] - 5s 108ms/step - loss: 0.0055 - mae: 0.0572 - mape: 23.3851 - val_loss: 0.0189 - val_mae: 0.0914 - val_mape: 38.6188\n"
          ]
        }
      ],
      "source": [
        "history2_a = model2_a.fit(train_step, epochs=50, validation_data=val_step)"
      ]
    },
    {
      "cell_type": "code",
      "execution_count": null,
      "metadata": {
        "colab": {
          "background_save": true
        },
        "id": "UmknfhV7xFcF",
        "outputId": "d8a4a6cb-4553-4aa8-e557-58d8a60975b7"
      },
      "outputs": [
        {
          "data": {
            "image/png": "[encoded data removed]",
            "text/plain": [
              "<Figure size 432x288 with 1 Axes>"
            ]
          },
          "metadata": {},
          "output_type": "display_data"
        }
      ],
      "source": [
        "mae2_a = history2_a.history['mae']\n",
        "val_mae2_a = history2_a.history['val_mae']\n",
        "epoch2_a = range(len(mae2_a))\n",
        "\n",
        "plt.plot(epoch2_a, mae2_a, label='mae')\n",
        "plt.plot(epoch2_a, val_mae2_a, label='val mae')\n",
        "plt.legend()\n",
        "plt.show()"
      ]
    },
    {
      "cell_type": "code",
      "execution_count": null,
      "metadata": {
        "colab": {
          "background_save": true
        },
        "id": "yzr9AlDLxFqE",
        "outputId": "c8080b34-2a8c-44ce-97b1-ac65ba5646ed"
      },
      "outputs": [
        {
          "name": "stdout",
          "output_type": "stream",
          "text": [
            "131/131 [==============================] - 2s 13ms/step\n",
            "1943.5745 9.568771 2833.558804754191\n"
          ]
        },
        {
          "data": {
            "text/html": [
              "\n",
              "  <div id=\"df-7f7739dd-18ec-42c6-b838-82636f05aa59\">\n",
              "    <div class=\"colab-df-container\">\n",
              "      <div>\n",
              "<style scoped>\n",
              "    .dataframe tbody tr th:only-of-type {\n",
              "        vertical-align: middle;\n",
              "    }\n",
              "\n",
              "    .dataframe tbody tr th {\n",
              "        vertical-align: top;\n",
              "    }\n",
              "\n",
              "    .dataframe thead th {\n",
              "        text-align: right;\n",
              "    }\n",
              "</style>\n",
              "<table border=\"1\" class=\"dataframe\">\n",
              "  <thead>\n",
              "    <tr style=\"text-align: right;\">\n",
              "      <th></th>\n",
              "      <th>actual</th>\n",
              "      <th>prediction</th>\n",
              "    </tr>\n",
              "  </thead>\n",
              "  <tbody>\n",
              "    <tr>\n",
              "      <th>0</th>\n",
              "      <td>15100</td>\n",
              "      <td>15816.343750</td>\n",
              "    </tr>\n",
              "    <tr>\n",
              "      <th>1</th>\n",
              "      <td>15100</td>\n",
              "      <td>15821.806641</td>\n",
              "    </tr>\n",
              "    <tr>\n",
              "      <th>2</th>\n",
              "      <td>15150</td>\n",
              "      <td>15822.007812</td>\n",
              "    </tr>\n",
              "    <tr>\n",
              "      <th>3</th>\n",
              "      <td>15150</td>\n",
              "      <td>15830.427734</td>\n",
              "    </tr>\n",
              "    <tr>\n",
              "      <th>4</th>\n",
              "      <td>15150</td>\n",
              "      <td>15830.472656</td>\n",
              "    </tr>\n",
              "    <tr>\n",
              "      <th>...</th>\n",
              "      <td>...</td>\n",
              "      <td>...</td>\n",
              "    </tr>\n",
              "    <tr>\n",
              "      <th>229</th>\n",
              "      <td>18400</td>\n",
              "      <td>18947.003906</td>\n",
              "    </tr>\n",
              "    <tr>\n",
              "      <th>230</th>\n",
              "      <td>19550</td>\n",
              "      <td>18950.314453</td>\n",
              "    </tr>\n",
              "    <tr>\n",
              "      <th>231</th>\n",
              "      <td>25550</td>\n",
              "      <td>19098.041016</td>\n",
              "    </tr>\n",
              "    <tr>\n",
              "      <th>232</th>\n",
              "      <td>20400</td>\n",
              "      <td>19010.335938</td>\n",
              "    </tr>\n",
              "    <tr>\n",
              "      <th>233</th>\n",
              "      <td>25450</td>\n",
              "      <td>19011.478516</td>\n",
              "    </tr>\n",
              "  </tbody>\n",
              "</table>\n",
              "<p>234 rows × 2 columns</p>\n",
              "</div>\n",
              "      <button class=\"colab-df-convert\" onclick=\"convertToInteractive('df-7f7739dd-18ec-42c6-b838-82636f05aa59')\"\n",
              "              title=\"Convert this dataframe to an interactive table.\"\n",
              "              style=\"display:none;\">\n",
              "        \n",
              "  <svg xmlns=\"http://www.w3.org/2000/svg\" height=\"24px\"viewBox=\"0 0 24 24\"\n",
              "       width=\"24px\">\n",
              "    <path d=\"M0 0h24v24H0V0z\" fill=\"none\"/>\n",
              "    <path d=\"M18.56 5.44l.94 2.06.94-2.06 2.06-.94-2.06-.94-.94-2.06-.94 2.06-2.06.94zm-11 1L8.5 8.5l.94-2.06 2.06-.94-2.06-.94L8.5 2.5l-.94 2.06-2.06.94zm10 10l.94 2.06.94-2.06 2.06-.94-2.06-.94-.94-2.06-.94 2.06-2.06.94z\"/><path d=\"M17.41 7.96l-1.37-1.37c-.4-.4-.92-.59-1.43-.59-.52 0-1.04.2-1.43.59L10.3 9.45l-7.72 7.72c-.78.78-.78 2.05 0 2.83L4 21.41c.39.39.9.59 1.41.59.51 0 1.02-.2 1.41-.59l7.78-7.78 2.81-2.81c.8-.78.8-2.07 0-2.86zM5.41 20L4 18.59l7.72-7.72 1.47 1.35L5.41 20z\"/>\n",
              "  </svg>\n",
              "      </button>\n",
              "      \n",
              "  <style>\n",
              "    .colab-df-container {\n",
              "      display:flex;\n",
              "      flex-wrap:wrap;\n",
              "      gap: 12px;\n",
              "    }\n",
              "\n",
              "    .colab-df-convert {\n",
              "      background-color: #E8F0FE;\n",
              "      border: none;\n",
              "      border-radius: 50%;\n",
              "      cursor: pointer;\n",
              "      display: none;\n",
              "      fill: #1967D2;\n",
              "      height: 32px;\n",
              "      padding: 0 0 0 0;\n",
              "      width: 32px;\n",
              "    }\n",
              "\n",
              "    .colab-df-convert:hover {\n",
              "      background-color: #E2EBFA;\n",
              "      box-shadow: 0px 1px 2px rgba(60, 64, 67, 0.3), 0px 1px 3px 1px rgba(60, 64, 67, 0.15);\n",
              "      fill: #174EA6;\n",
              "    }\n",
              "\n",
              "    [theme=dark] .colab-df-convert {\n",
              "      background-color: #3B4455;\n",
              "      fill: #D2E3FC;\n",
              "    }\n",
              "\n",
              "    [theme=dark] .colab-df-convert:hover {\n",
              "      background-color: #434B5C;\n",
              "      box-shadow: 0px 1px 3px 1px rgba(0, 0, 0, 0.15);\n",
              "      filter: drop-shadow(0px 1px 2px rgba(0, 0, 0, 0.3));\n",
              "      fill: #FFFFFF;\n",
              "    }\n",
              "  </style>\n",
              "\n",
              "      <script>\n",
              "        const buttonEl =\n",
              "          document.querySelector('#df-7f7739dd-18ec-42c6-b838-82636f05aa59 button.colab-df-convert');\n",
              "        buttonEl.style.display =\n",
              "          google.colab.kernel.accessAllowed ? 'block' : 'none';\n",
              "\n",
              "        async function convertToInteractive(key) {\n",
              "          const element = document.querySelector('#df-7f7739dd-18ec-42c6-b838-82636f05aa59');\n",
              "          const dataTable =\n",
              "            await google.colab.kernel.invokeFunction('convertToInteractive',\n",
              "                                                     [key], {});\n",
              "          if (!dataTable) return;\n",
              "\n",
              "          const docLinkHtml = 'Like what you see? Visit the ' +\n",
              "            '<a target=\"_blank\" href=https://colab.research.google.com/notebooks/data_table.ipynb>data table notebook</a>'\n",
              "            + ' to learn more about interactive tables.';\n",
              "          element.innerHTML = '';\n",
              "          dataTable['output_type'] = 'display_data';\n",
              "          await google.colab.output.renderOutput(dataTable, element);\n",
              "          const docLink = document.createElement('div');\n",
              "          docLink.innerHTML = docLinkHtml;\n",
              "          element.appendChild(docLink);\n",
              "        }\n",
              "      </script>\n",
              "    </div>\n",
              "  </div>\n",
              "  "
            ],
            "text/plain": [
              "     actual    prediction\n",
              "0     15100  15816.343750\n",
              "1     15100  15821.806641\n",
              "2     15150  15822.007812\n",
              "3     15150  15830.427734\n",
              "4     15150  15830.472656\n",
              "..      ...           ...\n",
              "229   18400  18947.003906\n",
              "230   19550  18950.314453\n",
              "231   25550  19098.041016\n",
              "232   20400  19010.335938\n",
              "233   25450  19011.478516\n",
              "\n",
              "[234 rows x 2 columns]"
            ]
          },
          "execution_count": 70,
          "metadata": {},
          "output_type": "execute_result"
        }
      ],
      "source": [
        "prediction2_a = forecast_predict(model2_a, test_minyakgoreng2_, time_size=win_size, batch_size=5)\n",
        "\n",
        "data_result2_a = prediction2_a[(len(x_train))-win_size:-1, -1 ]\n",
        "data_result2_a = scal_range.inverse_transform(data_result2_a.reshape(-1, 1))\n",
        "data_result2_a = data_result2_a.reshape(-1)\n",
        "mae2_a = tf.keras.metrics.mean_absolute_error(x_test, data_result2_a)\n",
        "mape2_a = tf.keras.metrics.mean_absolute_percentage_error(x_test, data_result2_a)\n",
        "mse2_a = tf.keras.metrics.mean_squared_error(x_test, data_result2_a)\n",
        "\n",
        "rmse2_a = math.sqrt(mse2_a.numpy())\n",
        "print(mae2_a.numpy(), mape2_a.numpy(), rmse2_a)\n",
        "\n",
        "data_new_minyakgoreng22_a = pd.DataFrame()\n",
        "data_new_minyakgoreng22_a['actual'] = x_test\n",
        "data_new_minyakgoreng22_a['prediction'] = data_result2_a\n",
        "data_new_minyakgoreng22_a.to_csv('minyakgoreng2_model3_adam-type1.csv')\n",
        "\n",
        "data_new_minyakgoreng22_a"
      ]
    },
    {
      "cell_type": "markdown",
      "metadata": {
        "id": "DKc3O_lEhQXN"
      },
      "source": [
        "#### Type 2"
      ]
    },
    {
      "cell_type": "code",
      "execution_count": null,
      "metadata": {
        "colab": {
          "background_save": true
        },
        "id": "gOYJE-lShP3c",
        "outputId": "f65e707e-8f64-4475-a67e-842c6dc21de8"
      },
      "outputs": [
        {
          "name": "stdout",
          "output_type": "stream",
          "text": [
            "Epoch 1/50\n",
            "718/718 [==============================] - 13s 18ms/step - loss: 0.0063 - mae: 0.0563 - mape: 396061.9062 - val_loss: 0.0193 - val_mae: 0.0958 - val_mape: 41.3721\n",
            "Epoch 2/50\n",
            "718/718 [==============================] - 13s 18ms/step - loss: 0.0055 - mae: 0.0509 - mape: 302369.0625 - val_loss: 0.0199 - val_mae: 0.1036 - val_mape: 46.5326\n",
            "Epoch 3/50\n",
            "718/718 [==============================] - 13s 19ms/step - loss: 0.0051 - mae: 0.0472 - mape: 233066.2344 - val_loss: 0.0220 - val_mae: 0.1201 - val_mape: 57.1940\n",
            "Epoch 4/50\n",
            "718/718 [==============================] - 13s 18ms/step - loss: 0.0050 - mae: 0.0465 - mape: 265498.6875 - val_loss: 0.0278 - val_mae: 0.1465 - val_mape: 73.8663\n",
            "Epoch 5/50\n",
            "718/718 [==============================] - 13s 18ms/step - loss: 0.0049 - mae: 0.0452 - mape: 243759.9844 - val_loss: 0.0222 - val_mae: 0.1178 - val_mape: 55.5825\n",
            "Epoch 6/50\n",
            "718/718 [==============================] - 13s 18ms/step - loss: 0.0048 - mae: 0.0441 - mape: 222556.1250 - val_loss: 0.0218 - val_mae: 0.1143 - val_mape: 53.3619\n",
            "Epoch 7/50\n",
            "718/718 [==============================] - 13s 18ms/step - loss: 0.0047 - mae: 0.0444 - mape: 234594.9375 - val_loss: 0.0211 - val_mae: 0.1075 - val_mape: 48.9730\n",
            "Epoch 8/50\n",
            "718/718 [==============================] - 13s 18ms/step - loss: 0.0046 - mae: 0.0435 - mape: 213192.3281 - val_loss: 0.0214 - val_mae: 0.1098 - val_mape: 50.5449\n",
            "Epoch 9/50\n",
            "718/718 [==============================] - 13s 18ms/step - loss: 0.0045 - mae: 0.0427 - mape: 213608.7812 - val_loss: 0.0205 - val_mae: 0.0945 - val_mape: 40.4686\n",
            "Epoch 10/50\n",
            "718/718 [==============================] - 13s 18ms/step - loss: 0.0045 - mae: 0.0425 - mape: 248455.0625 - val_loss: 0.0237 - val_mae: 0.1245 - val_mape: 60.0144\n",
            "Epoch 11/50\n",
            "718/718 [==============================] - 13s 18ms/step - loss: 0.0046 - mae: 0.0433 - mape: 282238.9688 - val_loss: 0.0222 - val_mae: 0.1131 - val_mape: 52.4654\n",
            "Epoch 12/50\n",
            "718/718 [==============================] - 13s 18ms/step - loss: 0.0045 - mae: 0.0424 - mape: 250086.2656 - val_loss: 0.0210 - val_mae: 0.0960 - val_mape: 41.2392\n",
            "Epoch 13/50\n",
            "718/718 [==============================] - 13s 18ms/step - loss: 0.0045 - mae: 0.0419 - mape: 195208.5156 - val_loss: 0.0212 - val_mae: 0.0996 - val_mape: 43.6339\n",
            "Epoch 14/50\n",
            "718/718 [==============================] - 13s 18ms/step - loss: 0.0043 - mae: 0.0414 - mape: 210147.1719 - val_loss: 0.0223 - val_mae: 0.1068 - val_mape: 48.2436\n",
            "Epoch 15/50\n",
            "718/718 [==============================] - 13s 18ms/step - loss: 0.0044 - mae: 0.0418 - mape: 215823.0156 - val_loss: 0.0211 - val_mae: 0.1000 - val_mape: 44.0650\n",
            "Epoch 16/50\n",
            "718/718 [==============================] - 13s 18ms/step - loss: 0.0044 - mae: 0.0415 - mape: 215040.4219 - val_loss: 0.0214 - val_mae: 0.0942 - val_mape: 39.6171\n",
            "Epoch 17/50\n",
            "718/718 [==============================] - 13s 18ms/step - loss: 0.0044 - mae: 0.0412 - mape: 230626.5781 - val_loss: 0.0212 - val_mae: 0.0967 - val_mape: 41.6059\n",
            "Epoch 18/50\n",
            "718/718 [==============================] - 13s 18ms/step - loss: 0.0043 - mae: 0.0406 - mape: 222271.1094 - val_loss: 0.0222 - val_mae: 0.1103 - val_mape: 50.5671\n",
            "Epoch 19/50\n",
            "718/718 [==============================] - 13s 18ms/step - loss: 0.0042 - mae: 0.0399 - mape: 206002.0000 - val_loss: 0.0215 - val_mae: 0.0947 - val_mape: 40.0253\n",
            "Epoch 20/50\n",
            "718/718 [==============================] - 13s 18ms/step - loss: 0.0044 - mae: 0.0414 - mape: 230914.1094 - val_loss: 0.0209 - val_mae: 0.0938 - val_mape: 39.7877\n",
            "Epoch 21/50\n",
            "718/718 [==============================] - 13s 18ms/step - loss: 0.0042 - mae: 0.0400 - mape: 189990.3906 - val_loss: 0.0214 - val_mae: 0.1031 - val_mape: 46.0001\n",
            "Epoch 22/50\n",
            "718/718 [==============================] - 13s 18ms/step - loss: 0.0043 - mae: 0.0410 - mape: 229013.3438 - val_loss: 0.0217 - val_mae: 0.1049 - val_mape: 47.0290\n",
            "Epoch 23/50\n",
            "718/718 [==============================] - 13s 18ms/step - loss: 0.0042 - mae: 0.0405 - mape: 221249.7188 - val_loss: 0.0232 - val_mae: 0.1106 - val_mape: 50.3481\n",
            "Epoch 24/50\n",
            "718/718 [==============================] - 13s 18ms/step - loss: 0.0042 - mae: 0.0406 - mape: 314349.7188 - val_loss: 0.0215 - val_mae: 0.0966 - val_mape: 41.3262\n",
            "Epoch 25/50\n",
            "718/718 [==============================] - 14s 19ms/step - loss: 0.0044 - mae: 0.0410 - mape: 246827.1719 - val_loss: 0.0222 - val_mae: 0.1034 - val_mape: 45.6366\n",
            "Epoch 26/50\n",
            "718/718 [==============================] - 13s 18ms/step - loss: 0.0042 - mae: 0.0407 - mape: 241825.5000 - val_loss: 0.0213 - val_mae: 0.1028 - val_mape: 45.7531\n",
            "Epoch 27/50\n",
            "718/718 [==============================] - 13s 19ms/step - loss: 0.0043 - mae: 0.0406 - mape: 267290.6250 - val_loss: 0.0211 - val_mae: 0.0961 - val_mape: 41.3138\n",
            "Epoch 28/50\n",
            "718/718 [==============================] - 13s 18ms/step - loss: 0.0043 - mae: 0.0402 - mape: 251081.5312 - val_loss: 0.0222 - val_mae: 0.1098 - val_mape: 50.1247\n",
            "Epoch 29/50\n",
            "718/718 [==============================] - 13s 18ms/step - loss: 0.0041 - mae: 0.0393 - mape: 234254.4844 - val_loss: 0.0225 - val_mae: 0.0942 - val_mape: 39.0086\n",
            "Epoch 30/50\n",
            "718/718 [==============================] - 13s 18ms/step - loss: 0.0043 - mae: 0.0406 - mape: 204426.1562 - val_loss: 0.0227 - val_mae: 0.1008 - val_mape: 43.5868\n",
            "Epoch 31/50\n",
            "718/718 [==============================] - 13s 18ms/step - loss: 0.0041 - mae: 0.0399 - mape: 191434.5000 - val_loss: 0.0224 - val_mae: 0.0968 - val_mape: 40.8345\n",
            "Epoch 32/50\n",
            "718/718 [==============================] - 13s 19ms/step - loss: 0.0043 - mae: 0.0404 - mape: 217664.6250 - val_loss: 0.0223 - val_mae: 0.1017 - val_mape: 44.2873\n",
            "Epoch 33/50\n",
            "718/718 [==============================] - 13s 19ms/step - loss: 0.0042 - mae: 0.0400 - mape: 181241.0312 - val_loss: 0.0221 - val_mae: 0.0903 - val_mape: 36.2485\n",
            "Epoch 34/50\n",
            "718/718 [==============================] - 13s 19ms/step - loss: 0.0043 - mae: 0.0403 - mape: 212436.4844 - val_loss: 0.0219 - val_mae: 0.0979 - val_mape: 41.9074\n",
            "Epoch 35/50\n",
            "718/718 [==============================] - 13s 18ms/step - loss: 0.0042 - mae: 0.0399 - mape: 217042.1094 - val_loss: 0.0219 - val_mae: 0.0988 - val_mape: 42.5036\n",
            "Epoch 36/50\n",
            "718/718 [==============================] - 13s 18ms/step - loss: 0.0042 - mae: 0.0402 - mape: 228434.8594 - val_loss: 0.0225 - val_mae: 0.1071 - val_mape: 48.1227\n",
            "Epoch 37/50\n",
            "718/718 [==============================] - 13s 18ms/step - loss: 0.0043 - mae: 0.0404 - mape: 206827.7812 - val_loss: 0.0227 - val_mae: 0.0919 - val_mape: 37.0584\n",
            "Epoch 38/50\n",
            "718/718 [==============================] - 13s 18ms/step - loss: 0.0042 - mae: 0.0395 - mape: 225783.7969 - val_loss: 0.0234 - val_mae: 0.1102 - val_mape: 49.8526\n",
            "Epoch 39/50\n",
            "718/718 [==============================] - 13s 18ms/step - loss: 0.0042 - mae: 0.0400 - mape: 200985.5781 - val_loss: 0.0223 - val_mae: 0.1054 - val_mape: 46.9349\n",
            "Epoch 40/50\n",
            "718/718 [==============================] - 13s 18ms/step - loss: 0.0042 - mae: 0.0403 - mape: 225588.6406 - val_loss: 0.0216 - val_mae: 0.0912 - val_mape: 37.2456\n",
            "Epoch 41/50\n",
            "718/718 [==============================] - 13s 18ms/step - loss: 0.0041 - mae: 0.0391 - mape: 191896.8438 - val_loss: 0.0224 - val_mae: 0.0975 - val_mape: 41.3854\n",
            "Epoch 42/50\n",
            "718/718 [==============================] - 13s 18ms/step - loss: 0.0041 - mae: 0.0388 - mape: 236367.8438 - val_loss: 0.0231 - val_mae: 0.1154 - val_mape: 53.5770\n",
            "Epoch 43/50\n",
            "718/718 [==============================] - 14s 19ms/step - loss: 0.0042 - mae: 0.0404 - mape: 206152.7188 - val_loss: 0.0222 - val_mae: 0.1029 - val_mape: 45.3000\n",
            "Epoch 44/50\n",
            "718/718 [==============================] - 13s 19ms/step - loss: 0.0042 - mae: 0.0398 - mape: 199607.8438 - val_loss: 0.0222 - val_mae: 0.1017 - val_mape: 44.4672\n",
            "Epoch 45/50\n",
            "718/718 [==============================] - 13s 18ms/step - loss: 0.0042 - mae: 0.0388 - mape: 223213.1094 - val_loss: 0.0224 - val_mae: 0.0997 - val_mape: 42.8375\n",
            "Epoch 46/50\n",
            "718/718 [==============================] - 13s 18ms/step - loss: 0.0042 - mae: 0.0395 - mape: 245977.9844 - val_loss: 0.0221 - val_mae: 0.1017 - val_mape: 44.3708\n",
            "Epoch 47/50\n",
            "718/718 [==============================] - 13s 18ms/step - loss: 0.0041 - mae: 0.0395 - mape: 243819.0938 - val_loss: 0.0217 - val_mae: 0.0959 - val_mape: 40.5344\n",
            "Epoch 48/50\n",
            "718/718 [==============================] - 13s 19ms/step - loss: 0.0041 - mae: 0.0392 - mape: 281068.5312 - val_loss: 0.0214 - val_mae: 0.0969 - val_mape: 41.3901\n",
            "Epoch 49/50\n",
            "718/718 [==============================] - 13s 19ms/step - loss: 0.0041 - mae: 0.0384 - mape: 253285.1719 - val_loss: 0.0233 - val_mae: 0.1167 - val_mape: 54.4042\n",
            "Epoch 50/50\n",
            "718/718 [==============================] - 14s 19ms/step - loss: 0.0042 - mae: 0.0397 - mape: 285914.1250 - val_loss: 0.0219 - val_mae: 0.0952 - val_mape: 39.9426\n"
          ]
        }
      ],
      "source": [
        "history2_a1 = model2_a.fit(train_step1, epochs=50, validation_data=val_step)"
      ]
    },
    {
      "cell_type": "code",
      "execution_count": null,
      "metadata": {
        "colab": {
          "background_save": true
        },
        "id": "hpCDAVTshSo0",
        "outputId": "e121520a-8c2d-406b-a1e8-7151d397abcf"
      },
      "outputs": [
        {
          "data": {
            "image/png": "[encoded data removed]",
            "text/plain": [
              "<Figure size 432x288 with 1 Axes>"
            ]
          },
          "metadata": {},
          "output_type": "display_data"
        }
      ],
      "source": [
        "mae2_a1 = history2_a1.history['mae']\n",
        "val_mae2_a1 = history2_a1.history['val_mae']\n",
        "epoch2_a1 = range(len(mae2_a1))\n",
        "\n",
        "plt.plot(epoch2_a1, mae2_a1, label='mae')\n",
        "plt.plot(epoch2_a1, val_mae2_a1, label='val mae')\n",
        "plt.legend()\n",
        "plt.show()"
      ]
    },
    {
      "cell_type": "code",
      "execution_count": null,
      "metadata": {
        "colab": {
          "background_save": true
        },
        "id": "tI2h2eojhS1P",
        "outputId": "248fcc07-f54e-4965-d533-dc8824391568"
      },
      "outputs": [
        {
          "name": "stdout",
          "output_type": "stream",
          "text": [
            "199/199 [==============================] - 1s 4ms/step\n",
            "1552.5251 7.65643 2272.7603261232803\n"
          ]
        },
        {
          "data": {
            "text/html": [
              "\n",
              "  <div id=\"df-c34381f1-70eb-4f6d-b839-4d7c07c679bb\">\n",
              "    <div class=\"colab-df-container\">\n",
              "      <div>\n",
              "<style scoped>\n",
              "    .dataframe tbody tr th:only-of-type {\n",
              "        vertical-align: middle;\n",
              "    }\n",
              "\n",
              "    .dataframe tbody tr th {\n",
              "        vertical-align: top;\n",
              "    }\n",
              "\n",
              "    .dataframe thead th {\n",
              "        text-align: right;\n",
              "    }\n",
              "</style>\n",
              "<table border=\"1\" class=\"dataframe\">\n",
              "  <thead>\n",
              "    <tr style=\"text-align: right;\">\n",
              "      <th></th>\n",
              "      <th>actual</th>\n",
              "      <th>prediction</th>\n",
              "    </tr>\n",
              "  </thead>\n",
              "  <tbody>\n",
              "    <tr>\n",
              "      <th>0</th>\n",
              "      <td>15100</td>\n",
              "      <td>14517.206055</td>\n",
              "    </tr>\n",
              "    <tr>\n",
              "      <th>1</th>\n",
              "      <td>15100</td>\n",
              "      <td>14503.248047</td>\n",
              "    </tr>\n",
              "    <tr>\n",
              "      <th>2</th>\n",
              "      <td>15150</td>\n",
              "      <td>14543.487305</td>\n",
              "    </tr>\n",
              "    <tr>\n",
              "      <th>3</th>\n",
              "      <td>15150</td>\n",
              "      <td>14540.425781</td>\n",
              "    </tr>\n",
              "    <tr>\n",
              "      <th>4</th>\n",
              "      <td>15150</td>\n",
              "      <td>14561.916992</td>\n",
              "    </tr>\n",
              "    <tr>\n",
              "      <th>...</th>\n",
              "      <td>...</td>\n",
              "      <td>...</td>\n",
              "    </tr>\n",
              "    <tr>\n",
              "      <th>229</th>\n",
              "      <td>18400</td>\n",
              "      <td>20785.164062</td>\n",
              "    </tr>\n",
              "    <tr>\n",
              "      <th>230</th>\n",
              "      <td>19550</td>\n",
              "      <td>20638.472656</td>\n",
              "    </tr>\n",
              "    <tr>\n",
              "      <th>231</th>\n",
              "      <td>25550</td>\n",
              "      <td>20985.861328</td>\n",
              "    </tr>\n",
              "    <tr>\n",
              "      <th>232</th>\n",
              "      <td>20400</td>\n",
              "      <td>20658.441406</td>\n",
              "    </tr>\n",
              "    <tr>\n",
              "      <th>233</th>\n",
              "      <td>25450</td>\n",
              "      <td>20670.185547</td>\n",
              "    </tr>\n",
              "  </tbody>\n",
              "</table>\n",
              "<p>234 rows × 2 columns</p>\n",
              "</div>\n",
              "      <button class=\"colab-df-convert\" onclick=\"convertToInteractive('df-c34381f1-70eb-4f6d-b839-4d7c07c679bb')\"\n",
              "              title=\"Convert this dataframe to an interactive table.\"\n",
              "              style=\"display:none;\">\n",
              "        \n",
              "  <svg xmlns=\"http://www.w3.org/2000/svg\" height=\"24px\"viewBox=\"0 0 24 24\"\n",
              "       width=\"24px\">\n",
              "    <path d=\"M0 0h24v24H0V0z\" fill=\"none\"/>\n",
              "    <path d=\"M18.56 5.44l.94 2.06.94-2.06 2.06-.94-2.06-.94-.94-2.06-.94 2.06-2.06.94zm-11 1L8.5 8.5l.94-2.06 2.06-.94-2.06-.94L8.5 2.5l-.94 2.06-2.06.94zm10 10l.94 2.06.94-2.06 2.06-.94-2.06-.94-.94-2.06-.94 2.06-2.06.94z\"/><path d=\"M17.41 7.96l-1.37-1.37c-.4-.4-.92-.59-1.43-.59-.52 0-1.04.2-1.43.59L10.3 9.45l-7.72 7.72c-.78.78-.78 2.05 0 2.83L4 21.41c.39.39.9.59 1.41.59.51 0 1.02-.2 1.41-.59l7.78-7.78 2.81-2.81c.8-.78.8-2.07 0-2.86zM5.41 20L4 18.59l7.72-7.72 1.47 1.35L5.41 20z\"/>\n",
              "  </svg>\n",
              "      </button>\n",
              "      \n",
              "  <style>\n",
              "    .colab-df-container {\n",
              "      display:flex;\n",
              "      flex-wrap:wrap;\n",
              "      gap: 12px;\n",
              "    }\n",
              "\n",
              "    .colab-df-convert {\n",
              "      background-color: #E8F0FE;\n",
              "      border: none;\n",
              "      border-radius: 50%;\n",
              "      cursor: pointer;\n",
              "      display: none;\n",
              "      fill: #1967D2;\n",
              "      height: 32px;\n",
              "      padding: 0 0 0 0;\n",
              "      width: 32px;\n",
              "    }\n",
              "\n",
              "    .colab-df-convert:hover {\n",
              "      background-color: #E2EBFA;\n",
              "      box-shadow: 0px 1px 2px rgba(60, 64, 67, 0.3), 0px 1px 3px 1px rgba(60, 64, 67, 0.15);\n",
              "      fill: #174EA6;\n",
              "    }\n",
              "\n",
              "    [theme=dark] .colab-df-convert {\n",
              "      background-color: #3B4455;\n",
              "      fill: #D2E3FC;\n",
              "    }\n",
              "\n",
              "    [theme=dark] .colab-df-convert:hover {\n",
              "      background-color: #434B5C;\n",
              "      box-shadow: 0px 1px 3px 1px rgba(0, 0, 0, 0.15);\n",
              "      filter: drop-shadow(0px 1px 2px rgba(0, 0, 0, 0.3));\n",
              "      fill: #FFFFFF;\n",
              "    }\n",
              "  </style>\n",
              "\n",
              "      <script>\n",
              "        const buttonEl =\n",
              "          document.querySelector('#df-c34381f1-70eb-4f6d-b839-4d7c07c679bb button.colab-df-convert');\n",
              "        buttonEl.style.display =\n",
              "          google.colab.kernel.accessAllowed ? 'block' : 'none';\n",
              "\n",
              "        async function convertToInteractive(key) {\n",
              "          const element = document.querySelector('#df-c34381f1-70eb-4f6d-b839-4d7c07c679bb');\n",
              "          const dataTable =\n",
              "            await google.colab.kernel.invokeFunction('convertToInteractive',\n",
              "                                                     [key], {});\n",
              "          if (!dataTable) return;\n",
              "\n",
              "          const docLinkHtml = 'Like what you see? Visit the ' +\n",
              "            '<a target=\"_blank\" href=https://colab.research.google.com/notebooks/data_table.ipynb>data table notebook</a>'\n",
              "            + ' to learn more about interactive tables.';\n",
              "          element.innerHTML = '';\n",
              "          dataTable['output_type'] = 'display_data';\n",
              "          await google.colab.output.renderOutput(dataTable, element);\n",
              "          const docLink = document.createElement('div');\n",
              "          docLink.innerHTML = docLinkHtml;\n",
              "          element.appendChild(docLink);\n",
              "        }\n",
              "      </script>\n",
              "    </div>\n",
              "  </div>\n",
              "  "
            ],
            "text/plain": [
              "     actual    prediction\n",
              "0     15100  14517.206055\n",
              "1     15100  14503.248047\n",
              "2     15150  14543.487305\n",
              "3     15150  14540.425781\n",
              "4     15150  14561.916992\n",
              "..      ...           ...\n",
              "229   18400  20785.164062\n",
              "230   19550  20638.472656\n",
              "231   25550  20985.861328\n",
              "232   20400  20658.441406\n",
              "233   25450  20670.185547\n",
              "\n",
              "[234 rows x 2 columns]"
            ]
          },
          "execution_count": 73,
          "metadata": {},
          "output_type": "execute_result"
        },
        {
          "data": {
            "image/png": "[encoded data removed]",
            "text/plain": [
              "<Figure size 432x288 with 1 Axes>"
            ]
          },
          "metadata": {},
          "output_type": "display_data"
        }
      ],
      "source": [
        "prediction2_a1 = forecast_predict(model2_a, test_minyakgoreng2_, time_size=win_size1, batch_size=5)\n",
        "\n",
        "data_result2_a1 = prediction2_a1[(len(x_train))-win_size1:-1, -1 ]\n",
        "data_result2_a1 = scal_range.inverse_transform(data_result2_a1.reshape(-1, 1))\n",
        "data_result2_a1 = data_result2_a1.reshape(-1)\n",
        "mae2_a1 = tf.keras.metrics.mean_absolute_error(x_test, data_result2_a1)\n",
        "mape2_a1 = tf.keras.metrics.mean_absolute_percentage_error(x_test, data_result2_a1)\n",
        "mse2_a1 = tf.keras.metrics.mean_squared_error(x_test, data_result2_a1)\n",
        "\n",
        "rmse2_a1 = math.sqrt(mse2_a1.numpy())\n",
        "print(mae2_a1.numpy(), mape2_a1.numpy(), rmse2_a1)\n",
        "\n",
        "data_new_minyakgoreng22_a1 = pd.DataFrame()\n",
        "data_new_minyakgoreng22_a1['actual'] = x_test\n",
        "data_new_minyakgoreng22_a1['prediction'] = data_result2_a1\n",
        "data_new_minyakgoreng22_a1.to_csv('minyakgoreng2_model3_adam-type2.csv')\n",
        "\n",
        "plt.plot(y_test, data_new_minyakgoreng22_a1.actual)\n",
        "plt.plot(y_test, data_new_minyakgoreng22_a1.prediction)\n",
        "data_new_minyakgoreng22_a1"
      ]
    },
    {
      "cell_type": "markdown",
      "metadata": {
        "id": "xcC8RdJ2hTSO"
      },
      "source": [
        "#### Type 3"
      ]
    },
    {
      "cell_type": "code",
      "execution_count": null,
      "metadata": {
        "id": "cBqxx1KChU0c"
      },
      "outputs": [],
      "source": [
        "history2_a2 = model2_a.fit(train_step2, epochs= 50, validation_data=val_step)"
      ]
    },
    {
      "cell_type": "code",
      "execution_count": null,
      "metadata": {
        "colab": {
          "background_save": true
        },
        "id": "cTu5xJJ4hVCt",
        "outputId": "e6f1ca37-a019-45ca-d801-969ecadbb838"
      },
      "outputs": [
        {
          "data": {
            "image/png": "[encoded data removed]",
            "text/plain": [
              "<Figure size 432x288 with 1 Axes>"
            ]
          },
          "metadata": {},
          "output_type": "display_data"
        }
      ],
      "source": [
        "mae2_a2 = history2_a2.history['mae']\n",
        "val_mae2_a2 = history2_a2.history['val_mae']\n",
        "epoch2_a2 = range(len(mae2_a2))\n",
        "\n",
        "plt.plot(epoch2_a2, mae2_a2, label='mae')\n",
        "plt.plot(epoch2_a2, val_mae2_a2, label='val mae')\n",
        "plt.legend()\n",
        "plt.show()"
      ]
    },
    {
      "cell_type": "code",
      "execution_count": 77,
      "metadata": {
        "id": "vMjEaDQphVOY",
        "colab": {
          "base_uri": "https://localhost:8080/",
          "height": 769
        },
        "outputId": "b4fb56a4-2e39-45b7-b8b9-3f083c44905d"
      },
      "outputs": [
        {
          "output_type": "stream",
          "name": "stdout",
          "text": [
            "181/181 [==============================] - 1s 7ms/step\n",
            "1639.1107 8.230373 2326.8629095844904\n"
          ]
        },
        {
          "output_type": "execute_result",
          "data": {
            "text/plain": [
              "     actual    prediction\n",
              "0     15100  16282.584961\n",
              "1     15100  16240.188477\n",
              "2     15150  16269.487305\n",
              "3     15150  16241.068359\n",
              "4     15150  16259.600586\n",
              "..      ...           ...\n",
              "229   18400  20679.207031\n",
              "230   19550  20398.017578\n",
              "231   25550  20312.925781\n",
              "232   20400  20189.943359\n",
              "233   25450  20602.078125\n",
              "\n",
              "[234 rows x 2 columns]"
            ],
            "text/html": [
              "\n",
              "  <div id=\"df-ae5385db-d260-467f-a66d-d4675197bc3f\">\n",
              "    <div class=\"colab-df-container\">\n",
              "      <div>\n",
              "<style scoped>\n",
              "    .dataframe tbody tr th:only-of-type {\n",
              "        vertical-align: middle;\n",
              "    }\n",
              "\n",
              "    .dataframe tbody tr th {\n",
              "        vertical-align: top;\n",
              "    }\n",
              "\n",
              "    .dataframe thead th {\n",
              "        text-align: right;\n",
              "    }\n",
              "</style>\n",
              "<table border=\"1\" class=\"dataframe\">\n",
              "  <thead>\n",
              "    <tr style=\"text-align: right;\">\n",
              "      <th></th>\n",
              "      <th>actual</th>\n",
              "      <th>prediction</th>\n",
              "    </tr>\n",
              "  </thead>\n",
              "  <tbody>\n",
              "    <tr>\n",
              "      <th>0</th>\n",
              "      <td>15100</td>\n",
              "      <td>16282.584961</td>\n",
              "    </tr>\n",
              "    <tr>\n",
              "      <th>1</th>\n",
              "      <td>15100</td>\n",
              "      <td>16240.188477</td>\n",
              "    </tr>\n",
              "    <tr>\n",
              "      <th>2</th>\n",
              "      <td>15150</td>\n",
              "      <td>16269.487305</td>\n",
              "    </tr>\n",
              "    <tr>\n",
              "      <th>3</th>\n",
              "      <td>15150</td>\n",
              "      <td>16241.068359</td>\n",
              "    </tr>\n",
              "    <tr>\n",
              "      <th>4</th>\n",
              "      <td>15150</td>\n",
              "      <td>16259.600586</td>\n",
              "    </tr>\n",
              "    <tr>\n",
              "      <th>...</th>\n",
              "      <td>...</td>\n",
              "      <td>...</td>\n",
              "    </tr>\n",
              "    <tr>\n",
              "      <th>229</th>\n",
              "      <td>18400</td>\n",
              "      <td>20679.207031</td>\n",
              "    </tr>\n",
              "    <tr>\n",
              "      <th>230</th>\n",
              "      <td>19550</td>\n",
              "      <td>20398.017578</td>\n",
              "    </tr>\n",
              "    <tr>\n",
              "      <th>231</th>\n",
              "      <td>25550</td>\n",
              "      <td>20312.925781</td>\n",
              "    </tr>\n",
              "    <tr>\n",
              "      <th>232</th>\n",
              "      <td>20400</td>\n",
              "      <td>20189.943359</td>\n",
              "    </tr>\n",
              "    <tr>\n",
              "      <th>233</th>\n",
              "      <td>25450</td>\n",
              "      <td>20602.078125</td>\n",
              "    </tr>\n",
              "  </tbody>\n",
              "</table>\n",
              "<p>234 rows × 2 columns</p>\n",
              "</div>\n",
              "      <button class=\"colab-df-convert\" onclick=\"convertToInteractive('df-ae5385db-d260-467f-a66d-d4675197bc3f')\"\n",
              "              title=\"Convert this dataframe to an interactive table.\"\n",
              "              style=\"display:none;\">\n",
              "        \n",
              "  <svg xmlns=\"http://www.w3.org/2000/svg\" height=\"24px\"viewBox=\"0 0 24 24\"\n",
              "       width=\"24px\">\n",
              "    <path d=\"M0 0h24v24H0V0z\" fill=\"none\"/>\n",
              "    <path d=\"M18.56 5.44l.94 2.06.94-2.06 2.06-.94-2.06-.94-.94-2.06-.94 2.06-2.06.94zm-11 1L8.5 8.5l.94-2.06 2.06-.94-2.06-.94L8.5 2.5l-.94 2.06-2.06.94zm10 10l.94 2.06.94-2.06 2.06-.94-2.06-.94-.94-2.06-.94 2.06-2.06.94z\"/><path d=\"M17.41 7.96l-1.37-1.37c-.4-.4-.92-.59-1.43-.59-.52 0-1.04.2-1.43.59L10.3 9.45l-7.72 7.72c-.78.78-.78 2.05 0 2.83L4 21.41c.39.39.9.59 1.41.59.51 0 1.02-.2 1.41-.59l7.78-7.78 2.81-2.81c.8-.78.8-2.07 0-2.86zM5.41 20L4 18.59l7.72-7.72 1.47 1.35L5.41 20z\"/>\n",
              "  </svg>\n",
              "      </button>\n",
              "      \n",
              "  <style>\n",
              "    .colab-df-container {\n",
              "      display:flex;\n",
              "      flex-wrap:wrap;\n",
              "      gap: 12px;\n",
              "    }\n",
              "\n",
              "    .colab-df-convert {\n",
              "      background-color: #E8F0FE;\n",
              "      border: none;\n",
              "      border-radius: 50%;\n",
              "      cursor: pointer;\n",
              "      display: none;\n",
              "      fill: #1967D2;\n",
              "      height: 32px;\n",
              "      padding: 0 0 0 0;\n",
              "      width: 32px;\n",
              "    }\n",
              "\n",
              "    .colab-df-convert:hover {\n",
              "      background-color: #E2EBFA;\n",
              "      box-shadow: 0px 1px 2px rgba(60, 64, 67, 0.3), 0px 1px 3px 1px rgba(60, 64, 67, 0.15);\n",
              "      fill: #174EA6;\n",
              "    }\n",
              "\n",
              "    [theme=dark] .colab-df-convert {\n",
              "      background-color: #3B4455;\n",
              "      fill: #D2E3FC;\n",
              "    }\n",
              "\n",
              "    [theme=dark] .colab-df-convert:hover {\n",
              "      background-color: #434B5C;\n",
              "      box-shadow: 0px 1px 3px 1px rgba(0, 0, 0, 0.15);\n",
              "      filter: drop-shadow(0px 1px 2px rgba(0, 0, 0, 0.3));\n",
              "      fill: #FFFFFF;\n",
              "    }\n",
              "  </style>\n",
              "\n",
              "      <script>\n",
              "        const buttonEl =\n",
              "          document.querySelector('#df-ae5385db-d260-467f-a66d-d4675197bc3f button.colab-df-convert');\n",
              "        buttonEl.style.display =\n",
              "          google.colab.kernel.accessAllowed ? 'block' : 'none';\n",
              "\n",
              "        async function convertToInteractive(key) {\n",
              "          const element = document.querySelector('#df-ae5385db-d260-467f-a66d-d4675197bc3f');\n",
              "          const dataTable =\n",
              "            await google.colab.kernel.invokeFunction('convertToInteractive',\n",
              "                                                     [key], {});\n",
              "          if (!dataTable) return;\n",
              "\n",
              "          const docLinkHtml = 'Like what you see? Visit the ' +\n",
              "            '<a target=\"_blank\" href=https://colab.research.google.com/notebooks/data_table.ipynb>data table notebook</a>'\n",
              "            + ' to learn more about interactive tables.';\n",
              "          element.innerHTML = '';\n",
              "          dataTable['output_type'] = 'display_data';\n",
              "          await google.colab.output.renderOutput(dataTable, element);\n",
              "          const docLink = document.createElement('div');\n",
              "          docLink.innerHTML = docLinkHtml;\n",
              "          element.appendChild(docLink);\n",
              "        }\n",
              "      </script>\n",
              "    </div>\n",
              "  </div>\n",
              "  "
            ]
          },
          "metadata": {},
          "execution_count": 77
        },
        {
          "output_type": "display_data",
          "data": {
            "text/plain": [
              "<Figure size 2160x720 with 1 Axes>"
            ],
            "image/png": "[encoded data removed]"
          },
          "metadata": {
            "needs_background": "light"
          }
        }
      ],
      "source": [
        "prediction2_a2 = forecast_predict(model2_a, test_minyakgoreng2_, time_size=win_size2, batch_size=5)\n",
        "\n",
        "data_result2_a2 = prediction2_a2[(len(x_train))-win_size2:-1, -1 ]\n",
        "data_result2_a2 = scal_range.inverse_transform(data_result2_a2.reshape(-1, 1))\n",
        "data_result2_a2 = data_result2_a2.reshape(-1)\n",
        "mae2_a2 = tf.keras.metrics.mean_absolute_error(x_test, data_result2_a2)\n",
        "mape2_a2 = tf.keras.metrics.mean_absolute_percentage_error(x_test, data_result2_a2)\n",
        "mse2_a2 = tf.keras.metrics.mean_squared_error(x_test, data_result2_a2)\n",
        "\n",
        "rmse2_a2 = math.sqrt(mse2_a2.numpy())\n",
        "print(mae2_a2.numpy(), mape2_a2.numpy(), rmse2_a2)\n",
        "\n",
        "data_new_minyakgoreng22_a2 = pd.DataFrame()\n",
        "data_new_minyakgoreng22_a2['actual'] = x_test\n",
        "data_new_minyakgoreng22_a2['prediction'] = data_result2_a2\n",
        "data_new_minyakgoreng22_a2.to_csv('minyakgoreng2_model3_adam_type3.csv')\n",
        "\n",
        "plt.figure(figsize=(30, 10))\n",
        "plt.plot(y_test,data_new_minyakgoreng22_a2.actual, '-o')\n",
        "plt.plot(y_test,data_new_minyakgoreng22_a2.prediction, '-o')\n",
        "data_new_minyakgoreng22_a2"
      ]
    }
  ],
  "metadata": {
    "colab": {
      "collapsed_sections": [
        "SvpGcAyUo7Tt",
        "3kEl7Dkio-SH",
        "xCDBtHFbpIBv"
      ],
      "provenance": [],
      "include_colab_link": true
    },
    "gpuClass": "standard",
    "kernelspec": {
      "display_name": "Python 3",
      "name": "python3"
    },
    "language_info": {
      "name": "python"
    }
  },
  "nbformat": 4,
  "nbformat_minor": 0
}